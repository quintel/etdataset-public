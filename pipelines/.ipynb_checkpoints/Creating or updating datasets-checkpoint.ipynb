{
 "cells": [
  {
   "cell_type": "markdown",
   "id": "79cd0bab",
   "metadata": {},
   "source": [
    "# Create and/or update (Dutch) municipal datasets"
   ]
  },
  {
   "cell_type": "markdown",
   "id": "0a05e774",
   "metadata": {},
   "source": [
    "**TO DO** | Add \"getting started\" documentation"
   ]
  },
  {
   "cell_type": "code",
   "execution_count": 1,
   "id": "a87b251e",
   "metadata": {
    "tags": []
   },
   "outputs": [],
   "source": [
    "# internal modules\n",
    "import os\n",
    "import sys\n",
    "\n",
    "# external modules\n",
    "import matplotlib.pyplot as plt\n",
    "import numpy as np\n",
    "import pandas as pd\n",
    "import requests\n",
    "import seaborn as sns\n",
    "import xlwings as xw\n",
    "import yaml\n",
    "from pathlib import Path\n",
    "\n",
    "# project modules\n",
    "import config.config as config\n",
    "from src.checks import Checker\n",
    "from src.extract import PblService\n",
    "from src.transform import Transformer"
   ]
  },
  {
   "cell_type": "markdown",
   "id": "0441933f",
   "metadata": {
    "tags": []
   },
   "source": [
    "## Scope"
   ]
  },
  {
   "cell_type": "markdown",
   "id": "e30c5c4a",
   "metadata": {
    "tags": []
   },
   "source": [
    "Before we start we need to specify which datasets we want to create or update. This can be done with the `data.csv` file in the `config` directory. Here you can specify the geo ID, parent dataset and name for each region.\n",
    "\n",
    "Also, make sure to specify the parent dataset and the year in the cell below.\n",
    "\n",
    "**TO DO** | Add variable all_municipalities (based on the default etlocal config)"
   ]
  },
  {
   "cell_type": "code",
   "execution_count": 2,
   "id": "1ce645a4",
   "metadata": {
    "tags": []
   },
   "outputs": [],
   "source": [
    "# Select the parent data set. Make sure to use the geo ID. It should be existing in the Dataset Manager.\n",
    "parent = \"nl\"\n",
    "\n",
    "# Specify the year\n",
    "year = 2019\n",
    "\n",
    "# Specify the CSV-separator (presumably either \",\" or \";\")\n",
    "sep=\",\"\n",
    "\n",
    "# Either specify the municipalities by using the data.csv file in the config directory.\n",
    "# Make sure to specify the right separator in the pd.read_csv() function.\n",
    "path = Path(\"config\", \"data.csv\")\n",
    "municipalities = pd.read_csv(path, sep=sep)['geo_id'].to_list()\n",
    "\n",
    "# Preview municipality geo IDs\n",
    "# municipalities"
   ]
  },
  {
   "cell_type": "markdown",
   "id": "39ccf6d4-2b38-4f64-bd9a-c353c024d0a9",
   "metadata": {
    "tags": [],
    "toc-hr-collapsed": true
   },
   "source": [
    "## Setup"
   ]
  },
  {
   "cell_type": "markdown",
   "id": "8ecbebcd-0c44-4085-b59f-f4d68fbc76ec",
   "metadata": {},
   "source": [
    "In this step, we will setup some files and data which is relevant for all different sectors:\n",
    "* Collecting the parent dataset from the ETM dataset manager\n",
    "* Initializing the (empty) ETLocal template"
   ]
  },
  {
   "cell_type": "markdown",
   "id": "01d976ad-08ab-45b8-83ce-b32db662a654",
   "metadata": {
    "jp-MarkdownHeadingCollapsed": true,
    "tags": [],
    "toc-hr-collapsed": true
   },
   "source": [
    "#### Collect the parent dataset from the ETM dataset manager "
   ]
  },
  {
   "cell_type": "markdown",
   "id": "a573bc1f-0a12-4148-a21b-f640060717c0",
   "metadata": {},
   "source": [
    "In case certain data points are not available for the given region, we want to inherit the values of the parent dataset. For the municipality datasets, the parent is the NL2019 dataset."
   ]
  },
  {
   "cell_type": "markdown",
   "id": "a0aed85b-b44a-4f29-9e8d-c8e94bb7e308",
   "metadata": {
    "jp-MarkdownHeadingCollapsed": true,
    "tags": []
   },
   "source": [
    "##### Extract\n",
    "In this step we call the ETM Dataset Manager API to get the parent dataset."
   ]
  },
  {
   "cell_type": "code",
   "execution_count": 3,
   "id": "f65f6813-43cf-4800-a253-c920166e1a2e",
   "metadata": {
    "tags": []
   },
   "outputs": [],
   "source": [
    "# Connect to the ETM dataset manager API and collect the parent dataset \n",
    "response = requests.get(f\"https://data.energytransitionmodel.com/api/v1/exports/{parent}\")"
   ]
  },
  {
   "cell_type": "code",
   "execution_count": 4,
   "id": "2f9883a6-f8d3-4c6d-aafe-5a8ae3ecee56",
   "metadata": {
    "tags": []
   },
   "outputs": [
    {
     "data": {
      "text/plain": [
       "200"
      ]
     },
     "execution_count": 4,
     "metadata": {},
     "output_type": "execute_result"
    }
   ],
   "source": [
    "# Check if the response has been successful. If the code is anything else than 200, something went wrong.\n",
    "response.status_code"
   ]
  },
  {
   "cell_type": "markdown",
   "id": "04cdadae-5ca3-4004-9dfb-fc6f4808bd2f",
   "metadata": {
    "tags": []
   },
   "source": [
    "Here is an overview of the different status codes and what these imply:\n",
    "\n",
    "- **200**: Everything went okay, and the result has been returned (if any).\n",
    "- **301**: The server is redirecting you to a different endpoint. This can happen when a company switches domain names, or an endpoint name is changed.\n",
    "- **400**: The server thinks you made a bad request. This can happen when you don’t send along the right data, among other things.\n",
    "- **401**: The server thinks you’re not authenticated. Many APIs require login ccredentials, so this happens when you don’t send the right credentials to access an API.\n",
    "- **403**: The resource you’re trying to access is forbidden: you don’t have the right perlessons to see it.\n",
    "- **404**: The resource you tried to access wasn’t found on the server.\n",
    "- **503**: The server is not ready to handle the request."
   ]
  },
  {
   "cell_type": "code",
   "execution_count": 5,
   "id": "c48a784b-f246-4b4a-b77f-edfc64f51a23",
   "metadata": {
    "tags": []
   },
   "outputs": [
    {
     "data": {
      "text/plain": [
       "'OK'"
      ]
     },
     "execution_count": 5,
     "metadata": {},
     "output_type": "execute_result"
    }
   ],
   "source": [
    "# In that case, print the error message to see what caused the error\n",
    "response.reason"
   ]
  },
  {
   "cell_type": "markdown",
   "id": "9be2d3ce-5598-47d1-9258-0dff702f117c",
   "metadata": {
    "jp-MarkdownHeadingCollapsed": true,
    "tags": []
   },
   "source": [
    "##### Transform\n",
    "Create a dataframe from the API response in which the parent dataset is included."
   ]
  },
  {
   "cell_type": "code",
   "execution_count": 6,
   "id": "c7cf4a07-5787-4e47-9b94-0b1d8b9cc180",
   "metadata": {
    "tags": []
   },
   "outputs": [],
   "source": [
    "# If the reponse has been successful, collect its data.\n",
    "\n",
    "# The data is stored as a dict in a single-itemed array. To get the dict, get the first item of the array.\n",
    "raw_parent_data = response.json()[0]\n",
    "\n",
    "# Then, create a dataframe from the dict.\n",
    "df_parent = pd.DataFrame(raw_parent_data, index=[0])\n",
    "\n",
    "# Rename the index to nl\n",
    "df_parent = df_parent.rename(index={0: 'nl'})"
   ]
  },
  {
   "cell_type": "code",
   "execution_count": 7,
   "id": "fd7f4f51-5266-421c-9da2-06d3a3eb5a87",
   "metadata": {
    "tags": []
   },
   "outputs": [
    {
     "data": {
      "text/html": [
       "<div>\n",
       "<style scoped>\n",
       "    .dataframe tbody tr th:only-of-type {\n",
       "        vertical-align: middle;\n",
       "    }\n",
       "\n",
       "    .dataframe tbody tr th {\n",
       "        vertical-align: top;\n",
       "    }\n",
       "\n",
       "    .dataframe thead th {\n",
       "        text-align: right;\n",
       "    }\n",
       "</style>\n",
       "<table border=\"1\" class=\"dataframe\">\n",
       "  <thead>\n",
       "    <tr style=\"text-align: right;\">\n",
       "      <th></th>\n",
       "      <th>nl</th>\n",
       "    </tr>\n",
       "  </thead>\n",
       "  <tbody>\n",
       "    <tr>\n",
       "      <th>agriculture_final_demand_electricity_demand</th>\n",
       "      <td>41584.615</td>\n",
       "    </tr>\n",
       "    <tr>\n",
       "      <th>agriculture_final_demand_network_gas_demand</th>\n",
       "      <td>91072.918</td>\n",
       "    </tr>\n",
       "    <tr>\n",
       "      <th>input_agriculture_final_demand_steam_hot_water_demand</th>\n",
       "      <td>2783.107</td>\n",
       "    </tr>\n",
       "    <tr>\n",
       "      <th>agriculture_final_demand_wood_pellets_demand</th>\n",
       "      <td>5437.224</td>\n",
       "    </tr>\n",
       "    <tr>\n",
       "      <th>input_agriculture_final_demand_crude_oil_demand</th>\n",
       "      <td>17965.442</td>\n",
       "    </tr>\n",
       "    <tr>\n",
       "      <th>...</th>\n",
       "      <td>...</td>\n",
       "    </tr>\n",
       "    <tr>\n",
       "      <th>input_transport_ship_electricity_demand</th>\n",
       "      <td>0.0</td>\n",
       "    </tr>\n",
       "    <tr>\n",
       "      <th>bunkers_total_useful_demand_ships_demand</th>\n",
       "      <td>478316.636</td>\n",
       "    </tr>\n",
       "    <tr>\n",
       "      <th>area</th>\n",
       "      <td>NL_netherlands</td>\n",
       "    </tr>\n",
       "    <tr>\n",
       "      <th>base_dataset</th>\n",
       "      <td>eu</td>\n",
       "    </tr>\n",
       "    <tr>\n",
       "      <th>group</th>\n",
       "      <td>country</td>\n",
       "    </tr>\n",
       "  </tbody>\n",
       "</table>\n",
       "<p>702 rows × 1 columns</p>\n",
       "</div>"
      ],
      "text/plain": [
       "                                                                nl\n",
       "agriculture_final_demand_electricity_demand              41584.615\n",
       "agriculture_final_demand_network_gas_demand              91072.918\n",
       "input_agriculture_final_demand_steam_hot_water_...        2783.107\n",
       "agriculture_final_demand_wood_pellets_demand              5437.224\n",
       "input_agriculture_final_demand_crude_oil_demand          17965.442\n",
       "...                                                            ...\n",
       "input_transport_ship_electricity_demand                        0.0\n",
       "bunkers_total_useful_demand_ships_demand                478316.636\n",
       "area                                                NL_netherlands\n",
       "base_dataset                                                    eu\n",
       "group                                                      country\n",
       "\n",
       "[702 rows x 1 columns]"
      ]
     },
     "execution_count": 7,
     "metadata": {},
     "output_type": "execute_result"
    }
   ],
   "source": [
    "# Preview the data in its transposed form (by using .T)\n",
    "df_parent.T"
   ]
  },
  {
   "cell_type": "markdown",
   "id": "77ba7814-63b8-4361-a271-05516b9336cb",
   "metadata": {
    "tags": []
   },
   "source": [
    "##### Load \n",
    "Save the parent data set to the intermediate data folder."
   ]
  },
  {
   "cell_type": "code",
   "execution_count": 8,
   "id": "8c0aa9e1-b3d2-4bd6-aa95-20accf18a1bd",
   "metadata": {
    "tags": []
   },
   "outputs": [],
   "source": [
    "# Write dataframe to intermediate data folder\n",
    "df_parent.to_csv(f\"data/intermediate/parent_data.csv\")"
   ]
  },
  {
   "cell_type": "markdown",
   "id": "79b65e8d-582c-4288-9f51-e646962aae6d",
   "metadata": {
    "jp-MarkdownHeadingCollapsed": true,
    "tags": []
   },
   "source": [
    "#### Initialize (empty) ETLocal templates"
   ]
  },
  {
   "cell_type": "markdown",
   "id": "749a4cc9-44d9-4136-a3ba-815f06d02f35",
   "metadata": {},
   "source": [
    "Only run these cells if you want to create empty ETLocal templates. If the templates have been filled in other steps, these changes will be overwritten. If you don't want to overwrite your changes, **DON'T** run the cells below. :-) "
   ]
  },
  {
   "cell_type": "code",
   "execution_count": 9,
   "id": "175a27bb-9c25-4d2f-aba3-19de8f2786dc",
   "metadata": {
    "tags": []
   },
   "outputs": [
    {
     "data": {
      "text/html": [
       "<div>\n",
       "<style scoped>\n",
       "    .dataframe tbody tr th:only-of-type {\n",
       "        vertical-align: middle;\n",
       "    }\n",
       "\n",
       "    .dataframe tbody tr th {\n",
       "        vertical-align: top;\n",
       "    }\n",
       "\n",
       "    .dataframe thead th {\n",
       "        text-align: right;\n",
       "    }\n",
       "</style>\n",
       "<table border=\"1\" class=\"dataframe\">\n",
       "  <thead>\n",
       "    <tr style=\"text-align: right;\">\n",
       "      <th></th>\n",
       "      <th>country</th>\n",
       "      <th>name</th>\n",
       "    </tr>\n",
       "    <tr>\n",
       "      <th>geo_id</th>\n",
       "      <th></th>\n",
       "      <th></th>\n",
       "    </tr>\n",
       "  </thead>\n",
       "  <tbody>\n",
       "    <tr>\n",
       "      <th>GM0003</th>\n",
       "      <td>nl2019</td>\n",
       "      <td>Appingedam</td>\n",
       "    </tr>\n",
       "    <tr>\n",
       "      <th>GM0010</th>\n",
       "      <td>nl2019</td>\n",
       "      <td>Delfzijl</td>\n",
       "    </tr>\n",
       "    <tr>\n",
       "      <th>GM0024</th>\n",
       "      <td>nl2019</td>\n",
       "      <td>Loppersum</td>\n",
       "    </tr>\n",
       "    <tr>\n",
       "      <th>GM1680</th>\n",
       "      <td>nl2019</td>\n",
       "      <td>Aa en Hunze</td>\n",
       "    </tr>\n",
       "    <tr>\n",
       "      <th>GM0358</th>\n",
       "      <td>nl2019</td>\n",
       "      <td>Aalsmeer</td>\n",
       "    </tr>\n",
       "    <tr>\n",
       "      <th>...</th>\n",
       "      <td>...</td>\n",
       "      <td>...</td>\n",
       "    </tr>\n",
       "    <tr>\n",
       "      <th>GM0879</th>\n",
       "      <td>nl2019</td>\n",
       "      <td>Zundert</td>\n",
       "    </tr>\n",
       "    <tr>\n",
       "      <th>GM0301</th>\n",
       "      <td>nl2019</td>\n",
       "      <td>Zutphen</td>\n",
       "    </tr>\n",
       "    <tr>\n",
       "      <th>GM1896</th>\n",
       "      <td>nl2019</td>\n",
       "      <td>Zwartewaterland</td>\n",
       "    </tr>\n",
       "    <tr>\n",
       "      <th>GM0642</th>\n",
       "      <td>nl2019</td>\n",
       "      <td>Zwijndrecht</td>\n",
       "    </tr>\n",
       "    <tr>\n",
       "      <th>GM0193</th>\n",
       "      <td>nl2019</td>\n",
       "      <td>Zwolle</td>\n",
       "    </tr>\n",
       "  </tbody>\n",
       "</table>\n",
       "<p>355 rows × 2 columns</p>\n",
       "</div>"
      ],
      "text/plain": [
       "       country             name\n",
       "geo_id                         \n",
       "GM0003  nl2019       Appingedam\n",
       "GM0010  nl2019         Delfzijl\n",
       "GM0024  nl2019        Loppersum\n",
       "GM1680  nl2019      Aa en Hunze\n",
       "GM0358  nl2019         Aalsmeer\n",
       "...        ...              ...\n",
       "GM0879  nl2019          Zundert\n",
       "GM0301  nl2019          Zutphen\n",
       "GM1896  nl2019  Zwartewaterland\n",
       "GM0642  nl2019      Zwijndrecht\n",
       "GM0193  nl2019           Zwolle\n",
       "\n",
       "[355 rows x 2 columns]"
      ]
     },
     "execution_count": 9,
     "metadata": {},
     "output_type": "execute_result"
    }
   ],
   "source": [
    "# First, initialize data.csv file based on the config file\n",
    "path = Path(\"config\", \"data.csv\")\n",
    "df_data_csv = pd.read_csv(path, index_col=[0], sep=sep)\n",
    "\n",
    "# Drop unnamed columns\n",
    "df_data_csv = df_data_csv.drop(columns=df_data_csv.columns[df_data_csv.columns.str.startswith('Unnamed')])\n",
    "\n",
    "# Preview dataframe representing data.csv\n",
    "df_data_csv"
   ]
  },
  {
   "cell_type": "code",
   "execution_count": 10,
   "id": "15fec7b3-99b3-4470-9a9e-db6276a9e087",
   "metadata": {
    "tags": []
   },
   "outputs": [],
   "source": [
    "# Then, initialize commits.yml file by specifying the file path where you want to create the YAML file\n",
    "path = Path(\"data\", \"reporting\", \"commits.yml\")\n",
    "\n",
    "# Write the document separator to the YAML file\n",
    "with open(path, 'w') as file:\n",
    "    file.write('---\\n')"
   ]
  },
  {
   "cell_type": "code",
   "execution_count": 11,
   "id": "564261cb-2c4a-4601-b799-5d878e97bcb6",
   "metadata": {
    "tags": []
   },
   "outputs": [
    {
     "data": {
      "text/html": [
       "<div>\n",
       "<style scoped>\n",
       "    .dataframe tbody tr th:only-of-type {\n",
       "        vertical-align: middle;\n",
       "    }\n",
       "\n",
       "    .dataframe tbody tr th {\n",
       "        vertical-align: top;\n",
       "    }\n",
       "\n",
       "    .dataframe thead th {\n",
       "        text-align: right;\n",
       "    }\n",
       "</style>\n",
       "<table border=\"1\" class=\"dataframe\">\n",
       "  <thead>\n",
       "    <tr style=\"text-align: right;\">\n",
       "      <th></th>\n",
       "      <th></th>\n",
       "      <th></th>\n",
       "      <th></th>\n",
       "      <th>unit</th>\n",
       "      <th>value</th>\n",
       "      <th>commit</th>\n",
       "    </tr>\n",
       "    <tr>\n",
       "      <th>geo_id</th>\n",
       "      <th>group</th>\n",
       "      <th>subgroup</th>\n",
       "      <th>key</th>\n",
       "      <th></th>\n",
       "      <th></th>\n",
       "      <th></th>\n",
       "    </tr>\n",
       "  </thead>\n",
       "  <tbody>\n",
       "    <tr>\n",
       "      <th rowspan=\"5\" valign=\"top\">GM0003</th>\n",
       "      <th rowspan=\"2\" valign=\"top\">area</th>\n",
       "      <th rowspan=\"2\" valign=\"top\">area_emission_factors</th>\n",
       "      <th>file_carriers_imported_heat_co2_conversion_per_mj</th>\n",
       "      <td>kg/MJ</td>\n",
       "      <td>NaN</td>\n",
       "      <td>NaN</td>\n",
       "    </tr>\n",
       "    <tr>\n",
       "      <th>file_carriers_propane_co2_conversion_per_mj</th>\n",
       "      <td>kg/MJ</td>\n",
       "      <td>NaN</td>\n",
       "      <td>NaN</td>\n",
       "    </tr>\n",
       "    <tr>\n",
       "      <th rowspan=\"3\" valign=\"top\">households</th>\n",
       "      <th rowspan=\"3\" valign=\"top\">households_energy_demand</th>\n",
       "      <th>input_percentage_of_lt_steam_hot_water_households_final_demand_steam_hot_water</th>\n",
       "      <td>%</td>\n",
       "      <td>NaN</td>\n",
       "      <td>NaN</td>\n",
       "    </tr>\n",
       "    <tr>\n",
       "      <th>input_percentage_of_mt_steam_hot_water_households_final_demand_steam_hot_water</th>\n",
       "      <td>%</td>\n",
       "      <td>NaN</td>\n",
       "      <td>NaN</td>\n",
       "    </tr>\n",
       "    <tr>\n",
       "      <th>input_percentage_of_ht_steam_hot_water_households_final_demand_steam_hot_water</th>\n",
       "      <td>%</td>\n",
       "      <td>NaN</td>\n",
       "      <td>NaN</td>\n",
       "    </tr>\n",
       "    <tr>\n",
       "      <th>...</th>\n",
       "      <th>...</th>\n",
       "      <th>...</th>\n",
       "      <th>...</th>\n",
       "      <td>...</td>\n",
       "      <td>...</td>\n",
       "      <td>...</td>\n",
       "    </tr>\n",
       "    <tr>\n",
       "      <th rowspan=\"5\" valign=\"top\">GM0193</th>\n",
       "      <th rowspan=\"5\" valign=\"top\">energy</th>\n",
       "      <th rowspan=\"2\" valign=\"top\">energy_heat_production</th>\n",
       "      <th>energy_heat_import_mt_steam_hot_water_demand</th>\n",
       "      <td>TJ</td>\n",
       "      <td>NaN</td>\n",
       "      <td>NaN</td>\n",
       "    </tr>\n",
       "    <tr>\n",
       "      <th>energy_heat_import_ht_steam_hot_water_demand</th>\n",
       "      <td>TJ</td>\n",
       "      <td>NaN</td>\n",
       "      <td>NaN</td>\n",
       "    </tr>\n",
       "    <tr>\n",
       "      <th rowspan=\"3\" valign=\"top\">energy_energy_demand</th>\n",
       "      <th>input_energy_heat_distribution_ht_loss_share</th>\n",
       "      <td>%</td>\n",
       "      <td>NaN</td>\n",
       "      <td>NaN</td>\n",
       "    </tr>\n",
       "    <tr>\n",
       "      <th>input_energy_heat_distribution_mt_loss_share</th>\n",
       "      <td>%</td>\n",
       "      <td>NaN</td>\n",
       "      <td>NaN</td>\n",
       "    </tr>\n",
       "    <tr>\n",
       "      <th>input_energy_heat_distribution_lt_loss_share</th>\n",
       "      <td>%</td>\n",
       "      <td>NaN</td>\n",
       "      <td>NaN</td>\n",
       "    </tr>\n",
       "  </tbody>\n",
       "</table>\n",
       "<p>42955 rows × 3 columns</p>\n",
       "</div>"
      ],
      "text/plain": [
       "                                                                                                unit  \\\n",
       "geo_id group      subgroup                 key                                                         \n",
       "GM0003 area       area_emission_factors    file_carriers_imported_heat_co2_conversion_per_mj   kg/MJ   \n",
       "                                           file_carriers_propane_co2_conversion_per_mj         kg/MJ   \n",
       "       households households_energy_demand input_percentage_of_lt_steam_hot_water_househol...      %   \n",
       "                                           input_percentage_of_mt_steam_hot_water_househol...      %   \n",
       "                                           input_percentage_of_ht_steam_hot_water_househol...      %   \n",
       "...                                                                                              ...   \n",
       "GM0193 energy     energy_heat_production   energy_heat_import_mt_steam_hot_water_demand           TJ   \n",
       "                                           energy_heat_import_ht_steam_hot_water_demand           TJ   \n",
       "                  energy_energy_demand     input_energy_heat_distribution_ht_loss_share            %   \n",
       "                                           input_energy_heat_distribution_mt_loss_share            %   \n",
       "                                           input_energy_heat_distribution_lt_loss_share            %   \n",
       "\n",
       "                                                                                               value  \\\n",
       "geo_id group      subgroup                 key                                                         \n",
       "GM0003 area       area_emission_factors    file_carriers_imported_heat_co2_conversion_per_mj     NaN   \n",
       "                                           file_carriers_propane_co2_conversion_per_mj           NaN   \n",
       "       households households_energy_demand input_percentage_of_lt_steam_hot_water_househol...    NaN   \n",
       "                                           input_percentage_of_mt_steam_hot_water_househol...    NaN   \n",
       "                                           input_percentage_of_ht_steam_hot_water_househol...    NaN   \n",
       "...                                                                                              ...   \n",
       "GM0193 energy     energy_heat_production   energy_heat_import_mt_steam_hot_water_demand          NaN   \n",
       "                                           energy_heat_import_ht_steam_hot_water_demand          NaN   \n",
       "                  energy_energy_demand     input_energy_heat_distribution_ht_loss_share          NaN   \n",
       "                                           input_energy_heat_distribution_mt_loss_share          NaN   \n",
       "                                           input_energy_heat_distribution_lt_loss_share          NaN   \n",
       "\n",
       "                                                                                               commit  \n",
       "geo_id group      subgroup                 key                                                         \n",
       "GM0003 area       area_emission_factors    file_carriers_imported_heat_co2_conversion_per_mj      NaN  \n",
       "                                           file_carriers_propane_co2_conversion_per_mj            NaN  \n",
       "       households households_energy_demand input_percentage_of_lt_steam_hot_water_househol...     NaN  \n",
       "                                           input_percentage_of_mt_steam_hot_water_househol...     NaN  \n",
       "                                           input_percentage_of_ht_steam_hot_water_househol...     NaN  \n",
       "...                                                                                               ...  \n",
       "GM0193 energy     energy_heat_production   energy_heat_import_mt_steam_hot_water_demand           NaN  \n",
       "                                           energy_heat_import_ht_steam_hot_water_demand           NaN  \n",
       "                  energy_energy_demand     input_energy_heat_distribution_ht_loss_share           NaN  \n",
       "                                           input_energy_heat_distribution_mt_loss_share           NaN  \n",
       "                                           input_energy_heat_distribution_lt_loss_share           NaN  \n",
       "\n",
       "[42955 rows x 3 columns]"
      ]
     },
     "execution_count": 11,
     "metadata": {},
     "output_type": "execute_result"
    }
   ],
   "source": [
    "# TODO: Describe that by running this cell an empty template is created. This overwrites the filled template.\n",
    "\n",
    "# Load ETLocal template with target keys from config\n",
    "path = Path(\"config\", \"etlocal_interface_elements.csv\")\n",
    "empty_template = pd.read_csv(path, header=[0], sep=sep)#, index_col=[2])\n",
    "\n",
    "# Add columns geo_id, value and commit to the template    \n",
    "for column in ['geo_id', 'value', 'commit']:\n",
    "    empty_template[column] = float('nan')\n",
    "    \n",
    "# Fill the geo_id column with all relevant municipal geo IDs\n",
    "templates = []\n",
    "for municipality in municipalities:\n",
    "    template_to_add = empty_template.copy()\n",
    "    template_to_add['geo_id'] = municipality\n",
    "    templates.append(template_to_add)\n",
    "    \n",
    "# Concatenate list of templates to one big template with all municipalities\n",
    "template = pd.concat(templates)\n",
    "\n",
    "# Transform the templates into a multi-index dataframe\n",
    "index = pd.MultiIndex.from_frame(template[['geo_id', 'group', 'subgroup', 'key']])\n",
    "template = template.drop(columns=['geo_id', 'group', 'subgroup', 'key'])\n",
    "template.index = index\n",
    "\n",
    "# Preview merged template\n",
    "template"
   ]
  },
  {
   "cell_type": "markdown",
   "id": "703b5867-d17b-4159-9420-1788470d6fca",
   "metadata": {
    "tags": [],
    "toc-hr-collapsed": true
   },
   "source": [
    "## General"
   ]
  },
  {
   "cell_type": "markdown",
   "id": "b37b913f-1270-40dc-8d78-46b1c1b7fd1a",
   "metadata": {
    "jp-MarkdownHeadingCollapsed": true,
    "tags": [],
    "toc-hr-collapsed": true
   },
   "source": [
    "### 1. Data collection"
   ]
  },
  {
   "cell_type": "code",
   "execution_count": 12,
   "id": "6cb329a5-399b-4630-a577-304914f6124b",
   "metadata": {
    "tags": []
   },
   "outputs": [],
   "source": [
    "# TODO"
   ]
  },
  {
   "attachments": {
    "75b96a93-92f4-444a-9a96-18eb4a6d5295.png": {
     "image/png": "[encoded data removed]"
    }
   },
   "cell_type": "markdown",
   "id": "ab3ddc6e-de6b-42bd-9e0c-0ccd29ce48b5",
   "metadata": {
    "tags": []
   },
   "source": [
    "In the data collection phase, we make an overview of the required data and design a data model to efficiently build our database. If possible, we call the API to collect our data. Otherwise, we first manually collect a data export and store it in the `data / raw` directory.\n",
    "\n",
    "![image.png](attachment:75b96a93-92f4-444a-9a96-18eb4a6d5295.png)\n",
    "\n",
    "For the municipal datasets we use the following data sources:\n",
    "* **??** | ...\n",
    "* **Dataset manager** | to collect the parent dataset\n",
    "\n",
    "For each data source, the following steps are followed:\n",
    "* **Extract** | Extracting the raw data from its source\n",
    "* **Transform** | Transforming the raw data to a 'workable' format \n",
    "* **Load** | Writing the processed data to the intermediate data directory\n"
   ]
  },
  {
   "cell_type": "code",
   "execution_count": 13,
   "id": "c0b6e597-ab20-4133-818a-61755c399711",
   "metadata": {
    "tags": []
   },
   "outputs": [],
   "source": [
    "# TODO"
   ]
  },
  {
   "cell_type": "markdown",
   "id": "38acf2a1-29db-4237-a0e3-1e3db64a25fe",
   "metadata": {
    "jp-MarkdownHeadingCollapsed": true,
    "tags": [],
    "toc-hr-collapsed": true
   },
   "source": [
    "### 2. Data quality"
   ]
  },
  {
   "cell_type": "code",
   "execution_count": 14,
   "id": "7c366d3a-e6d8-4eb2-a001-d41b98f8c681",
   "metadata": {
    "tags": []
   },
   "outputs": [],
   "source": [
    "# TODO"
   ]
  },
  {
   "cell_type": "markdown",
   "id": "6b2fb7b1-0990-4df2-9db3-8e92db2285e0",
   "metadata": {
    "tags": []
   },
   "source": [
    "#### Setup\n",
    "\n",
    "Setup the checker and load all files from the `data / intermediate` directory."
   ]
  },
  {
   "cell_type": "markdown",
   "id": "2135dbdc-22ae-4047-97e4-4637eabdd9d4",
   "metadata": {},
   "source": [
    "First, setup the checker class"
   ]
  },
  {
   "cell_type": "code",
   "execution_count": 15,
   "id": "68cbfb4f-7691-466d-b40c-d51fcce6b08b",
   "metadata": {
    "tags": []
   },
   "outputs": [],
   "source": [
    "# Initialise checker class to access transformation functions\n",
    "checker = Checker()"
   ]
  },
  {
   "cell_type": "markdown",
   "id": "38f69131-2f0a-494b-913a-a572a7857c18",
   "metadata": {},
   "source": [
    "Then, setup all data files:\n",
    "- ...\n",
    "- parent data"
   ]
  },
  {
   "cell_type": "markdown",
   "id": "9f25b512-d8d5-4560-a987-4b17e43cead2",
   "metadata": {
    "tags": []
   },
   "source": [
    "### 3. Data transformation"
   ]
  },
  {
   "cell_type": "code",
   "execution_count": 16,
   "id": "bc572cf4-b2f0-4f20-a01a-2227b72e1213",
   "metadata": {},
   "outputs": [],
   "source": [
    "# TODO"
   ]
  },
  {
   "cell_type": "markdown",
   "id": "a4115043-01e2-4679-a264-5a6092c23e63",
   "metadata": {
    "tags": [],
    "toc-hr-collapsed": true
   },
   "source": [
    "#### Setup\n",
    "\n",
    "Setup the transformer and load all intermediate data files for the next step in the pipeline."
   ]
  },
  {
   "cell_type": "markdown",
   "id": "a570aaec-fe6d-40de-a767-9210c56b0eff",
   "metadata": {},
   "source": [
    "First, setup the transformer class:"
   ]
  },
  {
   "cell_type": "code",
   "execution_count": 17,
   "id": "6c777032-8ade-4edc-8f0d-757d011f8a17",
   "metadata": {
    "tags": []
   },
   "outputs": [],
   "source": [
    "# Initialise transformer class to access transformation functions\n",
    "transformer = Transformer(municipalities, year)"
   ]
  },
  {
   "cell_type": "markdown",
   "id": "cdf3ca11-8ec6-4f7e-9ee1-b908b5376808",
   "metadata": {},
   "source": [
    "Then, setup all data files:\n",
    "- dataframe representing data.csv \n",
    "- commits.yml\n",
    "- dataframe with all etlocal interface elements\n",
    "- ...\n",
    "- parent data"
   ]
  },
  {
   "cell_type": "markdown",
   "id": "70d72c8a-5a49-4204-a25f-c54ee909ad8b",
   "metadata": {
    "jp-MarkdownHeadingCollapsed": true,
    "tags": []
   },
   "source": [
    "##### Load parent data"
   ]
  },
  {
   "cell_type": "code",
   "execution_count": 18,
   "id": "92965e97-79e3-4fdc-853c-d2c10f723db4",
   "metadata": {
    "tags": []
   },
   "outputs": [
    {
     "data": {
      "text/html": [
       "<div>\n",
       "<style scoped>\n",
       "    .dataframe tbody tr th:only-of-type {\n",
       "        vertical-align: middle;\n",
       "    }\n",
       "\n",
       "    .dataframe tbody tr th {\n",
       "        vertical-align: top;\n",
       "    }\n",
       "\n",
       "    .dataframe thead th {\n",
       "        text-align: right;\n",
       "    }\n",
       "</style>\n",
       "<table border=\"1\" class=\"dataframe\">\n",
       "  <thead>\n",
       "    <tr style=\"text-align: right;\">\n",
       "      <th></th>\n",
       "      <th>nl</th>\n",
       "    </tr>\n",
       "  </thead>\n",
       "  <tbody>\n",
       "    <tr>\n",
       "      <th>agriculture_final_demand_electricity_demand</th>\n",
       "      <td>41584.615</td>\n",
       "    </tr>\n",
       "    <tr>\n",
       "      <th>agriculture_final_demand_network_gas_demand</th>\n",
       "      <td>91072.918</td>\n",
       "    </tr>\n",
       "    <tr>\n",
       "      <th>input_agriculture_final_demand_steam_hot_water_demand</th>\n",
       "      <td>2783.107</td>\n",
       "    </tr>\n",
       "    <tr>\n",
       "      <th>agriculture_final_demand_wood_pellets_demand</th>\n",
       "      <td>5437.224</td>\n",
       "    </tr>\n",
       "    <tr>\n",
       "      <th>input_agriculture_final_demand_crude_oil_demand</th>\n",
       "      <td>17965.442</td>\n",
       "    </tr>\n",
       "  </tbody>\n",
       "</table>\n",
       "</div>"
      ],
      "text/plain": [
       "                                                           nl\n",
       "agriculture_final_demand_electricity_demand         41584.615\n",
       "agriculture_final_demand_network_gas_demand         91072.918\n",
       "input_agriculture_final_demand_steam_hot_water_...   2783.107\n",
       "agriculture_final_demand_wood_pellets_demand         5437.224\n",
       "input_agriculture_final_demand_crude_oil_demand     17965.442"
      ]
     },
     "execution_count": 18,
     "metadata": {},
     "output_type": "execute_result"
    }
   ],
   "source": [
    "# Import parent data\n",
    "path = Path(\"data\", \"intermediate\", \"parent_data.csv\")\n",
    "df_parent = pd.read_csv(path, index_col=0)\n",
    "\n",
    "# Preview parent data\n",
    "df_parent.T.head()"
   ]
  },
  {
   "cell_type": "markdown",
   "id": "a7973c64-e579-4475-a39b-c633f541f863",
   "metadata": {
    "jp-MarkdownHeadingCollapsed": true,
    "tags": [],
    "toc-hr-collapsed": true
   },
   "source": [
    "#### Emission factors\n",
    "Transform the data to the right format. "
   ]
  },
  {
   "cell_type": "markdown",
   "id": "e8faa639-15d9-45bc-a396-aab276cd8a95",
   "metadata": {
    "jp-MarkdownHeadingCollapsed": true,
    "tags": []
   },
   "source": [
    "##### List ETLocal keys"
   ]
  },
  {
   "cell_type": "markdown",
   "id": "a1c77e46-f87a-4427-9dc0-06a46de7acba",
   "metadata": {},
   "source": [
    "Preview the ETLocal keys that are relevant for the agriculture energy demand category"
   ]
  },
  {
   "cell_type": "code",
   "execution_count": 19,
   "id": "6cd25cae-a48a-4b52-bb87-88fa69d600cb",
   "metadata": {
    "tags": []
   },
   "outputs": [
    {
     "data": {
      "text/html": [
       "<div>\n",
       "<style scoped>\n",
       "    .dataframe tbody tr th:only-of-type {\n",
       "        vertical-align: middle;\n",
       "    }\n",
       "\n",
       "    .dataframe tbody tr th {\n",
       "        vertical-align: top;\n",
       "    }\n",
       "\n",
       "    .dataframe thead th {\n",
       "        text-align: right;\n",
       "    }\n",
       "</style>\n",
       "<table border=\"1\" class=\"dataframe\">\n",
       "  <thead>\n",
       "    <tr style=\"text-align: right;\">\n",
       "      <th></th>\n",
       "      <th></th>\n",
       "      <th></th>\n",
       "      <th></th>\n",
       "      <th>unit</th>\n",
       "      <th>value</th>\n",
       "      <th>commit</th>\n",
       "    </tr>\n",
       "    <tr>\n",
       "      <th>geo_id</th>\n",
       "      <th>group</th>\n",
       "      <th>subgroup</th>\n",
       "      <th>key</th>\n",
       "      <th></th>\n",
       "      <th></th>\n",
       "      <th></th>\n",
       "    </tr>\n",
       "  </thead>\n",
       "  <tbody>\n",
       "    <tr>\n",
       "      <th rowspan=\"2\" valign=\"top\">GM0003</th>\n",
       "      <th rowspan=\"2\" valign=\"top\">area</th>\n",
       "      <th rowspan=\"2\" valign=\"top\">area_emission_factors</th>\n",
       "      <th>file_carriers_imported_heat_co2_conversion_per_mj</th>\n",
       "      <td>kg/MJ</td>\n",
       "      <td>NaN</td>\n",
       "      <td>NaN</td>\n",
       "    </tr>\n",
       "    <tr>\n",
       "      <th>file_carriers_propane_co2_conversion_per_mj</th>\n",
       "      <td>kg/MJ</td>\n",
       "      <td>NaN</td>\n",
       "      <td>NaN</td>\n",
       "    </tr>\n",
       "    <tr>\n",
       "      <th rowspan=\"2\" valign=\"top\">GM0010</th>\n",
       "      <th rowspan=\"2\" valign=\"top\">area</th>\n",
       "      <th rowspan=\"2\" valign=\"top\">area_emission_factors</th>\n",
       "      <th>file_carriers_imported_heat_co2_conversion_per_mj</th>\n",
       "      <td>kg/MJ</td>\n",
       "      <td>NaN</td>\n",
       "      <td>NaN</td>\n",
       "    </tr>\n",
       "    <tr>\n",
       "      <th>file_carriers_propane_co2_conversion_per_mj</th>\n",
       "      <td>kg/MJ</td>\n",
       "      <td>NaN</td>\n",
       "      <td>NaN</td>\n",
       "    </tr>\n",
       "    <tr>\n",
       "      <th>GM0024</th>\n",
       "      <th>area</th>\n",
       "      <th>area_emission_factors</th>\n",
       "      <th>file_carriers_imported_heat_co2_conversion_per_mj</th>\n",
       "      <td>kg/MJ</td>\n",
       "      <td>NaN</td>\n",
       "      <td>NaN</td>\n",
       "    </tr>\n",
       "    <tr>\n",
       "      <th>...</th>\n",
       "      <th>...</th>\n",
       "      <th>...</th>\n",
       "      <th>...</th>\n",
       "      <td>...</td>\n",
       "      <td>...</td>\n",
       "      <td>...</td>\n",
       "    </tr>\n",
       "    <tr>\n",
       "      <th>GM1896</th>\n",
       "      <th>area</th>\n",
       "      <th>area_emission_factors</th>\n",
       "      <th>file_carriers_propane_co2_conversion_per_mj</th>\n",
       "      <td>kg/MJ</td>\n",
       "      <td>NaN</td>\n",
       "      <td>NaN</td>\n",
       "    </tr>\n",
       "    <tr>\n",
       "      <th rowspan=\"2\" valign=\"top\">GM0642</th>\n",
       "      <th rowspan=\"2\" valign=\"top\">area</th>\n",
       "      <th rowspan=\"2\" valign=\"top\">area_emission_factors</th>\n",
       "      <th>file_carriers_imported_heat_co2_conversion_per_mj</th>\n",
       "      <td>kg/MJ</td>\n",
       "      <td>NaN</td>\n",
       "      <td>NaN</td>\n",
       "    </tr>\n",
       "    <tr>\n",
       "      <th>file_carriers_propane_co2_conversion_per_mj</th>\n",
       "      <td>kg/MJ</td>\n",
       "      <td>NaN</td>\n",
       "      <td>NaN</td>\n",
       "    </tr>\n",
       "    <tr>\n",
       "      <th rowspan=\"2\" valign=\"top\">GM0193</th>\n",
       "      <th rowspan=\"2\" valign=\"top\">area</th>\n",
       "      <th rowspan=\"2\" valign=\"top\">area_emission_factors</th>\n",
       "      <th>file_carriers_imported_heat_co2_conversion_per_mj</th>\n",
       "      <td>kg/MJ</td>\n",
       "      <td>NaN</td>\n",
       "      <td>NaN</td>\n",
       "    </tr>\n",
       "    <tr>\n",
       "      <th>file_carriers_propane_co2_conversion_per_mj</th>\n",
       "      <td>kg/MJ</td>\n",
       "      <td>NaN</td>\n",
       "      <td>NaN</td>\n",
       "    </tr>\n",
       "  </tbody>\n",
       "</table>\n",
       "<p>710 rows × 3 columns</p>\n",
       "</div>"
      ],
      "text/plain": [
       "                                                                                       unit  \\\n",
       "geo_id group subgroup              key                                                        \n",
       "GM0003 area  area_emission_factors file_carriers_imported_heat_co2_conversion_per_mj  kg/MJ   \n",
       "                                   file_carriers_propane_co2_conversion_per_mj        kg/MJ   \n",
       "GM0010 area  area_emission_factors file_carriers_imported_heat_co2_conversion_per_mj  kg/MJ   \n",
       "                                   file_carriers_propane_co2_conversion_per_mj        kg/MJ   \n",
       "GM0024 area  area_emission_factors file_carriers_imported_heat_co2_conversion_per_mj  kg/MJ   \n",
       "...                                                                                     ...   \n",
       "GM1896 area  area_emission_factors file_carriers_propane_co2_conversion_per_mj        kg/MJ   \n",
       "GM0642 area  area_emission_factors file_carriers_imported_heat_co2_conversion_per_mj  kg/MJ   \n",
       "                                   file_carriers_propane_co2_conversion_per_mj        kg/MJ   \n",
       "GM0193 area  area_emission_factors file_carriers_imported_heat_co2_conversion_per_mj  kg/MJ   \n",
       "                                   file_carriers_propane_co2_conversion_per_mj        kg/MJ   \n",
       "\n",
       "                                                                                      value  \\\n",
       "geo_id group subgroup              key                                                        \n",
       "GM0003 area  area_emission_factors file_carriers_imported_heat_co2_conversion_per_mj    NaN   \n",
       "                                   file_carriers_propane_co2_conversion_per_mj          NaN   \n",
       "GM0010 area  area_emission_factors file_carriers_imported_heat_co2_conversion_per_mj    NaN   \n",
       "                                   file_carriers_propane_co2_conversion_per_mj          NaN   \n",
       "GM0024 area  area_emission_factors file_carriers_imported_heat_co2_conversion_per_mj    NaN   \n",
       "...                                                                                     ...   \n",
       "GM1896 area  area_emission_factors file_carriers_propane_co2_conversion_per_mj          NaN   \n",
       "GM0642 area  area_emission_factors file_carriers_imported_heat_co2_conversion_per_mj    NaN   \n",
       "                                   file_carriers_propane_co2_conversion_per_mj          NaN   \n",
       "GM0193 area  area_emission_factors file_carriers_imported_heat_co2_conversion_per_mj    NaN   \n",
       "                                   file_carriers_propane_co2_conversion_per_mj          NaN   \n",
       "\n",
       "                                                                                      commit  \n",
       "geo_id group subgroup              key                                                        \n",
       "GM0003 area  area_emission_factors file_carriers_imported_heat_co2_conversion_per_mj     NaN  \n",
       "                                   file_carriers_propane_co2_conversion_per_mj           NaN  \n",
       "GM0010 area  area_emission_factors file_carriers_imported_heat_co2_conversion_per_mj     NaN  \n",
       "                                   file_carriers_propane_co2_conversion_per_mj           NaN  \n",
       "GM0024 area  area_emission_factors file_carriers_imported_heat_co2_conversion_per_mj     NaN  \n",
       "...                                                                                      ...  \n",
       "GM1896 area  area_emission_factors file_carriers_propane_co2_conversion_per_mj           NaN  \n",
       "GM0642 area  area_emission_factors file_carriers_imported_heat_co2_conversion_per_mj     NaN  \n",
       "                                   file_carriers_propane_co2_conversion_per_mj           NaN  \n",
       "GM0193 area  area_emission_factors file_carriers_imported_heat_co2_conversion_per_mj     NaN  \n",
       "                                   file_carriers_propane_co2_conversion_per_mj           NaN  \n",
       "\n",
       "[710 rows x 3 columns]"
      ]
     },
     "execution_count": 19,
     "metadata": {},
     "output_type": "execute_result"
    }
   ],
   "source": [
    "# Filter the ETLocal keys that are relevant for the emission factors category\n",
    "filter_emission_factors = (slice(None), 'area', 'area_emission_factors')\n",
    "\n",
    "# Preview the filtered template\n",
    "template.loc[filter_emission_factors, :]"
   ]
  },
  {
   "cell_type": "markdown",
   "id": "8447c088-f342-4786-a67d-7989e970d31a",
   "metadata": {
    "tags": []
   },
   "source": [
    "##### Fill missing values"
   ]
  },
  {
   "cell_type": "markdown",
   "id": "603cfb87-28b1-40dd-8760-5fed1d146d70",
   "metadata": {},
   "source": [
    "Then, fill the missing values for:\n",
    "- Imported heat\n",
    "- Propane\n",
    "- ..."
   ]
  },
  {
   "cell_type": "markdown",
   "id": "10691616-bd59-4548-bd0d-658a81822357",
   "metadata": {
    "tags": []
   },
   "source": [
    "**Imported heat** | Emission factors are cross-regionals. Hence, we use the same values for all datasets."
   ]
  },
  {
   "cell_type": "code",
   "execution_count": 20,
   "id": "138fa6b1-6dd3-4194-a958-39253746b3a7",
   "metadata": {
    "tags": []
   },
   "outputs": [],
   "source": [
    "# TODO: we could also use the parent data shares instead?\n",
    "key = f'file_carriers_imported_heat_co2_conversion_per_mj'\n",
    "\n",
    "val = 0.036 # TODO: this should be moved to a config or raw data file?\n",
    "\n",
    "# Update value and corresponding commit message for the temperature level share\n",
    "template.loc[(slice(None), slice(None), slice(None), key), 'value'] = val\n",
    "template.loc[(slice(None), slice(None), slice(None), key), 'commit'] = f\"Based on https://www.co2emissiefactoren.nl/lijst-emissiefactoren/\" # TODO: Describe which exact data is used"
   ]
  },
  {
   "cell_type": "markdown",
   "id": "837cc543-e0ab-485a-975f-04abf841dab7",
   "metadata": {
    "tags": []
   },
   "source": [
    "**Propane** | Emission factors are cross-regionals. Hence, we use the same values for all datasets."
   ]
  },
  {
   "cell_type": "code",
   "execution_count": 21,
   "id": "509935d9-7e74-42c3-831b-eb581c6915ae",
   "metadata": {
    "tags": []
   },
   "outputs": [],
   "source": [
    "key = f'file_carriers_propane_co2_conversion_per_mj'\n",
    "\n",
    "# Let's use the parent data\n",
    "val = df_parent.loc['nl','file_carriers_propane_co2_conversion_per_mj']\n",
    "\n",
    "# Update value and corresponding commit message for the temperature level share\n",
    "template.loc[(slice(None), slice(None), slice(None), key), 'value'] = val\n",
    "template.loc[(slice(None), slice(None), slice(None), key), 'commit'] = f\"Adopted from the parent dataset (the Netherlands)\" # TODO: Describe which exact data is used"
   ]
  },
  {
   "cell_type": "code",
   "execution_count": 22,
   "id": "0d295007-95c0-4d91-a4d7-12dab728d8d8",
   "metadata": {
    "tags": []
   },
   "outputs": [
    {
     "data": {
      "text/html": [
       "<div>\n",
       "<style scoped>\n",
       "    .dataframe tbody tr th:only-of-type {\n",
       "        vertical-align: middle;\n",
       "    }\n",
       "\n",
       "    .dataframe tbody tr th {\n",
       "        vertical-align: top;\n",
       "    }\n",
       "\n",
       "    .dataframe thead th {\n",
       "        text-align: right;\n",
       "    }\n",
       "</style>\n",
       "<table border=\"1\" class=\"dataframe\">\n",
       "  <thead>\n",
       "    <tr style=\"text-align: right;\">\n",
       "      <th></th>\n",
       "      <th></th>\n",
       "      <th></th>\n",
       "      <th></th>\n",
       "      <th>unit</th>\n",
       "      <th>value</th>\n",
       "      <th>commit</th>\n",
       "    </tr>\n",
       "    <tr>\n",
       "      <th>geo_id</th>\n",
       "      <th>group</th>\n",
       "      <th>subgroup</th>\n",
       "      <th>key</th>\n",
       "      <th></th>\n",
       "      <th></th>\n",
       "      <th></th>\n",
       "    </tr>\n",
       "  </thead>\n",
       "  <tbody>\n",
       "    <tr>\n",
       "      <th rowspan=\"2\" valign=\"top\">GM0003</th>\n",
       "      <th rowspan=\"2\" valign=\"top\">area</th>\n",
       "      <th rowspan=\"2\" valign=\"top\">area_emission_factors</th>\n",
       "      <th>file_carriers_imported_heat_co2_conversion_per_mj</th>\n",
       "      <td>kg/MJ</td>\n",
       "      <td>0.03600</td>\n",
       "      <td>Based on https://www.co2emissiefactoren.nl/lij...</td>\n",
       "    </tr>\n",
       "    <tr>\n",
       "      <th>file_carriers_propane_co2_conversion_per_mj</th>\n",
       "      <td>kg/MJ</td>\n",
       "      <td>0.06448</td>\n",
       "      <td>Adopted from the parent dataset (the Netherlands)</td>\n",
       "    </tr>\n",
       "    <tr>\n",
       "      <th rowspan=\"2\" valign=\"top\">GM0010</th>\n",
       "      <th rowspan=\"2\" valign=\"top\">area</th>\n",
       "      <th rowspan=\"2\" valign=\"top\">area_emission_factors</th>\n",
       "      <th>file_carriers_imported_heat_co2_conversion_per_mj</th>\n",
       "      <td>kg/MJ</td>\n",
       "      <td>0.03600</td>\n",
       "      <td>Based on https://www.co2emissiefactoren.nl/lij...</td>\n",
       "    </tr>\n",
       "    <tr>\n",
       "      <th>file_carriers_propane_co2_conversion_per_mj</th>\n",
       "      <td>kg/MJ</td>\n",
       "      <td>0.06448</td>\n",
       "      <td>Adopted from the parent dataset (the Netherlands)</td>\n",
       "    </tr>\n",
       "    <tr>\n",
       "      <th>GM0024</th>\n",
       "      <th>area</th>\n",
       "      <th>area_emission_factors</th>\n",
       "      <th>file_carriers_imported_heat_co2_conversion_per_mj</th>\n",
       "      <td>kg/MJ</td>\n",
       "      <td>0.03600</td>\n",
       "      <td>Based on https://www.co2emissiefactoren.nl/lij...</td>\n",
       "    </tr>\n",
       "  </tbody>\n",
       "</table>\n",
       "</div>"
      ],
      "text/plain": [
       "                                                                                       unit  \\\n",
       "geo_id group subgroup              key                                                        \n",
       "GM0003 area  area_emission_factors file_carriers_imported_heat_co2_conversion_per_mj  kg/MJ   \n",
       "                                   file_carriers_propane_co2_conversion_per_mj        kg/MJ   \n",
       "GM0010 area  area_emission_factors file_carriers_imported_heat_co2_conversion_per_mj  kg/MJ   \n",
       "                                   file_carriers_propane_co2_conversion_per_mj        kg/MJ   \n",
       "GM0024 area  area_emission_factors file_carriers_imported_heat_co2_conversion_per_mj  kg/MJ   \n",
       "\n",
       "                                                                                        value  \\\n",
       "geo_id group subgroup              key                                                          \n",
       "GM0003 area  area_emission_factors file_carriers_imported_heat_co2_conversion_per_mj  0.03600   \n",
       "                                   file_carriers_propane_co2_conversion_per_mj        0.06448   \n",
       "GM0010 area  area_emission_factors file_carriers_imported_heat_co2_conversion_per_mj  0.03600   \n",
       "                                   file_carriers_propane_co2_conversion_per_mj        0.06448   \n",
       "GM0024 area  area_emission_factors file_carriers_imported_heat_co2_conversion_per_mj  0.03600   \n",
       "\n",
       "                                                                                                                                 commit  \n",
       "geo_id group subgroup              key                                                                                                   \n",
       "GM0003 area  area_emission_factors file_carriers_imported_heat_co2_conversion_per_mj  Based on https://www.co2emissiefactoren.nl/lij...  \n",
       "                                   file_carriers_propane_co2_conversion_per_mj        Adopted from the parent dataset (the Netherlands)  \n",
       "GM0010 area  area_emission_factors file_carriers_imported_heat_co2_conversion_per_mj  Based on https://www.co2emissiefactoren.nl/lij...  \n",
       "                                   file_carriers_propane_co2_conversion_per_mj        Adopted from the parent dataset (the Netherlands)  \n",
       "GM0024 area  area_emission_factors file_carriers_imported_heat_co2_conversion_per_mj  Based on https://www.co2emissiefactoren.nl/lij...  "
      ]
     },
     "execution_count": 22,
     "metadata": {},
     "output_type": "execute_result"
    }
   ],
   "source": [
    "# Preview template after changes\n",
    "template.loc[filter_emission_factors, :].head()"
   ]
  },
  {
   "cell_type": "markdown",
   "id": "e2cb4996-897b-47dd-a969-57c99f398ad0",
   "metadata": {
    "jp-MarkdownHeadingCollapsed": true,
    "tags": [],
    "toc-hr-collapsed": true
   },
   "source": [
    "#### Exceptions\n",
    "\n",
    "If there are any exceptions for municipal datasets, you can overwrite the values below."
   ]
  },
  {
   "cell_type": "markdown",
   "id": "14cd20bc-7fd3-4635-81db-398903931bdd",
   "metadata": {},
   "source": [
    "**TO DO** | Explain to the user that this section should always be checked. Should the exception be overwritten by the update? Or should it remain untouched?"
   ]
  },
  {
   "cell_type": "markdown",
   "id": "42380bb3-ac99-428c-a52a-22b8a9a254ef",
   "metadata": {},
   "source": [
    "##### Gemeente X"
   ]
  },
  {
   "cell_type": "code",
   "execution_count": 23,
   "id": "fabde758-4091-45dc-9fde-59b6c1397f74",
   "metadata": {
    "tags": []
   },
   "outputs": [],
   "source": [
    "#"
   ]
  },
  {
   "cell_type": "markdown",
   "id": "e23b53d5-9059-49e6-85d8-d7860581a933",
   "metadata": {
    "jp-MarkdownHeadingCollapsed": true,
    "tags": []
   },
   "source": [
    "#### Export processed data\n",
    "Write the transformed data to our  `data / processed` directory. This is the data we will be using for the next (analysis and visualisation) steps in the pipeline."
   ]
  },
  {
   "cell_type": "code",
   "execution_count": 24,
   "id": "5a6aadb8-fb4c-4e4a-997b-844e94f4824f",
   "metadata": {
    "tags": []
   },
   "outputs": [],
   "source": [
    "# Write dataframe to intermediate data folder\n",
    "path = Path(\"data\", \"processed\", \"etlocal_template.csv\")\n",
    "template.to_csv(path)"
   ]
  },
  {
   "cell_type": "markdown",
   "id": "b88f51ce-ae60-45dc-92ac-d6261dd01f0c",
   "metadata": {
    "jp-MarkdownHeadingCollapsed": true,
    "tags": []
   },
   "source": [
    "### 4. Data analysis and visualisation"
   ]
  },
  {
   "cell_type": "code",
   "execution_count": 25,
   "id": "3ac0db80-b472-4384-afd7-247ea329962e",
   "metadata": {
    "tags": []
   },
   "outputs": [],
   "source": [
    "# TODO"
   ]
  },
  {
   "cell_type": "markdown",
   "id": "c534c498",
   "metadata": {
    "jp-MarkdownHeadingCollapsed": true,
    "tags": [],
    "toc-hr-collapsed": true
   },
   "source": [
    "## Households"
   ]
  },
  {
   "cell_type": "markdown",
   "id": "9cedb2d1",
   "metadata": {
    "tags": []
   },
   "source": [
    "In this section we focus on the data of the households sector: energy demand, energy supply, housing stock and application shares."
   ]
  },
  {
   "cell_type": "markdown",
   "id": "1f08473f",
   "metadata": {
    "tags": [],
    "toc-hr-collapsed": true
   },
   "source": [
    "### 1. Data collection (extract, transform, load)"
   ]
  },
  {
   "attachments": {
    "75b96a93-92f4-444a-9a96-18eb4a6d5295.png": {
     "image/png": "[encoded data removed]"
    }
   },
   "cell_type": "markdown",
   "id": "1eea4e55",
   "metadata": {
    "tags": []
   },
   "source": [
    "In the data collection phase, we make an overview of the required data and design a data model to efficiently build our database. If possible, we call the API to collect our data. Otherwise, we first manually collect a data export and store it in the `data / raw` directory.\n",
    "\n",
    "![image.png](attachment:75b96a93-92f4-444a-9a96-18eb4a6d5295.png)\n",
    "\n",
    "For the municipal datasets we use the following data sources:\n",
    "* **Klimaatmonitor** | to collect municipal data about energy demand, supply and housing stock\n",
    "* **Referentieverbruiken PBL** | to collect municipal data about application shares\n",
    "* **Dataset manager** | to collect the parent dataset\n",
    "\n",
    "For each data source, the following steps are followed:\n",
    "* **Extract** | Extracting the raw data from its source\n",
    "* **Transform** | Transforming the raw data to a 'workable' format \n",
    "* **Load** | Writing the processed data to the intermediate data directory\n"
   ]
  },
  {
   "cell_type": "markdown",
   "id": "da54f01e",
   "metadata": {
    "jp-MarkdownHeadingCollapsed": true,
    "tags": [],
    "toc-hr-collapsed": true
   },
   "source": [
    "#### Klimaatmonitor"
   ]
  },
  {
   "cell_type": "markdown",
   "id": "e092481a",
   "metadata": {},
   "source": [
    "Klimaatmonitor is used to determine the final demand per carrier for each municipality, using the following the keys:\n",
    "\n",
    "- inwoners\n",
    "- woningen\n",
    "- el_woningen_tj_incl_zonachtermeter\n",
    "- gaswoningen\n",
    "- warmwontier2\n",
    "- houtskool\n",
    "- houtwontj\n",
    "- zonpvtj_won\n",
    "\n",
    "**TO DO** | Describe the steps for retrieving the raw data from Klimaatmonitor"
   ]
  },
  {
   "cell_type": "markdown",
   "id": "36189249-47ae-432b-b4e0-782ec241bff7",
   "metadata": {
    "tags": []
   },
   "source": [
    "##### Extract\n",
    "\n",
    "We start with collecting the relevant data from the data export. This results in a dataframe with key/value combinations for all Dutch municipalities."
   ]
  },
  {
   "cell_type": "code",
   "execution_count": 26,
   "id": "02146e15",
   "metadata": {
    "tags": []
   },
   "outputs": [],
   "source": [
    "# # Source data retrieves all KM data for each municipality\n",
    "# path_km = Path(\"data\", \"raw\", f\"Thema's - {year} - Gemeenten.xlsx\")\n",
    "# wb_km = xw.Book(str(path_km))\n",
    "# ws_km_source_data = wb_km.sheets[\"Data\"]\n",
    "\n",
    "# df_km_source_data = pd.DataFrame(ws_km_source_data.used_range.value)\n",
    "# df_km_source_data.columns = df_km_source_data.iloc[0]\n",
    "# df_km_source_data = df_km_source_data[1:]\n",
    "# df_km_source_data = df_km_source_data.set_index(df_km_source_data.columns[1])\n",
    "\n",
    "# # Close the Excel workbook\n",
    "# wb_km.close()"
   ]
  },
  {
   "cell_type": "code",
   "execution_count": 27,
   "id": "7d9324c0",
   "metadata": {
    "tags": []
   },
   "outputs": [],
   "source": [
    "# # Preview\n",
    "# df_km_source_data.head()"
   ]
  },
  {
   "cell_type": "markdown",
   "id": "64490d7a-fd72-43a2-b13c-1c32bf8161d2",
   "metadata": {},
   "source": [
    "Next, we collect the relevant meta data for each key (or \"topic\"). This provides us with information about, among others, the topic and unit for each key."
   ]
  },
  {
   "cell_type": "code",
   "execution_count": 28,
   "id": "77ec6305",
   "metadata": {
    "tags": []
   },
   "outputs": [],
   "source": [
    "# # Meta data is used to generate commit messages and extract the unit\n",
    "# path_km = Path(\"data\", \"raw\", f\"Thema's - {year} - Gemeenten.xlsx\")\n",
    "# wb_km = xw.Book(str(path_km))\n",
    "# ws_km_meta_data = wb_km.sheets[\"Onderwerp Informatie\"]\n",
    "\n",
    "# df_km_meta_data = pd.DataFrame(ws_km_meta_data.used_range.value)\n",
    "# df_km_meta_data.columns = df_km_meta_data.iloc[0]\n",
    "# df_km_meta_data = df_km_meta_data[1:]\n",
    "# df_km_meta_data = df_km_meta_data.set_index(df_km_meta_data.columns[0])\n",
    "\n",
    "# # Close the Excel workbook\n",
    "# wb_km.close()"
   ]
  },
  {
   "cell_type": "code",
   "execution_count": 29,
   "id": "6b107635-ab32-45dd-b015-cae3b7455531",
   "metadata": {
    "tags": []
   },
   "outputs": [],
   "source": [
    "# # Preview\n",
    "# df_km_meta_data.head()"
   ]
  },
  {
   "cell_type": "markdown",
   "id": "8542e2ae-67fe-4179-a070-23228d1287b8",
   "metadata": {
    "tags": []
   },
   "source": [
    "##### Transform\n",
    "\n",
    "We need to transform the municipal codes to the geo ID format that the ETM is familiar with. Thus, we need to paste \"GM\" and possibly some zeros in front of the code."
   ]
  },
  {
   "cell_type": "code",
   "execution_count": 30,
   "id": "65b2755e-6755-446f-ba18-1a6931e096ee",
   "metadata": {
    "tags": []
   },
   "outputs": [],
   "source": [
    "# # Fill GM code to match desired area code structure\n",
    "# df_km_source_data.index = df_km_source_data.index.str.zfill(4).map(lambda x: 'GM' + x)"
   ]
  },
  {
   "cell_type": "code",
   "execution_count": 31,
   "id": "ed12d227-ee49-44cb-bc95-101db2c429fe",
   "metadata": {
    "tags": []
   },
   "outputs": [],
   "source": [
    "# # Preview\n",
    "# df_km_source_data.head()"
   ]
  },
  {
   "cell_type": "markdown",
   "id": "f6194de6-be3e-4cfe-bba2-1a4640a5ad13",
   "metadata": {
    "tags": []
   },
   "source": [
    "##### Load\n",
    "\n",
    "We're now done with the data collection from Klimaatmonitor. Let's store our data in the `data / intermediate` directory."
   ]
  },
  {
   "cell_type": "code",
   "execution_count": 32,
   "id": "95ef83f4-65aa-4097-ac9d-8b449fb89d45",
   "metadata": {
    "tags": []
   },
   "outputs": [],
   "source": [
    "# # Write dataframe to intermediate data folder\n",
    "# df_km_source_data.to_csv(f\"data/intermediate/klimaatmonitor_source_data_{year}.csv\")"
   ]
  },
  {
   "cell_type": "code",
   "execution_count": 33,
   "id": "2dcf41d9-e421-4960-b841-8c3b012ee9a7",
   "metadata": {
    "tags": []
   },
   "outputs": [],
   "source": [
    "# # Write dataframe to intermediate data folder\n",
    "# df_km_meta_data.to_csv(f\"data/intermediate/klimaatmonitor_meta_data_{year}.csv\")"
   ]
  },
  {
   "cell_type": "markdown",
   "id": "d214d1e2",
   "metadata": {
    "jp-MarkdownHeadingCollapsed": true,
    "tags": [],
    "toc-hr-collapsed": true
   },
   "source": [
    "#### Referentieverbruiken PBL"
   ]
  },
  {
   "cell_type": "markdown",
   "id": "41f3b0a2",
   "metadata": {},
   "source": [
    "The \"referentieverbruiken\" study by PBL is used to calculate the application shares for each municipality."
   ]
  },
  {
   "cell_type": "markdown",
   "id": "12fe368b",
   "metadata": {
    "tags": []
   },
   "source": [
    "##### Extract\n",
    "First, we extract the raw data in Excel format from the PBL website. Then, we create a dataframe from the relevant Excel data sheet."
   ]
  },
  {
   "cell_type": "code",
   "execution_count": 34,
   "id": "d8490fc8",
   "metadata": {
    "tags": []
   },
   "outputs": [],
   "source": [
    "# # Call the PBL referentieverbruiken service and store the raw Excel data in the \"data / raw\" directory\n",
    "# # It's not necessary to run this step if the raw Excel data is yet present in the directory\n",
    "# for municipality in municipalities:\n",
    "#     PblService(municipality).call()"
   ]
  },
  {
   "cell_type": "code",
   "execution_count": 35,
   "id": "fcaf8db2",
   "metadata": {
    "tags": []
   },
   "outputs": [],
   "source": [
    "# # Transform and load the raw Excel data to a workable dataframe format\n",
    "# df_pbl_raw = {}\n",
    "# for municipality in municipalities:\n",
    "#     # Initialise the path to the application shares data by PBL\n",
    "#     path = Path(\"data\", \"raw\", f\"pbl_referentieverbruiken_{municipality}.xlsx\")\n",
    "        \n",
    "#     # Load the relevant sheet (\"Resultaten gemeente\") into a dataframe\n",
    "#     wb = xw.Book(path)\n",
    "#     ws = wb.sheets[\"Resultaten gemeente\"]\n",
    "    \n",
    "#     # Add the dataframe to the dict\n",
    "#     df_pbl_raw[municipality] = pd.DataFrame(ws.used_range.value)\n",
    "\n",
    "#     # Close the workbook\n",
    "#     wb.close()\n",
    "    \n",
    "# # NB: Excel will open the relevant files after running this cell.\n",
    "# # Make sure not to actively close them. The files should close themselves \n",
    "# # after all steps from the data collection have been run."
   ]
  },
  {
   "cell_type": "code",
   "execution_count": 36,
   "id": "eb8d50c0",
   "metadata": {
    "tags": []
   },
   "outputs": [],
   "source": [
    "# # Preview dataframe for the first municipality in the dict\n",
    "# df_pbl_raw[municipalities[0]]"
   ]
  },
  {
   "cell_type": "markdown",
   "id": "e5a6c880",
   "metadata": {
    "tags": []
   },
   "source": [
    "##### Transform\n",
    "The raw data should be cleaned before we can use it. We should remove columns without headers or values, use the bag vbo id as index, and set the right headers. Also, we want to merge the data for all municipalities into one big dataframe."
   ]
  },
  {
   "cell_type": "code",
   "execution_count": 37,
   "id": "a828c21b",
   "metadata": {
    "tags": []
   },
   "outputs": [],
   "source": [
    "# df_pbl = {}\n",
    "# for municipality in municipalities:\n",
    "#     # Columns 62 through 74 seem to be empty--thus, these can be removed\n",
    "#     df_pbl[municipality] = df_pbl_raw[municipality].drop(df_pbl_raw[municipality].iloc[:, 62:75], axis=1)\n",
    "\n",
    "#     # Use first column as (woning vbo_id) as index and rename it\n",
    "#     df_pbl[municipality] = df_pbl[municipality].set_index(df_pbl[municipality][0])\n",
    "#     df_pbl[municipality].index.names = ['bag_vbo_id']\n",
    "#     df_pbl[municipality] = df_pbl[municipality].drop(df_pbl[municipality].columns[0], axis=1)\n",
    "\n",
    "#     # Use first four rows to create a multi-row header\n",
    "#     df_pbl[municipality].columns = [df_pbl[municipality].iloc[0], df_pbl[municipality].iloc[1], df_pbl[municipality].iloc[2], df_pbl[municipality].iloc[3]]\n",
    "#     df_pbl[municipality] = df_pbl[municipality][4:]\n",
    "\n",
    "#     # Remove redundant top-level index names \n",
    "#     df_pbl[municipality].columns.names = [None] * len(df_pbl[municipality].columns.names)"
   ]
  },
  {
   "cell_type": "code",
   "execution_count": 38,
   "id": "09c75519",
   "metadata": {
    "tags": []
   },
   "outputs": [],
   "source": [
    "# # Run this cell if you want the transformed dataframe to be previewed for the first municipality in the dict\n",
    "# df_pbl[municipalities[0]]"
   ]
  },
  {
   "cell_type": "markdown",
   "id": "05e0cc7a",
   "metadata": {},
   "source": [
    "Since the raw data is not formatted properly, we need to create a new dataframe and fill it with the relevant data."
   ]
  },
  {
   "cell_type": "code",
   "execution_count": 39,
   "id": "7f1f9284",
   "metadata": {
    "tags": []
   },
   "outputs": [],
   "source": [
    "# # Setup dataframe to collect the relevant data from the PBL referentieverbruiken overview\n",
    "# header=[['Metervraag aardgas','Metervraag aardgas','Metervraag aardgas',\n",
    "#          'Metervraag elektriciteit','Metervraag elektriciteit','Metervraag elektriciteit','Metervraag elektriciteit',\n",
    "#          'Metervraag warmtenet','Metervraag warmtenet',\n",
    "#          'Metervraag waterstof','Metervraag waterstof',\n",
    "#          'Metervraag biomassa','Metervraag biomassa',\n",
    "#          'Metervraag olie',\n",
    "#          'Metervraag totaal','Metervraag totaal','Metervraag totaal','Metervraag totaal','Metervraag totaal','Metervraag totaal','Metervraag totaal'],\n",
    "#         ['koken','warm tapwater','ruimteverwarming', # aardgas\n",
    "#          'koken','warm tapwater','ruimteverwarming','hulpvraag', # elektriciteit\n",
    "#          'warm tapwater','ruimteverwarming', # warmtenet\n",
    "#          'warm tapwater','ruimteverwarming', # waterstof\n",
    "#          'warm tapwater','ruimteverwarming', # biomassa\n",
    "#          'ruimteverwarming', # olie\n",
    "#          'aardgas', 'elektriciteit', 'warmtenet', 'waterstof', 'biomassa', 'olie', 'totaal']]\n",
    "\n",
    "# df_pbl_new = {}\n",
    "# for municipality in municipalities:\n",
    "#     df_pbl_new[municipality] = pd.DataFrame(columns=header)\n",
    "#     df_pbl_new[municipality].reindex(index=list(df_pbl[municipality].index))\n",
    "#     df_pbl_new[municipality].index.names = ['bag_vbo_id']"
   ]
  },
  {
   "cell_type": "code",
   "execution_count": 40,
   "id": "298b9c81",
   "metadata": {
    "tags": []
   },
   "outputs": [],
   "source": [
    "# for municipality in municipalities:\n",
    "#     # Fill df_new with relevant data from df\n",
    "#     # TODO: restructure df so that we don't have to collect the data in this VERY VERY ugly way (which is also VERY VERY error prone)\n",
    "#     df_pbl_new[municipality].loc[:, ('Metervraag aardgas', 'koken')] = df_pbl[municipality].iloc[:,29]\n",
    "#     df_pbl_new[municipality].loc[:, ('Metervraag aardgas', 'warm tapwater')] = df_pbl[municipality].iloc[:,30]\n",
    "#     df_pbl_new[municipality].loc[:, ('Metervraag aardgas', 'ruimteverwarming')] = df_pbl[municipality].iloc[:,32]\n",
    "#     df_pbl_new[municipality].loc[:, ('Metervraag elektriciteit', 'koken')] = df_pbl[municipality].iloc[:,34]\n",
    "#     df_pbl_new[municipality].loc[:, ('Metervraag elektriciteit', 'warm tapwater')] = df_pbl[municipality].iloc[:,35]\n",
    "#     df_pbl_new[municipality].loc[:, ('Metervraag elektriciteit', 'ruimteverwarming')] = df_pbl[municipality].iloc[:,37]\n",
    "#     df_pbl_new[municipality].loc[:, ('Metervraag elektriciteit', 'hulpvraag')] = df_pbl[municipality].iloc[:,39]\n",
    "#     df_pbl_new[municipality].loc[:, ('Metervraag warmtenet', 'warm tapwater')] = df_pbl[municipality].iloc[:,40]\n",
    "#     df_pbl_new[municipality].loc[:, ('Metervraag warmtenet', 'ruimteverwarming')] = df_pbl[municipality].iloc[:,42]\n",
    "#     df_pbl_new[municipality].loc[:, ('Metervraag waterstof', 'warm tapwater')] = df_pbl[municipality].iloc[:,44]\n",
    "#     df_pbl_new[municipality].loc[:, ('Metervraag waterstof', 'ruimteverwarming')] = df_pbl[municipality].iloc[:,46]\n",
    "#     df_pbl_new[municipality].loc[:, ('Metervraag biomassa', 'warm tapwater')] = df_pbl[municipality].iloc[:,48]\n",
    "#     df_pbl_new[municipality].loc[:, ('Metervraag biomassa', 'ruimteverwarming')] = df_pbl[municipality].iloc[:,50]\n",
    "#     df_pbl_new[municipality].loc[:, ('Metervraag olie', 'ruimteverwarming')] = df_pbl[municipality].iloc[:,52]\n",
    "#     df_pbl_new[municipality].loc[:, ('Metervraag totaal', 'aardgas')] = df_pbl[municipality].iloc[:,54]\n",
    "#     df_pbl_new[municipality].loc[:, ('Metervraag totaal', 'elektriciteit')] = df_pbl[municipality].iloc[:,55]\n",
    "#     df_pbl_new[municipality].loc[:, ('Metervraag totaal', 'warmtenet')] = df_pbl[municipality].iloc[:,56]\n",
    "#     df_pbl_new[municipality].loc[:, ('Metervraag totaal', 'waterstof')] = df_pbl[municipality].iloc[:,57]\n",
    "#     df_pbl_new[municipality].loc[:, ('Metervraag totaal', 'biomassa')] = df_pbl[municipality].iloc[:,58]\n",
    "#     df_pbl_new[municipality].loc[:, ('Metervraag totaal', 'olie')] = df_pbl[municipality].iloc[:,59]\n",
    "#     df_pbl_new[municipality].loc[:, ('Metervraag totaal', 'totaal')] = df_pbl[municipality].iloc[:,60]"
   ]
  },
  {
   "cell_type": "code",
   "execution_count": 41,
   "id": "07daf6a4",
   "metadata": {
    "tags": []
   },
   "outputs": [],
   "source": [
    "# # Preview new dataframe (df_pbl_new) filled with data from the old dataframe (df_pbl) for the first municipality in the dict\n",
    "# df_pbl_new[municipalities[0]]"
   ]
  },
  {
   "cell_type": "markdown",
   "id": "fba1c5d5-3c58-43dd-ac5c-00f8f636255b",
   "metadata": {},
   "source": [
    "Now concatenate all separate dataframes into one big one containing data for all municipalities"
   ]
  },
  {
   "cell_type": "code",
   "execution_count": 42,
   "id": "9c472a31-c80a-4fa2-b037-87ee99bb98db",
   "metadata": {
    "tags": []
   },
   "outputs": [],
   "source": [
    "# # Load application shares and store it in a dict of dataframes per municipality\n",
    "# dfs = []\n",
    "# for municipality in municipalities:\n",
    "#     # Add municipal geo ID to the dataframe and create a multi-index\n",
    "#     df_pbl_new[municipality]['geo_id'] = municipality\n",
    "#     df_pbl_new[municipality].set_index('geo_id', append=True, inplace=True)\n",
    "#     df_pbl_new[municipality] = df_pbl_new[municipality].swaplevel()\n",
    "\n",
    "#     # Remove the top-level index name\n",
    "#     df_pbl_new[municipality].columns.names = [None] * len(df_pbl_new[municipality].columns.names)\n",
    "    \n",
    "#     # Append dataframe to the list\n",
    "#     dfs.append(df_pbl_new[municipality])\n",
    "\n",
    "# # Concatenate list of dataframes to one big dataframe\n",
    "# df_application_shares = pd.concat(dfs)\n",
    "\n",
    "# # Preview dataframe\n",
    "# df_application_shares"
   ]
  },
  {
   "cell_type": "markdown",
   "id": "6b7e910d",
   "metadata": {
    "tags": []
   },
   "source": [
    "##### Load\n",
    "Load the data into the intermediate data folder. This is the data we will be using for the next steps in the pipeline."
   ]
  },
  {
   "cell_type": "code",
   "execution_count": 43,
   "id": "08b8f7a3-ba70-46e4-989e-497547df85ac",
   "metadata": {
    "tags": []
   },
   "outputs": [],
   "source": [
    "# # Specify path for the to be created CSV file\n",
    "# path = Path(\"data\", \"intermediate\", \"application_shares.csv\")\n",
    "\n",
    "# # Write the dataframe to this path\n",
    "# df_application_shares.to_csv(path)"
   ]
  },
  {
   "cell_type": "markdown",
   "id": "41ebe4df",
   "metadata": {
    "jp-MarkdownHeadingCollapsed": true,
    "tags": [],
    "toc-hr-collapsed": true
   },
   "source": [
    "### 2. Data quality"
   ]
  },
  {
   "cell_type": "markdown",
   "id": "10a05b80",
   "metadata": {},
   "source": [
    "Addressing and managing the data quality of our data is crucial; it will ensure we have the correct data to answer the business question and therefore are able to have a good, reliable analytical solution. Not only for our current intention but also for future purposes. Hence, perform checks on accuracy, relevancy, completeness, timeliness, consistency:\n",
    "\n",
    "* **Accuracy** | for whatever data described, it needs to be accurate\n",
    "* **Relevancy** | the data should meet the requirements for the intended use\n",
    "* **Completeness** | the data should not have missing values or miss records\n",
    "* **Timeliness** | the data should be up to date\n",
    "* **Consistency** |the data should have the data format as expected and can be cross reference-able with the same results\n",
    "\n",
    "\n",
    "Typical checks that could be performed:\n",
    "\n",
    "* Are there any negative values or shares?\n",
    "* Are there any NaN values?\n",
    "* Are the data types per column as expected?\n",
    "* Do all keys occur in the dataset?\n",
    "* Are there keys without data? Could we inherit parent data here?\n",
    "* Are there any duplicate values for a key?\n",
    "* Do all share groups sum up to 100%?\n",
    "* Do the hourly curves sum up to 1?\n",
    "* Do the hourly curves correspond to the dataset year?"
   ]
  },
  {
   "cell_type": "markdown",
   "id": "95390835-418b-45c0-ba20-addda7a324f4",
   "metadata": {
    "jp-MarkdownHeadingCollapsed": true,
    "tags": []
   },
   "source": [
    "#### Setup\n",
    "\n",
    "Setup the checker and load all files from the `data / intermediate` directory."
   ]
  },
  {
   "cell_type": "markdown",
   "id": "0fdd70d1-17c2-4588-84b2-b6db995ea349",
   "metadata": {},
   "source": [
    "First, setup the checker class"
   ]
  },
  {
   "cell_type": "code",
   "execution_count": 44,
   "id": "9dafae7f-3349-451a-9f31-83a997473ad1",
   "metadata": {
    "tags": []
   },
   "outputs": [],
   "source": [
    "# Initialise checker class to access transformation functions\n",
    "checker = Checker()"
   ]
  },
  {
   "cell_type": "markdown",
   "id": "003731ae-f3fa-4c80-a84e-1a148daafcd4",
   "metadata": {},
   "source": [
    "Then, setup all data files:\n",
    "- Klimaatmonitor source data\n",
    "- Klimaatmonitor meta data\n",
    "- application shares\n",
    "- parent data"
   ]
  },
  {
   "cell_type": "code",
   "execution_count": 45,
   "id": "9f1d481a-8d28-48aa-8345-05550f9853c0",
   "metadata": {
    "tags": []
   },
   "outputs": [],
   "source": [
    "# # Load Klimaatmonitor source data\n",
    "# df_km_source_data = pd.read_csv(f'data/intermediate/klimaatmonitor_source_data_{year}.csv', index_col=[0])\n",
    "\n",
    "# # Preview data\n",
    "# df_km_source_data"
   ]
  },
  {
   "cell_type": "code",
   "execution_count": 46,
   "id": "bd370c15-a7cf-4b13-8da8-6728549716c0",
   "metadata": {
    "tags": []
   },
   "outputs": [],
   "source": [
    "# # Load Klimaatmonitor meta data\n",
    "# df_km_meta_data = pd.read_csv(f'data/intermediate/klimaatmonitor_meta_data_{year}.csv', index_col=[0])\n",
    "\n",
    "# # Preview data\n",
    "# df_km_meta_data"
   ]
  },
  {
   "cell_type": "code",
   "execution_count": 47,
   "id": "ff808090-b01c-4acf-a001-82dc8f086ab5",
   "metadata": {
    "tags": []
   },
   "outputs": [],
   "source": [
    "# # Load application shares\n",
    "# df_application_shares = pd.read_csv(f'data/intermediate/application_shares.csv', header=[0,1], index_col=[0,1])\n",
    "\n",
    "# # Preview data\n",
    "# df_application_shares"
   ]
  },
  {
   "cell_type": "code",
   "execution_count": 48,
   "id": "d45d1b5f-c8b7-4708-90c1-7aa95ac749cc",
   "metadata": {
    "tags": []
   },
   "outputs": [],
   "source": [
    "# # Import parent data\n",
    "# path = Path(\"data\", \"intermediate\", f\"parent_data.csv\")\n",
    "# df_parent = pd.read_csv(path, index_col=0)\n",
    "\n",
    "# # Preview data\n",
    "# df_parent"
   ]
  },
  {
   "cell_type": "markdown",
   "id": "a4ea8223-1a94-4dbd-8cf1-dc2d672fe212",
   "metadata": {
    "jp-MarkdownHeadingCollapsed": true,
    "tags": []
   },
   "source": [
    "#### Checks\n",
    "\n",
    "Perform checks on accuracy, relevancy, completeness, timeliness and consistency.\n",
    "\n",
    "**TO DO** | Add checks"
   ]
  },
  {
   "cell_type": "markdown",
   "id": "8835f22d-0763-4c90-aaf0-bd751c14a51c",
   "metadata": {
    "jp-MarkdownHeadingCollapsed": true,
    "tags": []
   },
   "source": [
    "##### Accuracy checks"
   ]
  },
  {
   "cell_type": "code",
   "execution_count": 49,
   "id": "2bbf03b8-e563-4a65-9d43-bfae9f36c15b",
   "metadata": {
    "tags": []
   },
   "outputs": [],
   "source": [
    "# TODO"
   ]
  },
  {
   "cell_type": "markdown",
   "id": "ac68fa4b-43e2-48f8-a3fc-b31f3f817f97",
   "metadata": {
    "jp-MarkdownHeadingCollapsed": true,
    "tags": []
   },
   "source": [
    "##### Relevancy checks"
   ]
  },
  {
   "cell_type": "code",
   "execution_count": 50,
   "id": "d2accc4a-83fc-48b2-a2e6-01ff640a3d71",
   "metadata": {
    "tags": []
   },
   "outputs": [],
   "source": [
    "# TODO"
   ]
  },
  {
   "cell_type": "markdown",
   "id": "48e666ef-11fb-49c2-863a-46f20333d186",
   "metadata": {
    "jp-MarkdownHeadingCollapsed": true,
    "tags": []
   },
   "source": [
    "##### Completeness checks"
   ]
  },
  {
   "cell_type": "markdown",
   "id": "7fb0dacf-2a62-44fe-acec-871e8516eb67",
   "metadata": {},
   "source": [
    "Does the data have missing values or miss records?"
   ]
  },
  {
   "cell_type": "code",
   "execution_count": 51,
   "id": "09548ada-aa5a-4167-a7fd-d0a1666f3428",
   "metadata": {
    "tags": []
   },
   "outputs": [],
   "source": [
    "# TODO\n",
    "# checker.has_missing_values(values)"
   ]
  },
  {
   "cell_type": "markdown",
   "id": "4dafd5ea-15c8-4155-b8a8-0f65fec930a4",
   "metadata": {},
   "source": [
    "Are there any NaN values?"
   ]
  },
  {
   "cell_type": "code",
   "execution_count": 52,
   "id": "b0b0bda2-dac4-47b3-9c73-e6e47b046ce7",
   "metadata": {
    "tags": []
   },
   "outputs": [],
   "source": [
    "# TODO"
   ]
  },
  {
   "cell_type": "markdown",
   "id": "cecabce3-dda3-47e9-b70c-d6a1571f27ca",
   "metadata": {},
   "source": [
    "Do all keys occur in the dataset?"
   ]
  },
  {
   "cell_type": "code",
   "execution_count": 53,
   "id": "fce9d130-ea1c-444d-a08d-4af492def3fe",
   "metadata": {
    "tags": []
   },
   "outputs": [],
   "source": [
    "# TODO"
   ]
  },
  {
   "cell_type": "markdown",
   "id": "46897b13-0416-4ac4-a7ed-db7a14176b6c",
   "metadata": {
    "jp-MarkdownHeadingCollapsed": true,
    "tags": []
   },
   "source": [
    "##### Timeliness checks"
   ]
  },
  {
   "cell_type": "code",
   "execution_count": 54,
   "id": "a3d64856-2119-4535-bb41-658ffdc630fb",
   "metadata": {
    "tags": []
   },
   "outputs": [],
   "source": [
    "# TODO"
   ]
  },
  {
   "cell_type": "markdown",
   "id": "8727e9db-457c-4cdc-83cb-35f9d6fa4e94",
   "metadata": {
    "jp-MarkdownHeadingCollapsed": true,
    "tags": []
   },
   "source": [
    "##### Consistency checks"
   ]
  },
  {
   "cell_type": "markdown",
   "id": "2385d7cb-6ad0-4c21-b1eb-19624d23bdfc",
   "metadata": {},
   "source": [
    "Are the data types per column as expected? Are there any columns with non-numerical values? Check for columns with datatype \"object\". Are these as expected?"
   ]
  },
  {
   "cell_type": "code",
   "execution_count": 55,
   "id": "77d8d263-8e37-446a-9451-1bbd8e008c7e",
   "metadata": {
    "tags": []
   },
   "outputs": [],
   "source": [
    "# # Check if the parent data has any columns with unexpected non-numerical values\n",
    "# checker.get_non_numeric_columns(df_parent)"
   ]
  },
  {
   "cell_type": "code",
   "execution_count": 56,
   "id": "e964a761-9170-4637-8afb-1af33b380dfd",
   "metadata": {
    "tags": []
   },
   "outputs": [],
   "source": [
    "# # Perform the same check for the Klimaatmonitor source data\n",
    "# checker.get_non_numeric_columns(df_km_source_data)"
   ]
  },
  {
   "cell_type": "code",
   "execution_count": 57,
   "id": "0144861a-56e1-44bf-95f9-0607ee73d351",
   "metadata": {
    "tags": []
   },
   "outputs": [],
   "source": [
    "# # The 'warmwontier2_2019' variable was expected to have only float values.\n",
    "# # Let's dive deeper into this column:\n",
    "# for key, value in df_km_source_data['warmwontier2_2019'].items():\n",
    "#     try:\n",
    "#         float_value = float(value)\n",
    "#     except ValueError:\n",
    "#         print(f\"Non float value for {key}: {value}\")"
   ]
  },
  {
   "cell_type": "code",
   "execution_count": 58,
   "id": "559be694-4544-4088-8583-7904b3454f17",
   "metadata": {
    "tags": []
   },
   "outputs": [],
   "source": [
    "# # Let's first check out the entire data row for this municipality\n",
    "# df_km_source_data.loc['GM2000', :]"
   ]
  },
  {
   "cell_type": "code",
   "execution_count": 59,
   "id": "f7eacfad-4b8b-4c13-823e-a30d01ec7483",
   "metadata": {
    "tags": []
   },
   "outputs": [],
   "source": [
    "# # GM2000 doesn't seem to be a relevant (and maybe not even existing) municipality.\n",
    "# # Hence, let's remove the entire row from our source data.\n",
    "# df_km_source_data = df_km_source_data.drop('GM2000')\n",
    "\n",
    "# # Check if the data for GM2000 has indeed been removed\n",
    "# df_km_source_data.tail()"
   ]
  },
  {
   "cell_type": "code",
   "execution_count": 60,
   "id": "eedc2ac7-0cd7-4397-96cb-ef768ff5c941",
   "metadata": {
    "tags": []
   },
   "outputs": [],
   "source": [
    "# # Lastly, check if the application shares data has any columns with unexpected non-numerical values\n",
    "# checker.get_non_numeric_columns(df_application_shares)"
   ]
  },
  {
   "cell_type": "markdown",
   "id": "d47aa432-837f-4f74-89e4-82c6ce7803c2",
   "metadata": {},
   "source": [
    "Are there any negative values or shares?"
   ]
  },
  {
   "cell_type": "code",
   "execution_count": 61,
   "id": "7b93b7f0-b6d8-40b1-8474-0e827de25142",
   "metadata": {
    "tags": []
   },
   "outputs": [],
   "source": [
    "# TODO"
   ]
  },
  {
   "cell_type": "markdown",
   "id": "96ac8569-ef5c-4a94-824f-717104aade1f",
   "metadata": {
    "jp-MarkdownHeadingCollapsed": true,
    "tags": []
   },
   "source": [
    "#### Load \n",
    "\n",
    "After all checks and preprocessing steps, make sure to save your data again to the `data / intermediate` directory."
   ]
  },
  {
   "cell_type": "code",
   "execution_count": 62,
   "id": "b246c57e-852a-4a89-bd6e-066c1eacc67d",
   "metadata": {
    "tags": []
   },
   "outputs": [],
   "source": [
    "# # Klimaatmonitor source data\n",
    "# df_km_source_data.to_csv(f\"data/intermediate/klimaatmonitor_source_data_{year}.csv\")"
   ]
  },
  {
   "cell_type": "code",
   "execution_count": 63,
   "id": "822a10b8-125d-49af-8b4d-73825c7ec257",
   "metadata": {
    "tags": []
   },
   "outputs": [],
   "source": [
    "# # Klimaatmonitor meta data\n",
    "# df_km_meta_data.to_csv(f\"data/intermediate/klimaatmonitor_meta_data_{year}.csv\")"
   ]
  },
  {
   "cell_type": "code",
   "execution_count": 64,
   "id": "433272d8-f8f4-4ac6-8851-74f13243c633",
   "metadata": {
    "tags": []
   },
   "outputs": [],
   "source": [
    "# # Application shares data\n",
    "# df_application_shares.to_csv(\"data/intermediate/application_shares.csv\")"
   ]
  },
  {
   "cell_type": "code",
   "execution_count": 65,
   "id": "4ad0ca3c-fa3b-4c61-add0-f09e2b154ea3",
   "metadata": {
    "tags": []
   },
   "outputs": [],
   "source": [
    "# # Parent data\n",
    "# df_parent.to_csv(\"data/intermediate/parent_data.csv\")"
   ]
  },
  {
   "cell_type": "markdown",
   "id": "3dba8eb8",
   "metadata": {
    "tags": []
   },
   "source": [
    "### 3. Data transformation"
   ]
  },
  {
   "cell_type": "markdown",
   "id": "d8e78e43",
   "metadata": {},
   "source": [
    "In the data transformation step, we bring our data together into one final analysis dataset or database.\n",
    "The data transformation phase usually involves 4 steps:\n",
    "\n",
    "* **Edit data** — filter, and select the relevant data\n",
    "* **Aggregate data** — aggregate the data into the necessary level\n",
    "* **Combine data** — combine all data sources into a single table\n",
    "* **Extend data** — create new variables based on existing data"
   ]
  },
  {
   "cell_type": "markdown",
   "id": "18e14205",
   "metadata": {
    "tags": []
   },
   "source": [
    "#### Setup\n",
    "\n",
    "Setup the transformer and load all intermediate data files for the next step in the pipeline."
   ]
  },
  {
   "cell_type": "markdown",
   "id": "4fa37406-c030-4128-a1fa-73cfbe461155",
   "metadata": {},
   "source": [
    "First, setup the transformer class:"
   ]
  },
  {
   "cell_type": "code",
   "execution_count": 66,
   "id": "a8c12a83-9fdd-48b1-b00c-44a477d43121",
   "metadata": {
    "tags": []
   },
   "outputs": [],
   "source": [
    "# Initialise transformer class to access transformation functions\n",
    "transformer = Transformer(municipalities, year)"
   ]
  },
  {
   "cell_type": "markdown",
   "id": "2943627e-1391-4685-8f51-e106ace2a80a",
   "metadata": {},
   "source": [
    "Then, setup all data files:\n",
    "- dataframe representing data.csv \n",
    "- commits.yml\n",
    "- dataframe with all etlocal interface elements\n",
    "- mapping to map Klimaatmonitor keys to ETLocal keys\n",
    "- Klimaatmonitor data and meta data\n",
    "- parent data"
   ]
  },
  {
   "cell_type": "markdown",
   "id": "f936ea4f-c4f9-4bce-9914-7e068aad62e7",
   "metadata": {
    "jp-MarkdownHeadingCollapsed": true,
    "tags": []
   },
   "source": [
    "##### Setup Klimaatmonitor mapping files"
   ]
  },
  {
   "cell_type": "code",
   "execution_count": 67,
   "id": "a7c6d2de",
   "metadata": {
    "tags": []
   },
   "outputs": [],
   "source": [
    "# # Use mapping from CSV and make sure that it works (TODO!)\n",
    "# path = Path(\"config\", \"klimaatmonitor_to_etlocal_mapping.csv\")\n",
    "# df_etlocal_to_km = pd.read_csv(str(path))"
   ]
  },
  {
   "cell_type": "code",
   "execution_count": 68,
   "id": "82c10cff-8c92-4dce-91e6-afa1fe64f506",
   "metadata": {
    "tags": []
   },
   "outputs": [],
   "source": [
    "# # Load intermediate Klimaatmonitor data\n",
    "# df_km_source_data = pd.read_csv(f'data/intermediate/klimaatmonitor_source_data_{year}.csv', index_col=[0])\n",
    "# df_km_meta_data = pd.read_csv(f'data/intermediate/klimaatmonitor_meta_data_{year}.csv', index_col=[0])"
   ]
  },
  {
   "cell_type": "markdown",
   "id": "959a76cb-08b2-47fd-aabb-d576bdbc5bcb",
   "metadata": {
    "tags": []
   },
   "source": [
    "##### Setup parent data"
   ]
  },
  {
   "cell_type": "code",
   "execution_count": 69,
   "id": "bba593d6-6cfa-48e5-8398-9cca7ef12a4b",
   "metadata": {
    "tags": []
   },
   "outputs": [
    {
     "data": {
      "text/html": [
       "<div>\n",
       "<style scoped>\n",
       "    .dataframe tbody tr th:only-of-type {\n",
       "        vertical-align: middle;\n",
       "    }\n",
       "\n",
       "    .dataframe tbody tr th {\n",
       "        vertical-align: top;\n",
       "    }\n",
       "\n",
       "    .dataframe thead th {\n",
       "        text-align: right;\n",
       "    }\n",
       "</style>\n",
       "<table border=\"1\" class=\"dataframe\">\n",
       "  <thead>\n",
       "    <tr style=\"text-align: right;\">\n",
       "      <th></th>\n",
       "      <th>nl</th>\n",
       "    </tr>\n",
       "  </thead>\n",
       "  <tbody>\n",
       "    <tr>\n",
       "      <th>agriculture_final_demand_electricity_demand</th>\n",
       "      <td>41584.615</td>\n",
       "    </tr>\n",
       "    <tr>\n",
       "      <th>agriculture_final_demand_network_gas_demand</th>\n",
       "      <td>91072.918</td>\n",
       "    </tr>\n",
       "    <tr>\n",
       "      <th>input_agriculture_final_demand_steam_hot_water_demand</th>\n",
       "      <td>2783.107</td>\n",
       "    </tr>\n",
       "    <tr>\n",
       "      <th>agriculture_final_demand_wood_pellets_demand</th>\n",
       "      <td>5437.224</td>\n",
       "    </tr>\n",
       "    <tr>\n",
       "      <th>input_agriculture_final_demand_crude_oil_demand</th>\n",
       "      <td>17965.442</td>\n",
       "    </tr>\n",
       "  </tbody>\n",
       "</table>\n",
       "</div>"
      ],
      "text/plain": [
       "                                                           nl\n",
       "agriculture_final_demand_electricity_demand         41584.615\n",
       "agriculture_final_demand_network_gas_demand         91072.918\n",
       "input_agriculture_final_demand_steam_hot_water_...   2783.107\n",
       "agriculture_final_demand_wood_pellets_demand         5437.224\n",
       "input_agriculture_final_demand_crude_oil_demand     17965.442"
      ]
     },
     "execution_count": 69,
     "metadata": {},
     "output_type": "execute_result"
    }
   ],
   "source": [
    "# Import parent data\n",
    "path = Path(\"data\", \"intermediate\", \"parent_data.csv\")\n",
    "df_parent = pd.read_csv(path, index_col=0)\n",
    "\n",
    "# Preview parent data\n",
    "df_parent.T.head()"
   ]
  },
  {
   "cell_type": "markdown",
   "id": "de7c79a2-75fa-4f6c-a467-72e84ae2b8bc",
   "metadata": {
    "tags": []
   },
   "source": [
    "##### What is your goal?"
   ]
  },
  {
   "cell_type": "markdown",
   "id": "a4b9a039-b8a7-4893-8ef7-d9af9246ffd2",
   "metadata": {
    "tags": []
   },
   "source": [
    "At this point, the empty template is ready to fill for all specified datasets and all relevant (config) files have been setup for use. Based on your goal, decide where to continue in the pipeline. If your aim is to fill it with all data, continue running the cells below. If you aim to fill it with specific data, search for the relevant chapter to continue."
   ]
  },
  {
   "cell_type": "markdown",
   "id": "d11aa3f6",
   "metadata": {
    "tags": [],
    "toc-hr-collapsed": true
   },
   "source": [
    "#### Energy demand\n",
    "Transform the energy demand data from Klimaatmonitor to the right format. "
   ]
  },
  {
   "cell_type": "markdown",
   "id": "3ad2c068-a79f-48b2-8e6a-187d8eb306ef",
   "metadata": {
    "tags": []
   },
   "source": [
    "##### List ETLocal keys"
   ]
  },
  {
   "cell_type": "markdown",
   "id": "33ebd0f3-4d71-4efa-b504-c1db4af3e49d",
   "metadata": {},
   "source": [
    "Preview the ETLocal keys that are relevant for the households energy demand category"
   ]
  },
  {
   "cell_type": "code",
   "execution_count": 70,
   "id": "05ee25fb-f696-4530-b237-94c76554095e",
   "metadata": {
    "tags": []
   },
   "outputs": [
    {
     "data": {
      "text/html": [
       "<div>\n",
       "<style scoped>\n",
       "    .dataframe tbody tr th:only-of-type {\n",
       "        vertical-align: middle;\n",
       "    }\n",
       "\n",
       "    .dataframe tbody tr th {\n",
       "        vertical-align: top;\n",
       "    }\n",
       "\n",
       "    .dataframe thead th {\n",
       "        text-align: right;\n",
       "    }\n",
       "</style>\n",
       "<table border=\"1\" class=\"dataframe\">\n",
       "  <thead>\n",
       "    <tr style=\"text-align: right;\">\n",
       "      <th></th>\n",
       "      <th></th>\n",
       "      <th></th>\n",
       "      <th></th>\n",
       "      <th>unit</th>\n",
       "      <th>value</th>\n",
       "      <th>commit</th>\n",
       "    </tr>\n",
       "    <tr>\n",
       "      <th>geo_id</th>\n",
       "      <th>group</th>\n",
       "      <th>subgroup</th>\n",
       "      <th>key</th>\n",
       "      <th></th>\n",
       "      <th></th>\n",
       "      <th></th>\n",
       "    </tr>\n",
       "  </thead>\n",
       "  <tbody>\n",
       "    <tr>\n",
       "      <th rowspan=\"3\" valign=\"top\">GM0003</th>\n",
       "      <th rowspan=\"3\" valign=\"top\">households</th>\n",
       "      <th rowspan=\"3\" valign=\"top\">households_energy_demand</th>\n",
       "      <th>input_percentage_of_lt_steam_hot_water_households_final_demand_steam_hot_water</th>\n",
       "      <td>%</td>\n",
       "      <td>NaN</td>\n",
       "      <td>NaN</td>\n",
       "    </tr>\n",
       "    <tr>\n",
       "      <th>input_percentage_of_mt_steam_hot_water_households_final_demand_steam_hot_water</th>\n",
       "      <td>%</td>\n",
       "      <td>NaN</td>\n",
       "      <td>NaN</td>\n",
       "    </tr>\n",
       "    <tr>\n",
       "      <th>input_percentage_of_ht_steam_hot_water_households_final_demand_steam_hot_water</th>\n",
       "      <td>%</td>\n",
       "      <td>NaN</td>\n",
       "      <td>NaN</td>\n",
       "    </tr>\n",
       "    <tr>\n",
       "      <th rowspan=\"2\" valign=\"top\">GM0010</th>\n",
       "      <th rowspan=\"2\" valign=\"top\">households</th>\n",
       "      <th rowspan=\"2\" valign=\"top\">households_energy_demand</th>\n",
       "      <th>input_percentage_of_lt_steam_hot_water_households_final_demand_steam_hot_water</th>\n",
       "      <td>%</td>\n",
       "      <td>NaN</td>\n",
       "      <td>NaN</td>\n",
       "    </tr>\n",
       "    <tr>\n",
       "      <th>input_percentage_of_mt_steam_hot_water_households_final_demand_steam_hot_water</th>\n",
       "      <td>%</td>\n",
       "      <td>NaN</td>\n",
       "      <td>NaN</td>\n",
       "    </tr>\n",
       "    <tr>\n",
       "      <th>...</th>\n",
       "      <th>...</th>\n",
       "      <th>...</th>\n",
       "      <th>...</th>\n",
       "      <td>...</td>\n",
       "      <td>...</td>\n",
       "      <td>...</td>\n",
       "    </tr>\n",
       "    <tr>\n",
       "      <th rowspan=\"2\" valign=\"top\">GM0642</th>\n",
       "      <th rowspan=\"2\" valign=\"top\">households</th>\n",
       "      <th rowspan=\"2\" valign=\"top\">households_energy_demand</th>\n",
       "      <th>input_percentage_of_mt_steam_hot_water_households_final_demand_steam_hot_water</th>\n",
       "      <td>%</td>\n",
       "      <td>NaN</td>\n",
       "      <td>NaN</td>\n",
       "    </tr>\n",
       "    <tr>\n",
       "      <th>input_percentage_of_ht_steam_hot_water_households_final_demand_steam_hot_water</th>\n",
       "      <td>%</td>\n",
       "      <td>NaN</td>\n",
       "      <td>NaN</td>\n",
       "    </tr>\n",
       "    <tr>\n",
       "      <th rowspan=\"3\" valign=\"top\">GM0193</th>\n",
       "      <th rowspan=\"3\" valign=\"top\">households</th>\n",
       "      <th rowspan=\"3\" valign=\"top\">households_energy_demand</th>\n",
       "      <th>input_percentage_of_lt_steam_hot_water_households_final_demand_steam_hot_water</th>\n",
       "      <td>%</td>\n",
       "      <td>NaN</td>\n",
       "      <td>NaN</td>\n",
       "    </tr>\n",
       "    <tr>\n",
       "      <th>input_percentage_of_mt_steam_hot_water_households_final_demand_steam_hot_water</th>\n",
       "      <td>%</td>\n",
       "      <td>NaN</td>\n",
       "      <td>NaN</td>\n",
       "    </tr>\n",
       "    <tr>\n",
       "      <th>input_percentage_of_ht_steam_hot_water_households_final_demand_steam_hot_water</th>\n",
       "      <td>%</td>\n",
       "      <td>NaN</td>\n",
       "      <td>NaN</td>\n",
       "    </tr>\n",
       "  </tbody>\n",
       "</table>\n",
       "<p>1065 rows × 3 columns</p>\n",
       "</div>"
      ],
      "text/plain": [
       "                                                                                              unit  \\\n",
       "geo_id group      subgroup                 key                                                       \n",
       "GM0003 households households_energy_demand input_percentage_of_lt_steam_hot_water_househol...    %   \n",
       "                                           input_percentage_of_mt_steam_hot_water_househol...    %   \n",
       "                                           input_percentage_of_ht_steam_hot_water_househol...    %   \n",
       "GM0010 households households_energy_demand input_percentage_of_lt_steam_hot_water_househol...    %   \n",
       "                                           input_percentage_of_mt_steam_hot_water_househol...    %   \n",
       "...                                                                                            ...   \n",
       "GM0642 households households_energy_demand input_percentage_of_mt_steam_hot_water_househol...    %   \n",
       "                                           input_percentage_of_ht_steam_hot_water_househol...    %   \n",
       "GM0193 households households_energy_demand input_percentage_of_lt_steam_hot_water_househol...    %   \n",
       "                                           input_percentage_of_mt_steam_hot_water_househol...    %   \n",
       "                                           input_percentage_of_ht_steam_hot_water_househol...    %   \n",
       "\n",
       "                                                                                               value  \\\n",
       "geo_id group      subgroup                 key                                                         \n",
       "GM0003 households households_energy_demand input_percentage_of_lt_steam_hot_water_househol...    NaN   \n",
       "                                           input_percentage_of_mt_steam_hot_water_househol...    NaN   \n",
       "                                           input_percentage_of_ht_steam_hot_water_househol...    NaN   \n",
       "GM0010 households households_energy_demand input_percentage_of_lt_steam_hot_water_househol...    NaN   \n",
       "                                           input_percentage_of_mt_steam_hot_water_househol...    NaN   \n",
       "...                                                                                              ...   \n",
       "GM0642 households households_energy_demand input_percentage_of_mt_steam_hot_water_househol...    NaN   \n",
       "                                           input_percentage_of_ht_steam_hot_water_househol...    NaN   \n",
       "GM0193 households households_energy_demand input_percentage_of_lt_steam_hot_water_househol...    NaN   \n",
       "                                           input_percentage_of_mt_steam_hot_water_househol...    NaN   \n",
       "                                           input_percentage_of_ht_steam_hot_water_househol...    NaN   \n",
       "\n",
       "                                                                                              commit  \n",
       "geo_id group      subgroup                 key                                                        \n",
       "GM0003 households households_energy_demand input_percentage_of_lt_steam_hot_water_househol...    NaN  \n",
       "                                           input_percentage_of_mt_steam_hot_water_househol...    NaN  \n",
       "                                           input_percentage_of_ht_steam_hot_water_househol...    NaN  \n",
       "GM0010 households households_energy_demand input_percentage_of_lt_steam_hot_water_househol...    NaN  \n",
       "                                           input_percentage_of_mt_steam_hot_water_househol...    NaN  \n",
       "...                                                                                              ...  \n",
       "GM0642 households households_energy_demand input_percentage_of_mt_steam_hot_water_househol...    NaN  \n",
       "                                           input_percentage_of_ht_steam_hot_water_househol...    NaN  \n",
       "GM0193 households households_energy_demand input_percentage_of_lt_steam_hot_water_househol...    NaN  \n",
       "                                           input_percentage_of_mt_steam_hot_water_househol...    NaN  \n",
       "                                           input_percentage_of_ht_steam_hot_water_househol...    NaN  \n",
       "\n",
       "[1065 rows x 3 columns]"
      ]
     },
     "execution_count": 70,
     "metadata": {},
     "output_type": "execute_result"
    }
   ],
   "source": [
    "# Filter the ETLocal keys that are relevant for the households energy demand category\n",
    "filter_households_demand = (slice(None), 'households', 'households_energy_demand')\n",
    "\n",
    "# Preview the filtered template\n",
    "template.loc[filter_households_demand, :]"
   ]
  },
  {
   "cell_type": "code",
   "execution_count": 71,
   "id": "179a3eed-2fe5-4c42-9e52-9a9fdfeaabaa",
   "metadata": {
    "tags": []
   },
   "outputs": [
    {
     "data": {
      "text/plain": [
       "['input_percentage_of_lt_steam_hot_water_households_final_demand_steam_hot_water',\n",
       " 'input_percentage_of_mt_steam_hot_water_households_final_demand_steam_hot_water',\n",
       " 'input_percentage_of_ht_steam_hot_water_households_final_demand_steam_hot_water']"
      ]
     },
     "execution_count": 71,
     "metadata": {},
     "output_type": "execute_result"
    }
   ],
   "source": [
    "# List all ETLocal keys that are relevant for the households energy demand category\n",
    "keys_households_demand = list(template.loc[filter_households_demand, :].index.get_level_values(3).unique())\n",
    "\n",
    "# Preview list\n",
    "keys_households_demand"
   ]
  },
  {
   "cell_type": "markdown",
   "id": "c538f52c-7f95-4431-b8be-aa47bae4ad1d",
   "metadata": {
    "jp-MarkdownHeadingCollapsed": true,
    "tags": []
   },
   "source": [
    "##### List Klimaatmonitor keys"
   ]
  },
  {
   "cell_type": "markdown",
   "id": "43d49fc2",
   "metadata": {
    "tags": []
   },
   "source": [
    "List the Klimaatmonitor keys that are relevant for filling our ETLocal template for the energy demand in households."
   ]
  },
  {
   "cell_type": "code",
   "execution_count": 72,
   "id": "72a73d6e",
   "metadata": {
    "tags": []
   },
   "outputs": [],
   "source": [
    "# km_keys_household_demand = []\n",
    "\n",
    "# for key in keys_households_demand:\n",
    "#     if df_etlocal_to_km[\"interface_elements\"].isin([key]).any():\n",
    "#         km_keys = df_etlocal_to_km.loc[df_etlocal_to_km[\"interface_elements\"] == key, \"klimaatmonitor_keys\"].values[0]\n",
    "#         km_key = km_keys.split(',')\n",
    "        \n",
    "#         km_keys_household_demand += km_key"
   ]
  },
  {
   "cell_type": "code",
   "execution_count": 73,
   "id": "09ac0c39-01c8-4695-8c5f-423d610d804d",
   "metadata": {
    "tags": []
   },
   "outputs": [],
   "source": [
    "# # Preview\n",
    "# km_keys_household_demand"
   ]
  },
  {
   "cell_type": "markdown",
   "id": "5c3481b6",
   "metadata": {
    "jp-MarkdownHeadingCollapsed": true,
    "tags": []
   },
   "source": [
    "##### Extract relevant data from Klimaatmonitor"
   ]
  },
  {
   "cell_type": "markdown",
   "id": "90149131-64cf-40ae-886b-471a6db87101",
   "metadata": {},
   "source": [
    "For each key that is relevant for section energy demand in households"
   ]
  },
  {
   "cell_type": "code",
   "execution_count": 74,
   "id": "65f7e836",
   "metadata": {
    "tags": []
   },
   "outputs": [],
   "source": [
    "# # Transform Klimaatmonitor data to the right format and fill the data frame\n",
    "# input_data_households_demand = transformer.filter_km_data(km_keys_household_demand, df_km_source_data, df_km_meta_data)\n",
    "\n",
    "# # Preview\n",
    "# input_data_households_demand.head(len(km_keys_household_demand))"
   ]
  },
  {
   "cell_type": "markdown",
   "id": "945dce58",
   "metadata": {
    "jp-MarkdownHeadingCollapsed": true,
    "tags": []
   },
   "source": [
    "##### Transform source units to target units"
   ]
  },
  {
   "cell_type": "markdown",
   "id": "46686935-f3b0-4825-bf68-ca73c3bdd896",
   "metadata": {},
   "source": [
    "Some values are specified in GJ. We need to convert this to TJ."
   ]
  },
  {
   "cell_type": "code",
   "execution_count": 75,
   "id": "78fa9d3f-c777-4afa-b2b7-af759da54517",
   "metadata": {
    "tags": []
   },
   "outputs": [],
   "source": [
    "# # Transform all GJ rows to TJ rows\n",
    "\n",
    "# source_unit = \"GJ\"\n",
    "# target_unit = \"TJ\"\n",
    "\n",
    "# source_to_target = f\"{source_unit.lower()}_to_{target_unit.lower()}\"\n",
    "# source_to_target_conversion = transformer.constants[source_to_target]\n",
    "\n",
    "# input_data_households_demand.loc[input_data_households_demand[\"unit\"] == source_unit, \"value\"] *= source_to_target_conversion\n",
    "# input_data_households_demand.loc[input_data_households_demand[\"unit\"] == source_unit, \"unit\"] = target_unit"
   ]
  },
  {
   "cell_type": "markdown",
   "id": "1147eb2c-fe47-462f-8af7-888e425d3743",
   "metadata": {},
   "source": [
    "The gas demand values are specified in mln m3. We need to convert this to TJ by using the lower heating value (LHV)."
   ]
  },
  {
   "cell_type": "code",
   "execution_count": 76,
   "id": "5b31be05",
   "metadata": {
    "tags": []
   },
   "outputs": [],
   "source": [
    "# # Transform all miljoen m3 rows to TJ rows\n",
    "\n",
    "# source_unit = \"miljoen m3\"\n",
    "# target_unit = \"TJ\"\n",
    "# source_to_target = \"m3_to_mj\" # miljoen m3 to TJ is the same as m3 to mj\n",
    "\n",
    "# source_to_target_conversion = transformer.constants[source_to_target]\n",
    "\n",
    "# input_data_households_demand.loc[input_data_households_demand[\"unit\"] == source_unit, \"value\"] *= source_to_target_conversion\n",
    "# input_data_households_demand.loc[input_data_households_demand[\"unit\"] == source_unit, \"unit\"] = target_unit"
   ]
  },
  {
   "cell_type": "code",
   "execution_count": 77,
   "id": "eced78ed-9485-4533-993f-a62de66bd80b",
   "metadata": {
    "tags": []
   },
   "outputs": [],
   "source": [
    "# # Preview\n",
    "# input_data_households_demand.head(len(km_keys_household_demand))"
   ]
  },
  {
   "cell_type": "markdown",
   "id": "72905c6d",
   "metadata": {
    "jp-MarkdownHeadingCollapsed": true,
    "tags": []
   },
   "source": [
    "##### Load Klimaatmonitor data in ETLocal template"
   ]
  },
  {
   "cell_type": "markdown",
   "id": "30ccc99e-b003-4a42-bc41-ad9920e2c7e6",
   "metadata": {},
   "source": [
    "For all municipalities, fill the ETLocal template with the relevant Klimaatmonitor data"
   ]
  },
  {
   "cell_type": "code",
   "execution_count": 78,
   "id": "bd1d3ead",
   "metadata": {
    "tags": []
   },
   "outputs": [],
   "source": [
    "# # Load relevant Klimaatmonitor data into template\n",
    "# template = transformer.load_km_data(input_data_households_demand, df_etlocal_to_km, template, keys_households_demand)"
   ]
  },
  {
   "cell_type": "code",
   "execution_count": 79,
   "id": "258ed313-0001-40bd-ab6a-a786db74d88c",
   "metadata": {
    "tags": []
   },
   "outputs": [],
   "source": [
    "# # Preview template (filtered for the households energy demand keys)\n",
    "# template.loc[filter_households_demand, :]"
   ]
  },
  {
   "cell_type": "markdown",
   "id": "7d634d2b-3e90-4a81-a8fa-2ec15ce8bc93",
   "metadata": {
    "tags": []
   },
   "source": [
    "##### Fill missing data and create fallback values"
   ]
  },
  {
   "cell_type": "markdown",
   "id": "1f6db9f8-ab64-4dc3-8d8b-d16ffe43cfd2",
   "metadata": {},
   "source": [
    "Now, create fallback values for the keys for which no data is available on Klimaatmonitor."
   ]
  },
  {
   "cell_type": "markdown",
   "id": "c053162e-0eb4-40ad-a09c-94f5599d9353",
   "metadata": {
    "tags": []
   },
   "source": [
    "**Oil mix** | There is no public data available about the oil mix in households. Hence, we assume that all oil is crude oil."
   ]
  },
  {
   "cell_type": "code",
   "execution_count": 80,
   "id": "62447e87-a4ae-4172-b3ff-b4ef6910c9d4",
   "metadata": {
    "tags": []
   },
   "outputs": [],
   "source": [
    "# # TODO: retrieve share_groups from ETLocal in df_etlocal, possibly including the flexible share and automatically set fallback\n",
    "\n",
    "# # Define interface element for which the fallback value should be created\n",
    "# interface_element = 'input_percentage_of_crude_oil_households_final_demand_crude_oil'\n",
    "\n",
    "# # Set fallback value to 1.0 and update corresponding commit message\n",
    "# template.loc[(slice(None), slice(None), slice(None), interface_element), 'value'] = 1.0\n",
    "# template.loc[(slice(None), slice(None), slice(None), interface_element), 'commit'] = \"No data available on Klimaatmonitor. Fallback value set to 1.0 to ensure share totals sum to 1.0.\""
   ]
  },
  {
   "cell_type": "markdown",
   "id": "5ad030f0-1749-4488-9acf-63a0c14d5213",
   "metadata": {
    "tags": []
   },
   "source": [
    "**Temperature levels of district heating networks** | Klimaatmonitor doesn't provide any data about the demand of district heating networks per temperature level. Hence, we assume that all residential district heating networks require MT heat."
   ]
  },
  {
   "cell_type": "code",
   "execution_count": 81,
   "id": "b4557bb1-ad05-4a2e-aff3-7859afe1805e",
   "metadata": {
    "tags": []
   },
   "outputs": [],
   "source": [
    "# TODO: we could also use the parent data shares instead?\n",
    "for temperature_level in ['lt', 'mt', 'ht']:\n",
    "    key = f'input_percentage_of_{temperature_level}_steam_hot_water_households_final_demand_steam_hot_water'\n",
    "    \n",
    "    val = 0.\n",
    "    \n",
    "    if temperature_level == 'ht':\n",
    "        val = 1.\n",
    "    \n",
    "    # Update value and corresponding commit message for the temperature level share\n",
    "    template.loc[(slice(None), slice(None), slice(None), key), 'value'] = val\n",
    "    template.loc[(slice(None), slice(None), slice(None), key), 'commit'] = f\"No data available. Fallback value set to {val} to ensure share totals sum to 1.\""
   ]
  },
  {
   "cell_type": "markdown",
   "id": "84a81616",
   "metadata": {
    "tags": []
   },
   "source": [
    "For all ETLocal keys (or interface elements) that still have a Nan value, we assume there is no relevant data available on Klimaatmonitor. Hence, we set these values to zero."
   ]
  },
  {
   "cell_type": "code",
   "execution_count": 82,
   "id": "7b9d9475-f79e-4398-9141-dc394baea188",
   "metadata": {
    "tags": []
   },
   "outputs": [],
   "source": [
    "# Set NaN values to zero\n",
    "template.loc[filter_households_demand, 'value'] = template.loc[filter_households_demand, 'value'].fillna(0)\n",
    "\n",
    "# Add corresponding commit message\n",
    "template.loc[filter_households_demand, 'commit'] = template.loc[filter_households_demand, 'commit'].fillna(\"No data available on Klimaatmonitor. Set to 0.0.\")"
   ]
  },
  {
   "cell_type": "code",
   "execution_count": 83,
   "id": "412db1c6-f3c5-42ee-8e01-8304649db177",
   "metadata": {
    "tags": []
   },
   "outputs": [
    {
     "data": {
      "text/html": [
       "<div>\n",
       "<style scoped>\n",
       "    .dataframe tbody tr th:only-of-type {\n",
       "        vertical-align: middle;\n",
       "    }\n",
       "\n",
       "    .dataframe tbody tr th {\n",
       "        vertical-align: top;\n",
       "    }\n",
       "\n",
       "    .dataframe thead th {\n",
       "        text-align: right;\n",
       "    }\n",
       "</style>\n",
       "<table border=\"1\" class=\"dataframe\">\n",
       "  <thead>\n",
       "    <tr style=\"text-align: right;\">\n",
       "      <th></th>\n",
       "      <th></th>\n",
       "      <th></th>\n",
       "      <th></th>\n",
       "      <th>unit</th>\n",
       "      <th>value</th>\n",
       "      <th>commit</th>\n",
       "    </tr>\n",
       "    <tr>\n",
       "      <th>geo_id</th>\n",
       "      <th>group</th>\n",
       "      <th>subgroup</th>\n",
       "      <th>key</th>\n",
       "      <th></th>\n",
       "      <th></th>\n",
       "      <th></th>\n",
       "    </tr>\n",
       "  </thead>\n",
       "  <tbody>\n",
       "    <tr>\n",
       "      <th rowspan=\"3\" valign=\"top\">GM0003</th>\n",
       "      <th rowspan=\"3\" valign=\"top\">households</th>\n",
       "      <th rowspan=\"3\" valign=\"top\">households_energy_demand</th>\n",
       "      <th>input_percentage_of_lt_steam_hot_water_households_final_demand_steam_hot_water</th>\n",
       "      <td>%</td>\n",
       "      <td>0.0</td>\n",
       "      <td>No data available. Fallback value set to 0.0 t...</td>\n",
       "    </tr>\n",
       "    <tr>\n",
       "      <th>input_percentage_of_mt_steam_hot_water_households_final_demand_steam_hot_water</th>\n",
       "      <td>%</td>\n",
       "      <td>0.0</td>\n",
       "      <td>No data available. Fallback value set to 0.0 t...</td>\n",
       "    </tr>\n",
       "    <tr>\n",
       "      <th>input_percentage_of_ht_steam_hot_water_households_final_demand_steam_hot_water</th>\n",
       "      <td>%</td>\n",
       "      <td>1.0</td>\n",
       "      <td>No data available. Fallback value set to 1.0 t...</td>\n",
       "    </tr>\n",
       "    <tr>\n",
       "      <th rowspan=\"2\" valign=\"top\">GM0010</th>\n",
       "      <th rowspan=\"2\" valign=\"top\">households</th>\n",
       "      <th rowspan=\"2\" valign=\"top\">households_energy_demand</th>\n",
       "      <th>input_percentage_of_lt_steam_hot_water_households_final_demand_steam_hot_water</th>\n",
       "      <td>%</td>\n",
       "      <td>0.0</td>\n",
       "      <td>No data available. Fallback value set to 0.0 t...</td>\n",
       "    </tr>\n",
       "    <tr>\n",
       "      <th>input_percentage_of_mt_steam_hot_water_households_final_demand_steam_hot_water</th>\n",
       "      <td>%</td>\n",
       "      <td>0.0</td>\n",
       "      <td>No data available. Fallback value set to 0.0 t...</td>\n",
       "    </tr>\n",
       "    <tr>\n",
       "      <th>...</th>\n",
       "      <th>...</th>\n",
       "      <th>...</th>\n",
       "      <th>...</th>\n",
       "      <td>...</td>\n",
       "      <td>...</td>\n",
       "      <td>...</td>\n",
       "    </tr>\n",
       "    <tr>\n",
       "      <th rowspan=\"2\" valign=\"top\">GM0642</th>\n",
       "      <th rowspan=\"2\" valign=\"top\">households</th>\n",
       "      <th rowspan=\"2\" valign=\"top\">households_energy_demand</th>\n",
       "      <th>input_percentage_of_mt_steam_hot_water_households_final_demand_steam_hot_water</th>\n",
       "      <td>%</td>\n",
       "      <td>0.0</td>\n",
       "      <td>No data available. Fallback value set to 0.0 t...</td>\n",
       "    </tr>\n",
       "    <tr>\n",
       "      <th>input_percentage_of_ht_steam_hot_water_households_final_demand_steam_hot_water</th>\n",
       "      <td>%</td>\n",
       "      <td>1.0</td>\n",
       "      <td>No data available. Fallback value set to 1.0 t...</td>\n",
       "    </tr>\n",
       "    <tr>\n",
       "      <th rowspan=\"3\" valign=\"top\">GM0193</th>\n",
       "      <th rowspan=\"3\" valign=\"top\">households</th>\n",
       "      <th rowspan=\"3\" valign=\"top\">households_energy_demand</th>\n",
       "      <th>input_percentage_of_lt_steam_hot_water_households_final_demand_steam_hot_water</th>\n",
       "      <td>%</td>\n",
       "      <td>0.0</td>\n",
       "      <td>No data available. Fallback value set to 0.0 t...</td>\n",
       "    </tr>\n",
       "    <tr>\n",
       "      <th>input_percentage_of_mt_steam_hot_water_households_final_demand_steam_hot_water</th>\n",
       "      <td>%</td>\n",
       "      <td>0.0</td>\n",
       "      <td>No data available. Fallback value set to 0.0 t...</td>\n",
       "    </tr>\n",
       "    <tr>\n",
       "      <th>input_percentage_of_ht_steam_hot_water_households_final_demand_steam_hot_water</th>\n",
       "      <td>%</td>\n",
       "      <td>1.0</td>\n",
       "      <td>No data available. Fallback value set to 1.0 t...</td>\n",
       "    </tr>\n",
       "  </tbody>\n",
       "</table>\n",
       "<p>1065 rows × 3 columns</p>\n",
       "</div>"
      ],
      "text/plain": [
       "                                                                                              unit  \\\n",
       "geo_id group      subgroup                 key                                                       \n",
       "GM0003 households households_energy_demand input_percentage_of_lt_steam_hot_water_househol...    %   \n",
       "                                           input_percentage_of_mt_steam_hot_water_househol...    %   \n",
       "                                           input_percentage_of_ht_steam_hot_water_househol...    %   \n",
       "GM0010 households households_energy_demand input_percentage_of_lt_steam_hot_water_househol...    %   \n",
       "                                           input_percentage_of_mt_steam_hot_water_househol...    %   \n",
       "...                                                                                            ...   \n",
       "GM0642 households households_energy_demand input_percentage_of_mt_steam_hot_water_househol...    %   \n",
       "                                           input_percentage_of_ht_steam_hot_water_househol...    %   \n",
       "GM0193 households households_energy_demand input_percentage_of_lt_steam_hot_water_househol...    %   \n",
       "                                           input_percentage_of_mt_steam_hot_water_househol...    %   \n",
       "                                           input_percentage_of_ht_steam_hot_water_househol...    %   \n",
       "\n",
       "                                                                                               value  \\\n",
       "geo_id group      subgroup                 key                                                         \n",
       "GM0003 households households_energy_demand input_percentage_of_lt_steam_hot_water_househol...    0.0   \n",
       "                                           input_percentage_of_mt_steam_hot_water_househol...    0.0   \n",
       "                                           input_percentage_of_ht_steam_hot_water_househol...    1.0   \n",
       "GM0010 households households_energy_demand input_percentage_of_lt_steam_hot_water_househol...    0.0   \n",
       "                                           input_percentage_of_mt_steam_hot_water_househol...    0.0   \n",
       "...                                                                                              ...   \n",
       "GM0642 households households_energy_demand input_percentage_of_mt_steam_hot_water_househol...    0.0   \n",
       "                                           input_percentage_of_ht_steam_hot_water_househol...    1.0   \n",
       "GM0193 households households_energy_demand input_percentage_of_lt_steam_hot_water_househol...    0.0   \n",
       "                                           input_percentage_of_mt_steam_hot_water_househol...    0.0   \n",
       "                                           input_percentage_of_ht_steam_hot_water_househol...    1.0   \n",
       "\n",
       "                                                                                                                                          commit  \n",
       "geo_id group      subgroup                 key                                                                                                    \n",
       "GM0003 households households_energy_demand input_percentage_of_lt_steam_hot_water_househol...  No data available. Fallback value set to 0.0 t...  \n",
       "                                           input_percentage_of_mt_steam_hot_water_househol...  No data available. Fallback value set to 0.0 t...  \n",
       "                                           input_percentage_of_ht_steam_hot_water_househol...  No data available. Fallback value set to 1.0 t...  \n",
       "GM0010 households households_energy_demand input_percentage_of_lt_steam_hot_water_househol...  No data available. Fallback value set to 0.0 t...  \n",
       "                                           input_percentage_of_mt_steam_hot_water_househol...  No data available. Fallback value set to 0.0 t...  \n",
       "...                                                                                                                                          ...  \n",
       "GM0642 households households_energy_demand input_percentage_of_mt_steam_hot_water_househol...  No data available. Fallback value set to 0.0 t...  \n",
       "                                           input_percentage_of_ht_steam_hot_water_househol...  No data available. Fallback value set to 1.0 t...  \n",
       "GM0193 households households_energy_demand input_percentage_of_lt_steam_hot_water_househol...  No data available. Fallback value set to 0.0 t...  \n",
       "                                           input_percentage_of_mt_steam_hot_water_househol...  No data available. Fallback value set to 0.0 t...  \n",
       "                                           input_percentage_of_ht_steam_hot_water_househol...  No data available. Fallback value set to 1.0 t...  \n",
       "\n",
       "[1065 rows x 3 columns]"
      ]
     },
     "execution_count": 83,
     "metadata": {},
     "output_type": "execute_result"
    }
   ],
   "source": [
    "# Preview filtered template\n",
    "template.loc[filter_households_demand, :]"
   ]
  },
  {
   "cell_type": "markdown",
   "id": "2c5fc849",
   "metadata": {
    "jp-MarkdownHeadingCollapsed": true,
    "tags": [],
    "toc-hr-collapsed": true
   },
   "source": [
    "#### Energy supply\n",
    "Transform the energy supply data from Klimaatmonitor to the right format."
   ]
  },
  {
   "cell_type": "markdown",
   "id": "31e50275-9ef2-4e35-8217-3cd3df9dab23",
   "metadata": {
    "jp-MarkdownHeadingCollapsed": true,
    "tags": []
   },
   "source": [
    "##### **SETUP** | List ETLocal and Klimaatmonitor keys"
   ]
  },
  {
   "cell_type": "markdown",
   "id": "d42ad77f-6134-4623-b40e-e8f773aacccf",
   "metadata": {},
   "source": [
    "Preview the ETLocal keys that are relevant for the households energy supply category"
   ]
  },
  {
   "cell_type": "code",
   "execution_count": 84,
   "id": "ddd2d13c-62f3-432c-b9ff-60e0327a6f21",
   "metadata": {
    "tags": []
   },
   "outputs": [],
   "source": [
    "# # Filter the ETLocal keys that are relevant for the households energy demand category\n",
    "# filter_households_supply = (slice(None), 'households', 'households_energy_supply')\n",
    "\n",
    "# # Preview the filtered template\n",
    "# template.loc[filter_households_supply, :].head()"
   ]
  },
  {
   "cell_type": "code",
   "execution_count": 85,
   "id": "64da6008-0fd3-4d7c-8b64-8f4195ba38a1",
   "metadata": {
    "tags": []
   },
   "outputs": [],
   "source": [
    "# # List all ETLocal keys that are relevant for the households energy supply category\n",
    "# keys_households_supply = list(template.loc[filter_households_supply, :].index.get_level_values(3).unique())\n",
    "\n",
    "# # Preview list\n",
    "# keys_households_supply"
   ]
  },
  {
   "cell_type": "markdown",
   "id": "94ce616d-98ce-47a7-81ac-1acc35ee0c6a",
   "metadata": {
    "tags": []
   },
   "source": [
    "List the Klimaatmonitor keys that are relevant for filling our ETLocal template for the energy supply in households"
   ]
  },
  {
   "cell_type": "code",
   "execution_count": 86,
   "id": "3345004b-35b2-49ba-b79c-a4a9e640042a",
   "metadata": {
    "tags": []
   },
   "outputs": [],
   "source": [
    "# km_keys_household_supply = []\n",
    "\n",
    "# for key in keys_households_supply:\n",
    "#     if df_etlocal_to_km[\"interface_elements\"].isin([key]).any():\n",
    "#         km_keys = df_etlocal_to_km.loc[df_etlocal_to_km[\"interface_elements\"] == key, \"klimaatmonitor_keys\"].values[0]\n",
    "#         km_key = km_keys.split(',')\n",
    "        \n",
    "#         km_keys_household_supply += km_key"
   ]
  },
  {
   "cell_type": "code",
   "execution_count": 87,
   "id": "666a8a6f-d731-42d4-85fb-e5bb570e1cd1",
   "metadata": {
    "tags": []
   },
   "outputs": [],
   "source": [
    "# # Preview Klimaatmonitor keys relevant for energy supply in households\n",
    "# km_keys_household_supply"
   ]
  },
  {
   "cell_type": "markdown",
   "id": "025bb382-0f5e-4385-9929-efd4c93b86e1",
   "metadata": {
    "jp-MarkdownHeadingCollapsed": true,
    "tags": []
   },
   "source": [
    "##### **EDIT** | Extract data from Klimaatmonitor"
   ]
  },
  {
   "cell_type": "markdown",
   "id": "dc5eec92-cb17-4ae3-96e6-0e3b3c183551",
   "metadata": {
    "tags": []
   },
   "source": [
    "For each key that is relevant for section energy supply in households"
   ]
  },
  {
   "cell_type": "code",
   "execution_count": 88,
   "id": "1d8a306b-71f7-4d99-b0a7-c53d7c8de369",
   "metadata": {
    "tags": []
   },
   "outputs": [],
   "source": [
    "# # Transform Klimaatmonitor data to the right format and fill the data frame\n",
    "# input_data_households_supply = transformer.filter_km_data(km_keys_household_supply, df_km_source_data, df_km_meta_data)\n",
    "\n",
    "# # Preview\n",
    "# input_data_households_supply.head(len(km_keys_household_supply))"
   ]
  },
  {
   "cell_type": "markdown",
   "id": "b15eda98-7d06-4f98-ad49-382816d6571f",
   "metadata": {
    "jp-MarkdownHeadingCollapsed": true,
    "tags": []
   },
   "source": [
    "##### **COMBINE** | Load Klimaatmonitor data in ETLocal template, fill missing data and create fallback values"
   ]
  },
  {
   "cell_type": "markdown",
   "id": "ec5978d7-5fae-4762-9ba7-5c74189ad173",
   "metadata": {},
   "source": [
    "For all municipalities, fill the ETLocal template with the relevant Klimaatmonitor data"
   ]
  },
  {
   "cell_type": "code",
   "execution_count": 89,
   "id": "76a6aa4d-7ade-4c5d-a2a2-64f509385912",
   "metadata": {
    "tags": []
   },
   "outputs": [],
   "source": [
    "# # Load relevant Klimaatmonitor data into template\n",
    "# template = transformer.load_km_data(input_data_households_supply, df_etlocal_to_km, template, keys_households_supply)"
   ]
  },
  {
   "cell_type": "code",
   "execution_count": 90,
   "id": "69155ac9-b559-4c06-8495-c32bfd9e8820",
   "metadata": {
    "tags": []
   },
   "outputs": [],
   "source": [
    "# # Preview template (filtered for the households energy demand keys)\n",
    "# template.loc[filter_households_supply, :].head()"
   ]
  },
  {
   "cell_type": "markdown",
   "id": "08860c4a-b45c-473f-9c1e-e573f66a5d21",
   "metadata": {
    "tags": []
   },
   "source": [
    "For all ETLocal keys (or interface elements) that still have a Nan value, we assume there is no relevant data available on Klimaatmonitor. Hence, we set these values to zero."
   ]
  },
  {
   "cell_type": "code",
   "execution_count": 91,
   "id": "f540f76b-9a71-4149-8098-024003024d08",
   "metadata": {
    "tags": []
   },
   "outputs": [],
   "source": [
    "# # Set NaN values to zero\n",
    "# template.loc[filter_households_supply, 'value'] = template.loc[filter_households_supply, 'value'].fillna(0)\n",
    "\n",
    "# # Add corresponding commit message\n",
    "# template.loc[filter_households_supply, 'commit'] = template.loc[filter_households_supply, 'commit'].fillna(\"No data available on Klimaatmonitor. Set to 0.0.\")\n",
    "\n",
    "# # Preview filtered template\n",
    "# template.loc[filter_households_supply, :]"
   ]
  },
  {
   "cell_type": "code",
   "execution_count": 92,
   "id": "d75365f9-a748-48bd-9383-912c88c5f744",
   "metadata": {
    "tags": []
   },
   "outputs": [],
   "source": [
    "# # Set NaN values to zero\n",
    "# template.loc[filter_households_supply, 'value'] = template.loc[filter_households_supply, 'value'].fillna(0)\n",
    "\n",
    "# # Add corresponding commit message\n",
    "# template.loc[filter_households_supply, 'commit'] = template.loc[filter_households_supply, 'commit'].fillna(\"No data available on Klimaatmonitor. Set to 0.0.\")\n",
    "\n",
    "# # Preview filtered template\n",
    "# template.loc[filter_households_supply, :].head()"
   ]
  },
  {
   "cell_type": "markdown",
   "id": "aec54404",
   "metadata": {
    "jp-MarkdownHeadingCollapsed": true,
    "tags": [],
    "toc-hr-collapsed": true
   },
   "source": [
    "#### Housing stock\n",
    "Transform the housing stock data from Klimaatmonitor to the right format."
   ]
  },
  {
   "cell_type": "markdown",
   "id": "a68a950b-fd92-46c2-815e-b0866780d2f8",
   "metadata": {
    "tags": []
   },
   "source": [
    "##### **SETUP** | List ETLocal keys\n",
    "Preview the ETLocal keys that are relevant for the housing stock category"
   ]
  },
  {
   "cell_type": "code",
   "execution_count": 93,
   "id": "e4ef03fc-02a7-430e-bfb9-79fb7b836c93",
   "metadata": {
    "tags": []
   },
   "outputs": [
    {
     "data": {
      "text/html": [
       "<div>\n",
       "<style scoped>\n",
       "    .dataframe tbody tr th:only-of-type {\n",
       "        vertical-align: middle;\n",
       "    }\n",
       "\n",
       "    .dataframe tbody tr th {\n",
       "        vertical-align: top;\n",
       "    }\n",
       "\n",
       "    .dataframe thead th {\n",
       "        text-align: right;\n",
       "    }\n",
       "</style>\n",
       "<table border=\"1\" class=\"dataframe\">\n",
       "  <thead>\n",
       "    <tr style=\"text-align: right;\">\n",
       "      <th></th>\n",
       "      <th></th>\n",
       "      <th></th>\n",
       "      <th></th>\n",
       "      <th>unit</th>\n",
       "      <th>value</th>\n",
       "      <th>commit</th>\n",
       "    </tr>\n",
       "    <tr>\n",
       "      <th>geo_id</th>\n",
       "      <th>group</th>\n",
       "      <th>subgroup</th>\n",
       "      <th>key</th>\n",
       "      <th></th>\n",
       "      <th></th>\n",
       "      <th></th>\n",
       "    </tr>\n",
       "  </thead>\n",
       "  <tbody>\n",
       "    <tr>\n",
       "      <th rowspan=\"5\" valign=\"top\">GM0003</th>\n",
       "      <th rowspan=\"5\" valign=\"top\">households</th>\n",
       "      <th rowspan=\"5\" valign=\"top\">households_housing_stock</th>\n",
       "      <th>households_number_of_apartments_2005</th>\n",
       "      <td>#</td>\n",
       "      <td>NaN</td>\n",
       "      <td>NaN</td>\n",
       "    </tr>\n",
       "    <tr>\n",
       "      <th>households_number_of_apartments_1985_2004</th>\n",
       "      <td>#</td>\n",
       "      <td>NaN</td>\n",
       "      <td>NaN</td>\n",
       "    </tr>\n",
       "    <tr>\n",
       "      <th>households_number_of_apartments_1965_1984</th>\n",
       "      <td>#</td>\n",
       "      <td>NaN</td>\n",
       "      <td>NaN</td>\n",
       "    </tr>\n",
       "    <tr>\n",
       "      <th>households_number_of_apartments_1945_1964</th>\n",
       "      <td>#</td>\n",
       "      <td>NaN</td>\n",
       "      <td>NaN</td>\n",
       "    </tr>\n",
       "    <tr>\n",
       "      <th>households_number_of_apartments_1945</th>\n",
       "      <td>#</td>\n",
       "      <td>NaN</td>\n",
       "      <td>NaN</td>\n",
       "    </tr>\n",
       "  </tbody>\n",
       "</table>\n",
       "</div>"
      ],
      "text/plain": [
       "                                                                                     unit  \\\n",
       "geo_id group      subgroup                 key                                              \n",
       "GM0003 households households_housing_stock households_number_of_apartments_2005         #   \n",
       "                                           households_number_of_apartments_1985_2004    #   \n",
       "                                           households_number_of_apartments_1965_1984    #   \n",
       "                                           households_number_of_apartments_1945_1964    #   \n",
       "                                           households_number_of_apartments_1945         #   \n",
       "\n",
       "                                                                                      value  \\\n",
       "geo_id group      subgroup                 key                                                \n",
       "GM0003 households households_housing_stock households_number_of_apartments_2005         NaN   \n",
       "                                           households_number_of_apartments_1985_2004    NaN   \n",
       "                                           households_number_of_apartments_1965_1984    NaN   \n",
       "                                           households_number_of_apartments_1945_1964    NaN   \n",
       "                                           households_number_of_apartments_1945         NaN   \n",
       "\n",
       "                                                                                     commit  \n",
       "geo_id group      subgroup                 key                                               \n",
       "GM0003 households households_housing_stock households_number_of_apartments_2005         NaN  \n",
       "                                           households_number_of_apartments_1985_2004    NaN  \n",
       "                                           households_number_of_apartments_1965_1984    NaN  \n",
       "                                           households_number_of_apartments_1945_1964    NaN  \n",
       "                                           households_number_of_apartments_1945         NaN  "
      ]
     },
     "execution_count": 93,
     "metadata": {},
     "output_type": "execute_result"
    }
   ],
   "source": [
    "# Filter the ETLocal keys that are relevant for the housing stock category\n",
    "filter_housing_stock = (slice(None), 'households', 'households_housing_stock')\n",
    "\n",
    "# Preview the filtered template\n",
    "template.loc[filter_housing_stock, :].head()"
   ]
  },
  {
   "cell_type": "code",
   "execution_count": 94,
   "id": "1ed9df33-abd4-47b3-b570-aeb105045172",
   "metadata": {
    "tags": []
   },
   "outputs": [
    {
     "data": {
      "text/plain": [
       "['households_number_of_apartments_2005',\n",
       " 'households_number_of_apartments_1985_2004',\n",
       " 'households_number_of_apartments_1965_1984',\n",
       " 'households_number_of_apartments_1945_1964',\n",
       " 'households_number_of_apartments_1945',\n",
       " 'households_number_of_terraced_2005',\n",
       " 'households_number_of_terraced_1985_2004',\n",
       " 'households_number_of_terraced_1965_1984',\n",
       " 'households_number_of_terraced_1945_1964',\n",
       " 'households_number_of_terraced_1945',\n",
       " 'households_number_of_semi_detached_2005',\n",
       " 'households_number_of_semi_detached_1985_2004',\n",
       " 'households_number_of_semi_detached_1965_1984',\n",
       " 'households_number_of_semi_detached_1945_1964',\n",
       " 'households_number_of_semi_detached_1945',\n",
       " 'households_number_of_detached_2005',\n",
       " 'households_number_of_detached_1985_2004',\n",
       " 'households_number_of_detached_1965_1984',\n",
       " 'households_number_of_detached_1945_1964',\n",
       " 'households_number_of_detached_1945']"
      ]
     },
     "execution_count": 94,
     "metadata": {},
     "output_type": "execute_result"
    }
   ],
   "source": [
    "# List all ETLocal keys that are relevant for the housing stock category\n",
    "keys_housing_stock = list(template.loc[filter_housing_stock, :].index.get_level_values(3).unique())\n",
    "\n",
    "# Preview list\n",
    "keys_housing_stock"
   ]
  },
  {
   "cell_type": "markdown",
   "id": "54c68b4a-c1c2-4aee-9a9c-9d177be39176",
   "metadata": {
    "jp-MarkdownHeadingCollapsed": true,
    "tags": []
   },
   "source": [
    "##### **SETUP** | List Klimaatmonitor keys\n",
    "\n",
    "List the Klimaatmonitor keys that are relevant for filling our ETLocal template for the energy supply in households"
   ]
  },
  {
   "cell_type": "code",
   "execution_count": 95,
   "id": "68b9090f-b19d-4e0e-91df-cf4e01e7b9fe",
   "metadata": {
    "tags": []
   },
   "outputs": [],
   "source": [
    "# km_keys_housing_stock = []\n",
    "\n",
    "# for key in keys_housing_stock:\n",
    "#     if df_etlocal_to_km[\"interface_elements\"].isin([key]).any():\n",
    "#         km_keys = df_etlocal_to_km.loc[df_etlocal_to_km[\"interface_elements\"] == key, \"klimaatmonitor_keys\"].values[0]\n",
    "#         km_key = km_keys.split(',')\n",
    "        \n",
    "#         km_keys_housing_stock += km_key"
   ]
  },
  {
   "cell_type": "code",
   "execution_count": 96,
   "id": "b0a61dfc-1dd6-453c-b1f7-fd137b35cc17",
   "metadata": {
    "tags": []
   },
   "outputs": [],
   "source": [
    "# # Preview Klimaatmonitor keys relevant for energy supply in households\n",
    "# km_keys_housing_stock"
   ]
  },
  {
   "cell_type": "markdown",
   "id": "7cab027d-6173-4a93-891b-87380e5eaeaa",
   "metadata": {
    "jp-MarkdownHeadingCollapsed": true,
    "tags": []
   },
   "source": [
    "##### **EDIT** | Extract data from Klimaatmonitor\n",
    "\n",
    "For each key that is relevant for the housing stock category"
   ]
  },
  {
   "cell_type": "code",
   "execution_count": 97,
   "id": "7b09446d-e46b-4b27-a935-c1b9da7b3ccb",
   "metadata": {
    "tags": []
   },
   "outputs": [],
   "source": [
    "# # Transform Klimaatmonitor data to the right format and fill the data frame\n",
    "# input_data_housing_stock = transformer.filter_km_data(km_keys_housing_stock, df_km_source_data, df_km_meta_data)\n",
    "\n",
    "# # Preview\n",
    "# input_data_housing_stock.head(len(km_keys_housing_stock))"
   ]
  },
  {
   "cell_type": "markdown",
   "id": "ec4a3aee-3036-4a78-a0e5-2fb2b10d6c70",
   "metadata": {
    "jp-MarkdownHeadingCollapsed": true,
    "tags": []
   },
   "source": [
    "##### **COMBINE** | Load Klimaatmonitor data in ETLocal template\n",
    "\n",
    "For all municipalities, fill the ETLocal template with the relevant Klimaatmonitor data"
   ]
  },
  {
   "cell_type": "code",
   "execution_count": 98,
   "id": "3de69c64-35eb-4320-b409-a7a976aa9ac7",
   "metadata": {
    "tags": []
   },
   "outputs": [],
   "source": [
    "# # Load relevant Klimaatmonitor data into template\n",
    "# template = transformer.load_km_data(input_data_housing_stock, df_etlocal_to_km, template, keys_housing_stock)"
   ]
  },
  {
   "cell_type": "code",
   "execution_count": 99,
   "id": "834ee4da-a6b3-498e-953b-7daa818f3a11",
   "metadata": {
    "tags": []
   },
   "outputs": [],
   "source": [
    "# # Preview template (filtered for the households energy demand keys)\n",
    "# template.loc[filter_housing_stock, :].head()"
   ]
  },
  {
   "cell_type": "code",
   "execution_count": 100,
   "id": "598d4d14",
   "metadata": {
    "tags": []
   },
   "outputs": [],
   "source": [
    "# TODO add additional data source for households_housing_stock"
   ]
  },
  {
   "cell_type": "markdown",
   "id": "7668d365",
   "metadata": {
    "jp-MarkdownHeadingCollapsed": true,
    "tags": [],
    "toc-hr-collapsed": true
   },
   "source": [
    "#### Application shares\n",
    "\n",
    "Calculate the applciation shares for each municipality based on the data from the \"referentieverbruiken\" study by PBL and transform it to the right format."
   ]
  },
  {
   "cell_type": "markdown",
   "id": "4bf95bcf-5be7-4954-9f1e-2f1c02fba386",
   "metadata": {
    "jp-MarkdownHeadingCollapsed": true,
    "tags": []
   },
   "source": [
    "##### Load relevant files"
   ]
  },
  {
   "cell_type": "markdown",
   "id": "ec392513-6b0d-4c0a-b98c-f11b895c8bdb",
   "metadata": {},
   "source": [
    "Load the intermediate data for application shares and store it in a dict of dataframes per municipality. Also, create a new dataframe in which the totals per municipality can be stored. Further, load the config with ETLocal keys that should be filled with our intermediate data. "
   ]
  },
  {
   "cell_type": "code",
   "execution_count": 101,
   "id": "4420c60f-cb7a-4751-8d06-3e285b9b3ae7",
   "metadata": {
    "tags": []
   },
   "outputs": [],
   "source": [
    "# # Filter the ETLocal keys that are relevant for the households application shares category\n",
    "# filter_households_applications = (slice(None), 'households', 'households_applications')\n",
    "\n",
    "# # Preview the filtered template\n",
    "# template.loc[filter_households_applications, :].head()"
   ]
  },
  {
   "cell_type": "code",
   "execution_count": 102,
   "id": "67e0fef1-072d-4f90-9ef1-a15dd39a4a79",
   "metadata": {
    "tags": []
   },
   "outputs": [],
   "source": [
    "# # List all ETLocal keys that are relevant for the households energy demand category\n",
    "# keys_households_applications = list(template.loc[filter_households_applications, :].index.get_level_values(3).unique())\n",
    "\n",
    "# # Preview list\n",
    "# keys_households_applications"
   ]
  },
  {
   "cell_type": "code",
   "execution_count": 103,
   "id": "6342abf5-8112-4790-8d62-077db8c524ad",
   "metadata": {
    "tags": []
   },
   "outputs": [],
   "source": [
    "# # Load intermediate data for application shares\n",
    "# path = Path(\"data\", \"intermediate\", \"application_shares.csv\")\n",
    "# input_data_households_applications = pd.read_csv(path, header=[0,1], index_col=[0,1])\n",
    "\n",
    "# # Preview application shares data\n",
    "# input_data_households_applications.head()"
   ]
  },
  {
   "cell_type": "markdown",
   "id": "0d753a13-0f0c-444e-97e5-f96cb0fc63c9",
   "metadata": {
    "jp-MarkdownHeadingCollapsed": true,
    "tags": []
   },
   "source": [
    "##### Sum individual building data to totals on municipal level and calculate shares"
   ]
  },
  {
   "cell_type": "markdown",
   "id": "3f48a833-a441-4466-8bb7-58bad786c9ac",
   "metadata": {},
   "source": [
    "First, calculate the sums of the application demands for all municipalities."
   ]
  },
  {
   "cell_type": "code",
   "execution_count": 104,
   "id": "a6db4e9a-fd12-4960-8b67-45b4ae330e2f",
   "metadata": {
    "tags": []
   },
   "outputs": [],
   "source": [
    "# # For each municipality sum the data per column\n",
    "# households_applications_totals = input_data_households_applications.groupby(level='geo_id').sum()\n",
    "\n",
    "# # Preview summed input data\n",
    "# households_applications_totals"
   ]
  },
  {
   "cell_type": "markdown",
   "id": "36f36ccf-24ac-4f1b-893b-c19580c724dc",
   "metadata": {},
   "source": [
    "Then, create a new dataframe (`households_applications_shares`) to store the application _shares_ for all municipalities. Hereafter, we can calculate the shares based on the summed application (total) demands per municipality."
   ]
  },
  {
   "cell_type": "code",
   "execution_count": 105,
   "id": "dc5114f0-a193-425f-af76-b030b6c96b01",
   "metadata": {
    "tags": []
   },
   "outputs": [],
   "source": [
    "# # Reuse the headers of the existing dataframes \n",
    "# households_applications_shares = pd.DataFrame(columns=households_applications_totals.columns)\n",
    "\n",
    "# # Set the index to municipality\n",
    "# households_applications_shares = households_applications_shares.rename_axis('municipality')\n",
    "\n",
    "# # Preview the empty dataframe\n",
    "# households_applications_shares.head()"
   ]
  },
  {
   "cell_type": "code",
   "execution_count": 106,
   "id": "1a66c7eb-ca80-4380-90c2-454c0bf5ff78",
   "metadata": {
    "tags": []
   },
   "outputs": [],
   "source": [
    "# for municipality in municipalities:\n",
    "#     for carrier in ['aardgas', 'elektriciteit', 'warmtenet', 'waterstof', 'biomassa', 'olie']:\n",
    "#         application_demands = households_applications_totals.loc[municipality, f'Metervraag {carrier}']\n",
    "#         total_demand = application_demands.sum(axis=0)\n",
    "\n",
    "#         for application in application_demands.keys():\n",
    "#             # Suppress possible warnings\n",
    "#             with np.errstate(divide='ignore', invalid='ignore'):\n",
    "#                 # The np.divide method is used to easily handle a division by zero error.\n",
    "#                 # If this is the case, the share is set to nan.\n",
    "#                 share_of_application_demand = np.divide(application_demands[application], total_demand)\n",
    "\n",
    "#             # Add the share to the application shares dataframe for the given municipality\n",
    "#             households_applications_shares.loc[municipality, (f'Metervraag {carrier}', f'{application}')] = share_of_application_demand\n",
    "            \n",
    "# # Preview dataframe with application shares\n",
    "# households_applications_shares"
   ]
  },
  {
   "cell_type": "markdown",
   "id": "69576114-994e-43d5-884a-0298d09a671f",
   "metadata": {
    "jp-MarkdownHeadingCollapsed": true,
    "tags": []
   },
   "source": [
    "##### Select the relevant data from the source data"
   ]
  },
  {
   "cell_type": "markdown",
   "id": "c4cde7eb-9c9b-4fa8-bf63-d74a15fd9fb2",
   "metadata": {},
   "source": [
    "In order to fill the ETLocal template, we need to map the PBL input data to the ETLocal (dataset manager) interface elements."
   ]
  },
  {
   "cell_type": "code",
   "execution_count": 107,
   "id": "09d8bbca",
   "metadata": {
    "tags": []
   },
   "outputs": [],
   "source": [
    "# # TODO: this could also be a CSV transformed into a data frame--is this more readable for the notebook user?\n",
    "# mapping = {\n",
    "#     'households_final_demand_electricity_households_final_demand_for_cooking_electricity_parent_share': \n",
    "#     ('Metervraag elektriciteit', 'koken'),\n",
    "    \n",
    "#     'households_final_demand_electricity_households_final_demand_for_hot_water_electricity_parent_share': \n",
    "#     ('Metervraag elektriciteit', 'warm tapwater'),\n",
    "    \n",
    "#     'households_final_demand_electricity_households_final_demand_for_space_heating_electricity_parent_share': \n",
    "#     ('Metervraag elektriciteit', 'ruimteverwarming'),\n",
    "    \n",
    "#     'households_final_demand_network_gas_households_final_demand_for_cooking_network_gas_parent_share': \n",
    "#     ('Metervraag aardgas', 'koken'),\n",
    "    \n",
    "#     'households_final_demand_network_gas_households_final_demand_for_hot_water_network_gas_parent_share': \n",
    "#     ('Metervraag aardgas', 'warm tapwater'),\n",
    "    \n",
    "#     'households_final_demand_network_gas_households_final_demand_for_space_heating_network_gas_parent_share': \n",
    "#     ('Metervraag aardgas', 'ruimteverwarming'),\n",
    "    \n",
    "#     'households_final_demand_steam_hot_water_households_final_demand_for_hot_water_steam_hot_water_parent_share':\n",
    "#     ('Metervraag warmtenet', 'warm tapwater'),\n",
    "    \n",
    "#     'households_final_demand_steam_hot_water_households_final_demand_for_space_heating_steam_hot_water_parent_share':\n",
    "#     ('Metervraag warmtenet', 'ruimteverwarming'),\n",
    "    \n",
    "#     'households_final_demand_wood_pellets_households_final_demand_for_hot_water_wood_pellets_parent_share':\n",
    "#     ('Metervraag biomassa', 'warm tapwater'),\n",
    "    \n",
    "#     'households_final_demand_wood_pellets_households_final_demand_for_space_heating_wood_pellets_parent_share':\n",
    "#     ('Metervraag biomassa', 'ruimteverwarming'),\n",
    "    \n",
    "#     'households_final_demand_crude_oil_households_final_demand_for_space_heating_crude_oil_parent_share':\n",
    "#     ('Metervraag olie', 'ruimteverwarming')\n",
    "# }"
   ]
  },
  {
   "cell_type": "markdown",
   "id": "e447786a-ebd0-4d20-8d58-522a83cd9410",
   "metadata": {
    "jp-MarkdownHeadingCollapsed": true,
    "tags": []
   },
   "source": [
    "##### Add values for application shares to the (ETLocal) dataset manager template"
   ]
  },
  {
   "cell_type": "markdown",
   "id": "f9571c8d-e994-4270-ace9-208c434f1d60",
   "metadata": {},
   "source": [
    "First, load relevant PBL data into the ETLocal template based on the mapping."
   ]
  },
  {
   "cell_type": "code",
   "execution_count": 108,
   "id": "37b757bd",
   "metadata": {
    "tags": []
   },
   "outputs": [],
   "source": [
    "# # Add PBL values to (ETLocal) dataset manager template\n",
    "# for municipality in municipalities:\n",
    "#     for etlocal_key, pbl_key in mapping.items():\n",
    "#         # Update the value\n",
    "#         template.loc[(municipality, slice(None), slice(None), etlocal_key), 'value'] = households_applications_shares.loc[municipality, pbl_key]\n",
    "        \n",
    "#         # Add a commit message\n",
    "#         template.loc[(municipality, slice(None), slice(None), etlocal_key), 'commit'] = f\"Calculated the shares based on the value of {pbl_key} as specified in the Referentieverbruiken data export by PBL\""
   ]
  },
  {
   "cell_type": "markdown",
   "id": "3041775c-b587-4c23-9ae1-50a859388ade",
   "metadata": {},
   "source": [
    "Then, fill the missing values for:\n",
    "- Coal and crude oil\n",
    "- Wood pellets\n",
    "- District heating\n",
    "- Technology splits"
   ]
  },
  {
   "cell_type": "markdown",
   "id": "18bb2945-756d-49ce-b3f0-dc5136c508f8",
   "metadata": {},
   "source": [
    "**Coal** | PBL doesn't provide any data about coal. Also, it doesn't provide any data about crude oil for hot water. Hence, we assume that all coal and crude oil is used for space heating."
   ]
  },
  {
   "cell_type": "code",
   "execution_count": 109,
   "id": "69b47564",
   "metadata": {
    "tags": []
   },
   "outputs": [],
   "source": [
    "# # TODO: we could also use the parent data shares instead?\n",
    "# for carrier in ['coal', 'crude_oil']:\n",
    "#     space_heating_key = f'households_final_demand_{carrier}_households_final_demand_for_space_heating_{carrier}_parent_share'\n",
    "#     hot_water_key = f'households_final_demand_{carrier}_households_final_demand_for_hot_water_{carrier}_parent_share'\n",
    "    \n",
    "#     # Update value and corresponding commit message for the share of space heating\n",
    "#     template.loc[(slice(None), slice(None), slice(None), space_heating_key), 'value'] = 1.\n",
    "#     template.loc[(slice(None), slice(None), slice(None), space_heating_key), 'commit'] = \"No data available. Fallback value set to 1. to ensure share totals sum to 1.\"\n",
    "    \n",
    "#     # Update value and corresponding commit message for the share of hot water\n",
    "#     template.loc[(slice(None), slice(None), slice(None), hot_water_key), 'value'] = 0.\n",
    "#     template.loc[(slice(None), slice(None), slice(None), hot_water_key), 'commit'] = \"No data available. Fallback value set to 0. to ensure share totals sum to 1.\""
   ]
  },
  {
   "cell_type": "markdown",
   "id": "55e85818-c569-498c-82a4-a4c5f28dc378",
   "metadata": {},
   "source": [
    "**Wood pellets** | PBL doesn't assume wood pellets to be used for cooking. Since the parent data share is also set to zero, \n",
    "we will use this value in our template as well."
   ]
  },
  {
   "cell_type": "code",
   "execution_count": 110,
   "id": "d89c5d27-5d05-413e-9089-d29ec52377d6",
   "metadata": {
    "tags": []
   },
   "outputs": [],
   "source": [
    "# # Define the key for which the value should be updated\n",
    "# wood_pellets_key = 'households_final_demand_wood_pellets_households_final_demand_for_cooking_wood_pellets_parent_share'\n",
    "\n",
    "# # Set the value to zero\n",
    "# template.loc[(slice(None), slice(None), slice(None), wood_pellets_key), 'value'] = 0.\n",
    "\n",
    "# # And add the corresponding commit message\n",
    "# template.loc[(slice(None), slice(None), slice(None), wood_pellets_key), 'commit'] = f\"No data available. The value of the parent dataset ({parent}) is inherited.\""
   ]
  },
  {
   "cell_type": "markdown",
   "id": "b075c32b-bec4-4e7c-8a46-181869387fcc",
   "metadata": {},
   "source": [
    "**District heating** | If there's no discrict heating in a municipality (in other words, no steam/hot water demand at all), the template values haven't been set yet. If this is the case--if the district heating shares are still nan values--use the parent data shares instead."
   ]
  },
  {
   "cell_type": "code",
   "execution_count": 111,
   "id": "792bb515-6be8-4019-9865-98995722bdc6",
   "metadata": {
    "tags": []
   },
   "outputs": [],
   "source": [
    "# # Define the key for which the value should be updated\n",
    "# space_heating_key = 'households_final_demand_steam_hot_water_households_final_demand_for_space_heating_steam_hot_water_parent_share'\n",
    "# hot_water_key = 'households_final_demand_steam_hot_water_households_final_demand_for_hot_water_steam_hot_water_parent_share'\n",
    "\n",
    "# for municipality in municipalities:\n",
    "\n",
    "#     # If the value for the space heating share of district heating is still NaN for the municipality:\n",
    "#     if pd.isna(template.loc[(municipality, slice(None), slice(None), space_heating_key), 'value'].any()): \n",
    "        \n",
    "#         # Update it to 1.\n",
    "#         template.loc[(municipality, slice(None), slice(None), space_heating_key), 'value'] = 1.\n",
    "        \n",
    "#         # Add a corresponding commit message\n",
    "#         template.loc[(municipality, slice(None), slice(None), space_heating_key), \n",
    "#                      'commit'] = f\"Assumed this share to be 100% since the district heating demand is zero according to the Referentieverbruiken data export by PBL\"\n",
    "        \n",
    "#         # Update the value for the hot water share to 0.\n",
    "#         template.loc[(municipality, slice(None), slice(None), hot_water_key), 'value'] = 0.\n",
    "        \n",
    "#         # Add a corresponding commit message\n",
    "#         template.loc[(municipality, slice(None), slice(None), hot_water_key),\n",
    "#                      'commit'] = f\"Assumed this share to be 0% since the district heating demand is zero according to the Referentieverbruiken data export by PBL\""
   ]
  },
  {
   "cell_type": "markdown",
   "id": "ee75bf5e-4aaf-46bf-8c93-208911fccc4f",
   "metadata": {},
   "source": [
    "**Technology splits** | There is no municipal data for the technology splits. Hence, we inherit these values from the parent dataset."
   ]
  },
  {
   "cell_type": "code",
   "execution_count": 112,
   "id": "c2a2898c",
   "metadata": {
    "tags": []
   },
   "outputs": [],
   "source": [
    "# # Define a list of ETLocal keys that should be inherited from the parent dataset.\n",
    "# # These are typically the technology shares.\n",
    "# inherited_keys = [\n",
    "#     # technology split space heating\n",
    "#     'households_final_demand_for_space_heating_network_gas_households_space_heater_combined_network_gas_parent_share',\n",
    "#     'households_final_demand_for_space_heating_network_gas_households_space_heater_network_gas_parent_share',\n",
    "#     'households_final_demand_for_space_heating_network_gas_households_space_heater_hybrid_heatpump_air_water_electricity_parent_share',\n",
    "#     'households_final_demand_for_space_heating_electricity_households_space_heater_electricity_parent_share',\n",
    "#     'households_final_demand_for_space_heating_electricity_households_space_heater_heatpump_air_water_electricity_parent_share',\n",
    "#     'households_final_demand_for_space_heating_electricity_households_space_heater_hybrid_heatpump_air_water_electricity_parent_share',\n",
    "#     'households_final_demand_for_space_heating_electricity_households_space_heater_heatpump_ground_water_electricity_parent_share',\n",
    "    \n",
    "#     # technology split cooking\n",
    "#     'households_final_demand_for_cooking_electricity_households_cooker_halogen_electricity_parent_share',\n",
    "#     'households_final_demand_for_cooking_electricity_households_cooker_induction_electricity_parent_share',\n",
    "#     'households_final_demand_for_cooking_electricity_households_cooker_resistive_electricity_parent_share',\n",
    "    \n",
    "#     # technology split lighting\n",
    "#     'households_final_demand_for_lighting_electricity_households_lighting_incandescent_electricity_parent_share',\n",
    "#     'households_final_demand_for_lighting_electricity_households_lighting_efficient_fluorescent_electricity_parent_share',\n",
    "#     'households_final_demand_for_lighting_electricity_households_lighting_led_electricity_parent_share',\n",
    "    \n",
    "#     # technology split appliances\n",
    "#     'households_final_demand_for_appliances_electricity_households_appliances_clothes_dryer_electricity_parent_share',\n",
    "#     'households_final_demand_for_appliances_electricity_households_appliances_computer_media_electricity_parent_share',\n",
    "#     'households_final_demand_for_appliances_electricity_households_appliances_dishwasher_electricity_parent_share',\n",
    "#     'households_final_demand_for_appliances_electricity_households_appliances_fridge_freezer_electricity_parent_share',\n",
    "#     'households_final_demand_for_appliances_electricity_households_appliances_other_electricity_parent_share',\n",
    "#     'households_final_demand_for_appliances_electricity_households_appliances_television_electricity_parent_share',\n",
    "#     'households_final_demand_for_appliances_electricity_households_appliances_vacuum_cleaner_electricity_parent_share',\n",
    "#     'households_final_demand_for_appliances_electricity_households_appliances_washing_machine_electricity_parent_share',\n",
    "    \n",
    "#     # technology split cooling\n",
    "#     'households_final_demand_for_cooling_electricity_households_cooling_airconditioning_electricity_parent_share',\n",
    "#     'households_final_demand_for_cooling_electricity_households_cooling_heatpump_ground_water_electricity_parent_share',\n",
    "#     'households_final_demand_for_cooling_electricity_households_cooling_heatpump_air_water_electricity_parent_share'\n",
    "# ]"
   ]
  },
  {
   "cell_type": "code",
   "execution_count": 113,
   "id": "dc2a7938",
   "metadata": {
    "tags": []
   },
   "outputs": [],
   "source": [
    "# # Inherit missing data values from parent dataset\n",
    "# for key in inherited_keys:\n",
    "#     # Update the value\n",
    "#     template.loc[(slice(None), slice(None), slice(None), key), 'value'] = df_parent.at['nl', key]\n",
    "\n",
    "#     # And add a commit message\n",
    "#     template.loc[(slice(None), slice(None), slice(None), key), 'commit'] = f\"Inherited the value of the parent dataset ({parent})\""
   ]
  },
  {
   "cell_type": "code",
   "execution_count": 114,
   "id": "4e14a6bd-c50b-4e02-88f8-0e0ebaf5d487",
   "metadata": {
    "tags": []
   },
   "outputs": [],
   "source": [
    "# # Preview template after changes\n",
    "# template.loc[filter_households_applications, :].head()"
   ]
  },
  {
   "cell_type": "markdown",
   "id": "35ad080a-bc93-4aab-a1e9-fbc9ab71391a",
   "metadata": {
    "jp-MarkdownHeadingCollapsed": true,
    "tags": [],
    "toc-hr-collapsed": true
   },
   "source": [
    "#### Exceptions\n",
    "\n",
    "If there are any exceptions for municipal datasets, you can overwrite the values below."
   ]
  },
  {
   "cell_type": "markdown",
   "id": "9df1d533-3699-4d73-8a6e-a19415ca9bca",
   "metadata": {},
   "source": [
    "**TO DO** | Explain to the user that this section should always be checked. Should the exception be overwritten by the update? Or should it remain untouched?"
   ]
  },
  {
   "cell_type": "markdown",
   "id": "cba590f8-85dd-4566-9ee7-c018eeda20c2",
   "metadata": {},
   "source": [
    "##### Gemeente X"
   ]
  },
  {
   "cell_type": "code",
   "execution_count": 115,
   "id": "9ee356cf-0995-4d9b-9df6-fb1c8207cc0e",
   "metadata": {
    "tags": []
   },
   "outputs": [],
   "source": [
    "#"
   ]
  },
  {
   "cell_type": "markdown",
   "id": "99a156b4-a404-4d13-bf51-658c059e8f9d",
   "metadata": {
    "tags": []
   },
   "source": [
    "#### Export processed data\n",
    "Write the transformed data to our  `data / processed` directory. This is the data we will be using for the next (analysis and visualisation) steps in the pipeline."
   ]
  },
  {
   "cell_type": "code",
   "execution_count": 116,
   "id": "8fb30aeb-4b92-45fb-b286-1fa0e51b331f",
   "metadata": {
    "tags": []
   },
   "outputs": [],
   "source": [
    "# Write dataframe to intermediate data folder\n",
    "path = Path(\"data\", \"processed\", \"etlocal_template.csv\")\n",
    "template.to_csv(path)"
   ]
  },
  {
   "cell_type": "markdown",
   "id": "72bbc9c5-06eb-47dc-a31d-710db7fd9a22",
   "metadata": {
    "jp-MarkdownHeadingCollapsed": true,
    "tags": []
   },
   "source": [
    "#### Export reporting data\n",
    "Merge application shares template in the `data.csv` and `commits.yml` files that are necessary for a ETLocal migration."
   ]
  },
  {
   "cell_type": "code",
   "execution_count": 117,
   "id": "e47dc640-ab10-4ed6-b3fa-192259033c47",
   "metadata": {
    "tags": []
   },
   "outputs": [
    {
     "data": {
      "text/html": [
       "<div>\n",
       "<style scoped>\n",
       "    .dataframe tbody tr th:only-of-type {\n",
       "        vertical-align: middle;\n",
       "    }\n",
       "\n",
       "    .dataframe tbody tr th {\n",
       "        vertical-align: top;\n",
       "    }\n",
       "\n",
       "    .dataframe thead th {\n",
       "        text-align: right;\n",
       "    }\n",
       "</style>\n",
       "<table border=\"1\" class=\"dataframe\">\n",
       "  <thead>\n",
       "    <tr style=\"text-align: right;\">\n",
       "      <th></th>\n",
       "      <th>country</th>\n",
       "      <th>name</th>\n",
       "    </tr>\n",
       "    <tr>\n",
       "      <th>geo_id</th>\n",
       "      <th></th>\n",
       "      <th></th>\n",
       "    </tr>\n",
       "  </thead>\n",
       "  <tbody>\n",
       "    <tr>\n",
       "      <th>GM0003</th>\n",
       "      <td>nl2019</td>\n",
       "      <td>Appingedam</td>\n",
       "    </tr>\n",
       "    <tr>\n",
       "      <th>GM0010</th>\n",
       "      <td>nl2019</td>\n",
       "      <td>Delfzijl</td>\n",
       "    </tr>\n",
       "    <tr>\n",
       "      <th>GM0024</th>\n",
       "      <td>nl2019</td>\n",
       "      <td>Loppersum</td>\n",
       "    </tr>\n",
       "    <tr>\n",
       "      <th>GM1680</th>\n",
       "      <td>nl2019</td>\n",
       "      <td>Aa en Hunze</td>\n",
       "    </tr>\n",
       "    <tr>\n",
       "      <th>GM0358</th>\n",
       "      <td>nl2019</td>\n",
       "      <td>Aalsmeer</td>\n",
       "    </tr>\n",
       "    <tr>\n",
       "      <th>...</th>\n",
       "      <td>...</td>\n",
       "      <td>...</td>\n",
       "    </tr>\n",
       "    <tr>\n",
       "      <th>GM0879</th>\n",
       "      <td>nl2019</td>\n",
       "      <td>Zundert</td>\n",
       "    </tr>\n",
       "    <tr>\n",
       "      <th>GM0301</th>\n",
       "      <td>nl2019</td>\n",
       "      <td>Zutphen</td>\n",
       "    </tr>\n",
       "    <tr>\n",
       "      <th>GM1896</th>\n",
       "      <td>nl2019</td>\n",
       "      <td>Zwartewaterland</td>\n",
       "    </tr>\n",
       "    <tr>\n",
       "      <th>GM0642</th>\n",
       "      <td>nl2019</td>\n",
       "      <td>Zwijndrecht</td>\n",
       "    </tr>\n",
       "    <tr>\n",
       "      <th>GM0193</th>\n",
       "      <td>nl2019</td>\n",
       "      <td>Zwolle</td>\n",
       "    </tr>\n",
       "  </tbody>\n",
       "</table>\n",
       "<p>355 rows × 2 columns</p>\n",
       "</div>"
      ],
      "text/plain": [
       "       country             name\n",
       "geo_id                         \n",
       "GM0003  nl2019       Appingedam\n",
       "GM0010  nl2019         Delfzijl\n",
       "GM0024  nl2019        Loppersum\n",
       "GM1680  nl2019      Aa en Hunze\n",
       "GM0358  nl2019         Aalsmeer\n",
       "...        ...              ...\n",
       "GM0879  nl2019          Zundert\n",
       "GM0301  nl2019          Zutphen\n",
       "GM1896  nl2019  Zwartewaterland\n",
       "GM0642  nl2019      Zwijndrecht\n",
       "GM0193  nl2019           Zwolle\n",
       "\n",
       "[355 rows x 2 columns]"
      ]
     },
     "execution_count": 117,
     "metadata": {},
     "output_type": "execute_result"
    }
   ],
   "source": [
    "# Preview data.csv dataframe\n",
    "df_data_csv"
   ]
  },
  {
   "cell_type": "code",
   "execution_count": 118,
   "id": "efcc6fe5-aec6-437e-b05e-947240c38ea8",
   "metadata": {
    "tags": []
   },
   "outputs": [],
   "source": [
    "# Load commits.yml file into a Python data structure\n",
    "path = Path(\"data\", \"reporting\", \"commits.yml\")\n",
    "\n",
    "with open(path, 'r') as file:\n",
    "    commits = yaml.safe_load(file)\n",
    "\n",
    "if commits is None:\n",
    "    commits = []"
   ]
  },
  {
   "cell_type": "code",
   "execution_count": 119,
   "id": "7f9b5383-1928-4fe1-955b-002a153ad5fe",
   "metadata": {
    "tags": []
   },
   "outputs": [
    {
     "name": "stderr",
     "output_type": "stream",
     "text": [
      "/var/folders/y7/2bztd4296dv6x2qq5f0svrgw0000gn/T/ipykernel_12803/2041643147.py:6: PerformanceWarning: DataFrame is highly fragmented.  This is usually the result of calling `frame.insert` many times, which has poor performance.  Consider joining all columns at once using pd.concat(axis=1) instead. To get a de-fragmented frame, use `newframe = frame.copy()`\n",
      "  df_data_csv.loc[:, key] = float('nan')\n",
      "/var/folders/y7/2bztd4296dv6x2qq5f0svrgw0000gn/T/ipykernel_12803/2041643147.py:6: PerformanceWarning: DataFrame is highly fragmented.  This is usually the result of calling `frame.insert` many times, which has poor performance.  Consider joining all columns at once using pd.concat(axis=1) instead. To get a de-fragmented frame, use `newframe = frame.copy()`\n",
      "  df_data_csv.loc[:, key] = float('nan')\n",
      "/var/folders/y7/2bztd4296dv6x2qq5f0svrgw0000gn/T/ipykernel_12803/2041643147.py:6: PerformanceWarning: DataFrame is highly fragmented.  This is usually the result of calling `frame.insert` many times, which has poor performance.  Consider joining all columns at once using pd.concat(axis=1) instead. To get a de-fragmented frame, use `newframe = frame.copy()`\n",
      "  df_data_csv.loc[:, key] = float('nan')\n",
      "/var/folders/y7/2bztd4296dv6x2qq5f0svrgw0000gn/T/ipykernel_12803/2041643147.py:6: PerformanceWarning: DataFrame is highly fragmented.  This is usually the result of calling `frame.insert` many times, which has poor performance.  Consider joining all columns at once using pd.concat(axis=1) instead. To get a de-fragmented frame, use `newframe = frame.copy()`\n",
      "  df_data_csv.loc[:, key] = float('nan')\n",
      "/var/folders/y7/2bztd4296dv6x2qq5f0svrgw0000gn/T/ipykernel_12803/2041643147.py:6: PerformanceWarning: DataFrame is highly fragmented.  This is usually the result of calling `frame.insert` many times, which has poor performance.  Consider joining all columns at once using pd.concat(axis=1) instead. To get a de-fragmented frame, use `newframe = frame.copy()`\n",
      "  df_data_csv.loc[:, key] = float('nan')\n",
      "/var/folders/y7/2bztd4296dv6x2qq5f0svrgw0000gn/T/ipykernel_12803/2041643147.py:6: PerformanceWarning: DataFrame is highly fragmented.  This is usually the result of calling `frame.insert` many times, which has poor performance.  Consider joining all columns at once using pd.concat(axis=1) instead. To get a de-fragmented frame, use `newframe = frame.copy()`\n",
      "  df_data_csv.loc[:, key] = float('nan')\n",
      "/var/folders/y7/2bztd4296dv6x2qq5f0svrgw0000gn/T/ipykernel_12803/2041643147.py:6: PerformanceWarning: DataFrame is highly fragmented.  This is usually the result of calling `frame.insert` many times, which has poor performance.  Consider joining all columns at once using pd.concat(axis=1) instead. To get a de-fragmented frame, use `newframe = frame.copy()`\n",
      "  df_data_csv.loc[:, key] = float('nan')\n",
      "/var/folders/y7/2bztd4296dv6x2qq5f0svrgw0000gn/T/ipykernel_12803/2041643147.py:6: PerformanceWarning: DataFrame is highly fragmented.  This is usually the result of calling `frame.insert` many times, which has poor performance.  Consider joining all columns at once using pd.concat(axis=1) instead. To get a de-fragmented frame, use `newframe = frame.copy()`\n",
      "  df_data_csv.loc[:, key] = float('nan')\n",
      "/var/folders/y7/2bztd4296dv6x2qq5f0svrgw0000gn/T/ipykernel_12803/2041643147.py:6: PerformanceWarning: DataFrame is highly fragmented.  This is usually the result of calling `frame.insert` many times, which has poor performance.  Consider joining all columns at once using pd.concat(axis=1) instead. To get a de-fragmented frame, use `newframe = frame.copy()`\n",
      "  df_data_csv.loc[:, key] = float('nan')\n",
      "/var/folders/y7/2bztd4296dv6x2qq5f0svrgw0000gn/T/ipykernel_12803/2041643147.py:6: PerformanceWarning: DataFrame is highly fragmented.  This is usually the result of calling `frame.insert` many times, which has poor performance.  Consider joining all columns at once using pd.concat(axis=1) instead. To get a de-fragmented frame, use `newframe = frame.copy()`\n",
      "  df_data_csv.loc[:, key] = float('nan')\n",
      "/var/folders/y7/2bztd4296dv6x2qq5f0svrgw0000gn/T/ipykernel_12803/2041643147.py:6: PerformanceWarning: DataFrame is highly fragmented.  This is usually the result of calling `frame.insert` many times, which has poor performance.  Consider joining all columns at once using pd.concat(axis=1) instead. To get a de-fragmented frame, use `newframe = frame.copy()`\n",
      "  df_data_csv.loc[:, key] = float('nan')\n",
      "/var/folders/y7/2bztd4296dv6x2qq5f0svrgw0000gn/T/ipykernel_12803/2041643147.py:6: PerformanceWarning: DataFrame is highly fragmented.  This is usually the result of calling `frame.insert` many times, which has poor performance.  Consider joining all columns at once using pd.concat(axis=1) instead. To get a de-fragmented frame, use `newframe = frame.copy()`\n",
      "  df_data_csv.loc[:, key] = float('nan')\n",
      "/var/folders/y7/2bztd4296dv6x2qq5f0svrgw0000gn/T/ipykernel_12803/2041643147.py:6: PerformanceWarning: DataFrame is highly fragmented.  This is usually the result of calling `frame.insert` many times, which has poor performance.  Consider joining all columns at once using pd.concat(axis=1) instead. To get a de-fragmented frame, use `newframe = frame.copy()`\n",
      "  df_data_csv.loc[:, key] = float('nan')\n",
      "/var/folders/y7/2bztd4296dv6x2qq5f0svrgw0000gn/T/ipykernel_12803/2041643147.py:6: PerformanceWarning: DataFrame is highly fragmented.  This is usually the result of calling `frame.insert` many times, which has poor performance.  Consider joining all columns at once using pd.concat(axis=1) instead. To get a de-fragmented frame, use `newframe = frame.copy()`\n",
      "  df_data_csv.loc[:, key] = float('nan')\n",
      "/var/folders/y7/2bztd4296dv6x2qq5f0svrgw0000gn/T/ipykernel_12803/2041643147.py:6: PerformanceWarning: DataFrame is highly fragmented.  This is usually the result of calling `frame.insert` many times, which has poor performance.  Consider joining all columns at once using pd.concat(axis=1) instead. To get a de-fragmented frame, use `newframe = frame.copy()`\n",
      "  df_data_csv.loc[:, key] = float('nan')\n",
      "/var/folders/y7/2bztd4296dv6x2qq5f0svrgw0000gn/T/ipykernel_12803/2041643147.py:6: PerformanceWarning: DataFrame is highly fragmented.  This is usually the result of calling `frame.insert` many times, which has poor performance.  Consider joining all columns at once using pd.concat(axis=1) instead. To get a de-fragmented frame, use `newframe = frame.copy()`\n",
      "  df_data_csv.loc[:, key] = float('nan')\n",
      "/var/folders/y7/2bztd4296dv6x2qq5f0svrgw0000gn/T/ipykernel_12803/2041643147.py:6: PerformanceWarning: DataFrame is highly fragmented.  This is usually the result of calling `frame.insert` many times, which has poor performance.  Consider joining all columns at once using pd.concat(axis=1) instead. To get a de-fragmented frame, use `newframe = frame.copy()`\n",
      "  df_data_csv.loc[:, key] = float('nan')\n",
      "/var/folders/y7/2bztd4296dv6x2qq5f0svrgw0000gn/T/ipykernel_12803/2041643147.py:6: PerformanceWarning: DataFrame is highly fragmented.  This is usually the result of calling `frame.insert` many times, which has poor performance.  Consider joining all columns at once using pd.concat(axis=1) instead. To get a de-fragmented frame, use `newframe = frame.copy()`\n",
      "  df_data_csv.loc[:, key] = float('nan')\n",
      "/var/folders/y7/2bztd4296dv6x2qq5f0svrgw0000gn/T/ipykernel_12803/2041643147.py:6: PerformanceWarning: DataFrame is highly fragmented.  This is usually the result of calling `frame.insert` many times, which has poor performance.  Consider joining all columns at once using pd.concat(axis=1) instead. To get a de-fragmented frame, use `newframe = frame.copy()`\n",
      "  df_data_csv.loc[:, key] = float('nan')\n",
      "/var/folders/y7/2bztd4296dv6x2qq5f0svrgw0000gn/T/ipykernel_12803/2041643147.py:6: PerformanceWarning: DataFrame is highly fragmented.  This is usually the result of calling `frame.insert` many times, which has poor performance.  Consider joining all columns at once using pd.concat(axis=1) instead. To get a de-fragmented frame, use `newframe = frame.copy()`\n",
      "  df_data_csv.loc[:, key] = float('nan')\n",
      "/var/folders/y7/2bztd4296dv6x2qq5f0svrgw0000gn/T/ipykernel_12803/2041643147.py:6: PerformanceWarning: DataFrame is highly fragmented.  This is usually the result of calling `frame.insert` many times, which has poor performance.  Consider joining all columns at once using pd.concat(axis=1) instead. To get a de-fragmented frame, use `newframe = frame.copy()`\n",
      "  df_data_csv.loc[:, key] = float('nan')\n",
      "/var/folders/y7/2bztd4296dv6x2qq5f0svrgw0000gn/T/ipykernel_12803/2041643147.py:6: PerformanceWarning: DataFrame is highly fragmented.  This is usually the result of calling `frame.insert` many times, which has poor performance.  Consider joining all columns at once using pd.concat(axis=1) instead. To get a de-fragmented frame, use `newframe = frame.copy()`\n",
      "  df_data_csv.loc[:, key] = float('nan')\n"
     ]
    },
    {
     "data": {
      "text/html": [
       "<div>\n",
       "<style scoped>\n",
       "    .dataframe tbody tr th:only-of-type {\n",
       "        vertical-align: middle;\n",
       "    }\n",
       "\n",
       "    .dataframe tbody tr th {\n",
       "        vertical-align: top;\n",
       "    }\n",
       "\n",
       "    .dataframe thead th {\n",
       "        text-align: right;\n",
       "    }\n",
       "</style>\n",
       "<table border=\"1\" class=\"dataframe\">\n",
       "  <thead>\n",
       "    <tr style=\"text-align: right;\">\n",
       "      <th>geo_id</th>\n",
       "      <th>GM0003</th>\n",
       "      <th>GM0010</th>\n",
       "      <th>GM0024</th>\n",
       "      <th>GM1680</th>\n",
       "      <th>GM0358</th>\n",
       "      <th>GM0197</th>\n",
       "      <th>GM0059</th>\n",
       "      <th>GM0482</th>\n",
       "      <th>GM0613</th>\n",
       "      <th>GM0361</th>\n",
       "      <th>...</th>\n",
       "      <th>GM0355</th>\n",
       "      <th>GM0299</th>\n",
       "      <th>GM0637</th>\n",
       "      <th>GM0638</th>\n",
       "      <th>GM1892</th>\n",
       "      <th>GM0879</th>\n",
       "      <th>GM0301</th>\n",
       "      <th>GM1896</th>\n",
       "      <th>GM0642</th>\n",
       "      <th>GM0193</th>\n",
       "    </tr>\n",
       "  </thead>\n",
       "  <tbody>\n",
       "    <tr>\n",
       "      <th>country</th>\n",
       "      <td>nl2019</td>\n",
       "      <td>nl2019</td>\n",
       "      <td>nl2019</td>\n",
       "      <td>nl2019</td>\n",
       "      <td>nl2019</td>\n",
       "      <td>nl2019</td>\n",
       "      <td>nl2019</td>\n",
       "      <td>nl2019</td>\n",
       "      <td>nl2019</td>\n",
       "      <td>nl2019</td>\n",
       "      <td>...</td>\n",
       "      <td>nl2019</td>\n",
       "      <td>nl2019</td>\n",
       "      <td>nl2019</td>\n",
       "      <td>nl2019</td>\n",
       "      <td>nl2019</td>\n",
       "      <td>nl2019</td>\n",
       "      <td>nl2019</td>\n",
       "      <td>nl2019</td>\n",
       "      <td>nl2019</td>\n",
       "      <td>nl2019</td>\n",
       "    </tr>\n",
       "    <tr>\n",
       "      <th>name</th>\n",
       "      <td>Appingedam</td>\n",
       "      <td>Delfzijl</td>\n",
       "      <td>Loppersum</td>\n",
       "      <td>Aa en Hunze</td>\n",
       "      <td>Aalsmeer</td>\n",
       "      <td>Aalten</td>\n",
       "      <td>Achtkarspelen</td>\n",
       "      <td>Alblasserdam</td>\n",
       "      <td>Albrandswaard</td>\n",
       "      <td>Alkmaar</td>\n",
       "      <td>...</td>\n",
       "      <td>Zeist</td>\n",
       "      <td>Zevenaar</td>\n",
       "      <td>Zoetermeer</td>\n",
       "      <td>Zoeterwoude</td>\n",
       "      <td>Zuidplas</td>\n",
       "      <td>Zundert</td>\n",
       "      <td>Zutphen</td>\n",
       "      <td>Zwartewaterland</td>\n",
       "      <td>Zwijndrecht</td>\n",
       "      <td>Zwolle</td>\n",
       "    </tr>\n",
       "    <tr>\n",
       "      <th>file_carriers_imported_heat_co2_conversion_per_mj</th>\n",
       "      <td>0.036</td>\n",
       "      <td>0.036</td>\n",
       "      <td>0.036</td>\n",
       "      <td>0.036</td>\n",
       "      <td>0.036</td>\n",
       "      <td>0.036</td>\n",
       "      <td>0.036</td>\n",
       "      <td>0.036</td>\n",
       "      <td>0.036</td>\n",
       "      <td>0.036</td>\n",
       "      <td>...</td>\n",
       "      <td>0.036</td>\n",
       "      <td>0.036</td>\n",
       "      <td>0.036</td>\n",
       "      <td>0.036</td>\n",
       "      <td>0.036</td>\n",
       "      <td>0.036</td>\n",
       "      <td>0.036</td>\n",
       "      <td>0.036</td>\n",
       "      <td>0.036</td>\n",
       "      <td>0.036</td>\n",
       "    </tr>\n",
       "    <tr>\n",
       "      <th>file_carriers_propane_co2_conversion_per_mj</th>\n",
       "      <td>0.06448</td>\n",
       "      <td>0.06448</td>\n",
       "      <td>0.06448</td>\n",
       "      <td>0.06448</td>\n",
       "      <td>0.06448</td>\n",
       "      <td>0.06448</td>\n",
       "      <td>0.06448</td>\n",
       "      <td>0.06448</td>\n",
       "      <td>0.06448</td>\n",
       "      <td>0.06448</td>\n",
       "      <td>...</td>\n",
       "      <td>0.06448</td>\n",
       "      <td>0.06448</td>\n",
       "      <td>0.06448</td>\n",
       "      <td>0.06448</td>\n",
       "      <td>0.06448</td>\n",
       "      <td>0.06448</td>\n",
       "      <td>0.06448</td>\n",
       "      <td>0.06448</td>\n",
       "      <td>0.06448</td>\n",
       "      <td>0.06448</td>\n",
       "    </tr>\n",
       "    <tr>\n",
       "      <th>input_percentage_of_lt_steam_hot_water_households_final_demand_steam_hot_water</th>\n",
       "      <td>0.0</td>\n",
       "      <td>0.0</td>\n",
       "      <td>0.0</td>\n",
       "      <td>0.0</td>\n",
       "      <td>0.0</td>\n",
       "      <td>0.0</td>\n",
       "      <td>0.0</td>\n",
       "      <td>0.0</td>\n",
       "      <td>0.0</td>\n",
       "      <td>0.0</td>\n",
       "      <td>...</td>\n",
       "      <td>0.0</td>\n",
       "      <td>0.0</td>\n",
       "      <td>0.0</td>\n",
       "      <td>0.0</td>\n",
       "      <td>0.0</td>\n",
       "      <td>0.0</td>\n",
       "      <td>0.0</td>\n",
       "      <td>0.0</td>\n",
       "      <td>0.0</td>\n",
       "      <td>0.0</td>\n",
       "    </tr>\n",
       "    <tr>\n",
       "      <th>...</th>\n",
       "      <td>...</td>\n",
       "      <td>...</td>\n",
       "      <td>...</td>\n",
       "      <td>...</td>\n",
       "      <td>...</td>\n",
       "      <td>...</td>\n",
       "      <td>...</td>\n",
       "      <td>...</td>\n",
       "      <td>...</td>\n",
       "      <td>...</td>\n",
       "      <td>...</td>\n",
       "      <td>...</td>\n",
       "      <td>...</td>\n",
       "      <td>...</td>\n",
       "      <td>...</td>\n",
       "      <td>...</td>\n",
       "      <td>...</td>\n",
       "      <td>...</td>\n",
       "      <td>...</td>\n",
       "      <td>...</td>\n",
       "      <td>...</td>\n",
       "    </tr>\n",
       "    <tr>\n",
       "      <th>energy_heat_import_mt_steam_hot_water_demand</th>\n",
       "      <td>NaN</td>\n",
       "      <td>NaN</td>\n",
       "      <td>NaN</td>\n",
       "      <td>NaN</td>\n",
       "      <td>NaN</td>\n",
       "      <td>NaN</td>\n",
       "      <td>NaN</td>\n",
       "      <td>NaN</td>\n",
       "      <td>NaN</td>\n",
       "      <td>NaN</td>\n",
       "      <td>...</td>\n",
       "      <td>NaN</td>\n",
       "      <td>NaN</td>\n",
       "      <td>NaN</td>\n",
       "      <td>NaN</td>\n",
       "      <td>NaN</td>\n",
       "      <td>NaN</td>\n",
       "      <td>NaN</td>\n",
       "      <td>NaN</td>\n",
       "      <td>NaN</td>\n",
       "      <td>NaN</td>\n",
       "    </tr>\n",
       "    <tr>\n",
       "      <th>energy_heat_import_ht_steam_hot_water_demand</th>\n",
       "      <td>NaN</td>\n",
       "      <td>NaN</td>\n",
       "      <td>NaN</td>\n",
       "      <td>NaN</td>\n",
       "      <td>NaN</td>\n",
       "      <td>NaN</td>\n",
       "      <td>NaN</td>\n",
       "      <td>NaN</td>\n",
       "      <td>NaN</td>\n",
       "      <td>NaN</td>\n",
       "      <td>...</td>\n",
       "      <td>NaN</td>\n",
       "      <td>NaN</td>\n",
       "      <td>NaN</td>\n",
       "      <td>NaN</td>\n",
       "      <td>NaN</td>\n",
       "      <td>NaN</td>\n",
       "      <td>NaN</td>\n",
       "      <td>NaN</td>\n",
       "      <td>NaN</td>\n",
       "      <td>NaN</td>\n",
       "    </tr>\n",
       "    <tr>\n",
       "      <th>input_energy_heat_distribution_ht_loss_share</th>\n",
       "      <td>NaN</td>\n",
       "      <td>NaN</td>\n",
       "      <td>NaN</td>\n",
       "      <td>NaN</td>\n",
       "      <td>NaN</td>\n",
       "      <td>NaN</td>\n",
       "      <td>NaN</td>\n",
       "      <td>NaN</td>\n",
       "      <td>NaN</td>\n",
       "      <td>NaN</td>\n",
       "      <td>...</td>\n",
       "      <td>NaN</td>\n",
       "      <td>NaN</td>\n",
       "      <td>NaN</td>\n",
       "      <td>NaN</td>\n",
       "      <td>NaN</td>\n",
       "      <td>NaN</td>\n",
       "      <td>NaN</td>\n",
       "      <td>NaN</td>\n",
       "      <td>NaN</td>\n",
       "      <td>NaN</td>\n",
       "    </tr>\n",
       "    <tr>\n",
       "      <th>input_energy_heat_distribution_mt_loss_share</th>\n",
       "      <td>NaN</td>\n",
       "      <td>NaN</td>\n",
       "      <td>NaN</td>\n",
       "      <td>NaN</td>\n",
       "      <td>NaN</td>\n",
       "      <td>NaN</td>\n",
       "      <td>NaN</td>\n",
       "      <td>NaN</td>\n",
       "      <td>NaN</td>\n",
       "      <td>NaN</td>\n",
       "      <td>...</td>\n",
       "      <td>NaN</td>\n",
       "      <td>NaN</td>\n",
       "      <td>NaN</td>\n",
       "      <td>NaN</td>\n",
       "      <td>NaN</td>\n",
       "      <td>NaN</td>\n",
       "      <td>NaN</td>\n",
       "      <td>NaN</td>\n",
       "      <td>NaN</td>\n",
       "      <td>NaN</td>\n",
       "    </tr>\n",
       "    <tr>\n",
       "      <th>input_energy_heat_distribution_lt_loss_share</th>\n",
       "      <td>NaN</td>\n",
       "      <td>NaN</td>\n",
       "      <td>NaN</td>\n",
       "      <td>NaN</td>\n",
       "      <td>NaN</td>\n",
       "      <td>NaN</td>\n",
       "      <td>NaN</td>\n",
       "      <td>NaN</td>\n",
       "      <td>NaN</td>\n",
       "      <td>NaN</td>\n",
       "      <td>...</td>\n",
       "      <td>NaN</td>\n",
       "      <td>NaN</td>\n",
       "      <td>NaN</td>\n",
       "      <td>NaN</td>\n",
       "      <td>NaN</td>\n",
       "      <td>NaN</td>\n",
       "      <td>NaN</td>\n",
       "      <td>NaN</td>\n",
       "      <td>NaN</td>\n",
       "      <td>NaN</td>\n",
       "    </tr>\n",
       "  </tbody>\n",
       "</table>\n",
       "<p>123 rows × 355 columns</p>\n",
       "</div>"
      ],
      "text/plain": [
       "geo_id                                                  GM0003    GM0010  \\\n",
       "country                                                 nl2019    nl2019   \n",
       "name                                                Appingedam  Delfzijl   \n",
       "file_carriers_imported_heat_co2_conversion_per_mj        0.036     0.036   \n",
       "file_carriers_propane_co2_conversion_per_mj            0.06448   0.06448   \n",
       "input_percentage_of_lt_steam_hot_water_househol...         0.0       0.0   \n",
       "...                                                        ...       ...   \n",
       "energy_heat_import_mt_steam_hot_water_demand               NaN       NaN   \n",
       "energy_heat_import_ht_steam_hot_water_demand               NaN       NaN   \n",
       "input_energy_heat_distribution_ht_loss_share               NaN       NaN   \n",
       "input_energy_heat_distribution_mt_loss_share               NaN       NaN   \n",
       "input_energy_heat_distribution_lt_loss_share               NaN       NaN   \n",
       "\n",
       "geo_id                                                 GM0024       GM1680  \\\n",
       "country                                                nl2019       nl2019   \n",
       "name                                                Loppersum  Aa en Hunze   \n",
       "file_carriers_imported_heat_co2_conversion_per_mj       0.036        0.036   \n",
       "file_carriers_propane_co2_conversion_per_mj           0.06448      0.06448   \n",
       "input_percentage_of_lt_steam_hot_water_househol...        0.0          0.0   \n",
       "...                                                       ...          ...   \n",
       "energy_heat_import_mt_steam_hot_water_demand              NaN          NaN   \n",
       "energy_heat_import_ht_steam_hot_water_demand              NaN          NaN   \n",
       "input_energy_heat_distribution_ht_loss_share              NaN          NaN   \n",
       "input_energy_heat_distribution_mt_loss_share              NaN          NaN   \n",
       "input_energy_heat_distribution_lt_loss_share              NaN          NaN   \n",
       "\n",
       "geo_id                                                GM0358   GM0197  \\\n",
       "country                                               nl2019   nl2019   \n",
       "name                                                Aalsmeer   Aalten   \n",
       "file_carriers_imported_heat_co2_conversion_per_mj      0.036    0.036   \n",
       "file_carriers_propane_co2_conversion_per_mj          0.06448  0.06448   \n",
       "input_percentage_of_lt_steam_hot_water_househol...       0.0      0.0   \n",
       "...                                                      ...      ...   \n",
       "energy_heat_import_mt_steam_hot_water_demand             NaN      NaN   \n",
       "energy_heat_import_ht_steam_hot_water_demand             NaN      NaN   \n",
       "input_energy_heat_distribution_ht_loss_share             NaN      NaN   \n",
       "input_energy_heat_distribution_mt_loss_share             NaN      NaN   \n",
       "input_energy_heat_distribution_lt_loss_share             NaN      NaN   \n",
       "\n",
       "geo_id                                                     GM0059  \\\n",
       "country                                                    nl2019   \n",
       "name                                                Achtkarspelen   \n",
       "file_carriers_imported_heat_co2_conversion_per_mj           0.036   \n",
       "file_carriers_propane_co2_conversion_per_mj               0.06448   \n",
       "input_percentage_of_lt_steam_hot_water_househol...            0.0   \n",
       "...                                                           ...   \n",
       "energy_heat_import_mt_steam_hot_water_demand                  NaN   \n",
       "energy_heat_import_ht_steam_hot_water_demand                  NaN   \n",
       "input_energy_heat_distribution_ht_loss_share                  NaN   \n",
       "input_energy_heat_distribution_mt_loss_share                  NaN   \n",
       "input_energy_heat_distribution_lt_loss_share                  NaN   \n",
       "\n",
       "geo_id                                                    GM0482  \\\n",
       "country                                                   nl2019   \n",
       "name                                                Alblasserdam   \n",
       "file_carriers_imported_heat_co2_conversion_per_mj          0.036   \n",
       "file_carriers_propane_co2_conversion_per_mj              0.06448   \n",
       "input_percentage_of_lt_steam_hot_water_househol...           0.0   \n",
       "...                                                          ...   \n",
       "energy_heat_import_mt_steam_hot_water_demand                 NaN   \n",
       "energy_heat_import_ht_steam_hot_water_demand                 NaN   \n",
       "input_energy_heat_distribution_ht_loss_share                 NaN   \n",
       "input_energy_heat_distribution_mt_loss_share                 NaN   \n",
       "input_energy_heat_distribution_lt_loss_share                 NaN   \n",
       "\n",
       "geo_id                                                     GM0613   GM0361  \\\n",
       "country                                                    nl2019   nl2019   \n",
       "name                                                Albrandswaard  Alkmaar   \n",
       "file_carriers_imported_heat_co2_conversion_per_mj           0.036    0.036   \n",
       "file_carriers_propane_co2_conversion_per_mj               0.06448  0.06448   \n",
       "input_percentage_of_lt_steam_hot_water_househol...            0.0      0.0   \n",
       "...                                                           ...      ...   \n",
       "energy_heat_import_mt_steam_hot_water_demand                  NaN      NaN   \n",
       "energy_heat_import_ht_steam_hot_water_demand                  NaN      NaN   \n",
       "input_energy_heat_distribution_ht_loss_share                  NaN      NaN   \n",
       "input_energy_heat_distribution_mt_loss_share                  NaN      NaN   \n",
       "input_energy_heat_distribution_lt_loss_share                  NaN      NaN   \n",
       "\n",
       "geo_id                                              ...   GM0355    GM0299  \\\n",
       "country                                             ...   nl2019    nl2019   \n",
       "name                                                ...    Zeist  Zevenaar   \n",
       "file_carriers_imported_heat_co2_conversion_per_mj   ...    0.036     0.036   \n",
       "file_carriers_propane_co2_conversion_per_mj         ...  0.06448   0.06448   \n",
       "input_percentage_of_lt_steam_hot_water_househol...  ...      0.0       0.0   \n",
       "...                                                 ...      ...       ...   \n",
       "energy_heat_import_mt_steam_hot_water_demand        ...      NaN       NaN   \n",
       "energy_heat_import_ht_steam_hot_water_demand        ...      NaN       NaN   \n",
       "input_energy_heat_distribution_ht_loss_share        ...      NaN       NaN   \n",
       "input_energy_heat_distribution_mt_loss_share        ...      NaN       NaN   \n",
       "input_energy_heat_distribution_lt_loss_share        ...      NaN       NaN   \n",
       "\n",
       "geo_id                                                  GM0637       GM0638  \\\n",
       "country                                                 nl2019       nl2019   \n",
       "name                                                Zoetermeer  Zoeterwoude   \n",
       "file_carriers_imported_heat_co2_conversion_per_mj        0.036        0.036   \n",
       "file_carriers_propane_co2_conversion_per_mj            0.06448      0.06448   \n",
       "input_percentage_of_lt_steam_hot_water_househol...         0.0          0.0   \n",
       "...                                                        ...          ...   \n",
       "energy_heat_import_mt_steam_hot_water_demand               NaN          NaN   \n",
       "energy_heat_import_ht_steam_hot_water_demand               NaN          NaN   \n",
       "input_energy_heat_distribution_ht_loss_share               NaN          NaN   \n",
       "input_energy_heat_distribution_mt_loss_share               NaN          NaN   \n",
       "input_energy_heat_distribution_lt_loss_share               NaN          NaN   \n",
       "\n",
       "geo_id                                                GM1892   GM0879  \\\n",
       "country                                               nl2019   nl2019   \n",
       "name                                                Zuidplas  Zundert   \n",
       "file_carriers_imported_heat_co2_conversion_per_mj      0.036    0.036   \n",
       "file_carriers_propane_co2_conversion_per_mj          0.06448  0.06448   \n",
       "input_percentage_of_lt_steam_hot_water_househol...       0.0      0.0   \n",
       "...                                                      ...      ...   \n",
       "energy_heat_import_mt_steam_hot_water_demand             NaN      NaN   \n",
       "energy_heat_import_ht_steam_hot_water_demand             NaN      NaN   \n",
       "input_energy_heat_distribution_ht_loss_share             NaN      NaN   \n",
       "input_energy_heat_distribution_mt_loss_share             NaN      NaN   \n",
       "input_energy_heat_distribution_lt_loss_share             NaN      NaN   \n",
       "\n",
       "geo_id                                               GM0301           GM1896  \\\n",
       "country                                              nl2019           nl2019   \n",
       "name                                                Zutphen  Zwartewaterland   \n",
       "file_carriers_imported_heat_co2_conversion_per_mj     0.036            0.036   \n",
       "file_carriers_propane_co2_conversion_per_mj         0.06448          0.06448   \n",
       "input_percentage_of_lt_steam_hot_water_househol...      0.0              0.0   \n",
       "...                                                     ...              ...   \n",
       "energy_heat_import_mt_steam_hot_water_demand            NaN              NaN   \n",
       "energy_heat_import_ht_steam_hot_water_demand            NaN              NaN   \n",
       "input_energy_heat_distribution_ht_loss_share            NaN              NaN   \n",
       "input_energy_heat_distribution_mt_loss_share            NaN              NaN   \n",
       "input_energy_heat_distribution_lt_loss_share            NaN              NaN   \n",
       "\n",
       "geo_id                                                   GM0642   GM0193  \n",
       "country                                                  nl2019   nl2019  \n",
       "name                                                Zwijndrecht   Zwolle  \n",
       "file_carriers_imported_heat_co2_conversion_per_mj         0.036    0.036  \n",
       "file_carriers_propane_co2_conversion_per_mj             0.06448  0.06448  \n",
       "input_percentage_of_lt_steam_hot_water_househol...          0.0      0.0  \n",
       "...                                                         ...      ...  \n",
       "energy_heat_import_mt_steam_hot_water_demand                NaN      NaN  \n",
       "energy_heat_import_ht_steam_hot_water_demand                NaN      NaN  \n",
       "input_energy_heat_distribution_ht_loss_share                NaN      NaN  \n",
       "input_energy_heat_distribution_mt_loss_share                NaN      NaN  \n",
       "input_energy_heat_distribution_lt_loss_share                NaN      NaN  \n",
       "\n",
       "[123 rows x 355 columns]"
      ]
     },
     "execution_count": 119,
     "metadata": {},
     "output_type": "execute_result"
    }
   ],
   "source": [
    "# List all keys that have been added to the template\n",
    "keys = list(template.index.get_level_values(3).unique())\n",
    "\n",
    "# For each municipality fill data.csv and commits.yml\n",
    "for key in keys:\n",
    "    df_data_csv.loc[:, key] = float('nan')\n",
    "    for municipality in municipalities:\n",
    "        # Add data value to data.csv\n",
    "        df_data_csv.loc[municipality, key] = template.loc[(municipality, slice(None), slice(None), key), 'value'].values[0]\n",
    "        \n",
    "        # Add commit message to commits.yml\n",
    "        commits.append({'fields': [key], 'message': template.loc[(municipality, slice(None), slice(None), key), 'commit'].values[0]})\n",
    "    \n",
    "# Preview (transposed) data for all municipalities in the format required for the data.csv file\n",
    "df_data_csv.T"
   ]
  },
  {
   "cell_type": "code",
   "execution_count": 120,
   "id": "771c6df6-07ee-4197-82cc-e9696a07303f",
   "metadata": {
    "tags": []
   },
   "outputs": [],
   "source": [
    "# Write data.csv to processed data directory\n",
    "df_data_csv.to_csv(f\"data/reporting/data.csv\", index=False)"
   ]
  },
  {
   "cell_type": "code",
   "execution_count": 121,
   "id": "3400687d-40af-4a83-b911-ca45aa4a987f",
   "metadata": {
    "tags": []
   },
   "outputs": [],
   "source": [
    "# TODO: Beautify the yaml data and make it more readable\n",
    "# commits_yaml = yaml.dump(commits, sort_keys=False, indent=4, default_flow_style=False, default_style='|')\n",
    "\n",
    "# Write the updated data back to the YAML file\n",
    "path = Path(\"data\", \"reporting\", \"commits.yml\")\n",
    "\n",
    "with open(path, 'w') as file:\n",
    "    yaml.safe_dump(commits, file)"
   ]
  },
  {
   "cell_type": "markdown",
   "id": "80ca1b10",
   "metadata": {
    "jp-MarkdownHeadingCollapsed": true,
    "tags": [],
    "toc-hr-collapsed": true
   },
   "source": [
    "### 4. Data analysis and visualisation (sanity check)"
   ]
  },
  {
   "cell_type": "markdown",
   "id": "2807011a",
   "metadata": {},
   "source": [
    "When we have a complete dataset, we can apply exploratory data analysis and visualisation to validate our data and perform sanity checks such as:\n",
    "\n",
    "* Do the totals of energy demand per sector correspond to the original (or alternative) source data? \n",
    "* Does the distribution per sector / category / carrier make sense? Or does it imply inaccurate data?\n",
    "* Do the totals of energy demand and supply per carrier correspond to the original (or alternative) source data?\n",
    "* Does the distribution of energy demand and supply per carrier make sense? Or does it imply inaccurate data?\n",
    "* How does the energy demand per inhabitant compare to the parent value?\n",
    "* How do the added hourly curves relate to the parent ones?\n",
    "\n",
    "A dashboard of charts and key figures will be designed to support the sanity check. The visualisations will make it easier to detect flaws and insanities at a glance. Here, among others, parent values are compared to child values to check whether the results meet our expectations. Same goes for the balance between demand and supply for each carrier."
   ]
  },
  {
   "cell_type": "code",
   "execution_count": 122,
   "id": "7225145c-22af-4e71-8a66-3b4b076280a2",
   "metadata": {},
   "outputs": [],
   "source": [
    "# TODO: Create reusable modules to visualise charts/data"
   ]
  },
  {
   "cell_type": "code",
   "execution_count": 123,
   "id": "cc4ec6f5",
   "metadata": {},
   "outputs": [],
   "source": [
    "# TODO: Reporting MW installed capacities based on demands per carrier and full load hours"
   ]
  },
  {
   "cell_type": "code",
   "execution_count": 124,
   "id": "57b91785",
   "metadata": {},
   "outputs": [],
   "source": [
    "# TODO: Reporting application split per transport mode based on demands and modal split per carrier"
   ]
  },
  {
   "cell_type": "code",
   "execution_count": 125,
   "id": "494822d6",
   "metadata": {
    "tags": []
   },
   "outputs": [],
   "source": [
    "# TODO: Reporting change log compared to current version of the dataset in the ETM dataset manager (e.g. have you changed the year?) "
   ]
  },
  {
   "cell_type": "markdown",
   "id": "c3a0afbf-450a-49ab-a854-97dd59e0f344",
   "metadata": {
    "tags": []
   },
   "source": [
    "#### Setup\n",
    "\n",
    "Setup the checker (if not setup yet) and load all processed data files for the next step in the pipeline."
   ]
  },
  {
   "cell_type": "code",
   "execution_count": 126,
   "id": "4f6e6b9c-ce55-4ad2-8483-ad3110a1aedf",
   "metadata": {
    "tags": []
   },
   "outputs": [],
   "source": [
    "# Initialise checker class to access transformation functions\n",
    "checker = Checker()"
   ]
  },
  {
   "cell_type": "markdown",
   "id": "732a226b-2425-44ae-9b04-b671f7cffcf5",
   "metadata": {},
   "source": [
    "Then, load the processed data file(s):\n",
    "- etlocal_template.csv"
   ]
  },
  {
   "cell_type": "code",
   "execution_count": 127,
   "id": "ad8abc10-d3d6-4313-934a-b5364eed58f7",
   "metadata": {
    "tags": []
   },
   "outputs": [],
   "source": [
    "# Load data\n",
    "template = pd.read_csv(f'data/processed/etlocal_template.csv', index_col=[0,1,2,3])"
   ]
  },
  {
   "cell_type": "code",
   "execution_count": 128,
   "id": "4a113352-7028-4b66-8efb-8edfa24ef786",
   "metadata": {
    "tags": []
   },
   "outputs": [
    {
     "data": {
      "text/html": [
       "<div>\n",
       "<style scoped>\n",
       "    .dataframe tbody tr th:only-of-type {\n",
       "        vertical-align: middle;\n",
       "    }\n",
       "\n",
       "    .dataframe tbody tr th {\n",
       "        vertical-align: top;\n",
       "    }\n",
       "\n",
       "    .dataframe thead th {\n",
       "        text-align: right;\n",
       "    }\n",
       "</style>\n",
       "<table border=\"1\" class=\"dataframe\">\n",
       "  <thead>\n",
       "    <tr style=\"text-align: right;\">\n",
       "      <th></th>\n",
       "      <th></th>\n",
       "      <th></th>\n",
       "      <th></th>\n",
       "      <th>unit</th>\n",
       "      <th>value</th>\n",
       "      <th>commit</th>\n",
       "    </tr>\n",
       "    <tr>\n",
       "      <th>geo_id</th>\n",
       "      <th>group</th>\n",
       "      <th>subgroup</th>\n",
       "      <th>key</th>\n",
       "      <th></th>\n",
       "      <th></th>\n",
       "      <th></th>\n",
       "    </tr>\n",
       "  </thead>\n",
       "  <tbody>\n",
       "    <tr>\n",
       "      <th rowspan=\"5\" valign=\"top\">GM0003</th>\n",
       "      <th rowspan=\"2\" valign=\"top\">area</th>\n",
       "      <th rowspan=\"2\" valign=\"top\">area_emission_factors</th>\n",
       "      <th>file_carriers_imported_heat_co2_conversion_per_mj</th>\n",
       "      <td>kg/MJ</td>\n",
       "      <td>0.03600</td>\n",
       "      <td>Based on https://www.co2emissiefactoren.nl/lij...</td>\n",
       "    </tr>\n",
       "    <tr>\n",
       "      <th>file_carriers_propane_co2_conversion_per_mj</th>\n",
       "      <td>kg/MJ</td>\n",
       "      <td>0.06448</td>\n",
       "      <td>Adopted from the parent dataset (the Netherlands)</td>\n",
       "    </tr>\n",
       "    <tr>\n",
       "      <th rowspan=\"3\" valign=\"top\">households</th>\n",
       "      <th rowspan=\"3\" valign=\"top\">households_energy_demand</th>\n",
       "      <th>input_percentage_of_lt_steam_hot_water_households_final_demand_steam_hot_water</th>\n",
       "      <td>%</td>\n",
       "      <td>0.00000</td>\n",
       "      <td>No data available. Fallback value set to 0.0 t...</td>\n",
       "    </tr>\n",
       "    <tr>\n",
       "      <th>input_percentage_of_mt_steam_hot_water_households_final_demand_steam_hot_water</th>\n",
       "      <td>%</td>\n",
       "      <td>0.00000</td>\n",
       "      <td>No data available. Fallback value set to 0.0 t...</td>\n",
       "    </tr>\n",
       "    <tr>\n",
       "      <th>input_percentage_of_ht_steam_hot_water_households_final_demand_steam_hot_water</th>\n",
       "      <td>%</td>\n",
       "      <td>1.00000</td>\n",
       "      <td>No data available. Fallback value set to 1.0 t...</td>\n",
       "    </tr>\n",
       "    <tr>\n",
       "      <th>...</th>\n",
       "      <th>...</th>\n",
       "      <th>...</th>\n",
       "      <th>...</th>\n",
       "      <td>...</td>\n",
       "      <td>...</td>\n",
       "      <td>...</td>\n",
       "    </tr>\n",
       "    <tr>\n",
       "      <th rowspan=\"5\" valign=\"top\">GM0193</th>\n",
       "      <th rowspan=\"5\" valign=\"top\">energy</th>\n",
       "      <th rowspan=\"2\" valign=\"top\">energy_heat_production</th>\n",
       "      <th>energy_heat_import_mt_steam_hot_water_demand</th>\n",
       "      <td>TJ</td>\n",
       "      <td>NaN</td>\n",
       "      <td>NaN</td>\n",
       "    </tr>\n",
       "    <tr>\n",
       "      <th>energy_heat_import_ht_steam_hot_water_demand</th>\n",
       "      <td>TJ</td>\n",
       "      <td>NaN</td>\n",
       "      <td>NaN</td>\n",
       "    </tr>\n",
       "    <tr>\n",
       "      <th rowspan=\"3\" valign=\"top\">energy_energy_demand</th>\n",
       "      <th>input_energy_heat_distribution_ht_loss_share</th>\n",
       "      <td>%</td>\n",
       "      <td>NaN</td>\n",
       "      <td>NaN</td>\n",
       "    </tr>\n",
       "    <tr>\n",
       "      <th>input_energy_heat_distribution_mt_loss_share</th>\n",
       "      <td>%</td>\n",
       "      <td>NaN</td>\n",
       "      <td>NaN</td>\n",
       "    </tr>\n",
       "    <tr>\n",
       "      <th>input_energy_heat_distribution_lt_loss_share</th>\n",
       "      <td>%</td>\n",
       "      <td>NaN</td>\n",
       "      <td>NaN</td>\n",
       "    </tr>\n",
       "  </tbody>\n",
       "</table>\n",
       "<p>42955 rows × 3 columns</p>\n",
       "</div>"
      ],
      "text/plain": [
       "                                                                                                unit  \\\n",
       "geo_id group      subgroup                 key                                                         \n",
       "GM0003 area       area_emission_factors    file_carriers_imported_heat_co2_conversion_per_mj   kg/MJ   \n",
       "                                           file_carriers_propane_co2_conversion_per_mj         kg/MJ   \n",
       "       households households_energy_demand input_percentage_of_lt_steam_hot_water_househol...      %   \n",
       "                                           input_percentage_of_mt_steam_hot_water_househol...      %   \n",
       "                                           input_percentage_of_ht_steam_hot_water_househol...      %   \n",
       "...                                                                                              ...   \n",
       "GM0193 energy     energy_heat_production   energy_heat_import_mt_steam_hot_water_demand           TJ   \n",
       "                                           energy_heat_import_ht_steam_hot_water_demand           TJ   \n",
       "                  energy_energy_demand     input_energy_heat_distribution_ht_loss_share            %   \n",
       "                                           input_energy_heat_distribution_mt_loss_share            %   \n",
       "                                           input_energy_heat_distribution_lt_loss_share            %   \n",
       "\n",
       "                                                                                                 value  \\\n",
       "geo_id group      subgroup                 key                                                           \n",
       "GM0003 area       area_emission_factors    file_carriers_imported_heat_co2_conversion_per_mj   0.03600   \n",
       "                                           file_carriers_propane_co2_conversion_per_mj         0.06448   \n",
       "       households households_energy_demand input_percentage_of_lt_steam_hot_water_househol...  0.00000   \n",
       "                                           input_percentage_of_mt_steam_hot_water_househol...  0.00000   \n",
       "                                           input_percentage_of_ht_steam_hot_water_househol...  1.00000   \n",
       "...                                                                                                ...   \n",
       "GM0193 energy     energy_heat_production   energy_heat_import_mt_steam_hot_water_demand            NaN   \n",
       "                                           energy_heat_import_ht_steam_hot_water_demand            NaN   \n",
       "                  energy_energy_demand     input_energy_heat_distribution_ht_loss_share            NaN   \n",
       "                                           input_energy_heat_distribution_mt_loss_share            NaN   \n",
       "                                           input_energy_heat_distribution_lt_loss_share            NaN   \n",
       "\n",
       "                                                                                                                                          commit  \n",
       "geo_id group      subgroup                 key                                                                                                    \n",
       "GM0003 area       area_emission_factors    file_carriers_imported_heat_co2_conversion_per_mj   Based on https://www.co2emissiefactoren.nl/lij...  \n",
       "                                           file_carriers_propane_co2_conversion_per_mj         Adopted from the parent dataset (the Netherlands)  \n",
       "       households households_energy_demand input_percentage_of_lt_steam_hot_water_househol...  No data available. Fallback value set to 0.0 t...  \n",
       "                                           input_percentage_of_mt_steam_hot_water_househol...  No data available. Fallback value set to 0.0 t...  \n",
       "                                           input_percentage_of_ht_steam_hot_water_househol...  No data available. Fallback value set to 1.0 t...  \n",
       "...                                                                                                                                          ...  \n",
       "GM0193 energy     energy_heat_production   energy_heat_import_mt_steam_hot_water_demand                                                      NaN  \n",
       "                                           energy_heat_import_ht_steam_hot_water_demand                                                      NaN  \n",
       "                  energy_energy_demand     input_energy_heat_distribution_ht_loss_share                                                      NaN  \n",
       "                                           input_energy_heat_distribution_mt_loss_share                                                      NaN  \n",
       "                                           input_energy_heat_distribution_lt_loss_share                                                      NaN  \n",
       "\n",
       "[42955 rows x 3 columns]"
      ]
     },
     "execution_count": 128,
     "metadata": {},
     "output_type": "execute_result"
    }
   ],
   "source": [
    "# Preview data\n",
    "template"
   ]
  },
  {
   "cell_type": "markdown",
   "id": "51083d17-fc3a-41a0-aea9-206ab7556a77",
   "metadata": {
    "jp-MarkdownHeadingCollapsed": true,
    "tags": []
   },
   "source": [
    "#### Sanity check\n",
    "\n",
    "Visualise datasets in order to perform a sanity check\n",
    "\n",
    "**TO DO** | Create methods for visualisations\n",
    "\n",
    "**TO DO** | Expand sanity checks and visualisations"
   ]
  },
  {
   "cell_type": "code",
   "execution_count": 129,
   "id": "356de6d2-d836-46a5-b81e-0eae0511c5e6",
   "metadata": {
    "tags": []
   },
   "outputs": [],
   "source": [
    "# data_to_plot = template.swaplevel(0,3).loc[[\n",
    "#     \"households_final_demand_electricity_demand\", \n",
    "#     \"households_final_demand_network_gas_demand\", \n",
    "#     \"households_final_demand_steam_hot_water_demand\", \n",
    "#     \"households_final_demand_wood_pellets_demand\",\n",
    "#     \"households_final_demand_coal_demand\",\n",
    "#     \"input_households_final_demand_crude_oil_demand\",\n",
    "#     \"households_final_demand_solar_thermal_demand\"\n",
    "# ]]\n",
    "\n",
    "# data_to_plot.index = data_to_plot.index.droplevel([1,2,3])\n",
    "\n",
    "# data_to_plot = data_to_plot[\"value\"].reset_index()\n",
    "\n",
    "# plt.figure(figsize=(8, 6), dpi = 100)\n",
    "\n",
    "# sns.boxplot(data=data_to_plot, y='key', x='value')\n",
    "# sns.set_theme(style=\"darkgrid\")\n",
    "# sns.set()\n",
    "\n",
    "# plt.show()"
   ]
  },
  {
   "cell_type": "code",
   "execution_count": 130,
   "id": "21b7a6f1-0991-4e20-bd8e-21003ea682aa",
   "metadata": {
    "tags": []
   },
   "outputs": [],
   "source": [
    "# # For households: visualise distribution of inhabitants and residences across all municipalities\n",
    "\n",
    "# data_to_plot = \"number_of_inhabitants\"\n",
    "# variable_to_plot = \"value\"\n",
    "# df_to_plot = template.loc[(slice(None), slice(None), slice(None), data_to_plot), :]\n",
    "\n",
    "# plt.figure(figsize=(8, 6), dpi = 100)\n",
    "\n",
    "# sns.histplot(data=df_to_plot, x=variable_to_plot)\n",
    "# sns.set_theme(style=\"darkgrid\")\n",
    "# sns.set()\n",
    "\n",
    "# plt.xlabel('Number of inhabitants')\n",
    "# plt.ylabel('Count of municipalities')\n",
    "\n",
    "# plt.show()"
   ]
  },
  {
   "cell_type": "code",
   "execution_count": 131,
   "id": "2eec601e-5920-42de-a883-fdb0b839d25b",
   "metadata": {
    "tags": []
   },
   "outputs": [],
   "source": [
    "# data_to_plot = template.swaplevel(0,3).loc[[\"number_of_inhabitants\", \"number_of_residences\"]]\n",
    "\n",
    "# data_to_plot.index = data_to_plot.index.droplevel([1,2,3])\n",
    "\n",
    "# data_to_plot = data_to_plot[\"value\"].reset_index()\n",
    "\n",
    "# plt.figure(figsize=(8, 6), dpi = 100)\n",
    "\n",
    "# sns.boxplot(data=data_to_plot, y='key', x='value')\n",
    "# sns.set_theme(style=\"darkgrid\")\n",
    "# sns.set()\n",
    "\n",
    "# plt.show()"
   ]
  },
  {
   "cell_type": "code",
   "execution_count": 132,
   "id": "90abcef0-64bb-4831-8abd-a2ad4e3856f5",
   "metadata": {
    "tags": []
   },
   "outputs": [],
   "source": [
    "# # For households: visualise ratio between residences and inhabitants as scatterplot\n",
    "\n",
    "# # Transform code below to function\n",
    "\n",
    "# variable_x_to_plot = template.loc[(slice(None), slice(None), slice(None), 'number_of_inhabitants'), 'value'].values\n",
    "# variable_x_to_plot = pd.DataFrame(variable_x_to_plot, columns=['number_of_inhabitants'])\n",
    "\n",
    "# variable_y_to_plot = template.loc[(slice(None), slice(None), slice(None), 'number_of_residences'), 'value'].values\n",
    "# variable_y_to_plot = pd.DataFrame(variable_y_to_plot, columns=['number_of_residences'])\n",
    "\n",
    "# data_to_plot = pd.concat([variable_x_to_plot, variable_y_to_plot], axis=1)\n",
    "\n",
    "# plt.figure(figsize=(8, 6), dpi = 100)\n",
    "\n",
    "# sns.scatterplot(data=data_to_plot, x='number_of_inhabitants', y='number_of_residences')\n",
    "# sns.set_theme(style=\"darkgrid\")\n",
    "# sns.set()\n",
    "\n",
    "# plt.xlabel('Number of inhabitants')\n",
    "# plt.ylabel('Number of residences')\n",
    "\n",
    "# plt.show()"
   ]
  },
  {
   "cell_type": "code",
   "execution_count": 133,
   "id": "e6c1455d-aa57-4ddd-8e30-18a80b7da230",
   "metadata": {
    "tags": []
   },
   "outputs": [],
   "source": [
    "# # For households: visualise energy demand per inhabitant or per residence\n",
    "\n",
    "# data_to_convert = template.swaplevel(0,3).loc[[\n",
    "#     \"households_final_demand_electricity_demand\", \n",
    "#     \"households_final_demand_network_gas_demand\", \n",
    "#     \"households_final_demand_steam_hot_water_demand\", \n",
    "#     \"households_final_demand_wood_pellets_demand\",\n",
    "#     \"households_final_demand_coal_demand\",\n",
    "#     \"input_households_final_demand_crude_oil_demand\",\n",
    "#     \"households_final_demand_solar_thermal_demand\"\n",
    "# ]]\n",
    "\n",
    "# data_to_convert.index = data_to_convert.index.droplevel([1,2])\n",
    "# data_to_convert = data_to_convert.swaplevel(0,1)\n",
    "\n",
    "# data_to_use = template.swaplevel(0,3).loc[[\n",
    "#     \"number_of_inhabitants\"\n",
    "# ]]\n",
    "\n",
    "# data_to_use.index = data_to_use.index.droplevel([1,2])\n",
    "# data_to_use = data_to_use.swaplevel(0,1)\n",
    "# data_to_use.index = data_to_use.index.droplevel(1)\n",
    "# data_to_use = data_to_use['value']\n",
    "\n",
    "# data_to_convert[\"relative\"] = data_to_convert[\"value\"] / data_to_use\n",
    " \n",
    "# data_to_convert.index = data_to_convert.index.droplevel(0)\n",
    "\n",
    "# data_to_plot = data_to_convert[\"relative\"].reset_index()\n",
    "\n",
    "# plt.figure(figsize=(8, 6), dpi = 100)\n",
    "\n",
    "# sns.boxplot(data=data_to_plot, y='key', x='relative')\n",
    "# sns.set_theme(style=\"darkgrid\")\n",
    "# sns.set()\n",
    "\n",
    "# plt.show()"
   ]
  },
  {
   "cell_type": "code",
   "execution_count": 134,
   "id": "99996b87-f431-4dae-9788-2a3844816ab7",
   "metadata": {
    "tags": []
   },
   "outputs": [],
   "source": [
    "# data_to_plot = template.swaplevel(0,3).loc[[\n",
    "#     \"households_final_demand_electricity_demand\", \n",
    "#     \"households_final_demand_network_gas_demand\", \n",
    "#     \"households_final_demand_steam_hot_water_demand\", \n",
    "#     \"households_final_demand_wood_pellets_demand\",\n",
    "#     \"households_final_demand_coal_demand\",\n",
    "#     \"input_households_final_demand_crude_oil_demand\",\n",
    "#     \"households_final_demand_solar_thermal_demand\"\n",
    "# ]]\n",
    "\n",
    "# data_to_plot.index = data_to_plot.index.droplevel([1,2,3])\n",
    "\n",
    "# data_to_plot = data_to_plot[\"value\"].reset_index()\n",
    "\n",
    "# plt.figure(figsize=(8, 6), dpi = 100)\n",
    "\n",
    "# sns.boxplot(data=data_to_plot, y='key', x='value')\n",
    "# sns.set_theme(style=\"darkgrid\")\n",
    "# sns.set()\n",
    "\n",
    "# plt.show()"
   ]
  },
  {
   "cell_type": "markdown",
   "id": "ea3b3d8b-16a4-48f8-b5a2-afc3c2339f61",
   "metadata": {
    "jp-MarkdownHeadingCollapsed": true,
    "tags": [],
    "toc-hr-collapsed": true
   },
   "source": [
    "## Services"
   ]
  },
  {
   "cell_type": "markdown",
   "id": "82ac27be-37d8-4136-a7a4-9aee39844822",
   "metadata": {
    "jp-MarkdownHeadingCollapsed": true,
    "tags": []
   },
   "source": [
    "### 1. Data collection"
   ]
  },
  {
   "attachments": {
    "75b96a93-92f4-444a-9a96-18eb4a6d5295.png": {
     "image/png": "[encoded data removed]"
    }
   },
   "cell_type": "markdown",
   "id": "a7e29c17-58c2-46d3-ba7b-58e4a7082b47",
   "metadata": {
    "tags": []
   },
   "source": [
    "In the data collection phase, we make an overview of the required data and design a data model to efficiently build our database. If possible, we call the API to collect our data. Otherwise, we first manually collect a data export and store it in the `data / raw` directory.\n",
    "\n",
    "![image.png](attachment:75b96a93-92f4-444a-9a96-18eb4a6d5295.png)\n",
    "\n",
    "For the municipal datasets we use the following data sources:\n",
    "* **??** | ...\n",
    "* **Dataset manager** | to collect the parent dataset\n",
    "\n",
    "For each data source, the following steps are followed:\n",
    "* **Extract** | Extracting the raw data from its source\n",
    "* **Transform** | Transforming the raw data to a 'workable' format \n",
    "* **Load** | Writing the processed data to the intermediate data directory\n"
   ]
  },
  {
   "cell_type": "code",
   "execution_count": 135,
   "id": "f00bb301-91e5-40fa-937d-d94167e19db2",
   "metadata": {
    "tags": []
   },
   "outputs": [],
   "source": [
    "# TODO"
   ]
  },
  {
   "cell_type": "markdown",
   "id": "70107994-189f-46ea-8d60-70506f4ca3d6",
   "metadata": {
    "jp-MarkdownHeadingCollapsed": true,
    "tags": [],
    "toc-hr-collapsed": true
   },
   "source": [
    "### 2. Data quality"
   ]
  },
  {
   "cell_type": "code",
   "execution_count": 136,
   "id": "a1675749-df6a-46ab-ab40-a893963e1872",
   "metadata": {
    "tags": []
   },
   "outputs": [],
   "source": [
    "# TODO"
   ]
  },
  {
   "cell_type": "markdown",
   "id": "47914f20-7897-40b0-b536-7cca29a595a1",
   "metadata": {
    "tags": []
   },
   "source": [
    "#### Setup\n",
    "\n",
    "Setup the checker and load all files from the `data / intermediate` directory."
   ]
  },
  {
   "cell_type": "markdown",
   "id": "2375a088-335a-47c2-b78d-40b48f0bc27e",
   "metadata": {},
   "source": [
    "First, setup the checker class"
   ]
  },
  {
   "cell_type": "code",
   "execution_count": 137,
   "id": "0bd847d4-3045-4167-8b15-a98ca83c3773",
   "metadata": {
    "tags": []
   },
   "outputs": [],
   "source": [
    "# Initialise checker class to access transformation functions\n",
    "checker = Checker()"
   ]
  },
  {
   "cell_type": "markdown",
   "id": "27660a1b-fe95-46da-8745-a6ff4d63b170",
   "metadata": {},
   "source": [
    "Then, setup all data files:\n",
    "- ...\n",
    "- parent data"
   ]
  },
  {
   "cell_type": "markdown",
   "id": "6d4dec69-af5e-48ee-9ffc-0dfaba3208f3",
   "metadata": {
    "tags": []
   },
   "source": [
    "### 3. Data transformation"
   ]
  },
  {
   "cell_type": "code",
   "execution_count": 138,
   "id": "aa4ff8c7-46e4-4eb9-9eb3-1d229da1029e",
   "metadata": {},
   "outputs": [],
   "source": [
    "# TODO"
   ]
  },
  {
   "cell_type": "markdown",
   "id": "a6e7197f-0fdb-47dc-8a10-a81064426309",
   "metadata": {
    "jp-MarkdownHeadingCollapsed": true,
    "tags": []
   },
   "source": [
    "#### Setup\n",
    "\n",
    "Setup the transformer and load all intermediate data files for the next step in the pipeline."
   ]
  },
  {
   "cell_type": "markdown",
   "id": "542e0379-1b75-47c1-b125-4e9a5b4cb7cb",
   "metadata": {},
   "source": [
    "First, setup the transformer class:"
   ]
  },
  {
   "cell_type": "code",
   "execution_count": 139,
   "id": "7933e63e-d1d2-4650-a389-a59a7fdfe5a8",
   "metadata": {
    "tags": []
   },
   "outputs": [],
   "source": [
    "# Initialise transformer class to access transformation functions\n",
    "transformer = Transformer(municipalities, year)"
   ]
  },
  {
   "cell_type": "markdown",
   "id": "419ff1b4-5f80-44ae-bb04-fffc08abde89",
   "metadata": {},
   "source": [
    "Then, setup all data files:\n",
    "- dataframe representing data.csv \n",
    "- commits.yml\n",
    "- dataframe with all etlocal interface elements\n",
    "- ...\n",
    "- parent data"
   ]
  },
  {
   "cell_type": "markdown",
   "id": "67cee771-be60-43d1-822f-e01e55ee642e",
   "metadata": {
    "jp-MarkdownHeadingCollapsed": true,
    "tags": []
   },
   "source": [
    "##### Load parent data"
   ]
  },
  {
   "cell_type": "code",
   "execution_count": 140,
   "id": "ff163e33-96f8-4e6d-8cd3-ffcf5144ce6a",
   "metadata": {
    "tags": []
   },
   "outputs": [
    {
     "data": {
      "text/html": [
       "<div>\n",
       "<style scoped>\n",
       "    .dataframe tbody tr th:only-of-type {\n",
       "        vertical-align: middle;\n",
       "    }\n",
       "\n",
       "    .dataframe tbody tr th {\n",
       "        vertical-align: top;\n",
       "    }\n",
       "\n",
       "    .dataframe thead th {\n",
       "        text-align: right;\n",
       "    }\n",
       "</style>\n",
       "<table border=\"1\" class=\"dataframe\">\n",
       "  <thead>\n",
       "    <tr style=\"text-align: right;\">\n",
       "      <th></th>\n",
       "      <th>nl</th>\n",
       "    </tr>\n",
       "  </thead>\n",
       "  <tbody>\n",
       "    <tr>\n",
       "      <th>agriculture_final_demand_electricity_demand</th>\n",
       "      <td>41584.615</td>\n",
       "    </tr>\n",
       "    <tr>\n",
       "      <th>agriculture_final_demand_network_gas_demand</th>\n",
       "      <td>91072.918</td>\n",
       "    </tr>\n",
       "    <tr>\n",
       "      <th>input_agriculture_final_demand_steam_hot_water_demand</th>\n",
       "      <td>2783.107</td>\n",
       "    </tr>\n",
       "    <tr>\n",
       "      <th>agriculture_final_demand_wood_pellets_demand</th>\n",
       "      <td>5437.224</td>\n",
       "    </tr>\n",
       "    <tr>\n",
       "      <th>input_agriculture_final_demand_crude_oil_demand</th>\n",
       "      <td>17965.442</td>\n",
       "    </tr>\n",
       "  </tbody>\n",
       "</table>\n",
       "</div>"
      ],
      "text/plain": [
       "                                                           nl\n",
       "agriculture_final_demand_electricity_demand         41584.615\n",
       "agriculture_final_demand_network_gas_demand         91072.918\n",
       "input_agriculture_final_demand_steam_hot_water_...   2783.107\n",
       "agriculture_final_demand_wood_pellets_demand         5437.224\n",
       "input_agriculture_final_demand_crude_oil_demand     17965.442"
      ]
     },
     "execution_count": 140,
     "metadata": {},
     "output_type": "execute_result"
    }
   ],
   "source": [
    "# Import parent data\n",
    "path = Path(\"data\", \"intermediate\", \"parent_data.csv\")\n",
    "df_parent = pd.read_csv(path, index_col=0)\n",
    "\n",
    "# Preview parent data\n",
    "df_parent.T.head()"
   ]
  },
  {
   "cell_type": "code",
   "execution_count": null,
   "id": "27c8ae8e-5e3c-4e77-8df9-9b38c2ef6228",
   "metadata": {},
   "outputs": [],
   "source": []
  },
  {
   "cell_type": "markdown",
   "id": "81a87136-520c-4d78-be38-153ff263514b",
   "metadata": {
    "tags": [],
    "toc-hr-collapsed": true
   },
   "source": [
    "#### Energy demand\n",
    "Transform the energy demand data to the right format. "
   ]
  },
  {
   "cell_type": "markdown",
   "id": "bc1bb9cd-2d2e-41a5-ad3a-bd26d3eb6d9f",
   "metadata": {
    "tags": []
   },
   "source": [
    "##### List ETLocal keys"
   ]
  },
  {
   "cell_type": "markdown",
   "id": "4aa17cd6-95f3-4a2c-80d0-91557166dc72",
   "metadata": {},
   "source": [
    "Preview the ETLocal keys that are relevant for the services energy demand category"
   ]
  },
  {
   "cell_type": "code",
   "execution_count": 141,
   "id": "fa97e56e-3edb-4867-9311-a9fefd199480",
   "metadata": {
    "tags": []
   },
   "outputs": [
    {
     "data": {
      "text/html": [
       "<div>\n",
       "<style scoped>\n",
       "    .dataframe tbody tr th:only-of-type {\n",
       "        vertical-align: middle;\n",
       "    }\n",
       "\n",
       "    .dataframe tbody tr th {\n",
       "        vertical-align: top;\n",
       "    }\n",
       "\n",
       "    .dataframe thead th {\n",
       "        text-align: right;\n",
       "    }\n",
       "</style>\n",
       "<table border=\"1\" class=\"dataframe\">\n",
       "  <thead>\n",
       "    <tr style=\"text-align: right;\">\n",
       "      <th></th>\n",
       "      <th></th>\n",
       "      <th></th>\n",
       "      <th></th>\n",
       "      <th>unit</th>\n",
       "      <th>value</th>\n",
       "      <th>commit</th>\n",
       "    </tr>\n",
       "    <tr>\n",
       "      <th>geo_id</th>\n",
       "      <th>group</th>\n",
       "      <th>subgroup</th>\n",
       "      <th>key</th>\n",
       "      <th></th>\n",
       "      <th></th>\n",
       "      <th></th>\n",
       "    </tr>\n",
       "  </thead>\n",
       "  <tbody>\n",
       "    <tr>\n",
       "      <th rowspan=\"3\" valign=\"top\">GM0003</th>\n",
       "      <th rowspan=\"3\" valign=\"top\">buildings</th>\n",
       "      <th rowspan=\"3\" valign=\"top\">buildings_energy_demand</th>\n",
       "      <th>input_percentage_of_lt_steam_hot_water_buildings_final_demand_steam_hot_water</th>\n",
       "      <td>%</td>\n",
       "      <td>NaN</td>\n",
       "      <td>NaN</td>\n",
       "    </tr>\n",
       "    <tr>\n",
       "      <th>input_percentage_of_mt_steam_hot_water_buildings_final_demand_steam_hot_water</th>\n",
       "      <td>%</td>\n",
       "      <td>NaN</td>\n",
       "      <td>NaN</td>\n",
       "    </tr>\n",
       "    <tr>\n",
       "      <th>input_percentage_of_ht_steam_hot_water_buildings_final_demand_steam_hot_water</th>\n",
       "      <td>%</td>\n",
       "      <td>NaN</td>\n",
       "      <td>NaN</td>\n",
       "    </tr>\n",
       "    <tr>\n",
       "      <th rowspan=\"2\" valign=\"top\">GM0010</th>\n",
       "      <th rowspan=\"2\" valign=\"top\">buildings</th>\n",
       "      <th rowspan=\"2\" valign=\"top\">buildings_energy_demand</th>\n",
       "      <th>input_percentage_of_lt_steam_hot_water_buildings_final_demand_steam_hot_water</th>\n",
       "      <td>%</td>\n",
       "      <td>NaN</td>\n",
       "      <td>NaN</td>\n",
       "    </tr>\n",
       "    <tr>\n",
       "      <th>input_percentage_of_mt_steam_hot_water_buildings_final_demand_steam_hot_water</th>\n",
       "      <td>%</td>\n",
       "      <td>NaN</td>\n",
       "      <td>NaN</td>\n",
       "    </tr>\n",
       "    <tr>\n",
       "      <th>...</th>\n",
       "      <th>...</th>\n",
       "      <th>...</th>\n",
       "      <th>...</th>\n",
       "      <td>...</td>\n",
       "      <td>...</td>\n",
       "      <td>...</td>\n",
       "    </tr>\n",
       "    <tr>\n",
       "      <th rowspan=\"2\" valign=\"top\">GM0642</th>\n",
       "      <th rowspan=\"2\" valign=\"top\">buildings</th>\n",
       "      <th rowspan=\"2\" valign=\"top\">buildings_energy_demand</th>\n",
       "      <th>input_percentage_of_mt_steam_hot_water_buildings_final_demand_steam_hot_water</th>\n",
       "      <td>%</td>\n",
       "      <td>NaN</td>\n",
       "      <td>NaN</td>\n",
       "    </tr>\n",
       "    <tr>\n",
       "      <th>input_percentage_of_ht_steam_hot_water_buildings_final_demand_steam_hot_water</th>\n",
       "      <td>%</td>\n",
       "      <td>NaN</td>\n",
       "      <td>NaN</td>\n",
       "    </tr>\n",
       "    <tr>\n",
       "      <th rowspan=\"3\" valign=\"top\">GM0193</th>\n",
       "      <th rowspan=\"3\" valign=\"top\">buildings</th>\n",
       "      <th rowspan=\"3\" valign=\"top\">buildings_energy_demand</th>\n",
       "      <th>input_percentage_of_lt_steam_hot_water_buildings_final_demand_steam_hot_water</th>\n",
       "      <td>%</td>\n",
       "      <td>NaN</td>\n",
       "      <td>NaN</td>\n",
       "    </tr>\n",
       "    <tr>\n",
       "      <th>input_percentage_of_mt_steam_hot_water_buildings_final_demand_steam_hot_water</th>\n",
       "      <td>%</td>\n",
       "      <td>NaN</td>\n",
       "      <td>NaN</td>\n",
       "    </tr>\n",
       "    <tr>\n",
       "      <th>input_percentage_of_ht_steam_hot_water_buildings_final_demand_steam_hot_water</th>\n",
       "      <td>%</td>\n",
       "      <td>NaN</td>\n",
       "      <td>NaN</td>\n",
       "    </tr>\n",
       "  </tbody>\n",
       "</table>\n",
       "<p>1065 rows × 3 columns</p>\n",
       "</div>"
      ],
      "text/plain": [
       "                                                                                            unit  \\\n",
       "geo_id group     subgroup                key                                                       \n",
       "GM0003 buildings buildings_energy_demand input_percentage_of_lt_steam_hot_water_building...    %   \n",
       "                                         input_percentage_of_mt_steam_hot_water_building...    %   \n",
       "                                         input_percentage_of_ht_steam_hot_water_building...    %   \n",
       "GM0010 buildings buildings_energy_demand input_percentage_of_lt_steam_hot_water_building...    %   \n",
       "                                         input_percentage_of_mt_steam_hot_water_building...    %   \n",
       "...                                                                                          ...   \n",
       "GM0642 buildings buildings_energy_demand input_percentage_of_mt_steam_hot_water_building...    %   \n",
       "                                         input_percentage_of_ht_steam_hot_water_building...    %   \n",
       "GM0193 buildings buildings_energy_demand input_percentage_of_lt_steam_hot_water_building...    %   \n",
       "                                         input_percentage_of_mt_steam_hot_water_building...    %   \n",
       "                                         input_percentage_of_ht_steam_hot_water_building...    %   \n",
       "\n",
       "                                                                                             value  \\\n",
       "geo_id group     subgroup                key                                                         \n",
       "GM0003 buildings buildings_energy_demand input_percentage_of_lt_steam_hot_water_building...    NaN   \n",
       "                                         input_percentage_of_mt_steam_hot_water_building...    NaN   \n",
       "                                         input_percentage_of_ht_steam_hot_water_building...    NaN   \n",
       "GM0010 buildings buildings_energy_demand input_percentage_of_lt_steam_hot_water_building...    NaN   \n",
       "                                         input_percentage_of_mt_steam_hot_water_building...    NaN   \n",
       "...                                                                                            ...   \n",
       "GM0642 buildings buildings_energy_demand input_percentage_of_mt_steam_hot_water_building...    NaN   \n",
       "                                         input_percentage_of_ht_steam_hot_water_building...    NaN   \n",
       "GM0193 buildings buildings_energy_demand input_percentage_of_lt_steam_hot_water_building...    NaN   \n",
       "                                         input_percentage_of_mt_steam_hot_water_building...    NaN   \n",
       "                                         input_percentage_of_ht_steam_hot_water_building...    NaN   \n",
       "\n",
       "                                                                                            commit  \n",
       "geo_id group     subgroup                key                                                        \n",
       "GM0003 buildings buildings_energy_demand input_percentage_of_lt_steam_hot_water_building...    NaN  \n",
       "                                         input_percentage_of_mt_steam_hot_water_building...    NaN  \n",
       "                                         input_percentage_of_ht_steam_hot_water_building...    NaN  \n",
       "GM0010 buildings buildings_energy_demand input_percentage_of_lt_steam_hot_water_building...    NaN  \n",
       "                                         input_percentage_of_mt_steam_hot_water_building...    NaN  \n",
       "...                                                                                            ...  \n",
       "GM0642 buildings buildings_energy_demand input_percentage_of_mt_steam_hot_water_building...    NaN  \n",
       "                                         input_percentage_of_ht_steam_hot_water_building...    NaN  \n",
       "GM0193 buildings buildings_energy_demand input_percentage_of_lt_steam_hot_water_building...    NaN  \n",
       "                                         input_percentage_of_mt_steam_hot_water_building...    NaN  \n",
       "                                         input_percentage_of_ht_steam_hot_water_building...    NaN  \n",
       "\n",
       "[1065 rows x 3 columns]"
      ]
     },
     "execution_count": 141,
     "metadata": {},
     "output_type": "execute_result"
    }
   ],
   "source": [
    "# Filter the ETLocal keys that are relevant for the services energy demand category\n",
    "filter_buildings_demand = (slice(None), 'buildings', 'buildings_energy_demand')\n",
    "\n",
    "# Preview the filtered template\n",
    "template.loc[filter_buildings_demand, :]"
   ]
  },
  {
   "cell_type": "markdown",
   "id": "94f79538-d527-4886-a3fb-abf90fc5b08b",
   "metadata": {
    "tags": []
   },
   "source": [
    "##### Fill missing values"
   ]
  },
  {
   "cell_type": "markdown",
   "id": "02ecc4cf-6635-47eb-b507-a2618366afe5",
   "metadata": {},
   "source": [
    "Then, fill the missing values for:\n",
    "- Temperature levels of district heating networks\n",
    "- ..."
   ]
  },
  {
   "cell_type": "markdown",
   "id": "7b324693-8e16-4a57-8f2a-ba84ac20b67b",
   "metadata": {
    "tags": []
   },
   "source": [
    "**Temperature levels of district heating networks** | Klimaatmonitor doesn't provide any data about the demand of district heating networks per temperature level. Hence, we assume that all residential district heating networks require MT heat."
   ]
  },
  {
   "cell_type": "code",
   "execution_count": 142,
   "id": "934cb36b-ba92-47e2-ae5c-a20e2ef12f92",
   "metadata": {
    "tags": []
   },
   "outputs": [],
   "source": [
    "# TODO: we could also use the parent data shares instead?\n",
    "for temperature_level in ['lt', 'mt', 'ht']:\n",
    "    key = f'input_percentage_of_{temperature_level}_steam_hot_water_buildings_final_demand_steam_hot_water'\n",
    "    \n",
    "    val = 0.\n",
    "    \n",
    "    if temperature_level == 'ht':\n",
    "        val = 1.\n",
    "    \n",
    "    # Update value and corresponding commit message for the temperature level share\n",
    "    template.loc[(slice(None), slice(None), slice(None), key), 'value'] = val\n",
    "    template.loc[(slice(None), slice(None), slice(None), key), 'commit'] = f\"No data available. Fallback value set to {val} to ensure share totals sum to 1.\""
   ]
  },
  {
   "cell_type": "code",
   "execution_count": 143,
   "id": "fa7dfc8a-f455-478d-b4cd-68fe759f048f",
   "metadata": {
    "tags": []
   },
   "outputs": [
    {
     "data": {
      "text/html": [
       "<div>\n",
       "<style scoped>\n",
       "    .dataframe tbody tr th:only-of-type {\n",
       "        vertical-align: middle;\n",
       "    }\n",
       "\n",
       "    .dataframe tbody tr th {\n",
       "        vertical-align: top;\n",
       "    }\n",
       "\n",
       "    .dataframe thead th {\n",
       "        text-align: right;\n",
       "    }\n",
       "</style>\n",
       "<table border=\"1\" class=\"dataframe\">\n",
       "  <thead>\n",
       "    <tr style=\"text-align: right;\">\n",
       "      <th></th>\n",
       "      <th></th>\n",
       "      <th></th>\n",
       "      <th></th>\n",
       "      <th>unit</th>\n",
       "      <th>value</th>\n",
       "      <th>commit</th>\n",
       "    </tr>\n",
       "    <tr>\n",
       "      <th>geo_id</th>\n",
       "      <th>group</th>\n",
       "      <th>subgroup</th>\n",
       "      <th>key</th>\n",
       "      <th></th>\n",
       "      <th></th>\n",
       "      <th></th>\n",
       "    </tr>\n",
       "  </thead>\n",
       "  <tbody>\n",
       "    <tr>\n",
       "      <th rowspan=\"3\" valign=\"top\">GM0003</th>\n",
       "      <th rowspan=\"3\" valign=\"top\">buildings</th>\n",
       "      <th rowspan=\"3\" valign=\"top\">buildings_energy_demand</th>\n",
       "      <th>input_percentage_of_lt_steam_hot_water_buildings_final_demand_steam_hot_water</th>\n",
       "      <td>%</td>\n",
       "      <td>0.0</td>\n",
       "      <td>No data available. Fallback value set to 0.0 t...</td>\n",
       "    </tr>\n",
       "    <tr>\n",
       "      <th>input_percentage_of_mt_steam_hot_water_buildings_final_demand_steam_hot_water</th>\n",
       "      <td>%</td>\n",
       "      <td>0.0</td>\n",
       "      <td>No data available. Fallback value set to 0.0 t...</td>\n",
       "    </tr>\n",
       "    <tr>\n",
       "      <th>input_percentage_of_ht_steam_hot_water_buildings_final_demand_steam_hot_water</th>\n",
       "      <td>%</td>\n",
       "      <td>1.0</td>\n",
       "      <td>No data available. Fallback value set to 1.0 t...</td>\n",
       "    </tr>\n",
       "    <tr>\n",
       "      <th rowspan=\"2\" valign=\"top\">GM0010</th>\n",
       "      <th rowspan=\"2\" valign=\"top\">buildings</th>\n",
       "      <th rowspan=\"2\" valign=\"top\">buildings_energy_demand</th>\n",
       "      <th>input_percentage_of_lt_steam_hot_water_buildings_final_demand_steam_hot_water</th>\n",
       "      <td>%</td>\n",
       "      <td>0.0</td>\n",
       "      <td>No data available. Fallback value set to 0.0 t...</td>\n",
       "    </tr>\n",
       "    <tr>\n",
       "      <th>input_percentage_of_mt_steam_hot_water_buildings_final_demand_steam_hot_water</th>\n",
       "      <td>%</td>\n",
       "      <td>0.0</td>\n",
       "      <td>No data available. Fallback value set to 0.0 t...</td>\n",
       "    </tr>\n",
       "  </tbody>\n",
       "</table>\n",
       "</div>"
      ],
      "text/plain": [
       "                                                                                            unit  \\\n",
       "geo_id group     subgroup                key                                                       \n",
       "GM0003 buildings buildings_energy_demand input_percentage_of_lt_steam_hot_water_building...    %   \n",
       "                                         input_percentage_of_mt_steam_hot_water_building...    %   \n",
       "                                         input_percentage_of_ht_steam_hot_water_building...    %   \n",
       "GM0010 buildings buildings_energy_demand input_percentage_of_lt_steam_hot_water_building...    %   \n",
       "                                         input_percentage_of_mt_steam_hot_water_building...    %   \n",
       "\n",
       "                                                                                             value  \\\n",
       "geo_id group     subgroup                key                                                         \n",
       "GM0003 buildings buildings_energy_demand input_percentage_of_lt_steam_hot_water_building...    0.0   \n",
       "                                         input_percentage_of_mt_steam_hot_water_building...    0.0   \n",
       "                                         input_percentage_of_ht_steam_hot_water_building...    1.0   \n",
       "GM0010 buildings buildings_energy_demand input_percentage_of_lt_steam_hot_water_building...    0.0   \n",
       "                                         input_percentage_of_mt_steam_hot_water_building...    0.0   \n",
       "\n",
       "                                                                                                                                        commit  \n",
       "geo_id group     subgroup                key                                                                                                    \n",
       "GM0003 buildings buildings_energy_demand input_percentage_of_lt_steam_hot_water_building...  No data available. Fallback value set to 0.0 t...  \n",
       "                                         input_percentage_of_mt_steam_hot_water_building...  No data available. Fallback value set to 0.0 t...  \n",
       "                                         input_percentage_of_ht_steam_hot_water_building...  No data available. Fallback value set to 1.0 t...  \n",
       "GM0010 buildings buildings_energy_demand input_percentage_of_lt_steam_hot_water_building...  No data available. Fallback value set to 0.0 t...  \n",
       "                                         input_percentage_of_mt_steam_hot_water_building...  No data available. Fallback value set to 0.0 t...  "
      ]
     },
     "execution_count": 143,
     "metadata": {},
     "output_type": "execute_result"
    }
   ],
   "source": [
    "# Preview template after changes\n",
    "template.loc[filter_buildings_demand, :].head()"
   ]
  },
  {
   "cell_type": "markdown",
   "id": "f0010de2-b341-4783-9a54-b01e8e517a24",
   "metadata": {
    "jp-MarkdownHeadingCollapsed": true,
    "tags": []
   },
   "source": [
    "### 4. Data analysis and visualisation"
   ]
  },
  {
   "cell_type": "code",
   "execution_count": 144,
   "id": "9402b7f1-6015-4341-a4ed-c682c8bb36c7",
   "metadata": {},
   "outputs": [],
   "source": [
    "# TODO"
   ]
  },
  {
   "cell_type": "markdown",
   "id": "3081f047-56b1-45fd-b262-96b81a8ea049",
   "metadata": {
    "jp-MarkdownHeadingCollapsed": true,
    "tags": [],
    "toc-hr-collapsed": true
   },
   "source": [
    "## Agriculture"
   ]
  },
  {
   "cell_type": "markdown",
   "id": "025443c6-7cf4-4391-b8df-41a54e15627d",
   "metadata": {
    "tags": []
   },
   "source": [
    "### 1. Data collection"
   ]
  },
  {
   "cell_type": "code",
   "execution_count": 145,
   "id": "ab9fb029-fc2e-478f-9b2b-6ba06c2e35ec",
   "metadata": {
    "tags": []
   },
   "outputs": [],
   "source": [
    "# TODO"
   ]
  },
  {
   "attachments": {
    "75b96a93-92f4-444a-9a96-18eb4a6d5295.png": {
     "image/png": "[encoded data removed]"
    }
   },
   "cell_type": "markdown",
   "id": "0fc920d0-3494-4f9c-a80e-735aa3956cb2",
   "metadata": {
    "tags": []
   },
   "source": [
    "In the data collection phase, we make an overview of the required data and design a data model to efficiently build our database. If possible, we call the API to collect our data. Otherwise, we first manually collect a data export and store it in the `data / raw` directory.\n",
    "\n",
    "![image.png](attachment:75b96a93-92f4-444a-9a96-18eb4a6d5295.png)\n",
    "\n",
    "For the municipal datasets we use the following data sources:\n",
    "* **??** | ...\n",
    "* **Dataset manager** | to collect the parent dataset\n",
    "\n",
    "For each data source, the following steps are followed:\n",
    "* **Extract** | Extracting the raw data from its source\n",
    "* **Transform** | Transforming the raw data to a 'workable' format \n",
    "* **Load** | Writing the processed data to the intermediate data directory\n"
   ]
  },
  {
   "cell_type": "code",
   "execution_count": 146,
   "id": "2fe47871-8353-48ec-b3b3-850d3bd08aa5",
   "metadata": {
    "tags": []
   },
   "outputs": [],
   "source": [
    "# TODO"
   ]
  },
  {
   "cell_type": "markdown",
   "id": "c0dfac0e-25f5-4cea-a98b-ce3903044bfa",
   "metadata": {
    "jp-MarkdownHeadingCollapsed": true,
    "tags": [],
    "toc-hr-collapsed": true
   },
   "source": [
    "### 2. Data quality"
   ]
  },
  {
   "cell_type": "code",
   "execution_count": 147,
   "id": "37bd56be-3b9a-45c7-83a3-c36722c85ce5",
   "metadata": {
    "tags": []
   },
   "outputs": [],
   "source": [
    "# TODO"
   ]
  },
  {
   "cell_type": "markdown",
   "id": "2d3b29a6-7450-4661-afbd-020092649c33",
   "metadata": {
    "tags": []
   },
   "source": [
    "#### Setup\n",
    "\n",
    "Setup the checker and load all files from the `data / intermediate` directory."
   ]
  },
  {
   "cell_type": "markdown",
   "id": "f6425c87-a4ed-4a4c-b470-d9fa6cb24f77",
   "metadata": {},
   "source": [
    "First, setup the checker class"
   ]
  },
  {
   "cell_type": "code",
   "execution_count": 148,
   "id": "d91cb85b-adb6-4593-a5ff-6b3815c7cc7a",
   "metadata": {
    "tags": []
   },
   "outputs": [],
   "source": [
    "# Initialise checker class to access transformation functions\n",
    "checker = Checker()"
   ]
  },
  {
   "cell_type": "markdown",
   "id": "3cc95fa5-d543-45c4-ac68-1907fbdaead2",
   "metadata": {},
   "source": [
    "Then, setup all data files:\n",
    "- ...\n",
    "- parent data"
   ]
  },
  {
   "cell_type": "markdown",
   "id": "8efae6c8-644f-4cd6-9e2f-6d24e3b1a043",
   "metadata": {},
   "source": [
    "### 3. Data transformation"
   ]
  },
  {
   "cell_type": "code",
   "execution_count": 149,
   "id": "5be856eb-6d4b-4f35-8ae4-100a76aa36f2",
   "metadata": {},
   "outputs": [],
   "source": [
    "# TODO"
   ]
  },
  {
   "cell_type": "markdown",
   "id": "f453d6a5-7a21-4691-b94b-b9b66a2f2a74",
   "metadata": {
    "tags": []
   },
   "source": [
    "#### Setup\n",
    "\n",
    "Setup the transformer and load all intermediate data files for the next step in the pipeline."
   ]
  },
  {
   "cell_type": "markdown",
   "id": "c5d9500d-2db4-43aa-9c68-df4be83dddea",
   "metadata": {},
   "source": [
    "First, setup the transformer class:"
   ]
  },
  {
   "cell_type": "code",
   "execution_count": 150,
   "id": "218412dc-e5e1-443e-b52f-47bfd1ae85c2",
   "metadata": {
    "tags": []
   },
   "outputs": [],
   "source": [
    "# Initialise transformer class to access transformation functions\n",
    "transformer = Transformer(municipalities, year)"
   ]
  },
  {
   "cell_type": "markdown",
   "id": "f0847908-f470-4f45-8f73-d6c6cc82cc84",
   "metadata": {},
   "source": [
    "Then, setup all data files:\n",
    "- dataframe representing data.csv \n",
    "- commits.yml\n",
    "- dataframe with all etlocal interface elements\n",
    "- ...\n",
    "- parent data"
   ]
  },
  {
   "cell_type": "markdown",
   "id": "8c0fe1a4-88f7-437b-bf06-f9247b507a7c",
   "metadata": {
    "jp-MarkdownHeadingCollapsed": true,
    "tags": []
   },
   "source": [
    "##### Load parent data"
   ]
  },
  {
   "cell_type": "code",
   "execution_count": 151,
   "id": "f6b16a9c-3c9e-4bb8-92c4-20a9aa3fcdb5",
   "metadata": {
    "tags": []
   },
   "outputs": [
    {
     "data": {
      "text/html": [
       "<div>\n",
       "<style scoped>\n",
       "    .dataframe tbody tr th:only-of-type {\n",
       "        vertical-align: middle;\n",
       "    }\n",
       "\n",
       "    .dataframe tbody tr th {\n",
       "        vertical-align: top;\n",
       "    }\n",
       "\n",
       "    .dataframe thead th {\n",
       "        text-align: right;\n",
       "    }\n",
       "</style>\n",
       "<table border=\"1\" class=\"dataframe\">\n",
       "  <thead>\n",
       "    <tr style=\"text-align: right;\">\n",
       "      <th></th>\n",
       "      <th>nl</th>\n",
       "    </tr>\n",
       "  </thead>\n",
       "  <tbody>\n",
       "    <tr>\n",
       "      <th>agriculture_final_demand_electricity_demand</th>\n",
       "      <td>41584.615</td>\n",
       "    </tr>\n",
       "    <tr>\n",
       "      <th>agriculture_final_demand_network_gas_demand</th>\n",
       "      <td>91072.918</td>\n",
       "    </tr>\n",
       "    <tr>\n",
       "      <th>input_agriculture_final_demand_steam_hot_water_demand</th>\n",
       "      <td>2783.107</td>\n",
       "    </tr>\n",
       "    <tr>\n",
       "      <th>agriculture_final_demand_wood_pellets_demand</th>\n",
       "      <td>5437.224</td>\n",
       "    </tr>\n",
       "    <tr>\n",
       "      <th>input_agriculture_final_demand_crude_oil_demand</th>\n",
       "      <td>17965.442</td>\n",
       "    </tr>\n",
       "  </tbody>\n",
       "</table>\n",
       "</div>"
      ],
      "text/plain": [
       "                                                           nl\n",
       "agriculture_final_demand_electricity_demand         41584.615\n",
       "agriculture_final_demand_network_gas_demand         91072.918\n",
       "input_agriculture_final_demand_steam_hot_water_...   2783.107\n",
       "agriculture_final_demand_wood_pellets_demand         5437.224\n",
       "input_agriculture_final_demand_crude_oil_demand     17965.442"
      ]
     },
     "execution_count": 151,
     "metadata": {},
     "output_type": "execute_result"
    }
   ],
   "source": [
    "# Import parent data\n",
    "path = Path(\"data\", \"intermediate\", \"parent_data.csv\")\n",
    "df_parent = pd.read_csv(path, index_col=0)\n",
    "\n",
    "# Preview parent data\n",
    "df_parent.T.head()"
   ]
  },
  {
   "cell_type": "markdown",
   "id": "8226448e-376a-4c6f-9243-d7e7463332b3",
   "metadata": {
    "tags": [],
    "toc-hr-collapsed": true
   },
   "source": [
    "#### Energy demand\n",
    "Transform the energy demand data from Klimaatmonitor to the right format. "
   ]
  },
  {
   "cell_type": "markdown",
   "id": "bd435700-aaf3-440c-96d7-036672646bee",
   "metadata": {
    "tags": []
   },
   "source": [
    "##### List ETLocal keys"
   ]
  },
  {
   "cell_type": "markdown",
   "id": "28306083-1287-415c-bb0d-c2ddc86bec1e",
   "metadata": {},
   "source": [
    "Preview the ETLocal keys that are relevant for the agriculture energy demand category"
   ]
  },
  {
   "cell_type": "code",
   "execution_count": 152,
   "id": "486189f4-bfa4-4021-97c7-c0e8602ef5df",
   "metadata": {
    "tags": []
   },
   "outputs": [
    {
     "data": {
      "text/html": [
       "<div>\n",
       "<style scoped>\n",
       "    .dataframe tbody tr th:only-of-type {\n",
       "        vertical-align: middle;\n",
       "    }\n",
       "\n",
       "    .dataframe tbody tr th {\n",
       "        vertical-align: top;\n",
       "    }\n",
       "\n",
       "    .dataframe thead th {\n",
       "        text-align: right;\n",
       "    }\n",
       "</style>\n",
       "<table border=\"1\" class=\"dataframe\">\n",
       "  <thead>\n",
       "    <tr style=\"text-align: right;\">\n",
       "      <th></th>\n",
       "      <th></th>\n",
       "      <th></th>\n",
       "      <th></th>\n",
       "      <th>unit</th>\n",
       "      <th>value</th>\n",
       "      <th>commit</th>\n",
       "    </tr>\n",
       "    <tr>\n",
       "      <th>geo_id</th>\n",
       "      <th>group</th>\n",
       "      <th>subgroup</th>\n",
       "      <th>key</th>\n",
       "      <th></th>\n",
       "      <th></th>\n",
       "      <th></th>\n",
       "    </tr>\n",
       "  </thead>\n",
       "  <tbody>\n",
       "    <tr>\n",
       "      <th rowspan=\"3\" valign=\"top\">GM0003</th>\n",
       "      <th rowspan=\"3\" valign=\"top\">agriculture</th>\n",
       "      <th rowspan=\"3\" valign=\"top\">agriculture_energy_demand</th>\n",
       "      <th>input_percentage_of_central_mt_steam_hot_water_agriculture_final_demand_steam_hot_water</th>\n",
       "      <td>%</td>\n",
       "      <td>NaN</td>\n",
       "      <td>NaN</td>\n",
       "    </tr>\n",
       "    <tr>\n",
       "      <th>input_percentage_of_central_ht_steam_hot_water_agriculture_final_demand_steam_hot_water</th>\n",
       "      <td>%</td>\n",
       "      <td>NaN</td>\n",
       "      <td>NaN</td>\n",
       "    </tr>\n",
       "    <tr>\n",
       "      <th>input_percentage_of_local_steam_hot_water_agriculture_final_demand_steam_hot_water</th>\n",
       "      <td>%</td>\n",
       "      <td>NaN</td>\n",
       "      <td>NaN</td>\n",
       "    </tr>\n",
       "    <tr>\n",
       "      <th rowspan=\"2\" valign=\"top\">GM0010</th>\n",
       "      <th rowspan=\"2\" valign=\"top\">agriculture</th>\n",
       "      <th rowspan=\"2\" valign=\"top\">agriculture_energy_demand</th>\n",
       "      <th>input_percentage_of_central_mt_steam_hot_water_agriculture_final_demand_steam_hot_water</th>\n",
       "      <td>%</td>\n",
       "      <td>NaN</td>\n",
       "      <td>NaN</td>\n",
       "    </tr>\n",
       "    <tr>\n",
       "      <th>input_percentage_of_central_ht_steam_hot_water_agriculture_final_demand_steam_hot_water</th>\n",
       "      <td>%</td>\n",
       "      <td>NaN</td>\n",
       "      <td>NaN</td>\n",
       "    </tr>\n",
       "    <tr>\n",
       "      <th>...</th>\n",
       "      <th>...</th>\n",
       "      <th>...</th>\n",
       "      <th>...</th>\n",
       "      <td>...</td>\n",
       "      <td>...</td>\n",
       "      <td>...</td>\n",
       "    </tr>\n",
       "    <tr>\n",
       "      <th rowspan=\"2\" valign=\"top\">GM0642</th>\n",
       "      <th rowspan=\"2\" valign=\"top\">agriculture</th>\n",
       "      <th rowspan=\"2\" valign=\"top\">agriculture_energy_demand</th>\n",
       "      <th>input_percentage_of_central_ht_steam_hot_water_agriculture_final_demand_steam_hot_water</th>\n",
       "      <td>%</td>\n",
       "      <td>NaN</td>\n",
       "      <td>NaN</td>\n",
       "    </tr>\n",
       "    <tr>\n",
       "      <th>input_percentage_of_local_steam_hot_water_agriculture_final_demand_steam_hot_water</th>\n",
       "      <td>%</td>\n",
       "      <td>NaN</td>\n",
       "      <td>NaN</td>\n",
       "    </tr>\n",
       "    <tr>\n",
       "      <th rowspan=\"3\" valign=\"top\">GM0193</th>\n",
       "      <th rowspan=\"3\" valign=\"top\">agriculture</th>\n",
       "      <th rowspan=\"3\" valign=\"top\">agriculture_energy_demand</th>\n",
       "      <th>input_percentage_of_central_mt_steam_hot_water_agriculture_final_demand_steam_hot_water</th>\n",
       "      <td>%</td>\n",
       "      <td>NaN</td>\n",
       "      <td>NaN</td>\n",
       "    </tr>\n",
       "    <tr>\n",
       "      <th>input_percentage_of_central_ht_steam_hot_water_agriculture_final_demand_steam_hot_water</th>\n",
       "      <td>%</td>\n",
       "      <td>NaN</td>\n",
       "      <td>NaN</td>\n",
       "    </tr>\n",
       "    <tr>\n",
       "      <th>input_percentage_of_local_steam_hot_water_agriculture_final_demand_steam_hot_water</th>\n",
       "      <td>%</td>\n",
       "      <td>NaN</td>\n",
       "      <td>NaN</td>\n",
       "    </tr>\n",
       "  </tbody>\n",
       "</table>\n",
       "<p>1065 rows × 3 columns</p>\n",
       "</div>"
      ],
      "text/plain": [
       "                                                                                                unit  \\\n",
       "geo_id group       subgroup                  key                                                       \n",
       "GM0003 agriculture agriculture_energy_demand input_percentage_of_central_mt_steam_hot_water_...    %   \n",
       "                                             input_percentage_of_central_ht_steam_hot_water_...    %   \n",
       "                                             input_percentage_of_local_steam_hot_water_agric...    %   \n",
       "GM0010 agriculture agriculture_energy_demand input_percentage_of_central_mt_steam_hot_water_...    %   \n",
       "                                             input_percentage_of_central_ht_steam_hot_water_...    %   \n",
       "...                                                                                              ...   \n",
       "GM0642 agriculture agriculture_energy_demand input_percentage_of_central_ht_steam_hot_water_...    %   \n",
       "                                             input_percentage_of_local_steam_hot_water_agric...    %   \n",
       "GM0193 agriculture agriculture_energy_demand input_percentage_of_central_mt_steam_hot_water_...    %   \n",
       "                                             input_percentage_of_central_ht_steam_hot_water_...    %   \n",
       "                                             input_percentage_of_local_steam_hot_water_agric...    %   \n",
       "\n",
       "                                                                                                 value  \\\n",
       "geo_id group       subgroup                  key                                                         \n",
       "GM0003 agriculture agriculture_energy_demand input_percentage_of_central_mt_steam_hot_water_...    NaN   \n",
       "                                             input_percentage_of_central_ht_steam_hot_water_...    NaN   \n",
       "                                             input_percentage_of_local_steam_hot_water_agric...    NaN   \n",
       "GM0010 agriculture agriculture_energy_demand input_percentage_of_central_mt_steam_hot_water_...    NaN   \n",
       "                                             input_percentage_of_central_ht_steam_hot_water_...    NaN   \n",
       "...                                                                                                ...   \n",
       "GM0642 agriculture agriculture_energy_demand input_percentage_of_central_ht_steam_hot_water_...    NaN   \n",
       "                                             input_percentage_of_local_steam_hot_water_agric...    NaN   \n",
       "GM0193 agriculture agriculture_energy_demand input_percentage_of_central_mt_steam_hot_water_...    NaN   \n",
       "                                             input_percentage_of_central_ht_steam_hot_water_...    NaN   \n",
       "                                             input_percentage_of_local_steam_hot_water_agric...    NaN   \n",
       "\n",
       "                                                                                                commit  \n",
       "geo_id group       subgroup                  key                                                        \n",
       "GM0003 agriculture agriculture_energy_demand input_percentage_of_central_mt_steam_hot_water_...    NaN  \n",
       "                                             input_percentage_of_central_ht_steam_hot_water_...    NaN  \n",
       "                                             input_percentage_of_local_steam_hot_water_agric...    NaN  \n",
       "GM0010 agriculture agriculture_energy_demand input_percentage_of_central_mt_steam_hot_water_...    NaN  \n",
       "                                             input_percentage_of_central_ht_steam_hot_water_...    NaN  \n",
       "...                                                                                                ...  \n",
       "GM0642 agriculture agriculture_energy_demand input_percentage_of_central_ht_steam_hot_water_...    NaN  \n",
       "                                             input_percentage_of_local_steam_hot_water_agric...    NaN  \n",
       "GM0193 agriculture agriculture_energy_demand input_percentage_of_central_mt_steam_hot_water_...    NaN  \n",
       "                                             input_percentage_of_central_ht_steam_hot_water_...    NaN  \n",
       "                                             input_percentage_of_local_steam_hot_water_agric...    NaN  \n",
       "\n",
       "[1065 rows x 3 columns]"
      ]
     },
     "execution_count": 152,
     "metadata": {},
     "output_type": "execute_result"
    }
   ],
   "source": [
    "# Filter the ETLocal keys that are relevant for the agriculture energy demand category\n",
    "filter_agriculture_demand = (slice(None), 'agriculture', 'agriculture_energy_demand')\n",
    "\n",
    "# Preview the filtered template\n",
    "template.loc[filter_agriculture_demand, :]"
   ]
  },
  {
   "cell_type": "markdown",
   "id": "7ae7671a-bdd8-43bc-b5d0-3498a418b59d",
   "metadata": {
    "tags": []
   },
   "source": [
    "##### Fill missing values"
   ]
  },
  {
   "cell_type": "markdown",
   "id": "d201db92-aca4-4f7f-b9b3-c2c632546704",
   "metadata": {},
   "source": [
    "Then, fill the missing values for:\n",
    "- Temperature levels of district heating networks\n",
    "- ..."
   ]
  },
  {
   "cell_type": "markdown",
   "id": "6c630b28-c1e7-4bfb-8390-c619833688ee",
   "metadata": {
    "tags": []
   },
   "source": [
    "**Temperature levels of district heating networks** | Klimaatmonitor doesn't provide any data about the demand of district heating networks per temperature level. Hence, we assume that all agricultural district heating networks require MT heat."
   ]
  },
  {
   "cell_type": "code",
   "execution_count": 153,
   "id": "f659b410-ec38-42c2-ae1c-94171aa9480d",
   "metadata": {
    "tags": []
   },
   "outputs": [],
   "source": [
    "# TODO: we could also use the parent data shares instead?\n",
    "for temperature_level in ['mt', 'ht']:\n",
    "    key = f'input_percentage_of_central_{temperature_level}_steam_hot_water_agriculture_final_demand_steam_hot_water'\n",
    "    \n",
    "    val = 0.\n",
    "    \n",
    "    if temperature_level == 'ht':\n",
    "        val = 1.\n",
    "    \n",
    "    # Update value and corresponding commit message for the temperature level share\n",
    "    template.loc[(slice(None), slice(None), slice(None), key), 'value'] = val\n",
    "    template.loc[(slice(None), slice(None), slice(None), key), 'commit'] = f\"No data available. Fallback value set to {val} to ensure share totals sum to 1.\""
   ]
  },
  {
   "cell_type": "code",
   "execution_count": 154,
   "id": "89d7362e-4b25-4627-b847-04fcb25b2365",
   "metadata": {},
   "outputs": [],
   "source": [
    "key = f'input_percentage_of_local_steam_hot_water_agriculture_final_demand_steam_hot_water'\n",
    "\n",
    "val = 0.\n",
    "\n",
    "# Update value and corresponding commit message for the temperature level share\n",
    "template.loc[(slice(None), slice(None), slice(None), key), 'value'] = val\n",
    "template.loc[(slice(None), slice(None), slice(None), key), 'commit'] = f\"No data available. Fallback value set to {val} to ensure share totals sum to 1.\""
   ]
  },
  {
   "cell_type": "code",
   "execution_count": 155,
   "id": "377ab560-b8f8-4c30-b194-0109ca124a37",
   "metadata": {
    "tags": []
   },
   "outputs": [
    {
     "data": {
      "text/html": [
       "<div>\n",
       "<style scoped>\n",
       "    .dataframe tbody tr th:only-of-type {\n",
       "        vertical-align: middle;\n",
       "    }\n",
       "\n",
       "    .dataframe tbody tr th {\n",
       "        vertical-align: top;\n",
       "    }\n",
       "\n",
       "    .dataframe thead th {\n",
       "        text-align: right;\n",
       "    }\n",
       "</style>\n",
       "<table border=\"1\" class=\"dataframe\">\n",
       "  <thead>\n",
       "    <tr style=\"text-align: right;\">\n",
       "      <th></th>\n",
       "      <th></th>\n",
       "      <th></th>\n",
       "      <th></th>\n",
       "      <th>unit</th>\n",
       "      <th>value</th>\n",
       "      <th>commit</th>\n",
       "    </tr>\n",
       "    <tr>\n",
       "      <th>geo_id</th>\n",
       "      <th>group</th>\n",
       "      <th>subgroup</th>\n",
       "      <th>key</th>\n",
       "      <th></th>\n",
       "      <th></th>\n",
       "      <th></th>\n",
       "    </tr>\n",
       "  </thead>\n",
       "  <tbody>\n",
       "    <tr>\n",
       "      <th rowspan=\"3\" valign=\"top\">GM0003</th>\n",
       "      <th rowspan=\"3\" valign=\"top\">agriculture</th>\n",
       "      <th rowspan=\"3\" valign=\"top\">agriculture_energy_demand</th>\n",
       "      <th>input_percentage_of_central_mt_steam_hot_water_agriculture_final_demand_steam_hot_water</th>\n",
       "      <td>%</td>\n",
       "      <td>0.0</td>\n",
       "      <td>No data available. Fallback value set to 0.0 t...</td>\n",
       "    </tr>\n",
       "    <tr>\n",
       "      <th>input_percentage_of_central_ht_steam_hot_water_agriculture_final_demand_steam_hot_water</th>\n",
       "      <td>%</td>\n",
       "      <td>1.0</td>\n",
       "      <td>No data available. Fallback value set to 1.0 t...</td>\n",
       "    </tr>\n",
       "    <tr>\n",
       "      <th>input_percentage_of_local_steam_hot_water_agriculture_final_demand_steam_hot_water</th>\n",
       "      <td>%</td>\n",
       "      <td>0.0</td>\n",
       "      <td>No data available. Fallback value set to 0.0 t...</td>\n",
       "    </tr>\n",
       "    <tr>\n",
       "      <th rowspan=\"2\" valign=\"top\">GM0010</th>\n",
       "      <th rowspan=\"2\" valign=\"top\">agriculture</th>\n",
       "      <th rowspan=\"2\" valign=\"top\">agriculture_energy_demand</th>\n",
       "      <th>input_percentage_of_central_mt_steam_hot_water_agriculture_final_demand_steam_hot_water</th>\n",
       "      <td>%</td>\n",
       "      <td>0.0</td>\n",
       "      <td>No data available. Fallback value set to 0.0 t...</td>\n",
       "    </tr>\n",
       "    <tr>\n",
       "      <th>input_percentage_of_central_ht_steam_hot_water_agriculture_final_demand_steam_hot_water</th>\n",
       "      <td>%</td>\n",
       "      <td>1.0</td>\n",
       "      <td>No data available. Fallback value set to 1.0 t...</td>\n",
       "    </tr>\n",
       "  </tbody>\n",
       "</table>\n",
       "</div>"
      ],
      "text/plain": [
       "                                                                                                unit  \\\n",
       "geo_id group       subgroup                  key                                                       \n",
       "GM0003 agriculture agriculture_energy_demand input_percentage_of_central_mt_steam_hot_water_...    %   \n",
       "                                             input_percentage_of_central_ht_steam_hot_water_...    %   \n",
       "                                             input_percentage_of_local_steam_hot_water_agric...    %   \n",
       "GM0010 agriculture agriculture_energy_demand input_percentage_of_central_mt_steam_hot_water_...    %   \n",
       "                                             input_percentage_of_central_ht_steam_hot_water_...    %   \n",
       "\n",
       "                                                                                                 value  \\\n",
       "geo_id group       subgroup                  key                                                         \n",
       "GM0003 agriculture agriculture_energy_demand input_percentage_of_central_mt_steam_hot_water_...    0.0   \n",
       "                                             input_percentage_of_central_ht_steam_hot_water_...    1.0   \n",
       "                                             input_percentage_of_local_steam_hot_water_agric...    0.0   \n",
       "GM0010 agriculture agriculture_energy_demand input_percentage_of_central_mt_steam_hot_water_...    0.0   \n",
       "                                             input_percentage_of_central_ht_steam_hot_water_...    1.0   \n",
       "\n",
       "                                                                                                                                            commit  \n",
       "geo_id group       subgroup                  key                                                                                                    \n",
       "GM0003 agriculture agriculture_energy_demand input_percentage_of_central_mt_steam_hot_water_...  No data available. Fallback value set to 0.0 t...  \n",
       "                                             input_percentage_of_central_ht_steam_hot_water_...  No data available. Fallback value set to 1.0 t...  \n",
       "                                             input_percentage_of_local_steam_hot_water_agric...  No data available. Fallback value set to 0.0 t...  \n",
       "GM0010 agriculture agriculture_energy_demand input_percentage_of_central_mt_steam_hot_water_...  No data available. Fallback value set to 0.0 t...  \n",
       "                                             input_percentage_of_central_ht_steam_hot_water_...  No data available. Fallback value set to 1.0 t...  "
      ]
     },
     "execution_count": 155,
     "metadata": {},
     "output_type": "execute_result"
    }
   ],
   "source": [
    "# Preview template after changes\n",
    "template.loc[filter_agriculture_demand, :].head()"
   ]
  },
  {
   "cell_type": "markdown",
   "id": "3a151ca2-14dd-4224-9132-b29c342c5834",
   "metadata": {
    "jp-MarkdownHeadingCollapsed": true,
    "tags": [],
    "toc-hr-collapsed": true
   },
   "source": [
    "#### Exceptions\n",
    "\n",
    "If there are any exceptions for municipal datasets, you can overwrite the values below."
   ]
  },
  {
   "cell_type": "markdown",
   "id": "f06cdbb6-53b1-4645-bd0a-9e2cb8f7c6e7",
   "metadata": {},
   "source": [
    "**TO DO** | Explain to the user that this section should always be checked. Should the exception be overwritten by the update? Or should it remain untouched?"
   ]
  },
  {
   "cell_type": "markdown",
   "id": "c210be88-2ce5-44b3-a80c-67775373a5ab",
   "metadata": {},
   "source": [
    "##### Gemeente X"
   ]
  },
  {
   "cell_type": "code",
   "execution_count": 156,
   "id": "72ce99d5-214a-42e1-b640-ce8afbce8efc",
   "metadata": {
    "tags": []
   },
   "outputs": [],
   "source": [
    "#"
   ]
  },
  {
   "cell_type": "markdown",
   "id": "abd1dbf3-f5d1-48ad-83bf-cb22cce1c70f",
   "metadata": {
    "tags": []
   },
   "source": [
    "#### Export processed data\n",
    "Write the transformed data to our  `data / processed` directory. This is the data we will be using for the next (analysis and visualisation) steps in the pipeline."
   ]
  },
  {
   "cell_type": "code",
   "execution_count": 157,
   "id": "cb7c1bd8-b566-435d-9451-395a099c7c2f",
   "metadata": {
    "tags": []
   },
   "outputs": [],
   "source": [
    "# Write dataframe to intermediate data folder\n",
    "path = Path(\"data\", \"processed\", \"etlocal_template.csv\")\n",
    "template.to_csv(path)"
   ]
  },
  {
   "cell_type": "markdown",
   "id": "521c95b4-bb94-48d5-b360-199d96583a15",
   "metadata": {
    "tags": []
   },
   "source": [
    "### 4. Data analysis and visualisation"
   ]
  },
  {
   "cell_type": "code",
   "execution_count": 158,
   "id": "5d01c7af-2d9c-435b-9aca-d01dc74fc24b",
   "metadata": {
    "tags": []
   },
   "outputs": [],
   "source": [
    "# TODO"
   ]
  },
  {
   "cell_type": "markdown",
   "id": "f5b1362f-7f99-4479-a30e-901f4311699f",
   "metadata": {
    "jp-MarkdownHeadingCollapsed": true,
    "tags": [],
    "toc-hr-collapsed": true
   },
   "source": [
    "## Transport"
   ]
  },
  {
   "cell_type": "markdown",
   "id": "5a759bdb-a3dd-4778-811b-dc317d1869aa",
   "metadata": {
    "jp-MarkdownHeadingCollapsed": true,
    "tags": []
   },
   "source": [
    "### 1. Data collection"
   ]
  },
  {
   "cell_type": "code",
   "execution_count": 159,
   "id": "724625d8-32a7-45dc-84ae-494c55795fe6",
   "metadata": {
    "tags": []
   },
   "outputs": [],
   "source": [
    "# TODO"
   ]
  },
  {
   "attachments": {
    "75b96a93-92f4-444a-9a96-18eb4a6d5295.png": {
     "image/png": "[encoded data removed]"
    }
   },
   "cell_type": "markdown",
   "id": "f35baead-c6af-4d10-80ac-759e51cd1175",
   "metadata": {
    "tags": []
   },
   "source": [
    "In the data collection phase, we make an overview of the required data and design a data model to efficiently build our database. If possible, we call the API to collect our data. Otherwise, we first manually collect a data export and store it in the `data / raw` directory.\n",
    "\n",
    "![image.png](attachment:75b96a93-92f4-444a-9a96-18eb4a6d5295.png)\n",
    "\n",
    "For the municipal datasets we use the following data sources:\n",
    "* **??** | ...\n",
    "* **Dataset manager** | to collect the parent dataset\n",
    "\n",
    "For each data source, the following steps are followed:\n",
    "* **Extract** | Extracting the raw data from its source\n",
    "* **Transform** | Transforming the raw data to a 'workable' format \n",
    "* **Load** | Writing the processed data to the intermediate data directory\n"
   ]
  },
  {
   "cell_type": "code",
   "execution_count": 160,
   "id": "bf8fc11f-af0e-4b6b-a1d4-e081a0c4ff4f",
   "metadata": {
    "tags": []
   },
   "outputs": [],
   "source": [
    "# TODO"
   ]
  },
  {
   "cell_type": "markdown",
   "id": "7b5bdf00-ec69-4593-970c-78e422f7a637",
   "metadata": {
    "jp-MarkdownHeadingCollapsed": true,
    "tags": [],
    "toc-hr-collapsed": true
   },
   "source": [
    "### 2. Data quality"
   ]
  },
  {
   "cell_type": "code",
   "execution_count": 161,
   "id": "2d05d113-11ff-4659-978b-392a3f076427",
   "metadata": {
    "tags": []
   },
   "outputs": [],
   "source": [
    "# TODO"
   ]
  },
  {
   "cell_type": "markdown",
   "id": "788f10b0-a31f-47d3-af45-ee02fbd56075",
   "metadata": {
    "tags": []
   },
   "source": [
    "#### Setup\n",
    "\n",
    "Setup the checker and load all files from the `data / intermediate` directory."
   ]
  },
  {
   "cell_type": "markdown",
   "id": "ce31fbab-b06d-45b9-8144-9b5d6e985f5f",
   "metadata": {},
   "source": [
    "First, setup the checker class"
   ]
  },
  {
   "cell_type": "code",
   "execution_count": 162,
   "id": "7205a71e-f6d3-4ec7-ba72-a1e4a0077544",
   "metadata": {
    "tags": []
   },
   "outputs": [],
   "source": [
    "# Initialise checker class to access transformation functions\n",
    "checker = Checker()"
   ]
  },
  {
   "cell_type": "markdown",
   "id": "2eeabe69-1ee9-4d7b-a9f9-9e099c02afe4",
   "metadata": {},
   "source": [
    "Then, setup all data files:\n",
    "- ...\n",
    "- parent data"
   ]
  },
  {
   "cell_type": "markdown",
   "id": "be1b2a71-ecb2-48c5-b03d-27097d827bf1",
   "metadata": {
    "jp-MarkdownHeadingCollapsed": true,
    "tags": []
   },
   "source": [
    "### 3. Data transformation"
   ]
  },
  {
   "cell_type": "code",
   "execution_count": 163,
   "id": "5aeba968-7386-4afd-919b-59fcea10946c",
   "metadata": {},
   "outputs": [],
   "source": [
    "# TODO"
   ]
  },
  {
   "cell_type": "markdown",
   "id": "d374a106-56ea-437f-85d5-4c29781511b2",
   "metadata": {
    "tags": []
   },
   "source": [
    "#### Setup\n",
    "\n",
    "Setup the transformer and load all intermediate data files for the next step in the pipeline."
   ]
  },
  {
   "cell_type": "markdown",
   "id": "5affc1ac-ca62-480f-a44a-e9d55a6c48f4",
   "metadata": {},
   "source": [
    "First, setup the transformer class:"
   ]
  },
  {
   "cell_type": "code",
   "execution_count": 164,
   "id": "bee3817f-a7fe-4274-9d8c-eba5da29d858",
   "metadata": {
    "tags": []
   },
   "outputs": [],
   "source": [
    "# Initialise transformer class to access transformation functions\n",
    "transformer = Transformer(municipalities, year)"
   ]
  },
  {
   "cell_type": "markdown",
   "id": "775ebef7-7930-4451-b174-30ee597115aa",
   "metadata": {},
   "source": [
    "Then, setup all data files:\n",
    "- dataframe representing data.csv \n",
    "- commits.yml\n",
    "- dataframe with all etlocal interface elements\n",
    "- ...\n",
    "- parent data"
   ]
  },
  {
   "cell_type": "markdown",
   "id": "3568ce7f-dfc8-47ed-a968-c3771f713326",
   "metadata": {
    "jp-MarkdownHeadingCollapsed": true,
    "tags": []
   },
   "source": [
    "##### Load parent data"
   ]
  },
  {
   "cell_type": "code",
   "execution_count": 165,
   "id": "c0e1a3c8-338f-48db-a57d-ecc2c54914b1",
   "metadata": {
    "tags": []
   },
   "outputs": [
    {
     "data": {
      "text/html": [
       "<div>\n",
       "<style scoped>\n",
       "    .dataframe tbody tr th:only-of-type {\n",
       "        vertical-align: middle;\n",
       "    }\n",
       "\n",
       "    .dataframe tbody tr th {\n",
       "        vertical-align: top;\n",
       "    }\n",
       "\n",
       "    .dataframe thead th {\n",
       "        text-align: right;\n",
       "    }\n",
       "</style>\n",
       "<table border=\"1\" class=\"dataframe\">\n",
       "  <thead>\n",
       "    <tr style=\"text-align: right;\">\n",
       "      <th></th>\n",
       "      <th>nl</th>\n",
       "    </tr>\n",
       "  </thead>\n",
       "  <tbody>\n",
       "    <tr>\n",
       "      <th>agriculture_final_demand_electricity_demand</th>\n",
       "      <td>41584.615</td>\n",
       "    </tr>\n",
       "    <tr>\n",
       "      <th>agriculture_final_demand_network_gas_demand</th>\n",
       "      <td>91072.918</td>\n",
       "    </tr>\n",
       "    <tr>\n",
       "      <th>input_agriculture_final_demand_steam_hot_water_demand</th>\n",
       "      <td>2783.107</td>\n",
       "    </tr>\n",
       "    <tr>\n",
       "      <th>agriculture_final_demand_wood_pellets_demand</th>\n",
       "      <td>5437.224</td>\n",
       "    </tr>\n",
       "    <tr>\n",
       "      <th>input_agriculture_final_demand_crude_oil_demand</th>\n",
       "      <td>17965.442</td>\n",
       "    </tr>\n",
       "  </tbody>\n",
       "</table>\n",
       "</div>"
      ],
      "text/plain": [
       "                                                           nl\n",
       "agriculture_final_demand_electricity_demand         41584.615\n",
       "agriculture_final_demand_network_gas_demand         91072.918\n",
       "input_agriculture_final_demand_steam_hot_water_...   2783.107\n",
       "agriculture_final_demand_wood_pellets_demand         5437.224\n",
       "input_agriculture_final_demand_crude_oil_demand     17965.442"
      ]
     },
     "execution_count": 165,
     "metadata": {},
     "output_type": "execute_result"
    }
   ],
   "source": [
    "# Import parent data\n",
    "path = Path(\"data\", \"intermediate\", \"parent_data.csv\")\n",
    "df_parent = pd.read_csv(path, index_col=0)\n",
    "\n",
    "# Preview parent data\n",
    "df_parent.T.head()"
   ]
  },
  {
   "cell_type": "markdown",
   "id": "27c354e2-9805-41cd-bb83-e3320013aed7",
   "metadata": {
    "tags": [],
    "toc-hr-collapsed": true
   },
   "source": [
    "#### Energy demand\n",
    "Transform the energy demand data from Klimaatmonitor to the right format. "
   ]
  },
  {
   "cell_type": "markdown",
   "id": "9b426aaf-1287-44cc-aa26-6d17e28bef48",
   "metadata": {
    "tags": []
   },
   "source": [
    "##### List ETLocal keys"
   ]
  },
  {
   "cell_type": "markdown",
   "id": "a3e957a1-9390-490c-b12f-49dcfc184ae5",
   "metadata": {},
   "source": [
    "Preview the ETLocal keys that are relevant for the transport energy demand category"
   ]
  },
  {
   "cell_type": "code",
   "execution_count": 166,
   "id": "c71a168a-3547-47c2-b317-b2af6e8023ca",
   "metadata": {
    "tags": []
   },
   "outputs": [],
   "source": [
    "# # Filter the ETLocal keys that are relevant for the agriculture energy demand category\n",
    "# filter_transport_demand = (slice(None), 'transport', 'transport_energy_demand')\n",
    "\n",
    "# # Preview the filtered template\n",
    "# template.loc[filter_transport_demand, :]"
   ]
  },
  {
   "cell_type": "markdown",
   "id": "b3963594-0745-41b3-84fa-2bbba517f672",
   "metadata": {
    "tags": []
   },
   "source": [
    "##### Fill missing values"
   ]
  },
  {
   "cell_type": "markdown",
   "id": "d216ef4b-0b77-4478-a5e9-5cd7df7d779c",
   "metadata": {},
   "source": [
    "Then, fill the missing values for:\n",
    "- ..."
   ]
  },
  {
   "cell_type": "markdown",
   "id": "c25f038f-37f3-4acb-9950-5da54ff4656d",
   "metadata": {
    "tags": []
   },
   "source": [
    "**??** | .."
   ]
  },
  {
   "cell_type": "code",
   "execution_count": 167,
   "id": "d0034b50-8d45-4f36-b524-d43912e3aadb",
   "metadata": {
    "tags": []
   },
   "outputs": [],
   "source": [
    "# # Preview template after changes\n",
    "# template.loc[filter_transport_demand, :].head()"
   ]
  },
  {
   "cell_type": "markdown",
   "id": "50c1c007-026f-4fd9-b71e-f1a60312ff46",
   "metadata": {
    "jp-MarkdownHeadingCollapsed": true,
    "tags": [],
    "toc-hr-collapsed": true
   },
   "source": [
    "#### Exceptions\n",
    "\n",
    "If there are any exceptions for municipal datasets, you can overwrite the values below."
   ]
  },
  {
   "cell_type": "markdown",
   "id": "3ca4e4e7-5dfa-42d9-8e0a-f64b5a818264",
   "metadata": {},
   "source": [
    "**TO DO** | Explain to the user that this section should always be checked. Should the exception be overwritten by the update? Or should it remain untouched?"
   ]
  },
  {
   "cell_type": "markdown",
   "id": "77f4fbcf-d671-4735-b0ae-2e74f3ee8906",
   "metadata": {},
   "source": [
    "##### Gemeente X"
   ]
  },
  {
   "cell_type": "code",
   "execution_count": 168,
   "id": "35e0d474-d90a-4ad5-9393-9e4560735b9d",
   "metadata": {
    "tags": []
   },
   "outputs": [],
   "source": [
    "#"
   ]
  },
  {
   "cell_type": "markdown",
   "id": "3c28edd3-1475-41e4-9603-a29a27708132",
   "metadata": {
    "tags": []
   },
   "source": [
    "#### Export processed data\n",
    "Write the transformed data to our  `data / processed` directory. This is the data we will be using for the next (analysis and visualisation) steps in the pipeline."
   ]
  },
  {
   "cell_type": "code",
   "execution_count": 169,
   "id": "e61e49e5-79fb-4db8-b1d2-457407338623",
   "metadata": {
    "tags": []
   },
   "outputs": [],
   "source": [
    "# Write dataframe to intermediate data folder\n",
    "path = Path(\"data\", \"processed\", \"etlocal_template.csv\")\n",
    "template.to_csv(path)"
   ]
  },
  {
   "cell_type": "markdown",
   "id": "f7022299-8c48-4265-b25d-b01038e767aa",
   "metadata": {
    "jp-MarkdownHeadingCollapsed": true,
    "tags": []
   },
   "source": [
    "### 4. Data analysis and visualisation"
   ]
  },
  {
   "cell_type": "code",
   "execution_count": 170,
   "id": "2661a84a-8cd5-4dce-8adc-8d0eb7dfd83f",
   "metadata": {
    "tags": []
   },
   "outputs": [],
   "source": [
    "# TODO"
   ]
  },
  {
   "cell_type": "markdown",
   "id": "922c7b6e-0e70-46c8-9b4a-ec896d0faf0d",
   "metadata": {
    "jp-MarkdownHeadingCollapsed": true,
    "tags": [],
    "toc-hr-collapsed": true
   },
   "source": [
    "## Industry"
   ]
  },
  {
   "cell_type": "code",
   "execution_count": 171,
   "id": "c93ea46d-503f-4c5b-9040-05fe5b127f19",
   "metadata": {},
   "outputs": [],
   "source": [
    "# TODO"
   ]
  },
  {
   "cell_type": "markdown",
   "id": "ede345c3-642f-46f7-8d7b-41df1a19a960",
   "metadata": {
    "jp-MarkdownHeadingCollapsed": true,
    "tags": []
   },
   "source": [
    "### 1. Data collection"
   ]
  },
  {
   "cell_type": "code",
   "execution_count": 172,
   "id": "cdce0711-dc44-4293-9459-8a8c13c12df9",
   "metadata": {
    "tags": []
   },
   "outputs": [],
   "source": [
    "# TODO"
   ]
  },
  {
   "attachments": {
    "75b96a93-92f4-444a-9a96-18eb4a6d5295.png": {
     "image/png": "[encoded data removed]"
    }
   },
   "cell_type": "markdown",
   "id": "3025bfaf-26f2-4c47-ac32-ac307d39f215",
   "metadata": {
    "tags": []
   },
   "source": [
    "In the data collection phase, we make an overview of the required data and design a data model to efficiently build our database. If possible, we call the API to collect our data. Otherwise, we first manually collect a data export and store it in the `data / raw` directory.\n",
    "\n",
    "![image.png](attachment:75b96a93-92f4-444a-9a96-18eb4a6d5295.png)\n",
    "\n",
    "For the municipal datasets we use the following data sources:\n",
    "* **??** | ...\n",
    "* **Dataset manager** | to collect the parent dataset\n",
    "\n",
    "For each data source, the following steps are followed:\n",
    "* **Extract** | Extracting the raw data from its source\n",
    "* **Transform** | Transforming the raw data to a 'workable' format \n",
    "* **Load** | Writing the processed data to the intermediate data directory\n"
   ]
  },
  {
   "cell_type": "code",
   "execution_count": 173,
   "id": "0cc96b76-0986-461b-8634-eac17f5d7caa",
   "metadata": {
    "tags": []
   },
   "outputs": [],
   "source": [
    "# TODO"
   ]
  },
  {
   "cell_type": "markdown",
   "id": "1f921b27-dddf-4331-819c-472dd09edef6",
   "metadata": {
    "jp-MarkdownHeadingCollapsed": true,
    "tags": [],
    "toc-hr-collapsed": true
   },
   "source": [
    "### 2. Data quality"
   ]
  },
  {
   "cell_type": "code",
   "execution_count": 174,
   "id": "025745dd-b434-484a-bfdf-a2148c9cdf41",
   "metadata": {
    "tags": []
   },
   "outputs": [],
   "source": [
    "# TODO"
   ]
  },
  {
   "cell_type": "markdown",
   "id": "9d761391-19a8-4c34-946d-27a7dd35c174",
   "metadata": {
    "tags": []
   },
   "source": [
    "#### Setup\n",
    "\n",
    "Setup the checker and load all files from the `data / intermediate` directory."
   ]
  },
  {
   "cell_type": "markdown",
   "id": "e59a7883-afd7-43c9-a6ff-acf8d42451d1",
   "metadata": {},
   "source": [
    "First, setup the checker class"
   ]
  },
  {
   "cell_type": "code",
   "execution_count": 175,
   "id": "2cb876cd-2b68-40d0-ab37-082cd762b487",
   "metadata": {
    "tags": []
   },
   "outputs": [],
   "source": [
    "# Initialise checker class to access transformation functions\n",
    "checker = Checker()"
   ]
  },
  {
   "cell_type": "markdown",
   "id": "8d538f1a-e275-40a9-868e-1362a2e97295",
   "metadata": {},
   "source": [
    "Then, setup all data files:\n",
    "- ...\n",
    "- parent data"
   ]
  },
  {
   "cell_type": "markdown",
   "id": "567cb82f-0e03-435e-a847-c93655e0c311",
   "metadata": {
    "tags": []
   },
   "source": [
    "### 3. Data transformation"
   ]
  },
  {
   "cell_type": "code",
   "execution_count": 176,
   "id": "b20e755c-35f5-42ef-9f19-0ed8847a000f",
   "metadata": {},
   "outputs": [],
   "source": [
    "# TODO"
   ]
  },
  {
   "cell_type": "markdown",
   "id": "7f38fed7-861d-4e10-9203-4774b0d8837f",
   "metadata": {
    "tags": []
   },
   "source": [
    "#### Setup\n",
    "\n",
    "Setup the transformer and load all intermediate data files for the next step in the pipeline."
   ]
  },
  {
   "cell_type": "markdown",
   "id": "40cffd98-16b3-48d1-bd4f-5d30c3d1e46c",
   "metadata": {},
   "source": [
    "First, setup the transformer class:"
   ]
  },
  {
   "cell_type": "code",
   "execution_count": 177,
   "id": "a1ccadac-c811-4acb-9318-83f9af0e4231",
   "metadata": {
    "tags": []
   },
   "outputs": [],
   "source": [
    "# Initialise transformer class to access transformation functions\n",
    "transformer = Transformer(municipalities, year)"
   ]
  },
  {
   "cell_type": "markdown",
   "id": "fe2023e8-1c11-46b0-bdb2-c61c29844d56",
   "metadata": {},
   "source": [
    "Then, setup all data files:\n",
    "- dataframe representing data.csv \n",
    "- commits.yml\n",
    "- dataframe with all etlocal interface elements\n",
    "- ...\n",
    "- parent data"
   ]
  },
  {
   "cell_type": "markdown",
   "id": "50bb4bbf-a47d-440c-91c8-df96797fe88d",
   "metadata": {
    "jp-MarkdownHeadingCollapsed": true,
    "tags": []
   },
   "source": [
    "##### Load parent data"
   ]
  },
  {
   "cell_type": "code",
   "execution_count": 178,
   "id": "6d5eddf1-c6a9-43d3-9581-1a0b08a29463",
   "metadata": {
    "tags": []
   },
   "outputs": [
    {
     "data": {
      "text/html": [
       "<div>\n",
       "<style scoped>\n",
       "    .dataframe tbody tr th:only-of-type {\n",
       "        vertical-align: middle;\n",
       "    }\n",
       "\n",
       "    .dataframe tbody tr th {\n",
       "        vertical-align: top;\n",
       "    }\n",
       "\n",
       "    .dataframe thead th {\n",
       "        text-align: right;\n",
       "    }\n",
       "</style>\n",
       "<table border=\"1\" class=\"dataframe\">\n",
       "  <thead>\n",
       "    <tr style=\"text-align: right;\">\n",
       "      <th></th>\n",
       "      <th>nl</th>\n",
       "    </tr>\n",
       "  </thead>\n",
       "  <tbody>\n",
       "    <tr>\n",
       "      <th>agriculture_final_demand_electricity_demand</th>\n",
       "      <td>41584.615</td>\n",
       "    </tr>\n",
       "    <tr>\n",
       "      <th>agriculture_final_demand_network_gas_demand</th>\n",
       "      <td>91072.918</td>\n",
       "    </tr>\n",
       "    <tr>\n",
       "      <th>input_agriculture_final_demand_steam_hot_water_demand</th>\n",
       "      <td>2783.107</td>\n",
       "    </tr>\n",
       "    <tr>\n",
       "      <th>agriculture_final_demand_wood_pellets_demand</th>\n",
       "      <td>5437.224</td>\n",
       "    </tr>\n",
       "    <tr>\n",
       "      <th>input_agriculture_final_demand_crude_oil_demand</th>\n",
       "      <td>17965.442</td>\n",
       "    </tr>\n",
       "  </tbody>\n",
       "</table>\n",
       "</div>"
      ],
      "text/plain": [
       "                                                           nl\n",
       "agriculture_final_demand_electricity_demand         41584.615\n",
       "agriculture_final_demand_network_gas_demand         91072.918\n",
       "input_agriculture_final_demand_steam_hot_water_...   2783.107\n",
       "agriculture_final_demand_wood_pellets_demand         5437.224\n",
       "input_agriculture_final_demand_crude_oil_demand     17965.442"
      ]
     },
     "execution_count": 178,
     "metadata": {},
     "output_type": "execute_result"
    }
   ],
   "source": [
    "# Import parent data\n",
    "path = Path(\"data\", \"intermediate\", \"parent_data.csv\")\n",
    "df_parent = pd.read_csv(path, index_col=0)\n",
    "\n",
    "# Preview parent data\n",
    "df_parent.T.head()"
   ]
  },
  {
   "cell_type": "markdown",
   "id": "858bfb09-db08-42b5-a6eb-e975daf304d7",
   "metadata": {
    "tags": [],
    "toc-hr-collapsed": true
   },
   "source": [
    "#### Energy demand\n",
    "Transform the energy demand data from Klimaatmonitor to the right format. "
   ]
  },
  {
   "cell_type": "markdown",
   "id": "9798ed30-90e0-43b7-8706-0b61042b1348",
   "metadata": {
    "tags": []
   },
   "source": [
    "##### List ETLocal keys"
   ]
  },
  {
   "cell_type": "markdown",
   "id": "c0aedc7e-c9f8-4a48-b939-576539e4a736",
   "metadata": {},
   "source": [
    "Preview the ETLocal keys that are relevant for the industry energy demand category"
   ]
  },
  {
   "cell_type": "code",
   "execution_count": 179,
   "id": "439654f8-6af5-4831-8be1-387c0809a530",
   "metadata": {
    "tags": []
   },
   "outputs": [],
   "source": [
    "# # Filter the ETLocal keys that are relevant for the industry energy demand category\n",
    "# filter_industry_demand = (slice(None), 'industry', 'industry_energy_demand')\n",
    "\n",
    "# # Preview the filtered template\n",
    "# template.loc[filter_industry_demand, :]"
   ]
  },
  {
   "cell_type": "markdown",
   "id": "57bdf194-5e5a-4c1c-85a7-fa8ca3e87446",
   "metadata": {
    "tags": []
   },
   "source": [
    "##### Fill missing values"
   ]
  },
  {
   "cell_type": "markdown",
   "id": "62cf75e3-f517-410a-8c09-4174fdea6a55",
   "metadata": {},
   "source": [
    "Then, fill the missing values for:\n",
    "- ..."
   ]
  },
  {
   "cell_type": "markdown",
   "id": "cae8d2c5-262a-4e6b-a94e-8ec67dd0a091",
   "metadata": {
    "tags": []
   },
   "source": [
    "**??** | .."
   ]
  },
  {
   "cell_type": "code",
   "execution_count": 180,
   "id": "7418f726-8c03-44f9-809c-1ecebb81a6c2",
   "metadata": {
    "tags": []
   },
   "outputs": [],
   "source": [
    "# # Preview template after changes\n",
    "# template.loc[filter_industry_demand, :].head()"
   ]
  },
  {
   "cell_type": "markdown",
   "id": "bc100912-975e-412c-9db6-fc112fafc3f4",
   "metadata": {
    "jp-MarkdownHeadingCollapsed": true,
    "tags": [],
    "toc-hr-collapsed": true
   },
   "source": [
    "#### Exceptions\n",
    "\n",
    "If there are any exceptions for municipal datasets, you can overwrite the values below."
   ]
  },
  {
   "cell_type": "markdown",
   "id": "c577ba36-1642-4258-b91b-37d95bf0ece6",
   "metadata": {},
   "source": [
    "**TO DO** | Explain to the user that this section should always be checked. Should the exception be overwritten by the update? Or should it remain untouched?"
   ]
  },
  {
   "cell_type": "markdown",
   "id": "fe12a78a-6899-41df-a83d-f398e967de15",
   "metadata": {},
   "source": [
    "##### Gemeente X"
   ]
  },
  {
   "cell_type": "code",
   "execution_count": 181,
   "id": "d3bdbe29-7e51-45ac-839a-b6f36e4bfd6b",
   "metadata": {
    "tags": []
   },
   "outputs": [],
   "source": [
    "#"
   ]
  },
  {
   "cell_type": "markdown",
   "id": "fc96dd4d-2492-4cb8-9d1e-48c980db9ead",
   "metadata": {
    "tags": []
   },
   "source": [
    "#### Export processed data\n",
    "Write the transformed data to our  `data / processed` directory. This is the data we will be using for the next (analysis and visualisation) steps in the pipeline."
   ]
  },
  {
   "cell_type": "code",
   "execution_count": 182,
   "id": "1b14f824-fdd3-4ee3-ae38-d11adfdf60da",
   "metadata": {
    "tags": []
   },
   "outputs": [],
   "source": [
    "# Write dataframe to intermediate data folder\n",
    "path = Path(\"data\", \"processed\", \"etlocal_template.csv\")\n",
    "template.to_csv(path)"
   ]
  },
  {
   "cell_type": "markdown",
   "id": "6051f5bb-984c-408d-980f-76737a5a78f0",
   "metadata": {
    "jp-MarkdownHeadingCollapsed": true,
    "tags": []
   },
   "source": [
    "### 4. Data analysis and visualisation"
   ]
  },
  {
   "cell_type": "code",
   "execution_count": 183,
   "id": "a244d769-c1c2-4d95-95e6-f277b3f871ac",
   "metadata": {
    "tags": []
   },
   "outputs": [],
   "source": [
    "# TODO"
   ]
  },
  {
   "cell_type": "markdown",
   "id": "7a0b9c33-b06f-42fa-9924-c3e35de1f682",
   "metadata": {
    "jp-MarkdownHeadingCollapsed": true,
    "tags": [],
    "toc-hr-collapsed": true
   },
   "source": [
    "## Energy production"
   ]
  },
  {
   "cell_type": "code",
   "execution_count": 184,
   "id": "2ee740d9-6bd4-4d0b-ba95-c971b8400f67",
   "metadata": {
    "tags": []
   },
   "outputs": [],
   "source": [
    "# TODO"
   ]
  },
  {
   "cell_type": "markdown",
   "id": "32e5ff68-bf3d-4633-a0b4-3e0f52a831d5",
   "metadata": {
    "tags": []
   },
   "source": [
    "### 1. Data collection"
   ]
  },
  {
   "cell_type": "code",
   "execution_count": 185,
   "id": "3f35141d-7dfc-4965-bda6-b5966f2c1c63",
   "metadata": {
    "tags": []
   },
   "outputs": [],
   "source": [
    "# TODO"
   ]
  },
  {
   "attachments": {
    "75b96a93-92f4-444a-9a96-18eb4a6d5295.png": {
     "image/png": "[encoded data removed]"
    }
   },
   "cell_type": "markdown",
   "id": "b8ecaafb-3bd3-45dc-a977-2b4804238b66",
   "metadata": {
    "tags": []
   },
   "source": [
    "In the data collection phase, we make an overview of the required data and design a data model to efficiently build our database. If possible, we call the API to collect our data. Otherwise, we first manually collect a data export and store it in the `data / raw` directory.\n",
    "\n",
    "![image.png](attachment:75b96a93-92f4-444a-9a96-18eb4a6d5295.png)\n",
    "\n",
    "For the municipal datasets we use the following data sources:\n",
    "* **??** | ...\n",
    "* **Dataset manager** | to collect the parent dataset\n",
    "\n",
    "For each data source, the following steps are followed:\n",
    "* **Extract** | Extracting the raw data from its source\n",
    "* **Transform** | Transforming the raw data to a 'workable' format \n",
    "* **Load** | Writing the processed data to the intermediate data directory\n"
   ]
  },
  {
   "cell_type": "code",
   "execution_count": 186,
   "id": "93a671d6-1282-4329-8623-fc46b4183245",
   "metadata": {
    "tags": []
   },
   "outputs": [],
   "source": [
    "# TODO"
   ]
  },
  {
   "cell_type": "markdown",
   "id": "77544b5a-3b7e-4720-a6c4-c393579d5608",
   "metadata": {
    "jp-MarkdownHeadingCollapsed": true,
    "tags": [],
    "toc-hr-collapsed": true
   },
   "source": [
    "### 2. Data quality"
   ]
  },
  {
   "cell_type": "code",
   "execution_count": 187,
   "id": "3c846f60-bb9a-4dcc-85ad-718b4fb893ad",
   "metadata": {
    "tags": []
   },
   "outputs": [],
   "source": [
    "# TODO"
   ]
  },
  {
   "cell_type": "markdown",
   "id": "9a0af3e7-55b3-46be-a456-d200e49cf354",
   "metadata": {
    "tags": []
   },
   "source": [
    "#### Setup\n",
    "\n",
    "Setup the checker and load all files from the `data / intermediate` directory."
   ]
  },
  {
   "cell_type": "markdown",
   "id": "f3a48f79-6303-47cf-abe9-6348054adfbc",
   "metadata": {},
   "source": [
    "First, setup the checker class"
   ]
  },
  {
   "cell_type": "code",
   "execution_count": 188,
   "id": "a4960d79-f9d7-42cd-97b1-776d26f81f5d",
   "metadata": {
    "tags": []
   },
   "outputs": [],
   "source": [
    "# Initialise checker class to access transformation functions\n",
    "checker = Checker()"
   ]
  },
  {
   "cell_type": "markdown",
   "id": "7d17bab8-bb38-49f7-a07b-fc84ecdd925a",
   "metadata": {},
   "source": [
    "Then, setup all data files:\n",
    "- ...\n",
    "- parent data"
   ]
  },
  {
   "cell_type": "markdown",
   "id": "67f883fa-37aa-4241-b746-91d992ed0af1",
   "metadata": {
    "tags": []
   },
   "source": [
    "### 3. Data transformation"
   ]
  },
  {
   "cell_type": "code",
   "execution_count": 189,
   "id": "432c8a2b-1919-4c26-8729-6d4a057e854b",
   "metadata": {},
   "outputs": [],
   "source": [
    "# TODO"
   ]
  },
  {
   "cell_type": "markdown",
   "id": "1c95144d-e75f-42ed-ab3f-05cacdc3bdb4",
   "metadata": {
    "tags": []
   },
   "source": [
    "#### Setup\n",
    "\n",
    "Setup the transformer and load all intermediate data files for the next step in the pipeline."
   ]
  },
  {
   "cell_type": "markdown",
   "id": "0097cef1-5580-4601-bccf-56ad0d3cfdd5",
   "metadata": {},
   "source": [
    "First, setup the transformer class:"
   ]
  },
  {
   "cell_type": "code",
   "execution_count": 190,
   "id": "f77e12b9-a7d6-40aa-95ec-ba7c766875a3",
   "metadata": {
    "tags": []
   },
   "outputs": [],
   "source": [
    "# Initialise transformer class to access transformation functions\n",
    "transformer = Transformer(municipalities, year)"
   ]
  },
  {
   "cell_type": "markdown",
   "id": "0cf4debd-608a-4fb6-8205-64a0804d0c27",
   "metadata": {},
   "source": [
    "Then, setup all data files:\n",
    "- dataframe representing data.csv \n",
    "- commits.yml\n",
    "- dataframe with all etlocal interface elements\n",
    "- ...\n",
    "- parent data"
   ]
  },
  {
   "cell_type": "markdown",
   "id": "d7abf215-f888-4eaa-8969-27f0d3c65bfb",
   "metadata": {
    "jp-MarkdownHeadingCollapsed": true,
    "tags": []
   },
   "source": [
    "##### Load parent data"
   ]
  },
  {
   "cell_type": "code",
   "execution_count": 191,
   "id": "31b83c3f-f0e3-4751-a7d8-5f4797e8af5e",
   "metadata": {
    "tags": []
   },
   "outputs": [
    {
     "data": {
      "text/html": [
       "<div>\n",
       "<style scoped>\n",
       "    .dataframe tbody tr th:only-of-type {\n",
       "        vertical-align: middle;\n",
       "    }\n",
       "\n",
       "    .dataframe tbody tr th {\n",
       "        vertical-align: top;\n",
       "    }\n",
       "\n",
       "    .dataframe thead th {\n",
       "        text-align: right;\n",
       "    }\n",
       "</style>\n",
       "<table border=\"1\" class=\"dataframe\">\n",
       "  <thead>\n",
       "    <tr style=\"text-align: right;\">\n",
       "      <th></th>\n",
       "      <th>nl</th>\n",
       "    </tr>\n",
       "  </thead>\n",
       "  <tbody>\n",
       "    <tr>\n",
       "      <th>agriculture_final_demand_electricity_demand</th>\n",
       "      <td>41584.615</td>\n",
       "    </tr>\n",
       "    <tr>\n",
       "      <th>agriculture_final_demand_network_gas_demand</th>\n",
       "      <td>91072.918</td>\n",
       "    </tr>\n",
       "    <tr>\n",
       "      <th>input_agriculture_final_demand_steam_hot_water_demand</th>\n",
       "      <td>2783.107</td>\n",
       "    </tr>\n",
       "    <tr>\n",
       "      <th>agriculture_final_demand_wood_pellets_demand</th>\n",
       "      <td>5437.224</td>\n",
       "    </tr>\n",
       "    <tr>\n",
       "      <th>input_agriculture_final_demand_crude_oil_demand</th>\n",
       "      <td>17965.442</td>\n",
       "    </tr>\n",
       "  </tbody>\n",
       "</table>\n",
       "</div>"
      ],
      "text/plain": [
       "                                                           nl\n",
       "agriculture_final_demand_electricity_demand         41584.615\n",
       "agriculture_final_demand_network_gas_demand         91072.918\n",
       "input_agriculture_final_demand_steam_hot_water_...   2783.107\n",
       "agriculture_final_demand_wood_pellets_demand         5437.224\n",
       "input_agriculture_final_demand_crude_oil_demand     17965.442"
      ]
     },
     "execution_count": 191,
     "metadata": {},
     "output_type": "execute_result"
    }
   ],
   "source": [
    "# Import parent data\n",
    "path = Path(\"data\", \"intermediate\", \"parent_data.csv\")\n",
    "df_parent = pd.read_csv(path, index_col=0)\n",
    "\n",
    "# Preview parent data\n",
    "df_parent.T.head()"
   ]
  },
  {
   "cell_type": "markdown",
   "id": "53705bdc-57e6-4277-93f3-a31e87ed7ed4",
   "metadata": {
    "tags": [],
    "toc-hr-collapsed": true
   },
   "source": [
    "#### Energy demand (own use)\n",
    "Transform the energy demand (own use) production data to the right format. "
   ]
  },
  {
   "cell_type": "markdown",
   "id": "c9ade615-351f-4918-9114-f7bda35a8933",
   "metadata": {
    "tags": []
   },
   "source": [
    "##### List ETLocal keys"
   ]
  },
  {
   "cell_type": "markdown",
   "id": "be7fa748-84ea-43af-9318-c7625be61b44",
   "metadata": {},
   "source": [
    "Preview the ETLocal keys that are relevant for the fossil electricity production category"
   ]
  },
  {
   "cell_type": "code",
   "execution_count": 192,
   "id": "14b30d18-a79b-4512-a5a8-709814878981",
   "metadata": {
    "tags": []
   },
   "outputs": [
    {
     "data": {
      "text/html": [
       "<div>\n",
       "<style scoped>\n",
       "    .dataframe tbody tr th:only-of-type {\n",
       "        vertical-align: middle;\n",
       "    }\n",
       "\n",
       "    .dataframe tbody tr th {\n",
       "        vertical-align: top;\n",
       "    }\n",
       "\n",
       "    .dataframe thead th {\n",
       "        text-align: right;\n",
       "    }\n",
       "</style>\n",
       "<table border=\"1\" class=\"dataframe\">\n",
       "  <thead>\n",
       "    <tr style=\"text-align: right;\">\n",
       "      <th></th>\n",
       "      <th></th>\n",
       "      <th></th>\n",
       "      <th></th>\n",
       "      <th>unit</th>\n",
       "      <th>value</th>\n",
       "      <th>commit</th>\n",
       "    </tr>\n",
       "    <tr>\n",
       "      <th>geo_id</th>\n",
       "      <th>group</th>\n",
       "      <th>subgroup</th>\n",
       "      <th>key</th>\n",
       "      <th></th>\n",
       "      <th></th>\n",
       "      <th></th>\n",
       "    </tr>\n",
       "  </thead>\n",
       "  <tbody>\n",
       "    <tr>\n",
       "      <th rowspan=\"3\" valign=\"top\">GM0003</th>\n",
       "      <th rowspan=\"3\" valign=\"top\">energy</th>\n",
       "      <th rowspan=\"3\" valign=\"top\">energy_energy_demand</th>\n",
       "      <th>input_energy_heat_distribution_ht_loss_share</th>\n",
       "      <td>%</td>\n",
       "      <td>NaN</td>\n",
       "      <td>NaN</td>\n",
       "    </tr>\n",
       "    <tr>\n",
       "      <th>input_energy_heat_distribution_mt_loss_share</th>\n",
       "      <td>%</td>\n",
       "      <td>NaN</td>\n",
       "      <td>NaN</td>\n",
       "    </tr>\n",
       "    <tr>\n",
       "      <th>input_energy_heat_distribution_lt_loss_share</th>\n",
       "      <td>%</td>\n",
       "      <td>NaN</td>\n",
       "      <td>NaN</td>\n",
       "    </tr>\n",
       "    <tr>\n",
       "      <th rowspan=\"2\" valign=\"top\">GM0010</th>\n",
       "      <th rowspan=\"2\" valign=\"top\">energy</th>\n",
       "      <th rowspan=\"2\" valign=\"top\">energy_energy_demand</th>\n",
       "      <th>input_energy_heat_distribution_ht_loss_share</th>\n",
       "      <td>%</td>\n",
       "      <td>NaN</td>\n",
       "      <td>NaN</td>\n",
       "    </tr>\n",
       "    <tr>\n",
       "      <th>input_energy_heat_distribution_mt_loss_share</th>\n",
       "      <td>%</td>\n",
       "      <td>NaN</td>\n",
       "      <td>NaN</td>\n",
       "    </tr>\n",
       "    <tr>\n",
       "      <th>...</th>\n",
       "      <th>...</th>\n",
       "      <th>...</th>\n",
       "      <th>...</th>\n",
       "      <td>...</td>\n",
       "      <td>...</td>\n",
       "      <td>...</td>\n",
       "    </tr>\n",
       "    <tr>\n",
       "      <th rowspan=\"2\" valign=\"top\">GM0642</th>\n",
       "      <th rowspan=\"2\" valign=\"top\">energy</th>\n",
       "      <th rowspan=\"2\" valign=\"top\">energy_energy_demand</th>\n",
       "      <th>input_energy_heat_distribution_mt_loss_share</th>\n",
       "      <td>%</td>\n",
       "      <td>NaN</td>\n",
       "      <td>NaN</td>\n",
       "    </tr>\n",
       "    <tr>\n",
       "      <th>input_energy_heat_distribution_lt_loss_share</th>\n",
       "      <td>%</td>\n",
       "      <td>NaN</td>\n",
       "      <td>NaN</td>\n",
       "    </tr>\n",
       "    <tr>\n",
       "      <th rowspan=\"3\" valign=\"top\">GM0193</th>\n",
       "      <th rowspan=\"3\" valign=\"top\">energy</th>\n",
       "      <th rowspan=\"3\" valign=\"top\">energy_energy_demand</th>\n",
       "      <th>input_energy_heat_distribution_ht_loss_share</th>\n",
       "      <td>%</td>\n",
       "      <td>NaN</td>\n",
       "      <td>NaN</td>\n",
       "    </tr>\n",
       "    <tr>\n",
       "      <th>input_energy_heat_distribution_mt_loss_share</th>\n",
       "      <td>%</td>\n",
       "      <td>NaN</td>\n",
       "      <td>NaN</td>\n",
       "    </tr>\n",
       "    <tr>\n",
       "      <th>input_energy_heat_distribution_lt_loss_share</th>\n",
       "      <td>%</td>\n",
       "      <td>NaN</td>\n",
       "      <td>NaN</td>\n",
       "    </tr>\n",
       "  </tbody>\n",
       "</table>\n",
       "<p>1065 rows × 3 columns</p>\n",
       "</div>"
      ],
      "text/plain": [
       "                                                                                unit  \\\n",
       "geo_id group  subgroup             key                                                 \n",
       "GM0003 energy energy_energy_demand input_energy_heat_distribution_ht_loss_share    %   \n",
       "                                   input_energy_heat_distribution_mt_loss_share    %   \n",
       "                                   input_energy_heat_distribution_lt_loss_share    %   \n",
       "GM0010 energy energy_energy_demand input_energy_heat_distribution_ht_loss_share    %   \n",
       "                                   input_energy_heat_distribution_mt_loss_share    %   \n",
       "...                                                                              ...   \n",
       "GM0642 energy energy_energy_demand input_energy_heat_distribution_mt_loss_share    %   \n",
       "                                   input_energy_heat_distribution_lt_loss_share    %   \n",
       "GM0193 energy energy_energy_demand input_energy_heat_distribution_ht_loss_share    %   \n",
       "                                   input_energy_heat_distribution_mt_loss_share    %   \n",
       "                                   input_energy_heat_distribution_lt_loss_share    %   \n",
       "\n",
       "                                                                                 value  \\\n",
       "geo_id group  subgroup             key                                                   \n",
       "GM0003 energy energy_energy_demand input_energy_heat_distribution_ht_loss_share    NaN   \n",
       "                                   input_energy_heat_distribution_mt_loss_share    NaN   \n",
       "                                   input_energy_heat_distribution_lt_loss_share    NaN   \n",
       "GM0010 energy energy_energy_demand input_energy_heat_distribution_ht_loss_share    NaN   \n",
       "                                   input_energy_heat_distribution_mt_loss_share    NaN   \n",
       "...                                                                                ...   \n",
       "GM0642 energy energy_energy_demand input_energy_heat_distribution_mt_loss_share    NaN   \n",
       "                                   input_energy_heat_distribution_lt_loss_share    NaN   \n",
       "GM0193 energy energy_energy_demand input_energy_heat_distribution_ht_loss_share    NaN   \n",
       "                                   input_energy_heat_distribution_mt_loss_share    NaN   \n",
       "                                   input_energy_heat_distribution_lt_loss_share    NaN   \n",
       "\n",
       "                                                                                commit  \n",
       "geo_id group  subgroup             key                                                  \n",
       "GM0003 energy energy_energy_demand input_energy_heat_distribution_ht_loss_share    NaN  \n",
       "                                   input_energy_heat_distribution_mt_loss_share    NaN  \n",
       "                                   input_energy_heat_distribution_lt_loss_share    NaN  \n",
       "GM0010 energy energy_energy_demand input_energy_heat_distribution_ht_loss_share    NaN  \n",
       "                                   input_energy_heat_distribution_mt_loss_share    NaN  \n",
       "...                                                                                ...  \n",
       "GM0642 energy energy_energy_demand input_energy_heat_distribution_mt_loss_share    NaN  \n",
       "                                   input_energy_heat_distribution_lt_loss_share    NaN  \n",
       "GM0193 energy energy_energy_demand input_energy_heat_distribution_ht_loss_share    NaN  \n",
       "                                   input_energy_heat_distribution_mt_loss_share    NaN  \n",
       "                                   input_energy_heat_distribution_lt_loss_share    NaN  \n",
       "\n",
       "[1065 rows x 3 columns]"
      ]
     },
     "execution_count": 192,
     "metadata": {},
     "output_type": "execute_result"
    }
   ],
   "source": [
    "# Filter the ETLocal keys that are relevant for the energy demand (own use) category\n",
    "filter_energy_energy_demand = (slice(None), 'energy', 'energy_energy_demand')\n",
    "\n",
    "# Preview the filtered template\n",
    "template.loc[filter_energy_energy_demand, :]"
   ]
  },
  {
   "cell_type": "markdown",
   "id": "494b4b64-8266-46a4-8ba6-61ad70d7d62f",
   "metadata": {
    "tags": []
   },
   "source": [
    "##### Fill missing values"
   ]
  },
  {
   "cell_type": "markdown",
   "id": "0b2f9875-1412-47c4-b1f4-c561e0e99163",
   "metadata": {},
   "source": [
    "Then, fill the missing values for:\n",
    "- Heat network distribution losses\n",
    "- ..."
   ]
  },
  {
   "cell_type": "markdown",
   "id": "a4c4dbd1-db6f-4cd8-9c25-173108d04b0b",
   "metadata": {},
   "source": [
    "**Heat network distribution losses** | In the present situation we presume all residual heat networks to be HT. Hence, all distribution losses are allocated to HT networks."
   ]
  },
  {
   "cell_type": "code",
   "execution_count": 193,
   "id": "ac4e74b8-4bfe-4fad-bfcc-9f94c81ff428",
   "metadata": {
    "tags": []
   },
   "outputs": [],
   "source": [
    "for temperature_level in ['lt', 'mt', 'ht']:\n",
    "    key = f'input_energy_heat_distribution_{temperature_level}_loss_share'\n",
    "    # The parent data hasn't been migrated yet so for now we're using a static value\n",
    "    # val = df_parent[key]\n",
    "    val = 100-75.71885721737949\n",
    "\n",
    "    # Update value and corresponding commit message for the temperature level share\n",
    "    template.loc[(slice(None), slice(None), slice(None), key), 'value'] = val\n",
    "    template.loc[(slice(None), slice(None), slice(None), key), 'commit'] = f\"No data available. We assume the share of loss is equal to the parent dataset ({parent}).\""
   ]
  },
  {
   "cell_type": "markdown",
   "id": "6ca70916-431f-49c9-8791-c65d9c51615a",
   "metadata": {},
   "source": [
    "**Preview** the template to see all changes"
   ]
  },
  {
   "cell_type": "code",
   "execution_count": 194,
   "id": "b87a8556-25e1-40fd-a3f7-f9b5f97a8972",
   "metadata": {
    "tags": []
   },
   "outputs": [
    {
     "data": {
      "text/html": [
       "<div>\n",
       "<style scoped>\n",
       "    .dataframe tbody tr th:only-of-type {\n",
       "        vertical-align: middle;\n",
       "    }\n",
       "\n",
       "    .dataframe tbody tr th {\n",
       "        vertical-align: top;\n",
       "    }\n",
       "\n",
       "    .dataframe thead th {\n",
       "        text-align: right;\n",
       "    }\n",
       "</style>\n",
       "<table border=\"1\" class=\"dataframe\">\n",
       "  <thead>\n",
       "    <tr style=\"text-align: right;\">\n",
       "      <th></th>\n",
       "      <th></th>\n",
       "      <th></th>\n",
       "      <th></th>\n",
       "      <th>unit</th>\n",
       "      <th>value</th>\n",
       "      <th>commit</th>\n",
       "    </tr>\n",
       "    <tr>\n",
       "      <th>geo_id</th>\n",
       "      <th>group</th>\n",
       "      <th>subgroup</th>\n",
       "      <th>key</th>\n",
       "      <th></th>\n",
       "      <th></th>\n",
       "      <th></th>\n",
       "    </tr>\n",
       "  </thead>\n",
       "  <tbody>\n",
       "    <tr>\n",
       "      <th rowspan=\"3\" valign=\"top\">GM0003</th>\n",
       "      <th rowspan=\"3\" valign=\"top\">energy</th>\n",
       "      <th rowspan=\"3\" valign=\"top\">energy_energy_demand</th>\n",
       "      <th>input_energy_heat_distribution_ht_loss_share</th>\n",
       "      <td>%</td>\n",
       "      <td>24.281143</td>\n",
       "      <td>No data available. We assume the share of loss...</td>\n",
       "    </tr>\n",
       "    <tr>\n",
       "      <th>input_energy_heat_distribution_mt_loss_share</th>\n",
       "      <td>%</td>\n",
       "      <td>24.281143</td>\n",
       "      <td>No data available. We assume the share of loss...</td>\n",
       "    </tr>\n",
       "    <tr>\n",
       "      <th>input_energy_heat_distribution_lt_loss_share</th>\n",
       "      <td>%</td>\n",
       "      <td>24.281143</td>\n",
       "      <td>No data available. We assume the share of loss...</td>\n",
       "    </tr>\n",
       "    <tr>\n",
       "      <th rowspan=\"2\" valign=\"top\">GM0010</th>\n",
       "      <th rowspan=\"2\" valign=\"top\">energy</th>\n",
       "      <th rowspan=\"2\" valign=\"top\">energy_energy_demand</th>\n",
       "      <th>input_energy_heat_distribution_ht_loss_share</th>\n",
       "      <td>%</td>\n",
       "      <td>24.281143</td>\n",
       "      <td>No data available. We assume the share of loss...</td>\n",
       "    </tr>\n",
       "    <tr>\n",
       "      <th>input_energy_heat_distribution_mt_loss_share</th>\n",
       "      <td>%</td>\n",
       "      <td>24.281143</td>\n",
       "      <td>No data available. We assume the share of loss...</td>\n",
       "    </tr>\n",
       "  </tbody>\n",
       "</table>\n",
       "</div>"
      ],
      "text/plain": [
       "                                                                                unit  \\\n",
       "geo_id group  subgroup             key                                                 \n",
       "GM0003 energy energy_energy_demand input_energy_heat_distribution_ht_loss_share    %   \n",
       "                                   input_energy_heat_distribution_mt_loss_share    %   \n",
       "                                   input_energy_heat_distribution_lt_loss_share    %   \n",
       "GM0010 energy energy_energy_demand input_energy_heat_distribution_ht_loss_share    %   \n",
       "                                   input_energy_heat_distribution_mt_loss_share    %   \n",
       "\n",
       "                                                                                     value  \\\n",
       "geo_id group  subgroup             key                                                       \n",
       "GM0003 energy energy_energy_demand input_energy_heat_distribution_ht_loss_share  24.281143   \n",
       "                                   input_energy_heat_distribution_mt_loss_share  24.281143   \n",
       "                                   input_energy_heat_distribution_lt_loss_share  24.281143   \n",
       "GM0010 energy energy_energy_demand input_energy_heat_distribution_ht_loss_share  24.281143   \n",
       "                                   input_energy_heat_distribution_mt_loss_share  24.281143   \n",
       "\n",
       "                                                                                                                            commit  \n",
       "geo_id group  subgroup             key                                                                                              \n",
       "GM0003 energy energy_energy_demand input_energy_heat_distribution_ht_loss_share  No data available. We assume the share of loss...  \n",
       "                                   input_energy_heat_distribution_mt_loss_share  No data available. We assume the share of loss...  \n",
       "                                   input_energy_heat_distribution_lt_loss_share  No data available. We assume the share of loss...  \n",
       "GM0010 energy energy_energy_demand input_energy_heat_distribution_ht_loss_share  No data available. We assume the share of loss...  \n",
       "                                   input_energy_heat_distribution_mt_loss_share  No data available. We assume the share of loss...  "
      ]
     },
     "execution_count": 194,
     "metadata": {},
     "output_type": "execute_result"
    }
   ],
   "source": [
    "# Preview template after changes\n",
    "template.loc[filter_energy_energy_demand, :].head()"
   ]
  },
  {
   "cell_type": "markdown",
   "id": "0f9ba241-a435-4180-932f-f15af3261557",
   "metadata": {
    "tags": [],
    "toc-hr-collapsed": true
   },
   "source": [
    "#### Fossil electricity production\n",
    "Transform the fossil electricity production data to the right format. "
   ]
  },
  {
   "cell_type": "markdown",
   "id": "8c5844f3-014f-42cb-af3d-f36a48da240b",
   "metadata": {
    "tags": []
   },
   "source": [
    "##### List ETLocal keys"
   ]
  },
  {
   "cell_type": "markdown",
   "id": "ffa58774-dc0f-450a-ae61-fd1c3c044cb1",
   "metadata": {},
   "source": [
    "Preview the ETLocal keys that are relevant for the fossil electricity production category"
   ]
  },
  {
   "cell_type": "code",
   "execution_count": 195,
   "id": "5396ccb3-b451-4530-98be-7868d84de252",
   "metadata": {
    "tags": []
   },
   "outputs": [
    {
     "data": {
      "text/html": [
       "<div>\n",
       "<style scoped>\n",
       "    .dataframe tbody tr th:only-of-type {\n",
       "        vertical-align: middle;\n",
       "    }\n",
       "\n",
       "    .dataframe tbody tr th {\n",
       "        vertical-align: top;\n",
       "    }\n",
       "\n",
       "    .dataframe thead th {\n",
       "        text-align: right;\n",
       "    }\n",
       "</style>\n",
       "<table border=\"1\" class=\"dataframe\">\n",
       "  <thead>\n",
       "    <tr style=\"text-align: right;\">\n",
       "      <th></th>\n",
       "      <th></th>\n",
       "      <th></th>\n",
       "      <th></th>\n",
       "      <th>unit</th>\n",
       "      <th>value</th>\n",
       "      <th>commit</th>\n",
       "    </tr>\n",
       "    <tr>\n",
       "      <th>geo_id</th>\n",
       "      <th>group</th>\n",
       "      <th>subgroup</th>\n",
       "      <th>key</th>\n",
       "      <th></th>\n",
       "      <th></th>\n",
       "      <th></th>\n",
       "    </tr>\n",
       "  </thead>\n",
       "  <tbody>\n",
       "    <tr>\n",
       "      <th rowspan=\"5\" valign=\"top\">GM0003</th>\n",
       "      <th rowspan=\"5\" valign=\"top\">energy</th>\n",
       "      <th rowspan=\"5\" valign=\"top\">energy_fossil_electricity_production</th>\n",
       "      <th>input_energy_chp_ultra_supercritical_ht_coal_production</th>\n",
       "      <td>TJ</td>\n",
       "      <td>NaN</td>\n",
       "      <td>NaN</td>\n",
       "    </tr>\n",
       "    <tr>\n",
       "      <th>input_energy_chp_ultra_supercritical_mt_coal_production</th>\n",
       "      <td>TJ</td>\n",
       "      <td>NaN</td>\n",
       "      <td>NaN</td>\n",
       "    </tr>\n",
       "    <tr>\n",
       "      <th>input_energy_chp_ultra_supercritical_cofiring_ht_coal_production</th>\n",
       "      <td>TJ</td>\n",
       "      <td>NaN</td>\n",
       "      <td>NaN</td>\n",
       "    </tr>\n",
       "    <tr>\n",
       "      <th>input_energy_chp_ultra_supercritical_cofiring_mt_coal_production</th>\n",
       "      <td>TJ</td>\n",
       "      <td>NaN</td>\n",
       "      <td>NaN</td>\n",
       "    </tr>\n",
       "    <tr>\n",
       "      <th>input_energy_chp_ultra_supercritical_ht_lignite_production</th>\n",
       "      <td>TJ</td>\n",
       "      <td>NaN</td>\n",
       "      <td>NaN</td>\n",
       "    </tr>\n",
       "    <tr>\n",
       "      <th>...</th>\n",
       "      <th>...</th>\n",
       "      <th>...</th>\n",
       "      <th>...</th>\n",
       "      <td>...</td>\n",
       "      <td>...</td>\n",
       "      <td>...</td>\n",
       "    </tr>\n",
       "    <tr>\n",
       "      <th rowspan=\"5\" valign=\"top\">GM0193</th>\n",
       "      <th rowspan=\"5\" valign=\"top\">energy</th>\n",
       "      <th rowspan=\"5\" valign=\"top\">energy_fossil_electricity_production</th>\n",
       "      <th>input_energy_chp_ultra_supercritical_mt_lignite_production</th>\n",
       "      <td>TJ</td>\n",
       "      <td>NaN</td>\n",
       "      <td>NaN</td>\n",
       "    </tr>\n",
       "    <tr>\n",
       "      <th>input_energy_chp_combined_cycle_ht_network_gas_production</th>\n",
       "      <td>TJ</td>\n",
       "      <td>NaN</td>\n",
       "      <td>NaN</td>\n",
       "    </tr>\n",
       "    <tr>\n",
       "      <th>input_energy_chp_combined_cycle_mt_network_gas_production</th>\n",
       "      <td>TJ</td>\n",
       "      <td>NaN</td>\n",
       "      <td>NaN</td>\n",
       "    </tr>\n",
       "    <tr>\n",
       "      <th>input_energy_chp_local_engine_ht_network_gas_production</th>\n",
       "      <td>TJ</td>\n",
       "      <td>NaN</td>\n",
       "      <td>NaN</td>\n",
       "    </tr>\n",
       "    <tr>\n",
       "      <th>input_energy_chp_local_engine_mt_network_gas_production</th>\n",
       "      <td>TJ</td>\n",
       "      <td>NaN</td>\n",
       "      <td>NaN</td>\n",
       "    </tr>\n",
       "  </tbody>\n",
       "</table>\n",
       "<p>3550 rows × 3 columns</p>\n",
       "</div>"
      ],
      "text/plain": [
       "                                                                                                      unit  \\\n",
       "geo_id group  subgroup                             key                                                       \n",
       "GM0003 energy energy_fossil_electricity_production input_energy_chp_ultra_supercritical_ht_coal_pr...   TJ   \n",
       "                                                   input_energy_chp_ultra_supercritical_mt_coal_pr...   TJ   \n",
       "                                                   input_energy_chp_ultra_supercritical_cofiring_h...   TJ   \n",
       "                                                   input_energy_chp_ultra_supercritical_cofiring_m...   TJ   \n",
       "                                                   input_energy_chp_ultra_supercritical_ht_lignite...   TJ   \n",
       "...                                                                                                    ...   \n",
       "GM0193 energy energy_fossil_electricity_production input_energy_chp_ultra_supercritical_mt_lignite...   TJ   \n",
       "                                                   input_energy_chp_combined_cycle_ht_network_gas_...   TJ   \n",
       "                                                   input_energy_chp_combined_cycle_mt_network_gas_...   TJ   \n",
       "                                                   input_energy_chp_local_engine_ht_network_gas_pr...   TJ   \n",
       "                                                   input_energy_chp_local_engine_mt_network_gas_pr...   TJ   \n",
       "\n",
       "                                                                                                       value  \\\n",
       "geo_id group  subgroup                             key                                                         \n",
       "GM0003 energy energy_fossil_electricity_production input_energy_chp_ultra_supercritical_ht_coal_pr...    NaN   \n",
       "                                                   input_energy_chp_ultra_supercritical_mt_coal_pr...    NaN   \n",
       "                                                   input_energy_chp_ultra_supercritical_cofiring_h...    NaN   \n",
       "                                                   input_energy_chp_ultra_supercritical_cofiring_m...    NaN   \n",
       "                                                   input_energy_chp_ultra_supercritical_ht_lignite...    NaN   \n",
       "...                                                                                                      ...   \n",
       "GM0193 energy energy_fossil_electricity_production input_energy_chp_ultra_supercritical_mt_lignite...    NaN   \n",
       "                                                   input_energy_chp_combined_cycle_ht_network_gas_...    NaN   \n",
       "                                                   input_energy_chp_combined_cycle_mt_network_gas_...    NaN   \n",
       "                                                   input_energy_chp_local_engine_ht_network_gas_pr...    NaN   \n",
       "                                                   input_energy_chp_local_engine_mt_network_gas_pr...    NaN   \n",
       "\n",
       "                                                                                                      commit  \n",
       "geo_id group  subgroup                             key                                                        \n",
       "GM0003 energy energy_fossil_electricity_production input_energy_chp_ultra_supercritical_ht_coal_pr...    NaN  \n",
       "                                                   input_energy_chp_ultra_supercritical_mt_coal_pr...    NaN  \n",
       "                                                   input_energy_chp_ultra_supercritical_cofiring_h...    NaN  \n",
       "                                                   input_energy_chp_ultra_supercritical_cofiring_m...    NaN  \n",
       "                                                   input_energy_chp_ultra_supercritical_ht_lignite...    NaN  \n",
       "...                                                                                                      ...  \n",
       "GM0193 energy energy_fossil_electricity_production input_energy_chp_ultra_supercritical_mt_lignite...    NaN  \n",
       "                                                   input_energy_chp_combined_cycle_ht_network_gas_...    NaN  \n",
       "                                                   input_energy_chp_combined_cycle_mt_network_gas_...    NaN  \n",
       "                                                   input_energy_chp_local_engine_ht_network_gas_pr...    NaN  \n",
       "                                                   input_energy_chp_local_engine_mt_network_gas_pr...    NaN  \n",
       "\n",
       "[3550 rows x 3 columns]"
      ]
     },
     "execution_count": 195,
     "metadata": {},
     "output_type": "execute_result"
    }
   ],
   "source": [
    "# Filter the ETLocal keys that are relevant for the fossil electricity production category\n",
    "filter_fossil_electricity_production = (slice(None), 'energy', 'energy_fossil_electricity_production')\n",
    "\n",
    "# Preview the filtered template\n",
    "template.loc[filter_fossil_electricity_production, :]"
   ]
  },
  {
   "cell_type": "markdown",
   "id": "8e0b7891-a475-4c50-9e80-020f9f2e9385",
   "metadata": {
    "tags": []
   },
   "source": [
    "##### Fill missing values"
   ]
  },
  {
   "cell_type": "markdown",
   "id": "c862a588-68db-4ff5-8935-f3ad3ed59d7c",
   "metadata": {},
   "source": [
    "Then, fill the missing values for:\n",
    "- MT CHPs\n",
    "- ..."
   ]
  },
  {
   "cell_type": "markdown",
   "id": "aebf1737-a491-4da4-980a-c42332fe3506",
   "metadata": {
    "tags": []
   },
   "source": [
    "**MT CHPs** | In the present situatie we presume all CHPs to produce HT heat, meaning the production of MT heat by CHPs can be set to zero for all producers."
   ]
  },
  {
   "cell_type": "code",
   "execution_count": 196,
   "id": "fc2f2867-bf45-4654-a02c-0f46c8b2e71c",
   "metadata": {
    "tags": []
   },
   "outputs": [],
   "source": [
    "# TODO: we could also use the parent data shares instead?\n",
    "for producer in ['ultra_supercritical_mt_coal', 'ultra_supercritical_cofiring_mt_coal', 'ultra_supercritical_mt_lignite', 'combined_cycle_mt_network_gas', 'local_engine_mt_network_gas']:\n",
    "    key = f'input_energy_chp_{producer}_production'\n",
    "    val = 0.\n",
    "    \n",
    "    # Update value and corresponding commit message for the temperature level share\n",
    "    template.loc[(slice(None), slice(None), slice(None), key), 'value'] = val\n",
    "    template.loc[(slice(None), slice(None), slice(None), key), 'commit'] = f\"No data available. All CHPs are assumed to produce only HT heat and zero MT heat.\""
   ]
  },
  {
   "cell_type": "markdown",
   "id": "be193877-a8d3-47a8-874e-647f38e01447",
   "metadata": {},
   "source": [
    "**Preview** the template to see all changes"
   ]
  },
  {
   "cell_type": "code",
   "execution_count": 197,
   "id": "5a5bd27c-2181-496c-970a-4a60c4557c20",
   "metadata": {
    "tags": []
   },
   "outputs": [
    {
     "data": {
      "text/html": [
       "<div>\n",
       "<style scoped>\n",
       "    .dataframe tbody tr th:only-of-type {\n",
       "        vertical-align: middle;\n",
       "    }\n",
       "\n",
       "    .dataframe tbody tr th {\n",
       "        vertical-align: top;\n",
       "    }\n",
       "\n",
       "    .dataframe thead th {\n",
       "        text-align: right;\n",
       "    }\n",
       "</style>\n",
       "<table border=\"1\" class=\"dataframe\">\n",
       "  <thead>\n",
       "    <tr style=\"text-align: right;\">\n",
       "      <th></th>\n",
       "      <th></th>\n",
       "      <th></th>\n",
       "      <th></th>\n",
       "      <th>unit</th>\n",
       "      <th>value</th>\n",
       "      <th>commit</th>\n",
       "    </tr>\n",
       "    <tr>\n",
       "      <th>geo_id</th>\n",
       "      <th>group</th>\n",
       "      <th>subgroup</th>\n",
       "      <th>key</th>\n",
       "      <th></th>\n",
       "      <th></th>\n",
       "      <th></th>\n",
       "    </tr>\n",
       "  </thead>\n",
       "  <tbody>\n",
       "    <tr>\n",
       "      <th rowspan=\"5\" valign=\"top\">GM0003</th>\n",
       "      <th rowspan=\"5\" valign=\"top\">energy</th>\n",
       "      <th rowspan=\"5\" valign=\"top\">energy_fossil_electricity_production</th>\n",
       "      <th>input_energy_chp_ultra_supercritical_ht_coal_production</th>\n",
       "      <td>TJ</td>\n",
       "      <td>NaN</td>\n",
       "      <td>NaN</td>\n",
       "    </tr>\n",
       "    <tr>\n",
       "      <th>input_energy_chp_ultra_supercritical_mt_coal_production</th>\n",
       "      <td>TJ</td>\n",
       "      <td>0.0</td>\n",
       "      <td>No data available. All CHPs are assumed to pro...</td>\n",
       "    </tr>\n",
       "    <tr>\n",
       "      <th>input_energy_chp_ultra_supercritical_cofiring_ht_coal_production</th>\n",
       "      <td>TJ</td>\n",
       "      <td>NaN</td>\n",
       "      <td>NaN</td>\n",
       "    </tr>\n",
       "    <tr>\n",
       "      <th>input_energy_chp_ultra_supercritical_cofiring_mt_coal_production</th>\n",
       "      <td>TJ</td>\n",
       "      <td>0.0</td>\n",
       "      <td>No data available. All CHPs are assumed to pro...</td>\n",
       "    </tr>\n",
       "    <tr>\n",
       "      <th>input_energy_chp_ultra_supercritical_ht_lignite_production</th>\n",
       "      <td>TJ</td>\n",
       "      <td>NaN</td>\n",
       "      <td>NaN</td>\n",
       "    </tr>\n",
       "  </tbody>\n",
       "</table>\n",
       "</div>"
      ],
      "text/plain": [
       "                                                                                                      unit  \\\n",
       "geo_id group  subgroup                             key                                                       \n",
       "GM0003 energy energy_fossil_electricity_production input_energy_chp_ultra_supercritical_ht_coal_pr...   TJ   \n",
       "                                                   input_energy_chp_ultra_supercritical_mt_coal_pr...   TJ   \n",
       "                                                   input_energy_chp_ultra_supercritical_cofiring_h...   TJ   \n",
       "                                                   input_energy_chp_ultra_supercritical_cofiring_m...   TJ   \n",
       "                                                   input_energy_chp_ultra_supercritical_ht_lignite...   TJ   \n",
       "\n",
       "                                                                                                       value  \\\n",
       "geo_id group  subgroup                             key                                                         \n",
       "GM0003 energy energy_fossil_electricity_production input_energy_chp_ultra_supercritical_ht_coal_pr...    NaN   \n",
       "                                                   input_energy_chp_ultra_supercritical_mt_coal_pr...    0.0   \n",
       "                                                   input_energy_chp_ultra_supercritical_cofiring_h...    NaN   \n",
       "                                                   input_energy_chp_ultra_supercritical_cofiring_m...    0.0   \n",
       "                                                   input_energy_chp_ultra_supercritical_ht_lignite...    NaN   \n",
       "\n",
       "                                                                                                                                                  commit  \n",
       "geo_id group  subgroup                             key                                                                                                    \n",
       "GM0003 energy energy_fossil_electricity_production input_energy_chp_ultra_supercritical_ht_coal_pr...                                                NaN  \n",
       "                                                   input_energy_chp_ultra_supercritical_mt_coal_pr...  No data available. All CHPs are assumed to pro...  \n",
       "                                                   input_energy_chp_ultra_supercritical_cofiring_h...                                                NaN  \n",
       "                                                   input_energy_chp_ultra_supercritical_cofiring_m...  No data available. All CHPs are assumed to pro...  \n",
       "                                                   input_energy_chp_ultra_supercritical_ht_lignite...                                                NaN  "
      ]
     },
     "execution_count": 197,
     "metadata": {},
     "output_type": "execute_result"
    }
   ],
   "source": [
    "# Preview template after changes\n",
    "template.loc[filter_fossil_electricity_production, :].head()"
   ]
  },
  {
   "cell_type": "markdown",
   "id": "d44b9936-593b-493f-9744-69dd24e34a85",
   "metadata": {
    "tags": [],
    "toc-hr-collapsed": true
   },
   "source": [
    "#### Renewable electricity production\n",
    "Transform the renewable electricity production data to the right format. "
   ]
  },
  {
   "cell_type": "markdown",
   "id": "f651c2d0-56b9-42f1-a1fa-197816394d81",
   "metadata": {
    "tags": []
   },
   "source": [
    "##### List ETLocal keys"
   ]
  },
  {
   "cell_type": "markdown",
   "id": "7f5ebb48-6c2c-4eed-be29-045a9ca7adf7",
   "metadata": {},
   "source": [
    "Preview the ETLocal keys that are relevant for the renewable electricity production category"
   ]
  },
  {
   "cell_type": "code",
   "execution_count": 198,
   "id": "0bb70abd-e1e0-4090-b3ff-84db082435ce",
   "metadata": {
    "tags": []
   },
   "outputs": [
    {
     "data": {
      "text/html": [
       "<div>\n",
       "<style scoped>\n",
       "    .dataframe tbody tr th:only-of-type {\n",
       "        vertical-align: middle;\n",
       "    }\n",
       "\n",
       "    .dataframe tbody tr th {\n",
       "        vertical-align: top;\n",
       "    }\n",
       "\n",
       "    .dataframe thead th {\n",
       "        text-align: right;\n",
       "    }\n",
       "</style>\n",
       "<table border=\"1\" class=\"dataframe\">\n",
       "  <thead>\n",
       "    <tr style=\"text-align: right;\">\n",
       "      <th></th>\n",
       "      <th></th>\n",
       "      <th></th>\n",
       "      <th></th>\n",
       "      <th>unit</th>\n",
       "      <th>value</th>\n",
       "      <th>commit</th>\n",
       "    </tr>\n",
       "    <tr>\n",
       "      <th>geo_id</th>\n",
       "      <th>group</th>\n",
       "      <th>subgroup</th>\n",
       "      <th>key</th>\n",
       "      <th></th>\n",
       "      <th></th>\n",
       "      <th></th>\n",
       "    </tr>\n",
       "  </thead>\n",
       "  <tbody>\n",
       "    <tr>\n",
       "      <th rowspan=\"5\" valign=\"top\">GM0003</th>\n",
       "      <th rowspan=\"5\" valign=\"top\">energy</th>\n",
       "      <th rowspan=\"5\" valign=\"top\">energy_renewable_electricity_production</th>\n",
       "      <th>input_energy_chp_supercritical_ht_waste_mix_production</th>\n",
       "      <td>TJ</td>\n",
       "      <td>NaN</td>\n",
       "      <td>NaN</td>\n",
       "    </tr>\n",
       "    <tr>\n",
       "      <th>input_energy_chp_supercritical_mt_waste_mix_production</th>\n",
       "      <td>TJ</td>\n",
       "      <td>NaN</td>\n",
       "      <td>NaN</td>\n",
       "    </tr>\n",
       "    <tr>\n",
       "      <th>input_energy_chp_local_ht_wood_pellets_production</th>\n",
       "      <td>TJ</td>\n",
       "      <td>NaN</td>\n",
       "      <td>NaN</td>\n",
       "    </tr>\n",
       "    <tr>\n",
       "      <th>input_energy_chp_local_mt_wood_pellets_production</th>\n",
       "      <td>TJ</td>\n",
       "      <td>NaN</td>\n",
       "      <td>NaN</td>\n",
       "    </tr>\n",
       "    <tr>\n",
       "      <th>input_energy_chp_local_engine_ht_biogas_production</th>\n",
       "      <td>TJ</td>\n",
       "      <td>NaN</td>\n",
       "      <td>NaN</td>\n",
       "    </tr>\n",
       "    <tr>\n",
       "      <th>...</th>\n",
       "      <th>...</th>\n",
       "      <th>...</th>\n",
       "      <th>...</th>\n",
       "      <td>...</td>\n",
       "      <td>...</td>\n",
       "      <td>...</td>\n",
       "    </tr>\n",
       "    <tr>\n",
       "      <th rowspan=\"5\" valign=\"top\">GM0193</th>\n",
       "      <th rowspan=\"5\" valign=\"top\">energy</th>\n",
       "      <th rowspan=\"5\" valign=\"top\">energy_renewable_electricity_production</th>\n",
       "      <th>input_energy_chp_supercritical_mt_waste_mix_production</th>\n",
       "      <td>TJ</td>\n",
       "      <td>NaN</td>\n",
       "      <td>NaN</td>\n",
       "    </tr>\n",
       "    <tr>\n",
       "      <th>input_energy_chp_local_ht_wood_pellets_production</th>\n",
       "      <td>TJ</td>\n",
       "      <td>NaN</td>\n",
       "      <td>NaN</td>\n",
       "    </tr>\n",
       "    <tr>\n",
       "      <th>input_energy_chp_local_mt_wood_pellets_production</th>\n",
       "      <td>TJ</td>\n",
       "      <td>NaN</td>\n",
       "      <td>NaN</td>\n",
       "    </tr>\n",
       "    <tr>\n",
       "      <th>input_energy_chp_local_engine_ht_biogas_production</th>\n",
       "      <td>TJ</td>\n",
       "      <td>NaN</td>\n",
       "      <td>NaN</td>\n",
       "    </tr>\n",
       "    <tr>\n",
       "      <th>input_energy_chp_local_engine_mt_biogas_production</th>\n",
       "      <td>TJ</td>\n",
       "      <td>NaN</td>\n",
       "      <td>NaN</td>\n",
       "    </tr>\n",
       "  </tbody>\n",
       "</table>\n",
       "<p>2130 rows × 3 columns</p>\n",
       "</div>"
      ],
      "text/plain": [
       "                                                                                                         unit  \\\n",
       "geo_id group  subgroup                                key                                                       \n",
       "GM0003 energy energy_renewable_electricity_production input_energy_chp_supercritical_ht_waste_mix_pro...   TJ   \n",
       "                                                      input_energy_chp_supercritical_mt_waste_mix_pro...   TJ   \n",
       "                                                      input_energy_chp_local_ht_wood_pellets_production    TJ   \n",
       "                                                      input_energy_chp_local_mt_wood_pellets_production    TJ   \n",
       "                                                      input_energy_chp_local_engine_ht_biogas_production   TJ   \n",
       "...                                                                                                       ...   \n",
       "GM0193 energy energy_renewable_electricity_production input_energy_chp_supercritical_mt_waste_mix_pro...   TJ   \n",
       "                                                      input_energy_chp_local_ht_wood_pellets_production    TJ   \n",
       "                                                      input_energy_chp_local_mt_wood_pellets_production    TJ   \n",
       "                                                      input_energy_chp_local_engine_ht_biogas_production   TJ   \n",
       "                                                      input_energy_chp_local_engine_mt_biogas_production   TJ   \n",
       "\n",
       "                                                                                                          value  \\\n",
       "geo_id group  subgroup                                key                                                         \n",
       "GM0003 energy energy_renewable_electricity_production input_energy_chp_supercritical_ht_waste_mix_pro...    NaN   \n",
       "                                                      input_energy_chp_supercritical_mt_waste_mix_pro...    NaN   \n",
       "                                                      input_energy_chp_local_ht_wood_pellets_production     NaN   \n",
       "                                                      input_energy_chp_local_mt_wood_pellets_production     NaN   \n",
       "                                                      input_energy_chp_local_engine_ht_biogas_production    NaN   \n",
       "...                                                                                                         ...   \n",
       "GM0193 energy energy_renewable_electricity_production input_energy_chp_supercritical_mt_waste_mix_pro...    NaN   \n",
       "                                                      input_energy_chp_local_ht_wood_pellets_production     NaN   \n",
       "                                                      input_energy_chp_local_mt_wood_pellets_production     NaN   \n",
       "                                                      input_energy_chp_local_engine_ht_biogas_production    NaN   \n",
       "                                                      input_energy_chp_local_engine_mt_biogas_production    NaN   \n",
       "\n",
       "                                                                                                         commit  \n",
       "geo_id group  subgroup                                key                                                        \n",
       "GM0003 energy energy_renewable_electricity_production input_energy_chp_supercritical_ht_waste_mix_pro...    NaN  \n",
       "                                                      input_energy_chp_supercritical_mt_waste_mix_pro...    NaN  \n",
       "                                                      input_energy_chp_local_ht_wood_pellets_production     NaN  \n",
       "                                                      input_energy_chp_local_mt_wood_pellets_production     NaN  \n",
       "                                                      input_energy_chp_local_engine_ht_biogas_production    NaN  \n",
       "...                                                                                                         ...  \n",
       "GM0193 energy energy_renewable_electricity_production input_energy_chp_supercritical_mt_waste_mix_pro...    NaN  \n",
       "                                                      input_energy_chp_local_ht_wood_pellets_production     NaN  \n",
       "                                                      input_energy_chp_local_mt_wood_pellets_production     NaN  \n",
       "                                                      input_energy_chp_local_engine_ht_biogas_production    NaN  \n",
       "                                                      input_energy_chp_local_engine_mt_biogas_production    NaN  \n",
       "\n",
       "[2130 rows x 3 columns]"
      ]
     },
     "execution_count": 198,
     "metadata": {},
     "output_type": "execute_result"
    }
   ],
   "source": [
    "# Filter the ETLocal keys that are relevant for the renewable electricity production category\n",
    "filter_renewable_electricity_production = (slice(None), 'energy', 'energy_renewable_electricity_production')\n",
    "\n",
    "# Preview the filtered template\n",
    "template.loc[filter_renewable_electricity_production, :]"
   ]
  },
  {
   "cell_type": "markdown",
   "id": "0c5aef5c-5a2b-4ebb-828f-708142c4a14d",
   "metadata": {
    "tags": []
   },
   "source": [
    "##### Fill missing values"
   ]
  },
  {
   "cell_type": "markdown",
   "id": "0c34b1a0-96f0-49b1-93c6-58ab5555edde",
   "metadata": {},
   "source": [
    "Then, fill the missing values for:\n",
    "- MT CHPs\n",
    "- ..."
   ]
  },
  {
   "cell_type": "markdown",
   "id": "8bac1657-0fe4-46f5-9c5f-75ae3b79b638",
   "metadata": {
    "tags": []
   },
   "source": [
    "**MT CHPs** | In the present situatie we presume all CHPs to produce HT heat, meaning the production of MT heat by CHPs can be set to zero for all producers."
   ]
  },
  {
   "cell_type": "code",
   "execution_count": 199,
   "id": "8243251a-e454-4fd7-aace-25b9d9ab91fc",
   "metadata": {
    "tags": []
   },
   "outputs": [],
   "source": [
    "# TODO: we could also use the parent data shares instead?\n",
    "for producer in ['supercritical_mt_waste_mix', 'local_mt_wood_pellets', 'local_engine_mt_biogas']:\n",
    "    key = f'input_energy_chp_{producer}_production'\n",
    "    val = 0.\n",
    "    \n",
    "    # Update value and corresponding commit message for the temperature level share\n",
    "    template.loc[(slice(None), slice(None), slice(None), key), 'value'] = val\n",
    "    template.loc[(slice(None), slice(None), slice(None), key), 'commit'] = f\"No data available. All CHPs are assumed to produce only HT heat and zero MT heat.\""
   ]
  },
  {
   "cell_type": "markdown",
   "id": "2f6a7d9b-91b8-4d28-92ca-32fc85959562",
   "metadata": {},
   "source": [
    "Preview the template to see all changes"
   ]
  },
  {
   "cell_type": "code",
   "execution_count": 200,
   "id": "bdfaffdc-71bf-4768-af3a-dc37bcc6f1d3",
   "metadata": {
    "tags": []
   },
   "outputs": [
    {
     "data": {
      "text/html": [
       "<div>\n",
       "<style scoped>\n",
       "    .dataframe tbody tr th:only-of-type {\n",
       "        vertical-align: middle;\n",
       "    }\n",
       "\n",
       "    .dataframe tbody tr th {\n",
       "        vertical-align: top;\n",
       "    }\n",
       "\n",
       "    .dataframe thead th {\n",
       "        text-align: right;\n",
       "    }\n",
       "</style>\n",
       "<table border=\"1\" class=\"dataframe\">\n",
       "  <thead>\n",
       "    <tr style=\"text-align: right;\">\n",
       "      <th></th>\n",
       "      <th></th>\n",
       "      <th></th>\n",
       "      <th></th>\n",
       "      <th>unit</th>\n",
       "      <th>value</th>\n",
       "      <th>commit</th>\n",
       "    </tr>\n",
       "    <tr>\n",
       "      <th>geo_id</th>\n",
       "      <th>group</th>\n",
       "      <th>subgroup</th>\n",
       "      <th>key</th>\n",
       "      <th></th>\n",
       "      <th></th>\n",
       "      <th></th>\n",
       "    </tr>\n",
       "  </thead>\n",
       "  <tbody>\n",
       "    <tr>\n",
       "      <th rowspan=\"5\" valign=\"top\">GM0003</th>\n",
       "      <th rowspan=\"5\" valign=\"top\">energy</th>\n",
       "      <th rowspan=\"5\" valign=\"top\">energy_renewable_electricity_production</th>\n",
       "      <th>input_energy_chp_supercritical_ht_waste_mix_production</th>\n",
       "      <td>TJ</td>\n",
       "      <td>NaN</td>\n",
       "      <td>NaN</td>\n",
       "    </tr>\n",
       "    <tr>\n",
       "      <th>input_energy_chp_supercritical_mt_waste_mix_production</th>\n",
       "      <td>TJ</td>\n",
       "      <td>0.0</td>\n",
       "      <td>No data available. All CHPs are assumed to pro...</td>\n",
       "    </tr>\n",
       "    <tr>\n",
       "      <th>input_energy_chp_local_ht_wood_pellets_production</th>\n",
       "      <td>TJ</td>\n",
       "      <td>NaN</td>\n",
       "      <td>NaN</td>\n",
       "    </tr>\n",
       "    <tr>\n",
       "      <th>input_energy_chp_local_mt_wood_pellets_production</th>\n",
       "      <td>TJ</td>\n",
       "      <td>0.0</td>\n",
       "      <td>No data available. All CHPs are assumed to pro...</td>\n",
       "    </tr>\n",
       "    <tr>\n",
       "      <th>input_energy_chp_local_engine_ht_biogas_production</th>\n",
       "      <td>TJ</td>\n",
       "      <td>NaN</td>\n",
       "      <td>NaN</td>\n",
       "    </tr>\n",
       "  </tbody>\n",
       "</table>\n",
       "</div>"
      ],
      "text/plain": [
       "                                                                                                         unit  \\\n",
       "geo_id group  subgroup                                key                                                       \n",
       "GM0003 energy energy_renewable_electricity_production input_energy_chp_supercritical_ht_waste_mix_pro...   TJ   \n",
       "                                                      input_energy_chp_supercritical_mt_waste_mix_pro...   TJ   \n",
       "                                                      input_energy_chp_local_ht_wood_pellets_production    TJ   \n",
       "                                                      input_energy_chp_local_mt_wood_pellets_production    TJ   \n",
       "                                                      input_energy_chp_local_engine_ht_biogas_production   TJ   \n",
       "\n",
       "                                                                                                          value  \\\n",
       "geo_id group  subgroup                                key                                                         \n",
       "GM0003 energy energy_renewable_electricity_production input_energy_chp_supercritical_ht_waste_mix_pro...    NaN   \n",
       "                                                      input_energy_chp_supercritical_mt_waste_mix_pro...    0.0   \n",
       "                                                      input_energy_chp_local_ht_wood_pellets_production     NaN   \n",
       "                                                      input_energy_chp_local_mt_wood_pellets_production     0.0   \n",
       "                                                      input_energy_chp_local_engine_ht_biogas_production    NaN   \n",
       "\n",
       "                                                                                                                                                     commit  \n",
       "geo_id group  subgroup                                key                                                                                                    \n",
       "GM0003 energy energy_renewable_electricity_production input_energy_chp_supercritical_ht_waste_mix_pro...                                                NaN  \n",
       "                                                      input_energy_chp_supercritical_mt_waste_mix_pro...  No data available. All CHPs are assumed to pro...  \n",
       "                                                      input_energy_chp_local_ht_wood_pellets_production                                                 NaN  \n",
       "                                                      input_energy_chp_local_mt_wood_pellets_production   No data available. All CHPs are assumed to pro...  \n",
       "                                                      input_energy_chp_local_engine_ht_biogas_production                                                NaN  "
      ]
     },
     "execution_count": 200,
     "metadata": {},
     "output_type": "execute_result"
    }
   ],
   "source": [
    "# Preview template after changes\n",
    "template.loc[filter_renewable_electricity_production, :].head()"
   ]
  },
  {
   "cell_type": "markdown",
   "id": "da0592e3-7e56-43f1-a7d6-0bbff5df036d",
   "metadata": {
    "tags": [],
    "toc-hr-collapsed": true
   },
   "source": [
    "#### Heat production\n",
    "Transform the heat production data to the right format. "
   ]
  },
  {
   "cell_type": "markdown",
   "id": "fc1df58f-7ff1-4a7f-8555-646203ed9d83",
   "metadata": {
    "tags": []
   },
   "source": [
    "##### List ETLocal keys"
   ]
  },
  {
   "cell_type": "markdown",
   "id": "d3ae6b93-9f70-4ebf-b2c2-2872771ab31f",
   "metadata": {},
   "source": [
    "Preview the ETLocal keys that are relevant for the heat production category"
   ]
  },
  {
   "cell_type": "code",
   "execution_count": 201,
   "id": "946e4028-dbec-4686-ac0e-ea6547ff001b",
   "metadata": {
    "tags": []
   },
   "outputs": [
    {
     "data": {
      "text/html": [
       "<div>\n",
       "<style scoped>\n",
       "    .dataframe tbody tr th:only-of-type {\n",
       "        vertical-align: middle;\n",
       "    }\n",
       "\n",
       "    .dataframe tbody tr th {\n",
       "        vertical-align: top;\n",
       "    }\n",
       "\n",
       "    .dataframe thead th {\n",
       "        text-align: right;\n",
       "    }\n",
       "</style>\n",
       "<table border=\"1\" class=\"dataframe\">\n",
       "  <thead>\n",
       "    <tr style=\"text-align: right;\">\n",
       "      <th></th>\n",
       "      <th></th>\n",
       "      <th></th>\n",
       "      <th></th>\n",
       "      <th>unit</th>\n",
       "      <th>value</th>\n",
       "      <th>commit</th>\n",
       "    </tr>\n",
       "    <tr>\n",
       "      <th>geo_id</th>\n",
       "      <th>group</th>\n",
       "      <th>subgroup</th>\n",
       "      <th>key</th>\n",
       "      <th></th>\n",
       "      <th></th>\n",
       "      <th></th>\n",
       "    </tr>\n",
       "  </thead>\n",
       "  <tbody>\n",
       "    <tr>\n",
       "      <th rowspan=\"5\" valign=\"top\">GM0003</th>\n",
       "      <th rowspan=\"5\" valign=\"top\">energy</th>\n",
       "      <th rowspan=\"5\" valign=\"top\">energy_heat_production</th>\n",
       "      <th>input_energy_heat_well_deep_ht_geothermal_production</th>\n",
       "      <td>TJ</td>\n",
       "      <td>NaN</td>\n",
       "      <td>NaN</td>\n",
       "    </tr>\n",
       "    <tr>\n",
       "      <th>input_energy_heat_well_deep_mt_geothermal_production</th>\n",
       "      <td>TJ</td>\n",
       "      <td>NaN</td>\n",
       "      <td>NaN</td>\n",
       "    </tr>\n",
       "    <tr>\n",
       "      <th>input_energy_heat_well_shallow_heatpump_mt_geothermal_production</th>\n",
       "      <td>TJ</td>\n",
       "      <td>NaN</td>\n",
       "      <td>NaN</td>\n",
       "    </tr>\n",
       "    <tr>\n",
       "      <th>input_energy_heat_well_shallow_lt_geothermal_production</th>\n",
       "      <td>TJ</td>\n",
       "      <td>NaN</td>\n",
       "      <td>NaN</td>\n",
       "    </tr>\n",
       "    <tr>\n",
       "      <th>input_energy_heat_burner_ht_wood_pellets_production</th>\n",
       "      <td>TJ</td>\n",
       "      <td>NaN</td>\n",
       "      <td>NaN</td>\n",
       "    </tr>\n",
       "    <tr>\n",
       "      <th>...</th>\n",
       "      <th>...</th>\n",
       "      <th>...</th>\n",
       "      <th>...</th>\n",
       "      <td>...</td>\n",
       "      <td>...</td>\n",
       "      <td>...</td>\n",
       "    </tr>\n",
       "    <tr>\n",
       "      <th rowspan=\"5\" valign=\"top\">GM0193</th>\n",
       "      <th rowspan=\"5\" valign=\"top\">energy</th>\n",
       "      <th rowspan=\"5\" valign=\"top\">energy_heat_production</th>\n",
       "      <th>input_energy_heat_burner_ht_crude_oil_production</th>\n",
       "      <td>TJ</td>\n",
       "      <td>NaN</td>\n",
       "      <td>NaN</td>\n",
       "    </tr>\n",
       "    <tr>\n",
       "      <th>input_energy_heat_burner_mt_crude_oil_production</th>\n",
       "      <td>TJ</td>\n",
       "      <td>NaN</td>\n",
       "      <td>NaN</td>\n",
       "    </tr>\n",
       "    <tr>\n",
       "      <th>energy_heat_import_lt_steam_hot_water_demand</th>\n",
       "      <td>TJ</td>\n",
       "      <td>NaN</td>\n",
       "      <td>NaN</td>\n",
       "    </tr>\n",
       "    <tr>\n",
       "      <th>energy_heat_import_mt_steam_hot_water_demand</th>\n",
       "      <td>TJ</td>\n",
       "      <td>NaN</td>\n",
       "      <td>NaN</td>\n",
       "    </tr>\n",
       "    <tr>\n",
       "      <th>energy_heat_import_ht_steam_hot_water_demand</th>\n",
       "      <td>TJ</td>\n",
       "      <td>NaN</td>\n",
       "      <td>NaN</td>\n",
       "    </tr>\n",
       "  </tbody>\n",
       "</table>\n",
       "<p>10295 rows × 3 columns</p>\n",
       "</div>"
      ],
      "text/plain": [
       "                                                                                        unit  \\\n",
       "geo_id group  subgroup               key                                                       \n",
       "GM0003 energy energy_heat_production input_energy_heat_well_deep_ht_geothermal_produ...   TJ   \n",
       "                                     input_energy_heat_well_deep_mt_geothermal_produ...   TJ   \n",
       "                                     input_energy_heat_well_shallow_heatpump_mt_geot...   TJ   \n",
       "                                     input_energy_heat_well_shallow_lt_geothermal_pr...   TJ   \n",
       "                                     input_energy_heat_burner_ht_wood_pellets_produc...   TJ   \n",
       "...                                                                                      ...   \n",
       "GM0193 energy energy_heat_production input_energy_heat_burner_ht_crude_oil_production     TJ   \n",
       "                                     input_energy_heat_burner_mt_crude_oil_production     TJ   \n",
       "                                     energy_heat_import_lt_steam_hot_water_demand         TJ   \n",
       "                                     energy_heat_import_mt_steam_hot_water_demand         TJ   \n",
       "                                     energy_heat_import_ht_steam_hot_water_demand         TJ   \n",
       "\n",
       "                                                                                         value  \\\n",
       "geo_id group  subgroup               key                                                         \n",
       "GM0003 energy energy_heat_production input_energy_heat_well_deep_ht_geothermal_produ...    NaN   \n",
       "                                     input_energy_heat_well_deep_mt_geothermal_produ...    NaN   \n",
       "                                     input_energy_heat_well_shallow_heatpump_mt_geot...    NaN   \n",
       "                                     input_energy_heat_well_shallow_lt_geothermal_pr...    NaN   \n",
       "                                     input_energy_heat_burner_ht_wood_pellets_produc...    NaN   \n",
       "...                                                                                        ...   \n",
       "GM0193 energy energy_heat_production input_energy_heat_burner_ht_crude_oil_production      NaN   \n",
       "                                     input_energy_heat_burner_mt_crude_oil_production      NaN   \n",
       "                                     energy_heat_import_lt_steam_hot_water_demand          NaN   \n",
       "                                     energy_heat_import_mt_steam_hot_water_demand          NaN   \n",
       "                                     energy_heat_import_ht_steam_hot_water_demand          NaN   \n",
       "\n",
       "                                                                                        commit  \n",
       "geo_id group  subgroup               key                                                        \n",
       "GM0003 energy energy_heat_production input_energy_heat_well_deep_ht_geothermal_produ...    NaN  \n",
       "                                     input_energy_heat_well_deep_mt_geothermal_produ...    NaN  \n",
       "                                     input_energy_heat_well_shallow_heatpump_mt_geot...    NaN  \n",
       "                                     input_energy_heat_well_shallow_lt_geothermal_pr...    NaN  \n",
       "                                     input_energy_heat_burner_ht_wood_pellets_produc...    NaN  \n",
       "...                                                                                        ...  \n",
       "GM0193 energy energy_heat_production input_energy_heat_burner_ht_crude_oil_production      NaN  \n",
       "                                     input_energy_heat_burner_mt_crude_oil_production      NaN  \n",
       "                                     energy_heat_import_lt_steam_hot_water_demand          NaN  \n",
       "                                     energy_heat_import_mt_steam_hot_water_demand          NaN  \n",
       "                                     energy_heat_import_ht_steam_hot_water_demand          NaN  \n",
       "\n",
       "[10295 rows x 3 columns]"
      ]
     },
     "execution_count": 201,
     "metadata": {},
     "output_type": "execute_result"
    }
   ],
   "source": [
    "# Filter the ETLocal keys that are relevant for the energy heat production category\n",
    "filter_energy_heat_production = (slice(None), 'energy', 'energy_heat_production')\n",
    "\n",
    "# Preview the filtered template\n",
    "template.loc[filter_energy_heat_production, :]"
   ]
  },
  {
   "cell_type": "markdown",
   "id": "4ba130a6-6e25-4160-bb3e-c9bab602bf49",
   "metadata": {
    "tags": []
   },
   "source": [
    "##### Fill missing values"
   ]
  },
  {
   "cell_type": "markdown",
   "id": "dddd3e8a-06f2-4857-8e2e-4956b31a5c7a",
   "metadata": {},
   "source": [
    "Then, fill the missing values for:\n",
    "- MT/LT heat production\n",
    "- Imported heat\n",
    "- ..."
   ]
  },
  {
   "cell_type": "markdown",
   "id": "08acf13c-be8c-47d5-ab52-7c4dd225397b",
   "metadata": {
    "tags": []
   },
   "source": [
    "**MT/LT heat production** | In the present situation we presume all HT/MT producers to produce only HT heat, meaning the production of MT heat by those producers can be set to zero. Furthermore, there is no data available about LT heat production. Hence, we assume that all production of LT heat is zero."
   ]
  },
  {
   "cell_type": "code",
   "execution_count": 202,
   "id": "833a815e-9086-4365-ae3d-0b2f9f20c3ee",
   "metadata": {
    "tags": []
   },
   "outputs": [],
   "source": [
    "for producer in ['well_deep_mt_geothermal', 'burner_mt_wood_pellets', 'burner_mt_waste_mix', 'burner_lt_hydrogen', 'burner_mt_hydrogen', 'burner_mt_network_gas', 'heatpump_water_water_mt_electricity', 'boiler_mt_electricity', 'boiler_lt_electricity', 'burner_mt_coal', 'burner_mt_crude_oil']:\n",
    "    key = f'input_energy_heat_{producer}_production'\n",
    "    val = 0.\n",
    "    \n",
    "    # Update value and corresponding commit message for the temperature level share\n",
    "    template.loc[(slice(None), slice(None), slice(None), key), 'value'] = val\n",
    "    template.loc[(slice(None), slice(None), slice(None), key), 'commit'] = f\"No data available. All heat producers are assumed to produce only HT heat and zero MT or LT heat.\""
   ]
  },
  {
   "cell_type": "code",
   "execution_count": 203,
   "id": "19111286-cb60-4c28-8e78-31296b9be406",
   "metadata": {
    "tags": []
   },
   "outputs": [],
   "source": [
    "for producer in ['well_shallow_heatpump_mt_geothermal', 'solar_mt_solar_thermal']:\n",
    "    key = f'input_energy_heat_{producer}_production'\n",
    "    val = 0.\n",
    "    \n",
    "    # Update value and corresponding commit message for the temperature level share\n",
    "    template.loc[(slice(None), slice(None), slice(None), key), 'value'] = val\n",
    "    template.loc[(slice(None), slice(None), slice(None), key), 'commit'] = f\"No data available. Production of MT heat is set to zero.\""
   ]
  },
  {
   "cell_type": "code",
   "execution_count": 204,
   "id": "8c3cf7ed-054e-4456-8c1d-0a6072388747",
   "metadata": {
    "tags": []
   },
   "outputs": [],
   "source": [
    "for producer in ['well_shallow_lt_geothermal', 'heatpump_water_water_lt_electricity', 'solar_lt_solar_thermal']:\n",
    "    key = f'input_energy_heat_{producer}_production'\n",
    "    val = 0.\n",
    "    \n",
    "    # Update value and corresponding commit message for the temperature level share\n",
    "    template.loc[(slice(None), slice(None), slice(None), key), 'value'] = val\n",
    "    template.loc[(slice(None), slice(None), slice(None), key), 'commit'] = f\"No data available. Production of LT heat is set to zero.\""
   ]
  },
  {
   "cell_type": "markdown",
   "id": "d9f3f192-0d1f-4355-8b97-1ba7e5356541",
   "metadata": {},
   "source": [
    "**Imported heat** | In the present situation we assume no heat is imported."
   ]
  },
  {
   "cell_type": "code",
   "execution_count": 205,
   "id": "10f4dfb0-f6aa-4d8b-8de0-1cd1c08bec6d",
   "metadata": {
    "tags": []
   },
   "outputs": [],
   "source": [
    "for temperature_level in ['lt', 'mt', 'ht']:\n",
    "    # TODO: turn into method\n",
    "    key = f'energy_heat_import_{temperature_level}_steam_hot_water_demand'\n",
    "    val = 0.\n",
    "\n",
    "    # Update value and corresponding commit message for the temperature level share\n",
    "    template.loc[(slice(None), slice(None), slice(None), key), 'value'] = val\n",
    "    template.loc[(slice(None), slice(None), slice(None), key), 'commit'] = f\"No data available. By default, the import of heat is set to zero.\""
   ]
  },
  {
   "cell_type": "markdown",
   "id": "ba41f2c6-39f4-45ef-b2af-487bd3930c18",
   "metadata": {},
   "source": [
    "**Preview** the template to see all changes"
   ]
  },
  {
   "cell_type": "code",
   "execution_count": 206,
   "id": "252b948f-138c-43e5-b7f9-c16bdad37112",
   "metadata": {
    "tags": []
   },
   "outputs": [
    {
     "data": {
      "text/html": [
       "<div>\n",
       "<style scoped>\n",
       "    .dataframe tbody tr th:only-of-type {\n",
       "        vertical-align: middle;\n",
       "    }\n",
       "\n",
       "    .dataframe tbody tr th {\n",
       "        vertical-align: top;\n",
       "    }\n",
       "\n",
       "    .dataframe thead th {\n",
       "        text-align: right;\n",
       "    }\n",
       "</style>\n",
       "<table border=\"1\" class=\"dataframe\">\n",
       "  <thead>\n",
       "    <tr style=\"text-align: right;\">\n",
       "      <th></th>\n",
       "      <th></th>\n",
       "      <th></th>\n",
       "      <th></th>\n",
       "      <th>unit</th>\n",
       "      <th>value</th>\n",
       "      <th>commit</th>\n",
       "    </tr>\n",
       "    <tr>\n",
       "      <th>geo_id</th>\n",
       "      <th>group</th>\n",
       "      <th>subgroup</th>\n",
       "      <th>key</th>\n",
       "      <th></th>\n",
       "      <th></th>\n",
       "      <th></th>\n",
       "    </tr>\n",
       "  </thead>\n",
       "  <tbody>\n",
       "    <tr>\n",
       "      <th rowspan=\"5\" valign=\"top\">GM0003</th>\n",
       "      <th rowspan=\"5\" valign=\"top\">energy</th>\n",
       "      <th rowspan=\"5\" valign=\"top\">energy_heat_production</th>\n",
       "      <th>input_energy_heat_well_deep_ht_geothermal_production</th>\n",
       "      <td>TJ</td>\n",
       "      <td>NaN</td>\n",
       "      <td>NaN</td>\n",
       "    </tr>\n",
       "    <tr>\n",
       "      <th>input_energy_heat_well_deep_mt_geothermal_production</th>\n",
       "      <td>TJ</td>\n",
       "      <td>0.0</td>\n",
       "      <td>No data available. All heat producers are assu...</td>\n",
       "    </tr>\n",
       "    <tr>\n",
       "      <th>input_energy_heat_well_shallow_heatpump_mt_geothermal_production</th>\n",
       "      <td>TJ</td>\n",
       "      <td>0.0</td>\n",
       "      <td>No data available. Production of MT heat is se...</td>\n",
       "    </tr>\n",
       "    <tr>\n",
       "      <th>input_energy_heat_well_shallow_lt_geothermal_production</th>\n",
       "      <td>TJ</td>\n",
       "      <td>0.0</td>\n",
       "      <td>No data available. Production of LT heat is se...</td>\n",
       "    </tr>\n",
       "    <tr>\n",
       "      <th>input_energy_heat_burner_ht_wood_pellets_production</th>\n",
       "      <td>TJ</td>\n",
       "      <td>NaN</td>\n",
       "      <td>NaN</td>\n",
       "    </tr>\n",
       "  </tbody>\n",
       "</table>\n",
       "</div>"
      ],
      "text/plain": [
       "                                                                                        unit  \\\n",
       "geo_id group  subgroup               key                                                       \n",
       "GM0003 energy energy_heat_production input_energy_heat_well_deep_ht_geothermal_produ...   TJ   \n",
       "                                     input_energy_heat_well_deep_mt_geothermal_produ...   TJ   \n",
       "                                     input_energy_heat_well_shallow_heatpump_mt_geot...   TJ   \n",
       "                                     input_energy_heat_well_shallow_lt_geothermal_pr...   TJ   \n",
       "                                     input_energy_heat_burner_ht_wood_pellets_produc...   TJ   \n",
       "\n",
       "                                                                                         value  \\\n",
       "geo_id group  subgroup               key                                                         \n",
       "GM0003 energy energy_heat_production input_energy_heat_well_deep_ht_geothermal_produ...    NaN   \n",
       "                                     input_energy_heat_well_deep_mt_geothermal_produ...    0.0   \n",
       "                                     input_energy_heat_well_shallow_heatpump_mt_geot...    0.0   \n",
       "                                     input_energy_heat_well_shallow_lt_geothermal_pr...    0.0   \n",
       "                                     input_energy_heat_burner_ht_wood_pellets_produc...    NaN   \n",
       "\n",
       "                                                                                                                                    commit  \n",
       "geo_id group  subgroup               key                                                                                                    \n",
       "GM0003 energy energy_heat_production input_energy_heat_well_deep_ht_geothermal_produ...                                                NaN  \n",
       "                                     input_energy_heat_well_deep_mt_geothermal_produ...  No data available. All heat producers are assu...  \n",
       "                                     input_energy_heat_well_shallow_heatpump_mt_geot...  No data available. Production of MT heat is se...  \n",
       "                                     input_energy_heat_well_shallow_lt_geothermal_pr...  No data available. Production of LT heat is se...  \n",
       "                                     input_energy_heat_burner_ht_wood_pellets_produc...                                                NaN  "
      ]
     },
     "execution_count": 206,
     "metadata": {},
     "output_type": "execute_result"
    }
   ],
   "source": [
    "# Preview template after changes\n",
    "template.loc[filter_energy_heat_production, :].head()"
   ]
  },
  {
   "cell_type": "markdown",
   "id": "5cc486a6-f489-4708-a263-854d76548c36",
   "metadata": {
    "jp-MarkdownHeadingCollapsed": true,
    "tags": [],
    "toc-hr-collapsed": true
   },
   "source": [
    "#### Exceptions\n",
    "\n",
    "If there are any exceptions for municipal datasets, you can overwrite the values below."
   ]
  },
  {
   "cell_type": "markdown",
   "id": "a67acfbb-5828-4672-bc77-6d7aa1f2fc8e",
   "metadata": {},
   "source": [
    "**TO DO** | Explain to the user that this section should always be checked. Should the exception be overwritten by the update? Or should it remain untouched?"
   ]
  },
  {
   "cell_type": "markdown",
   "id": "1369952e-ff9a-41c8-980e-837d82157746",
   "metadata": {},
   "source": [
    "##### Gemeente X"
   ]
  },
  {
   "cell_type": "code",
   "execution_count": 207,
   "id": "ff743504-0b2b-4c5d-a5c4-1bd1e38d07be",
   "metadata": {
    "tags": []
   },
   "outputs": [],
   "source": [
    "#"
   ]
  },
  {
   "cell_type": "markdown",
   "id": "8996ce9f-24cd-42c0-9fcf-3feb2b003c07",
   "metadata": {
    "tags": []
   },
   "source": [
    "#### Export processed data\n",
    "Write the transformed data to our  `data / processed` directory. This is the data we will be using for the next (analysis and visualisation) steps in the pipeline."
   ]
  },
  {
   "cell_type": "code",
   "execution_count": 208,
   "id": "0dd4507c-d0e8-4b2f-b580-73a8c0d0021b",
   "metadata": {
    "tags": []
   },
   "outputs": [],
   "source": [
    "# Write dataframe to intermediate data folder\n",
    "path = Path(\"data\", \"processed\", \"etlocal_template.csv\")\n",
    "template.to_csv(path)"
   ]
  },
  {
   "cell_type": "markdown",
   "id": "bb78734c-7add-4158-b8e9-ba165a7bf91f",
   "metadata": {
    "jp-MarkdownHeadingCollapsed": true,
    "tags": []
   },
   "source": [
    "### 4. Data analysis and visualisation"
   ]
  },
  {
   "cell_type": "code",
   "execution_count": 209,
   "id": "681c9cd8-9709-4a59-854a-9d91580ad703",
   "metadata": {
    "tags": []
   },
   "outputs": [],
   "source": [
    "# TODO"
   ]
  },
  {
   "cell_type": "markdown",
   "id": "f5c6721d-3dc3-4271-b88c-1ec5c45d4f3b",
   "metadata": {
    "tags": []
   },
   "source": [
    "## Migration"
   ]
  },
  {
   "cell_type": "markdown",
   "id": "175965c9-1c0f-4691-b729-6731cfe87b07",
   "metadata": {},
   "source": [
    "#### Initialize migration files"
   ]
  },
  {
   "cell_type": "code",
   "execution_count": 210,
   "id": "e3ca8ccc-f1e4-44b2-a7d8-b018641591d1",
   "metadata": {
    "tags": []
   },
   "outputs": [],
   "source": [
    "# First, initialize data.csv file based on the config file\n",
    "path = Path(\"config\", \"data.csv\")\n",
    "df_data_csv = pd.read_csv(path, sep=sep, index_col=[0])\n",
    "\n",
    "# Drop unnamed columns\n",
    "df_data_csv = df_data_csv.drop(columns=df_data_csv.columns[df_data_csv.columns.str.startswith('Unnamed')])"
   ]
  },
  {
   "cell_type": "code",
   "execution_count": 211,
   "id": "ff8f7beb-a941-4825-a48e-7ae19177ed54",
   "metadata": {
    "tags": []
   },
   "outputs": [
    {
     "data": {
      "text/html": [
       "<div>\n",
       "<style scoped>\n",
       "    .dataframe tbody tr th:only-of-type {\n",
       "        vertical-align: middle;\n",
       "    }\n",
       "\n",
       "    .dataframe tbody tr th {\n",
       "        vertical-align: top;\n",
       "    }\n",
       "\n",
       "    .dataframe thead th {\n",
       "        text-align: right;\n",
       "    }\n",
       "</style>\n",
       "<table border=\"1\" class=\"dataframe\">\n",
       "  <thead>\n",
       "    <tr style=\"text-align: right;\">\n",
       "      <th></th>\n",
       "      <th>country</th>\n",
       "      <th>name</th>\n",
       "    </tr>\n",
       "    <tr>\n",
       "      <th>geo_id</th>\n",
       "      <th></th>\n",
       "      <th></th>\n",
       "    </tr>\n",
       "  </thead>\n",
       "  <tbody>\n",
       "    <tr>\n",
       "      <th>GM0003</th>\n",
       "      <td>nl2019</td>\n",
       "      <td>Appingedam</td>\n",
       "    </tr>\n",
       "    <tr>\n",
       "      <th>GM0010</th>\n",
       "      <td>nl2019</td>\n",
       "      <td>Delfzijl</td>\n",
       "    </tr>\n",
       "    <tr>\n",
       "      <th>GM0024</th>\n",
       "      <td>nl2019</td>\n",
       "      <td>Loppersum</td>\n",
       "    </tr>\n",
       "    <tr>\n",
       "      <th>GM1680</th>\n",
       "      <td>nl2019</td>\n",
       "      <td>Aa en Hunze</td>\n",
       "    </tr>\n",
       "    <tr>\n",
       "      <th>GM0358</th>\n",
       "      <td>nl2019</td>\n",
       "      <td>Aalsmeer</td>\n",
       "    </tr>\n",
       "    <tr>\n",
       "      <th>...</th>\n",
       "      <td>...</td>\n",
       "      <td>...</td>\n",
       "    </tr>\n",
       "    <tr>\n",
       "      <th>GM0879</th>\n",
       "      <td>nl2019</td>\n",
       "      <td>Zundert</td>\n",
       "    </tr>\n",
       "    <tr>\n",
       "      <th>GM0301</th>\n",
       "      <td>nl2019</td>\n",
       "      <td>Zutphen</td>\n",
       "    </tr>\n",
       "    <tr>\n",
       "      <th>GM1896</th>\n",
       "      <td>nl2019</td>\n",
       "      <td>Zwartewaterland</td>\n",
       "    </tr>\n",
       "    <tr>\n",
       "      <th>GM0642</th>\n",
       "      <td>nl2019</td>\n",
       "      <td>Zwijndrecht</td>\n",
       "    </tr>\n",
       "    <tr>\n",
       "      <th>GM0193</th>\n",
       "      <td>nl2019</td>\n",
       "      <td>Zwolle</td>\n",
       "    </tr>\n",
       "  </tbody>\n",
       "</table>\n",
       "<p>355 rows × 2 columns</p>\n",
       "</div>"
      ],
      "text/plain": [
       "       country             name\n",
       "geo_id                         \n",
       "GM0003  nl2019       Appingedam\n",
       "GM0010  nl2019         Delfzijl\n",
       "GM0024  nl2019        Loppersum\n",
       "GM1680  nl2019      Aa en Hunze\n",
       "GM0358  nl2019         Aalsmeer\n",
       "...        ...              ...\n",
       "GM0879  nl2019          Zundert\n",
       "GM0301  nl2019          Zutphen\n",
       "GM1896  nl2019  Zwartewaterland\n",
       "GM0642  nl2019      Zwijndrecht\n",
       "GM0193  nl2019           Zwolle\n",
       "\n",
       "[355 rows x 2 columns]"
      ]
     },
     "execution_count": 211,
     "metadata": {},
     "output_type": "execute_result"
    }
   ],
   "source": [
    "# Preview dataframe representing data.csv\n",
    "df_data_csv"
   ]
  },
  {
   "cell_type": "code",
   "execution_count": 212,
   "id": "041a85c6-b940-44b3-a64f-d29332d6365f",
   "metadata": {
    "tags": []
   },
   "outputs": [],
   "source": [
    "# Then, initialize commits.yml file by specifying the file path where you want to create the YAML file\n",
    "path = Path(\"data\", \"reporting\", \"commits.yml\")\n",
    "\n",
    "# Write the document separator to the YAML file\n",
    "with open(path, 'w') as file:\n",
    "    file.write('---\\n')"
   ]
  },
  {
   "cell_type": "markdown",
   "id": "0d7cceb9-aada-4bc3-881f-112dbb48a845",
   "metadata": {
    "tags": []
   },
   "source": [
    "#### Fill migration files\n",
    "Fill the relevant processed data from the ETLocal template in the `data.csv` and `commits.yml` files that are necessary for a ETLocal migration."
   ]
  },
  {
   "cell_type": "code",
   "execution_count": 213,
   "id": "11b77f9d-00d9-4e66-b399-83c69442836d",
   "metadata": {
    "tags": []
   },
   "outputs": [
    {
     "data": {
      "text/html": [
       "<div>\n",
       "<style scoped>\n",
       "    .dataframe tbody tr th:only-of-type {\n",
       "        vertical-align: middle;\n",
       "    }\n",
       "\n",
       "    .dataframe tbody tr th {\n",
       "        vertical-align: top;\n",
       "    }\n",
       "\n",
       "    .dataframe thead th {\n",
       "        text-align: right;\n",
       "    }\n",
       "</style>\n",
       "<table border=\"1\" class=\"dataframe\">\n",
       "  <thead>\n",
       "    <tr style=\"text-align: right;\">\n",
       "      <th></th>\n",
       "      <th></th>\n",
       "      <th></th>\n",
       "      <th></th>\n",
       "      <th>unit</th>\n",
       "      <th>value</th>\n",
       "      <th>commit</th>\n",
       "    </tr>\n",
       "    <tr>\n",
       "      <th>geo_id</th>\n",
       "      <th>group</th>\n",
       "      <th>subgroup</th>\n",
       "      <th>key</th>\n",
       "      <th></th>\n",
       "      <th></th>\n",
       "      <th></th>\n",
       "    </tr>\n",
       "  </thead>\n",
       "  <tbody>\n",
       "    <tr>\n",
       "      <th rowspan=\"5\" valign=\"top\">GM0003</th>\n",
       "      <th rowspan=\"2\" valign=\"top\">area</th>\n",
       "      <th rowspan=\"2\" valign=\"top\">area_emission_factors</th>\n",
       "      <th>file_carriers_imported_heat_co2_conversion_per_mj</th>\n",
       "      <td>kg/MJ</td>\n",
       "      <td>0.036000</td>\n",
       "      <td>Based on https://www.co2emissiefactoren.nl/lij...</td>\n",
       "    </tr>\n",
       "    <tr>\n",
       "      <th>file_carriers_propane_co2_conversion_per_mj</th>\n",
       "      <td>kg/MJ</td>\n",
       "      <td>0.064480</td>\n",
       "      <td>Adopted from the parent dataset (the Netherlands)</td>\n",
       "    </tr>\n",
       "    <tr>\n",
       "      <th rowspan=\"3\" valign=\"top\">households</th>\n",
       "      <th rowspan=\"3\" valign=\"top\">households_energy_demand</th>\n",
       "      <th>input_percentage_of_lt_steam_hot_water_households_final_demand_steam_hot_water</th>\n",
       "      <td>%</td>\n",
       "      <td>0.000000</td>\n",
       "      <td>No data available. Fallback value set to 0.0 t...</td>\n",
       "    </tr>\n",
       "    <tr>\n",
       "      <th>input_percentage_of_mt_steam_hot_water_households_final_demand_steam_hot_water</th>\n",
       "      <td>%</td>\n",
       "      <td>0.000000</td>\n",
       "      <td>No data available. Fallback value set to 0.0 t...</td>\n",
       "    </tr>\n",
       "    <tr>\n",
       "      <th>input_percentage_of_ht_steam_hot_water_households_final_demand_steam_hot_water</th>\n",
       "      <td>%</td>\n",
       "      <td>1.000000</td>\n",
       "      <td>No data available. Fallback value set to 1.0 t...</td>\n",
       "    </tr>\n",
       "    <tr>\n",
       "      <th>...</th>\n",
       "      <th>...</th>\n",
       "      <th>...</th>\n",
       "      <th>...</th>\n",
       "      <td>...</td>\n",
       "      <td>...</td>\n",
       "      <td>...</td>\n",
       "    </tr>\n",
       "    <tr>\n",
       "      <th rowspan=\"5\" valign=\"top\">GM0193</th>\n",
       "      <th rowspan=\"5\" valign=\"top\">energy</th>\n",
       "      <th rowspan=\"2\" valign=\"top\">energy_heat_production</th>\n",
       "      <th>energy_heat_import_mt_steam_hot_water_demand</th>\n",
       "      <td>TJ</td>\n",
       "      <td>0.000000</td>\n",
       "      <td>No data available. By default, the import of h...</td>\n",
       "    </tr>\n",
       "    <tr>\n",
       "      <th>energy_heat_import_ht_steam_hot_water_demand</th>\n",
       "      <td>TJ</td>\n",
       "      <td>0.000000</td>\n",
       "      <td>No data available. By default, the import of h...</td>\n",
       "    </tr>\n",
       "    <tr>\n",
       "      <th rowspan=\"3\" valign=\"top\">energy_energy_demand</th>\n",
       "      <th>input_energy_heat_distribution_ht_loss_share</th>\n",
       "      <td>%</td>\n",
       "      <td>24.281143</td>\n",
       "      <td>No data available. We assume the share of loss...</td>\n",
       "    </tr>\n",
       "    <tr>\n",
       "      <th>input_energy_heat_distribution_mt_loss_share</th>\n",
       "      <td>%</td>\n",
       "      <td>24.281143</td>\n",
       "      <td>No data available. We assume the share of loss...</td>\n",
       "    </tr>\n",
       "    <tr>\n",
       "      <th>input_energy_heat_distribution_lt_loss_share</th>\n",
       "      <td>%</td>\n",
       "      <td>24.281143</td>\n",
       "      <td>No data available. We assume the share of loss...</td>\n",
       "    </tr>\n",
       "  </tbody>\n",
       "</table>\n",
       "<p>42955 rows × 3 columns</p>\n",
       "</div>"
      ],
      "text/plain": [
       "                                                                                                unit  \\\n",
       "geo_id group      subgroup                 key                                                         \n",
       "GM0003 area       area_emission_factors    file_carriers_imported_heat_co2_conversion_per_mj   kg/MJ   \n",
       "                                           file_carriers_propane_co2_conversion_per_mj         kg/MJ   \n",
       "       households households_energy_demand input_percentage_of_lt_steam_hot_water_househol...      %   \n",
       "                                           input_percentage_of_mt_steam_hot_water_househol...      %   \n",
       "                                           input_percentage_of_ht_steam_hot_water_househol...      %   \n",
       "...                                                                                              ...   \n",
       "GM0193 energy     energy_heat_production   energy_heat_import_mt_steam_hot_water_demand           TJ   \n",
       "                                           energy_heat_import_ht_steam_hot_water_demand           TJ   \n",
       "                  energy_energy_demand     input_energy_heat_distribution_ht_loss_share            %   \n",
       "                                           input_energy_heat_distribution_mt_loss_share            %   \n",
       "                                           input_energy_heat_distribution_lt_loss_share            %   \n",
       "\n",
       "                                                                                                   value  \\\n",
       "geo_id group      subgroup                 key                                                             \n",
       "GM0003 area       area_emission_factors    file_carriers_imported_heat_co2_conversion_per_mj    0.036000   \n",
       "                                           file_carriers_propane_co2_conversion_per_mj          0.064480   \n",
       "       households households_energy_demand input_percentage_of_lt_steam_hot_water_househol...   0.000000   \n",
       "                                           input_percentage_of_mt_steam_hot_water_househol...   0.000000   \n",
       "                                           input_percentage_of_ht_steam_hot_water_househol...   1.000000   \n",
       "...                                                                                                  ...   \n",
       "GM0193 energy     energy_heat_production   energy_heat_import_mt_steam_hot_water_demand         0.000000   \n",
       "                                           energy_heat_import_ht_steam_hot_water_demand         0.000000   \n",
       "                  energy_energy_demand     input_energy_heat_distribution_ht_loss_share        24.281143   \n",
       "                                           input_energy_heat_distribution_mt_loss_share        24.281143   \n",
       "                                           input_energy_heat_distribution_lt_loss_share        24.281143   \n",
       "\n",
       "                                                                                                                                          commit  \n",
       "geo_id group      subgroup                 key                                                                                                    \n",
       "GM0003 area       area_emission_factors    file_carriers_imported_heat_co2_conversion_per_mj   Based on https://www.co2emissiefactoren.nl/lij...  \n",
       "                                           file_carriers_propane_co2_conversion_per_mj         Adopted from the parent dataset (the Netherlands)  \n",
       "       households households_energy_demand input_percentage_of_lt_steam_hot_water_househol...  No data available. Fallback value set to 0.0 t...  \n",
       "                                           input_percentage_of_mt_steam_hot_water_househol...  No data available. Fallback value set to 0.0 t...  \n",
       "                                           input_percentage_of_ht_steam_hot_water_househol...  No data available. Fallback value set to 1.0 t...  \n",
       "...                                                                                                                                          ...  \n",
       "GM0193 energy     energy_heat_production   energy_heat_import_mt_steam_hot_water_demand        No data available. By default, the import of h...  \n",
       "                                           energy_heat_import_ht_steam_hot_water_demand        No data available. By default, the import of h...  \n",
       "                  energy_energy_demand     input_energy_heat_distribution_ht_loss_share        No data available. We assume the share of loss...  \n",
       "                                           input_energy_heat_distribution_mt_loss_share        No data available. We assume the share of loss...  \n",
       "                                           input_energy_heat_distribution_lt_loss_share        No data available. We assume the share of loss...  \n",
       "\n",
       "[42955 rows x 3 columns]"
      ]
     },
     "execution_count": 213,
     "metadata": {},
     "output_type": "execute_result"
    }
   ],
   "source": [
    "# Preview ETLocal template\n",
    "template"
   ]
  },
  {
   "cell_type": "code",
   "execution_count": 214,
   "id": "ebd08abf-4914-4772-b568-c4f1301b6263",
   "metadata": {
    "tags": []
   },
   "outputs": [
    {
     "data": {
      "text/plain": [
       "['file_carriers_imported_heat_co2_conversion_per_mj',\n",
       " 'file_carriers_propane_co2_conversion_per_mj',\n",
       " 'input_percentage_of_lt_steam_hot_water_households_final_demand_steam_hot_water',\n",
       " 'input_percentage_of_mt_steam_hot_water_households_final_demand_steam_hot_water',\n",
       " 'input_percentage_of_ht_steam_hot_water_households_final_demand_steam_hot_water',\n",
       " 'input_percentage_of_lt_steam_hot_water_buildings_final_demand_steam_hot_water',\n",
       " 'input_percentage_of_mt_steam_hot_water_buildings_final_demand_steam_hot_water',\n",
       " 'input_percentage_of_ht_steam_hot_water_buildings_final_demand_steam_hot_water',\n",
       " 'input_percentage_of_central_mt_steam_hot_water_agriculture_final_demand_steam_hot_water',\n",
       " 'input_percentage_of_central_ht_steam_hot_water_agriculture_final_demand_steam_hot_water',\n",
       " 'input_percentage_of_local_steam_hot_water_agriculture_final_demand_steam_hot_water',\n",
       " 'input_energy_chp_ultra_supercritical_mt_coal_production',\n",
       " 'input_energy_chp_ultra_supercritical_cofiring_mt_coal_production',\n",
       " 'input_energy_chp_ultra_supercritical_mt_lignite_production',\n",
       " 'input_energy_chp_combined_cycle_mt_network_gas_production',\n",
       " 'input_energy_chp_local_engine_mt_network_gas_production',\n",
       " 'input_energy_chp_supercritical_mt_waste_mix_production',\n",
       " 'input_energy_chp_local_mt_wood_pellets_production',\n",
       " 'input_energy_chp_local_engine_mt_biogas_production',\n",
       " 'input_energy_heat_well_deep_mt_geothermal_production',\n",
       " 'input_energy_heat_well_shallow_heatpump_mt_geothermal_production',\n",
       " 'input_energy_heat_well_shallow_lt_geothermal_production',\n",
       " 'input_energy_heat_burner_mt_wood_pellets_production',\n",
       " 'input_energy_heat_burner_mt_waste_mix_production',\n",
       " 'input_energy_heat_burner_mt_hydrogen_production',\n",
       " 'input_energy_heat_burner_lt_hydrogen_production',\n",
       " 'input_energy_heat_solar_lt_solar_thermal_production',\n",
       " 'input_energy_heat_solar_mt_solar_thermal_production',\n",
       " 'input_energy_heat_heatpump_water_water_mt_electricity_production',\n",
       " 'input_energy_heat_heatpump_water_water_lt_electricity_production',\n",
       " 'input_energy_heat_boiler_mt_electricity_production',\n",
       " 'input_energy_heat_boiler_lt_electricity_production',\n",
       " 'input_energy_heat_burner_mt_network_gas_production',\n",
       " 'input_energy_heat_burner_mt_coal_production',\n",
       " 'input_energy_heat_burner_mt_crude_oil_production',\n",
       " 'energy_heat_import_lt_steam_hot_water_demand',\n",
       " 'energy_heat_import_mt_steam_hot_water_demand',\n",
       " 'energy_heat_import_ht_steam_hot_water_demand',\n",
       " 'input_energy_heat_distribution_ht_loss_share',\n",
       " 'input_energy_heat_distribution_mt_loss_share',\n",
       " 'input_energy_heat_distribution_lt_loss_share']"
      ]
     },
     "execution_count": 214,
     "metadata": {},
     "output_type": "execute_result"
    }
   ],
   "source": [
    "# List all keys for which values have been added to the template\n",
    "keys = list(template.dropna().index.get_level_values(3).unique())\n",
    "\n",
    "# Preview list of keys\n",
    "keys"
   ]
  },
  {
   "cell_type": "code",
   "execution_count": 215,
   "id": "60536ecc-ee5f-4a3f-a5ae-28c34edb7f31",
   "metadata": {
    "tags": []
   },
   "outputs": [
    {
     "data": {
      "text/html": [
       "<div>\n",
       "<style scoped>\n",
       "    .dataframe tbody tr th:only-of-type {\n",
       "        vertical-align: middle;\n",
       "    }\n",
       "\n",
       "    .dataframe tbody tr th {\n",
       "        vertical-align: top;\n",
       "    }\n",
       "\n",
       "    .dataframe thead th {\n",
       "        text-align: right;\n",
       "    }\n",
       "</style>\n",
       "<table border=\"1\" class=\"dataframe\">\n",
       "  <thead>\n",
       "    <tr style=\"text-align: right;\">\n",
       "      <th></th>\n",
       "      <th>country</th>\n",
       "      <th>name</th>\n",
       "      <th>file_carriers_imported_heat_co2_conversion_per_mj</th>\n",
       "      <th>file_carriers_propane_co2_conversion_per_mj</th>\n",
       "      <th>input_percentage_of_lt_steam_hot_water_households_final_demand_steam_hot_water</th>\n",
       "      <th>input_percentage_of_mt_steam_hot_water_households_final_demand_steam_hot_water</th>\n",
       "      <th>input_percentage_of_ht_steam_hot_water_households_final_demand_steam_hot_water</th>\n",
       "      <th>input_percentage_of_lt_steam_hot_water_buildings_final_demand_steam_hot_water</th>\n",
       "      <th>input_percentage_of_mt_steam_hot_water_buildings_final_demand_steam_hot_water</th>\n",
       "      <th>input_percentage_of_ht_steam_hot_water_buildings_final_demand_steam_hot_water</th>\n",
       "      <th>...</th>\n",
       "      <th>input_energy_heat_boiler_lt_electricity_production</th>\n",
       "      <th>input_energy_heat_burner_mt_network_gas_production</th>\n",
       "      <th>input_energy_heat_burner_mt_coal_production</th>\n",
       "      <th>input_energy_heat_burner_mt_crude_oil_production</th>\n",
       "      <th>energy_heat_import_lt_steam_hot_water_demand</th>\n",
       "      <th>energy_heat_import_mt_steam_hot_water_demand</th>\n",
       "      <th>energy_heat_import_ht_steam_hot_water_demand</th>\n",
       "      <th>input_energy_heat_distribution_ht_loss_share</th>\n",
       "      <th>input_energy_heat_distribution_mt_loss_share</th>\n",
       "      <th>input_energy_heat_distribution_lt_loss_share</th>\n",
       "    </tr>\n",
       "    <tr>\n",
       "      <th>geo_id</th>\n",
       "      <th></th>\n",
       "      <th></th>\n",
       "      <th></th>\n",
       "      <th></th>\n",
       "      <th></th>\n",
       "      <th></th>\n",
       "      <th></th>\n",
       "      <th></th>\n",
       "      <th></th>\n",
       "      <th></th>\n",
       "      <th></th>\n",
       "      <th></th>\n",
       "      <th></th>\n",
       "      <th></th>\n",
       "      <th></th>\n",
       "      <th></th>\n",
       "      <th></th>\n",
       "      <th></th>\n",
       "      <th></th>\n",
       "      <th></th>\n",
       "      <th></th>\n",
       "    </tr>\n",
       "  </thead>\n",
       "  <tbody>\n",
       "    <tr>\n",
       "      <th>GM0003</th>\n",
       "      <td>nl2019</td>\n",
       "      <td>Appingedam</td>\n",
       "      <td>NaN</td>\n",
       "      <td>NaN</td>\n",
       "      <td>NaN</td>\n",
       "      <td>NaN</td>\n",
       "      <td>NaN</td>\n",
       "      <td>NaN</td>\n",
       "      <td>NaN</td>\n",
       "      <td>NaN</td>\n",
       "      <td>...</td>\n",
       "      <td>NaN</td>\n",
       "      <td>NaN</td>\n",
       "      <td>NaN</td>\n",
       "      <td>NaN</td>\n",
       "      <td>NaN</td>\n",
       "      <td>NaN</td>\n",
       "      <td>NaN</td>\n",
       "      <td>NaN</td>\n",
       "      <td>NaN</td>\n",
       "      <td>NaN</td>\n",
       "    </tr>\n",
       "    <tr>\n",
       "      <th>GM0010</th>\n",
       "      <td>nl2019</td>\n",
       "      <td>Delfzijl</td>\n",
       "      <td>NaN</td>\n",
       "      <td>NaN</td>\n",
       "      <td>NaN</td>\n",
       "      <td>NaN</td>\n",
       "      <td>NaN</td>\n",
       "      <td>NaN</td>\n",
       "      <td>NaN</td>\n",
       "      <td>NaN</td>\n",
       "      <td>...</td>\n",
       "      <td>NaN</td>\n",
       "      <td>NaN</td>\n",
       "      <td>NaN</td>\n",
       "      <td>NaN</td>\n",
       "      <td>NaN</td>\n",
       "      <td>NaN</td>\n",
       "      <td>NaN</td>\n",
       "      <td>NaN</td>\n",
       "      <td>NaN</td>\n",
       "      <td>NaN</td>\n",
       "    </tr>\n",
       "    <tr>\n",
       "      <th>GM0024</th>\n",
       "      <td>nl2019</td>\n",
       "      <td>Loppersum</td>\n",
       "      <td>NaN</td>\n",
       "      <td>NaN</td>\n",
       "      <td>NaN</td>\n",
       "      <td>NaN</td>\n",
       "      <td>NaN</td>\n",
       "      <td>NaN</td>\n",
       "      <td>NaN</td>\n",
       "      <td>NaN</td>\n",
       "      <td>...</td>\n",
       "      <td>NaN</td>\n",
       "      <td>NaN</td>\n",
       "      <td>NaN</td>\n",
       "      <td>NaN</td>\n",
       "      <td>NaN</td>\n",
       "      <td>NaN</td>\n",
       "      <td>NaN</td>\n",
       "      <td>NaN</td>\n",
       "      <td>NaN</td>\n",
       "      <td>NaN</td>\n",
       "    </tr>\n",
       "    <tr>\n",
       "      <th>GM1680</th>\n",
       "      <td>nl2019</td>\n",
       "      <td>Aa en Hunze</td>\n",
       "      <td>NaN</td>\n",
       "      <td>NaN</td>\n",
       "      <td>NaN</td>\n",
       "      <td>NaN</td>\n",
       "      <td>NaN</td>\n",
       "      <td>NaN</td>\n",
       "      <td>NaN</td>\n",
       "      <td>NaN</td>\n",
       "      <td>...</td>\n",
       "      <td>NaN</td>\n",
       "      <td>NaN</td>\n",
       "      <td>NaN</td>\n",
       "      <td>NaN</td>\n",
       "      <td>NaN</td>\n",
       "      <td>NaN</td>\n",
       "      <td>NaN</td>\n",
       "      <td>NaN</td>\n",
       "      <td>NaN</td>\n",
       "      <td>NaN</td>\n",
       "    </tr>\n",
       "    <tr>\n",
       "      <th>GM0358</th>\n",
       "      <td>nl2019</td>\n",
       "      <td>Aalsmeer</td>\n",
       "      <td>NaN</td>\n",
       "      <td>NaN</td>\n",
       "      <td>NaN</td>\n",
       "      <td>NaN</td>\n",
       "      <td>NaN</td>\n",
       "      <td>NaN</td>\n",
       "      <td>NaN</td>\n",
       "      <td>NaN</td>\n",
       "      <td>...</td>\n",
       "      <td>NaN</td>\n",
       "      <td>NaN</td>\n",
       "      <td>NaN</td>\n",
       "      <td>NaN</td>\n",
       "      <td>NaN</td>\n",
       "      <td>NaN</td>\n",
       "      <td>NaN</td>\n",
       "      <td>NaN</td>\n",
       "      <td>NaN</td>\n",
       "      <td>NaN</td>\n",
       "    </tr>\n",
       "    <tr>\n",
       "      <th>...</th>\n",
       "      <td>...</td>\n",
       "      <td>...</td>\n",
       "      <td>...</td>\n",
       "      <td>...</td>\n",
       "      <td>...</td>\n",
       "      <td>...</td>\n",
       "      <td>...</td>\n",
       "      <td>...</td>\n",
       "      <td>...</td>\n",
       "      <td>...</td>\n",
       "      <td>...</td>\n",
       "      <td>...</td>\n",
       "      <td>...</td>\n",
       "      <td>...</td>\n",
       "      <td>...</td>\n",
       "      <td>...</td>\n",
       "      <td>...</td>\n",
       "      <td>...</td>\n",
       "      <td>...</td>\n",
       "      <td>...</td>\n",
       "      <td>...</td>\n",
       "    </tr>\n",
       "    <tr>\n",
       "      <th>GM0879</th>\n",
       "      <td>nl2019</td>\n",
       "      <td>Zundert</td>\n",
       "      <td>NaN</td>\n",
       "      <td>NaN</td>\n",
       "      <td>NaN</td>\n",
       "      <td>NaN</td>\n",
       "      <td>NaN</td>\n",
       "      <td>NaN</td>\n",
       "      <td>NaN</td>\n",
       "      <td>NaN</td>\n",
       "      <td>...</td>\n",
       "      <td>NaN</td>\n",
       "      <td>NaN</td>\n",
       "      <td>NaN</td>\n",
       "      <td>NaN</td>\n",
       "      <td>NaN</td>\n",
       "      <td>NaN</td>\n",
       "      <td>NaN</td>\n",
       "      <td>NaN</td>\n",
       "      <td>NaN</td>\n",
       "      <td>NaN</td>\n",
       "    </tr>\n",
       "    <tr>\n",
       "      <th>GM0301</th>\n",
       "      <td>nl2019</td>\n",
       "      <td>Zutphen</td>\n",
       "      <td>NaN</td>\n",
       "      <td>NaN</td>\n",
       "      <td>NaN</td>\n",
       "      <td>NaN</td>\n",
       "      <td>NaN</td>\n",
       "      <td>NaN</td>\n",
       "      <td>NaN</td>\n",
       "      <td>NaN</td>\n",
       "      <td>...</td>\n",
       "      <td>NaN</td>\n",
       "      <td>NaN</td>\n",
       "      <td>NaN</td>\n",
       "      <td>NaN</td>\n",
       "      <td>NaN</td>\n",
       "      <td>NaN</td>\n",
       "      <td>NaN</td>\n",
       "      <td>NaN</td>\n",
       "      <td>NaN</td>\n",
       "      <td>NaN</td>\n",
       "    </tr>\n",
       "    <tr>\n",
       "      <th>GM1896</th>\n",
       "      <td>nl2019</td>\n",
       "      <td>Zwartewaterland</td>\n",
       "      <td>NaN</td>\n",
       "      <td>NaN</td>\n",
       "      <td>NaN</td>\n",
       "      <td>NaN</td>\n",
       "      <td>NaN</td>\n",
       "      <td>NaN</td>\n",
       "      <td>NaN</td>\n",
       "      <td>NaN</td>\n",
       "      <td>...</td>\n",
       "      <td>NaN</td>\n",
       "      <td>NaN</td>\n",
       "      <td>NaN</td>\n",
       "      <td>NaN</td>\n",
       "      <td>NaN</td>\n",
       "      <td>NaN</td>\n",
       "      <td>NaN</td>\n",
       "      <td>NaN</td>\n",
       "      <td>NaN</td>\n",
       "      <td>NaN</td>\n",
       "    </tr>\n",
       "    <tr>\n",
       "      <th>GM0642</th>\n",
       "      <td>nl2019</td>\n",
       "      <td>Zwijndrecht</td>\n",
       "      <td>NaN</td>\n",
       "      <td>NaN</td>\n",
       "      <td>NaN</td>\n",
       "      <td>NaN</td>\n",
       "      <td>NaN</td>\n",
       "      <td>NaN</td>\n",
       "      <td>NaN</td>\n",
       "      <td>NaN</td>\n",
       "      <td>...</td>\n",
       "      <td>NaN</td>\n",
       "      <td>NaN</td>\n",
       "      <td>NaN</td>\n",
       "      <td>NaN</td>\n",
       "      <td>NaN</td>\n",
       "      <td>NaN</td>\n",
       "      <td>NaN</td>\n",
       "      <td>NaN</td>\n",
       "      <td>NaN</td>\n",
       "      <td>NaN</td>\n",
       "    </tr>\n",
       "    <tr>\n",
       "      <th>GM0193</th>\n",
       "      <td>nl2019</td>\n",
       "      <td>Zwolle</td>\n",
       "      <td>NaN</td>\n",
       "      <td>NaN</td>\n",
       "      <td>NaN</td>\n",
       "      <td>NaN</td>\n",
       "      <td>NaN</td>\n",
       "      <td>NaN</td>\n",
       "      <td>NaN</td>\n",
       "      <td>NaN</td>\n",
       "      <td>...</td>\n",
       "      <td>NaN</td>\n",
       "      <td>NaN</td>\n",
       "      <td>NaN</td>\n",
       "      <td>NaN</td>\n",
       "      <td>NaN</td>\n",
       "      <td>NaN</td>\n",
       "      <td>NaN</td>\n",
       "      <td>NaN</td>\n",
       "      <td>NaN</td>\n",
       "      <td>NaN</td>\n",
       "    </tr>\n",
       "  </tbody>\n",
       "</table>\n",
       "<p>355 rows × 43 columns</p>\n",
       "</div>"
      ],
      "text/plain": [
       "       country             name  \\\n",
       "geo_id                            \n",
       "GM0003  nl2019       Appingedam   \n",
       "GM0010  nl2019         Delfzijl   \n",
       "GM0024  nl2019        Loppersum   \n",
       "GM1680  nl2019      Aa en Hunze   \n",
       "GM0358  nl2019         Aalsmeer   \n",
       "...        ...              ...   \n",
       "GM0879  nl2019          Zundert   \n",
       "GM0301  nl2019          Zutphen   \n",
       "GM1896  nl2019  Zwartewaterland   \n",
       "GM0642  nl2019      Zwijndrecht   \n",
       "GM0193  nl2019           Zwolle   \n",
       "\n",
       "        file_carriers_imported_heat_co2_conversion_per_mj  \\\n",
       "geo_id                                                      \n",
       "GM0003                                                NaN   \n",
       "GM0010                                                NaN   \n",
       "GM0024                                                NaN   \n",
       "GM1680                                                NaN   \n",
       "GM0358                                                NaN   \n",
       "...                                                   ...   \n",
       "GM0879                                                NaN   \n",
       "GM0301                                                NaN   \n",
       "GM1896                                                NaN   \n",
       "GM0642                                                NaN   \n",
       "GM0193                                                NaN   \n",
       "\n",
       "        file_carriers_propane_co2_conversion_per_mj  \\\n",
       "geo_id                                                \n",
       "GM0003                                          NaN   \n",
       "GM0010                                          NaN   \n",
       "GM0024                                          NaN   \n",
       "GM1680                                          NaN   \n",
       "GM0358                                          NaN   \n",
       "...                                             ...   \n",
       "GM0879                                          NaN   \n",
       "GM0301                                          NaN   \n",
       "GM1896                                          NaN   \n",
       "GM0642                                          NaN   \n",
       "GM0193                                          NaN   \n",
       "\n",
       "        input_percentage_of_lt_steam_hot_water_households_final_demand_steam_hot_water  \\\n",
       "geo_id                                                                                   \n",
       "GM0003                                                NaN                                \n",
       "GM0010                                                NaN                                \n",
       "GM0024                                                NaN                                \n",
       "GM1680                                                NaN                                \n",
       "GM0358                                                NaN                                \n",
       "...                                                   ...                                \n",
       "GM0879                                                NaN                                \n",
       "GM0301                                                NaN                                \n",
       "GM1896                                                NaN                                \n",
       "GM0642                                                NaN                                \n",
       "GM0193                                                NaN                                \n",
       "\n",
       "        input_percentage_of_mt_steam_hot_water_households_final_demand_steam_hot_water  \\\n",
       "geo_id                                                                                   \n",
       "GM0003                                                NaN                                \n",
       "GM0010                                                NaN                                \n",
       "GM0024                                                NaN                                \n",
       "GM1680                                                NaN                                \n",
       "GM0358                                                NaN                                \n",
       "...                                                   ...                                \n",
       "GM0879                                                NaN                                \n",
       "GM0301                                                NaN                                \n",
       "GM1896                                                NaN                                \n",
       "GM0642                                                NaN                                \n",
       "GM0193                                                NaN                                \n",
       "\n",
       "        input_percentage_of_ht_steam_hot_water_households_final_demand_steam_hot_water  \\\n",
       "geo_id                                                                                   \n",
       "GM0003                                                NaN                                \n",
       "GM0010                                                NaN                                \n",
       "GM0024                                                NaN                                \n",
       "GM1680                                                NaN                                \n",
       "GM0358                                                NaN                                \n",
       "...                                                   ...                                \n",
       "GM0879                                                NaN                                \n",
       "GM0301                                                NaN                                \n",
       "GM1896                                                NaN                                \n",
       "GM0642                                                NaN                                \n",
       "GM0193                                                NaN                                \n",
       "\n",
       "        input_percentage_of_lt_steam_hot_water_buildings_final_demand_steam_hot_water  \\\n",
       "geo_id                                                                                  \n",
       "GM0003                                                NaN                               \n",
       "GM0010                                                NaN                               \n",
       "GM0024                                                NaN                               \n",
       "GM1680                                                NaN                               \n",
       "GM0358                                                NaN                               \n",
       "...                                                   ...                               \n",
       "GM0879                                                NaN                               \n",
       "GM0301                                                NaN                               \n",
       "GM1896                                                NaN                               \n",
       "GM0642                                                NaN                               \n",
       "GM0193                                                NaN                               \n",
       "\n",
       "        input_percentage_of_mt_steam_hot_water_buildings_final_demand_steam_hot_water  \\\n",
       "geo_id                                                                                  \n",
       "GM0003                                                NaN                               \n",
       "GM0010                                                NaN                               \n",
       "GM0024                                                NaN                               \n",
       "GM1680                                                NaN                               \n",
       "GM0358                                                NaN                               \n",
       "...                                                   ...                               \n",
       "GM0879                                                NaN                               \n",
       "GM0301                                                NaN                               \n",
       "GM1896                                                NaN                               \n",
       "GM0642                                                NaN                               \n",
       "GM0193                                                NaN                               \n",
       "\n",
       "        input_percentage_of_ht_steam_hot_water_buildings_final_demand_steam_hot_water  \\\n",
       "geo_id                                                                                  \n",
       "GM0003                                                NaN                               \n",
       "GM0010                                                NaN                               \n",
       "GM0024                                                NaN                               \n",
       "GM1680                                                NaN                               \n",
       "GM0358                                                NaN                               \n",
       "...                                                   ...                               \n",
       "GM0879                                                NaN                               \n",
       "GM0301                                                NaN                               \n",
       "GM1896                                                NaN                               \n",
       "GM0642                                                NaN                               \n",
       "GM0193                                                NaN                               \n",
       "\n",
       "        ...  input_energy_heat_boiler_lt_electricity_production  \\\n",
       "geo_id  ...                                                       \n",
       "GM0003  ...                                                NaN    \n",
       "GM0010  ...                                                NaN    \n",
       "GM0024  ...                                                NaN    \n",
       "GM1680  ...                                                NaN    \n",
       "GM0358  ...                                                NaN    \n",
       "...     ...                                                ...    \n",
       "GM0879  ...                                                NaN    \n",
       "GM0301  ...                                                NaN    \n",
       "GM1896  ...                                                NaN    \n",
       "GM0642  ...                                                NaN    \n",
       "GM0193  ...                                                NaN    \n",
       "\n",
       "        input_energy_heat_burner_mt_network_gas_production  \\\n",
       "geo_id                                                       \n",
       "GM0003                                                NaN    \n",
       "GM0010                                                NaN    \n",
       "GM0024                                                NaN    \n",
       "GM1680                                                NaN    \n",
       "GM0358                                                NaN    \n",
       "...                                                   ...    \n",
       "GM0879                                                NaN    \n",
       "GM0301                                                NaN    \n",
       "GM1896                                                NaN    \n",
       "GM0642                                                NaN    \n",
       "GM0193                                                NaN    \n",
       "\n",
       "        input_energy_heat_burner_mt_coal_production  \\\n",
       "geo_id                                                \n",
       "GM0003                                          NaN   \n",
       "GM0010                                          NaN   \n",
       "GM0024                                          NaN   \n",
       "GM1680                                          NaN   \n",
       "GM0358                                          NaN   \n",
       "...                                             ...   \n",
       "GM0879                                          NaN   \n",
       "GM0301                                          NaN   \n",
       "GM1896                                          NaN   \n",
       "GM0642                                          NaN   \n",
       "GM0193                                          NaN   \n",
       "\n",
       "        input_energy_heat_burner_mt_crude_oil_production  \\\n",
       "geo_id                                                     \n",
       "GM0003                                               NaN   \n",
       "GM0010                                               NaN   \n",
       "GM0024                                               NaN   \n",
       "GM1680                                               NaN   \n",
       "GM0358                                               NaN   \n",
       "...                                                  ...   \n",
       "GM0879                                               NaN   \n",
       "GM0301                                               NaN   \n",
       "GM1896                                               NaN   \n",
       "GM0642                                               NaN   \n",
       "GM0193                                               NaN   \n",
       "\n",
       "        energy_heat_import_lt_steam_hot_water_demand  \\\n",
       "geo_id                                                 \n",
       "GM0003                                           NaN   \n",
       "GM0010                                           NaN   \n",
       "GM0024                                           NaN   \n",
       "GM1680                                           NaN   \n",
       "GM0358                                           NaN   \n",
       "...                                              ...   \n",
       "GM0879                                           NaN   \n",
       "GM0301                                           NaN   \n",
       "GM1896                                           NaN   \n",
       "GM0642                                           NaN   \n",
       "GM0193                                           NaN   \n",
       "\n",
       "        energy_heat_import_mt_steam_hot_water_demand  \\\n",
       "geo_id                                                 \n",
       "GM0003                                           NaN   \n",
       "GM0010                                           NaN   \n",
       "GM0024                                           NaN   \n",
       "GM1680                                           NaN   \n",
       "GM0358                                           NaN   \n",
       "...                                              ...   \n",
       "GM0879                                           NaN   \n",
       "GM0301                                           NaN   \n",
       "GM1896                                           NaN   \n",
       "GM0642                                           NaN   \n",
       "GM0193                                           NaN   \n",
       "\n",
       "        energy_heat_import_ht_steam_hot_water_demand  \\\n",
       "geo_id                                                 \n",
       "GM0003                                           NaN   \n",
       "GM0010                                           NaN   \n",
       "GM0024                                           NaN   \n",
       "GM1680                                           NaN   \n",
       "GM0358                                           NaN   \n",
       "...                                              ...   \n",
       "GM0879                                           NaN   \n",
       "GM0301                                           NaN   \n",
       "GM1896                                           NaN   \n",
       "GM0642                                           NaN   \n",
       "GM0193                                           NaN   \n",
       "\n",
       "        input_energy_heat_distribution_ht_loss_share  \\\n",
       "geo_id                                                 \n",
       "GM0003                                           NaN   \n",
       "GM0010                                           NaN   \n",
       "GM0024                                           NaN   \n",
       "GM1680                                           NaN   \n",
       "GM0358                                           NaN   \n",
       "...                                              ...   \n",
       "GM0879                                           NaN   \n",
       "GM0301                                           NaN   \n",
       "GM1896                                           NaN   \n",
       "GM0642                                           NaN   \n",
       "GM0193                                           NaN   \n",
       "\n",
       "        input_energy_heat_distribution_mt_loss_share  \\\n",
       "geo_id                                                 \n",
       "GM0003                                           NaN   \n",
       "GM0010                                           NaN   \n",
       "GM0024                                           NaN   \n",
       "GM1680                                           NaN   \n",
       "GM0358                                           NaN   \n",
       "...                                              ...   \n",
       "GM0879                                           NaN   \n",
       "GM0301                                           NaN   \n",
       "GM1896                                           NaN   \n",
       "GM0642                                           NaN   \n",
       "GM0193                                           NaN   \n",
       "\n",
       "        input_energy_heat_distribution_lt_loss_share  \n",
       "geo_id                                                \n",
       "GM0003                                           NaN  \n",
       "GM0010                                           NaN  \n",
       "GM0024                                           NaN  \n",
       "GM1680                                           NaN  \n",
       "GM0358                                           NaN  \n",
       "...                                              ...  \n",
       "GM0879                                           NaN  \n",
       "GM0301                                           NaN  \n",
       "GM1896                                           NaN  \n",
       "GM0642                                           NaN  \n",
       "GM0193                                           NaN  \n",
       "\n",
       "[355 rows x 43 columns]"
      ]
     },
     "execution_count": 215,
     "metadata": {},
     "output_type": "execute_result"
    }
   ],
   "source": [
    "# Add keys to data.csv migration file\n",
    "for key in keys:\n",
    "    df_data_csv.loc[:, key] = float('nan')\n",
    "    \n",
    "# Preview data.csv\n",
    "df_data_csv"
   ]
  },
  {
   "cell_type": "code",
   "execution_count": 216,
   "id": "2fb33ba1-ab9e-4ac0-bfa7-b8e9d1e9a1d5",
   "metadata": {
    "tags": []
   },
   "outputs": [
    {
     "data": {
      "text/html": [
       "<div>\n",
       "<style scoped>\n",
       "    .dataframe tbody tr th:only-of-type {\n",
       "        vertical-align: middle;\n",
       "    }\n",
       "\n",
       "    .dataframe tbody tr th {\n",
       "        vertical-align: top;\n",
       "    }\n",
       "\n",
       "    .dataframe thead th {\n",
       "        text-align: right;\n",
       "    }\n",
       "</style>\n",
       "<table border=\"1\" class=\"dataframe\">\n",
       "  <thead>\n",
       "    <tr style=\"text-align: right;\">\n",
       "      <th></th>\n",
       "      <th>country</th>\n",
       "      <th>name</th>\n",
       "      <th>file_carriers_imported_heat_co2_conversion_per_mj</th>\n",
       "      <th>file_carriers_propane_co2_conversion_per_mj</th>\n",
       "      <th>input_percentage_of_lt_steam_hot_water_households_final_demand_steam_hot_water</th>\n",
       "      <th>input_percentage_of_mt_steam_hot_water_households_final_demand_steam_hot_water</th>\n",
       "      <th>input_percentage_of_ht_steam_hot_water_households_final_demand_steam_hot_water</th>\n",
       "      <th>input_percentage_of_lt_steam_hot_water_buildings_final_demand_steam_hot_water</th>\n",
       "      <th>input_percentage_of_mt_steam_hot_water_buildings_final_demand_steam_hot_water</th>\n",
       "      <th>input_percentage_of_ht_steam_hot_water_buildings_final_demand_steam_hot_water</th>\n",
       "      <th>...</th>\n",
       "      <th>input_energy_heat_boiler_lt_electricity_production</th>\n",
       "      <th>input_energy_heat_burner_mt_network_gas_production</th>\n",
       "      <th>input_energy_heat_burner_mt_coal_production</th>\n",
       "      <th>input_energy_heat_burner_mt_crude_oil_production</th>\n",
       "      <th>energy_heat_import_lt_steam_hot_water_demand</th>\n",
       "      <th>energy_heat_import_mt_steam_hot_water_demand</th>\n",
       "      <th>energy_heat_import_ht_steam_hot_water_demand</th>\n",
       "      <th>input_energy_heat_distribution_ht_loss_share</th>\n",
       "      <th>input_energy_heat_distribution_mt_loss_share</th>\n",
       "      <th>input_energy_heat_distribution_lt_loss_share</th>\n",
       "    </tr>\n",
       "    <tr>\n",
       "      <th>geo_id</th>\n",
       "      <th></th>\n",
       "      <th></th>\n",
       "      <th></th>\n",
       "      <th></th>\n",
       "      <th></th>\n",
       "      <th></th>\n",
       "      <th></th>\n",
       "      <th></th>\n",
       "      <th></th>\n",
       "      <th></th>\n",
       "      <th></th>\n",
       "      <th></th>\n",
       "      <th></th>\n",
       "      <th></th>\n",
       "      <th></th>\n",
       "      <th></th>\n",
       "      <th></th>\n",
       "      <th></th>\n",
       "      <th></th>\n",
       "      <th></th>\n",
       "      <th></th>\n",
       "    </tr>\n",
       "  </thead>\n",
       "  <tbody>\n",
       "    <tr>\n",
       "      <th>GM0003</th>\n",
       "      <td>nl2019</td>\n",
       "      <td>Appingedam</td>\n",
       "      <td>0.036</td>\n",
       "      <td>0.06448</td>\n",
       "      <td>0.0</td>\n",
       "      <td>0.0</td>\n",
       "      <td>1.0</td>\n",
       "      <td>0.0</td>\n",
       "      <td>0.0</td>\n",
       "      <td>1.0</td>\n",
       "      <td>...</td>\n",
       "      <td>0.0</td>\n",
       "      <td>0.0</td>\n",
       "      <td>0.0</td>\n",
       "      <td>0.0</td>\n",
       "      <td>0.0</td>\n",
       "      <td>0.0</td>\n",
       "      <td>0.0</td>\n",
       "      <td>24.281143</td>\n",
       "      <td>24.281143</td>\n",
       "      <td>24.281143</td>\n",
       "    </tr>\n",
       "    <tr>\n",
       "      <th>GM0010</th>\n",
       "      <td>nl2019</td>\n",
       "      <td>Delfzijl</td>\n",
       "      <td>0.036</td>\n",
       "      <td>0.06448</td>\n",
       "      <td>0.0</td>\n",
       "      <td>0.0</td>\n",
       "      <td>1.0</td>\n",
       "      <td>0.0</td>\n",
       "      <td>0.0</td>\n",
       "      <td>1.0</td>\n",
       "      <td>...</td>\n",
       "      <td>0.0</td>\n",
       "      <td>0.0</td>\n",
       "      <td>0.0</td>\n",
       "      <td>0.0</td>\n",
       "      <td>0.0</td>\n",
       "      <td>0.0</td>\n",
       "      <td>0.0</td>\n",
       "      <td>24.281143</td>\n",
       "      <td>24.281143</td>\n",
       "      <td>24.281143</td>\n",
       "    </tr>\n",
       "    <tr>\n",
       "      <th>GM0024</th>\n",
       "      <td>nl2019</td>\n",
       "      <td>Loppersum</td>\n",
       "      <td>0.036</td>\n",
       "      <td>0.06448</td>\n",
       "      <td>0.0</td>\n",
       "      <td>0.0</td>\n",
       "      <td>1.0</td>\n",
       "      <td>0.0</td>\n",
       "      <td>0.0</td>\n",
       "      <td>1.0</td>\n",
       "      <td>...</td>\n",
       "      <td>0.0</td>\n",
       "      <td>0.0</td>\n",
       "      <td>0.0</td>\n",
       "      <td>0.0</td>\n",
       "      <td>0.0</td>\n",
       "      <td>0.0</td>\n",
       "      <td>0.0</td>\n",
       "      <td>24.281143</td>\n",
       "      <td>24.281143</td>\n",
       "      <td>24.281143</td>\n",
       "    </tr>\n",
       "    <tr>\n",
       "      <th>GM1680</th>\n",
       "      <td>nl2019</td>\n",
       "      <td>Aa en Hunze</td>\n",
       "      <td>0.036</td>\n",
       "      <td>0.06448</td>\n",
       "      <td>0.0</td>\n",
       "      <td>0.0</td>\n",
       "      <td>1.0</td>\n",
       "      <td>0.0</td>\n",
       "      <td>0.0</td>\n",
       "      <td>1.0</td>\n",
       "      <td>...</td>\n",
       "      <td>0.0</td>\n",
       "      <td>0.0</td>\n",
       "      <td>0.0</td>\n",
       "      <td>0.0</td>\n",
       "      <td>0.0</td>\n",
       "      <td>0.0</td>\n",
       "      <td>0.0</td>\n",
       "      <td>24.281143</td>\n",
       "      <td>24.281143</td>\n",
       "      <td>24.281143</td>\n",
       "    </tr>\n",
       "    <tr>\n",
       "      <th>GM0358</th>\n",
       "      <td>nl2019</td>\n",
       "      <td>Aalsmeer</td>\n",
       "      <td>0.036</td>\n",
       "      <td>0.06448</td>\n",
       "      <td>0.0</td>\n",
       "      <td>0.0</td>\n",
       "      <td>1.0</td>\n",
       "      <td>0.0</td>\n",
       "      <td>0.0</td>\n",
       "      <td>1.0</td>\n",
       "      <td>...</td>\n",
       "      <td>0.0</td>\n",
       "      <td>0.0</td>\n",
       "      <td>0.0</td>\n",
       "      <td>0.0</td>\n",
       "      <td>0.0</td>\n",
       "      <td>0.0</td>\n",
       "      <td>0.0</td>\n",
       "      <td>24.281143</td>\n",
       "      <td>24.281143</td>\n",
       "      <td>24.281143</td>\n",
       "    </tr>\n",
       "    <tr>\n",
       "      <th>...</th>\n",
       "      <td>...</td>\n",
       "      <td>...</td>\n",
       "      <td>...</td>\n",
       "      <td>...</td>\n",
       "      <td>...</td>\n",
       "      <td>...</td>\n",
       "      <td>...</td>\n",
       "      <td>...</td>\n",
       "      <td>...</td>\n",
       "      <td>...</td>\n",
       "      <td>...</td>\n",
       "      <td>...</td>\n",
       "      <td>...</td>\n",
       "      <td>...</td>\n",
       "      <td>...</td>\n",
       "      <td>...</td>\n",
       "      <td>...</td>\n",
       "      <td>...</td>\n",
       "      <td>...</td>\n",
       "      <td>...</td>\n",
       "      <td>...</td>\n",
       "    </tr>\n",
       "    <tr>\n",
       "      <th>GM0879</th>\n",
       "      <td>nl2019</td>\n",
       "      <td>Zundert</td>\n",
       "      <td>0.036</td>\n",
       "      <td>0.06448</td>\n",
       "      <td>0.0</td>\n",
       "      <td>0.0</td>\n",
       "      <td>1.0</td>\n",
       "      <td>0.0</td>\n",
       "      <td>0.0</td>\n",
       "      <td>1.0</td>\n",
       "      <td>...</td>\n",
       "      <td>0.0</td>\n",
       "      <td>0.0</td>\n",
       "      <td>0.0</td>\n",
       "      <td>0.0</td>\n",
       "      <td>0.0</td>\n",
       "      <td>0.0</td>\n",
       "      <td>0.0</td>\n",
       "      <td>24.281143</td>\n",
       "      <td>24.281143</td>\n",
       "      <td>24.281143</td>\n",
       "    </tr>\n",
       "    <tr>\n",
       "      <th>GM0301</th>\n",
       "      <td>nl2019</td>\n",
       "      <td>Zutphen</td>\n",
       "      <td>0.036</td>\n",
       "      <td>0.06448</td>\n",
       "      <td>0.0</td>\n",
       "      <td>0.0</td>\n",
       "      <td>1.0</td>\n",
       "      <td>0.0</td>\n",
       "      <td>0.0</td>\n",
       "      <td>1.0</td>\n",
       "      <td>...</td>\n",
       "      <td>0.0</td>\n",
       "      <td>0.0</td>\n",
       "      <td>0.0</td>\n",
       "      <td>0.0</td>\n",
       "      <td>0.0</td>\n",
       "      <td>0.0</td>\n",
       "      <td>0.0</td>\n",
       "      <td>24.281143</td>\n",
       "      <td>24.281143</td>\n",
       "      <td>24.281143</td>\n",
       "    </tr>\n",
       "    <tr>\n",
       "      <th>GM1896</th>\n",
       "      <td>nl2019</td>\n",
       "      <td>Zwartewaterland</td>\n",
       "      <td>0.036</td>\n",
       "      <td>0.06448</td>\n",
       "      <td>0.0</td>\n",
       "      <td>0.0</td>\n",
       "      <td>1.0</td>\n",
       "      <td>0.0</td>\n",
       "      <td>0.0</td>\n",
       "      <td>1.0</td>\n",
       "      <td>...</td>\n",
       "      <td>0.0</td>\n",
       "      <td>0.0</td>\n",
       "      <td>0.0</td>\n",
       "      <td>0.0</td>\n",
       "      <td>0.0</td>\n",
       "      <td>0.0</td>\n",
       "      <td>0.0</td>\n",
       "      <td>24.281143</td>\n",
       "      <td>24.281143</td>\n",
       "      <td>24.281143</td>\n",
       "    </tr>\n",
       "    <tr>\n",
       "      <th>GM0642</th>\n",
       "      <td>nl2019</td>\n",
       "      <td>Zwijndrecht</td>\n",
       "      <td>0.036</td>\n",
       "      <td>0.06448</td>\n",
       "      <td>0.0</td>\n",
       "      <td>0.0</td>\n",
       "      <td>1.0</td>\n",
       "      <td>0.0</td>\n",
       "      <td>0.0</td>\n",
       "      <td>1.0</td>\n",
       "      <td>...</td>\n",
       "      <td>0.0</td>\n",
       "      <td>0.0</td>\n",
       "      <td>0.0</td>\n",
       "      <td>0.0</td>\n",
       "      <td>0.0</td>\n",
       "      <td>0.0</td>\n",
       "      <td>0.0</td>\n",
       "      <td>24.281143</td>\n",
       "      <td>24.281143</td>\n",
       "      <td>24.281143</td>\n",
       "    </tr>\n",
       "    <tr>\n",
       "      <th>GM0193</th>\n",
       "      <td>nl2019</td>\n",
       "      <td>Zwolle</td>\n",
       "      <td>0.036</td>\n",
       "      <td>0.06448</td>\n",
       "      <td>0.0</td>\n",
       "      <td>0.0</td>\n",
       "      <td>1.0</td>\n",
       "      <td>0.0</td>\n",
       "      <td>0.0</td>\n",
       "      <td>1.0</td>\n",
       "      <td>...</td>\n",
       "      <td>0.0</td>\n",
       "      <td>0.0</td>\n",
       "      <td>0.0</td>\n",
       "      <td>0.0</td>\n",
       "      <td>0.0</td>\n",
       "      <td>0.0</td>\n",
       "      <td>0.0</td>\n",
       "      <td>24.281143</td>\n",
       "      <td>24.281143</td>\n",
       "      <td>24.281143</td>\n",
       "    </tr>\n",
       "  </tbody>\n",
       "</table>\n",
       "<p>355 rows × 43 columns</p>\n",
       "</div>"
      ],
      "text/plain": [
       "       country             name  \\\n",
       "geo_id                            \n",
       "GM0003  nl2019       Appingedam   \n",
       "GM0010  nl2019         Delfzijl   \n",
       "GM0024  nl2019        Loppersum   \n",
       "GM1680  nl2019      Aa en Hunze   \n",
       "GM0358  nl2019         Aalsmeer   \n",
       "...        ...              ...   \n",
       "GM0879  nl2019          Zundert   \n",
       "GM0301  nl2019          Zutphen   \n",
       "GM1896  nl2019  Zwartewaterland   \n",
       "GM0642  nl2019      Zwijndrecht   \n",
       "GM0193  nl2019           Zwolle   \n",
       "\n",
       "        file_carriers_imported_heat_co2_conversion_per_mj  \\\n",
       "geo_id                                                      \n",
       "GM0003                                              0.036   \n",
       "GM0010                                              0.036   \n",
       "GM0024                                              0.036   \n",
       "GM1680                                              0.036   \n",
       "GM0358                                              0.036   \n",
       "...                                                   ...   \n",
       "GM0879                                              0.036   \n",
       "GM0301                                              0.036   \n",
       "GM1896                                              0.036   \n",
       "GM0642                                              0.036   \n",
       "GM0193                                              0.036   \n",
       "\n",
       "        file_carriers_propane_co2_conversion_per_mj  \\\n",
       "geo_id                                                \n",
       "GM0003                                      0.06448   \n",
       "GM0010                                      0.06448   \n",
       "GM0024                                      0.06448   \n",
       "GM1680                                      0.06448   \n",
       "GM0358                                      0.06448   \n",
       "...                                             ...   \n",
       "GM0879                                      0.06448   \n",
       "GM0301                                      0.06448   \n",
       "GM1896                                      0.06448   \n",
       "GM0642                                      0.06448   \n",
       "GM0193                                      0.06448   \n",
       "\n",
       "        input_percentage_of_lt_steam_hot_water_households_final_demand_steam_hot_water  \\\n",
       "geo_id                                                                                   \n",
       "GM0003                                                0.0                                \n",
       "GM0010                                                0.0                                \n",
       "GM0024                                                0.0                                \n",
       "GM1680                                                0.0                                \n",
       "GM0358                                                0.0                                \n",
       "...                                                   ...                                \n",
       "GM0879                                                0.0                                \n",
       "GM0301                                                0.0                                \n",
       "GM1896                                                0.0                                \n",
       "GM0642                                                0.0                                \n",
       "GM0193                                                0.0                                \n",
       "\n",
       "        input_percentage_of_mt_steam_hot_water_households_final_demand_steam_hot_water  \\\n",
       "geo_id                                                                                   \n",
       "GM0003                                                0.0                                \n",
       "GM0010                                                0.0                                \n",
       "GM0024                                                0.0                                \n",
       "GM1680                                                0.0                                \n",
       "GM0358                                                0.0                                \n",
       "...                                                   ...                                \n",
       "GM0879                                                0.0                                \n",
       "GM0301                                                0.0                                \n",
       "GM1896                                                0.0                                \n",
       "GM0642                                                0.0                                \n",
       "GM0193                                                0.0                                \n",
       "\n",
       "        input_percentage_of_ht_steam_hot_water_households_final_demand_steam_hot_water  \\\n",
       "geo_id                                                                                   \n",
       "GM0003                                                1.0                                \n",
       "GM0010                                                1.0                                \n",
       "GM0024                                                1.0                                \n",
       "GM1680                                                1.0                                \n",
       "GM0358                                                1.0                                \n",
       "...                                                   ...                                \n",
       "GM0879                                                1.0                                \n",
       "GM0301                                                1.0                                \n",
       "GM1896                                                1.0                                \n",
       "GM0642                                                1.0                                \n",
       "GM0193                                                1.0                                \n",
       "\n",
       "        input_percentage_of_lt_steam_hot_water_buildings_final_demand_steam_hot_water  \\\n",
       "geo_id                                                                                  \n",
       "GM0003                                                0.0                               \n",
       "GM0010                                                0.0                               \n",
       "GM0024                                                0.0                               \n",
       "GM1680                                                0.0                               \n",
       "GM0358                                                0.0                               \n",
       "...                                                   ...                               \n",
       "GM0879                                                0.0                               \n",
       "GM0301                                                0.0                               \n",
       "GM1896                                                0.0                               \n",
       "GM0642                                                0.0                               \n",
       "GM0193                                                0.0                               \n",
       "\n",
       "        input_percentage_of_mt_steam_hot_water_buildings_final_demand_steam_hot_water  \\\n",
       "geo_id                                                                                  \n",
       "GM0003                                                0.0                               \n",
       "GM0010                                                0.0                               \n",
       "GM0024                                                0.0                               \n",
       "GM1680                                                0.0                               \n",
       "GM0358                                                0.0                               \n",
       "...                                                   ...                               \n",
       "GM0879                                                0.0                               \n",
       "GM0301                                                0.0                               \n",
       "GM1896                                                0.0                               \n",
       "GM0642                                                0.0                               \n",
       "GM0193                                                0.0                               \n",
       "\n",
       "        input_percentage_of_ht_steam_hot_water_buildings_final_demand_steam_hot_water  \\\n",
       "geo_id                                                                                  \n",
       "GM0003                                                1.0                               \n",
       "GM0010                                                1.0                               \n",
       "GM0024                                                1.0                               \n",
       "GM1680                                                1.0                               \n",
       "GM0358                                                1.0                               \n",
       "...                                                   ...                               \n",
       "GM0879                                                1.0                               \n",
       "GM0301                                                1.0                               \n",
       "GM1896                                                1.0                               \n",
       "GM0642                                                1.0                               \n",
       "GM0193                                                1.0                               \n",
       "\n",
       "        ...  input_energy_heat_boiler_lt_electricity_production  \\\n",
       "geo_id  ...                                                       \n",
       "GM0003  ...                                                0.0    \n",
       "GM0010  ...                                                0.0    \n",
       "GM0024  ...                                                0.0    \n",
       "GM1680  ...                                                0.0    \n",
       "GM0358  ...                                                0.0    \n",
       "...     ...                                                ...    \n",
       "GM0879  ...                                                0.0    \n",
       "GM0301  ...                                                0.0    \n",
       "GM1896  ...                                                0.0    \n",
       "GM0642  ...                                                0.0    \n",
       "GM0193  ...                                                0.0    \n",
       "\n",
       "        input_energy_heat_burner_mt_network_gas_production  \\\n",
       "geo_id                                                       \n",
       "GM0003                                                0.0    \n",
       "GM0010                                                0.0    \n",
       "GM0024                                                0.0    \n",
       "GM1680                                                0.0    \n",
       "GM0358                                                0.0    \n",
       "...                                                   ...    \n",
       "GM0879                                                0.0    \n",
       "GM0301                                                0.0    \n",
       "GM1896                                                0.0    \n",
       "GM0642                                                0.0    \n",
       "GM0193                                                0.0    \n",
       "\n",
       "        input_energy_heat_burner_mt_coal_production  \\\n",
       "geo_id                                                \n",
       "GM0003                                          0.0   \n",
       "GM0010                                          0.0   \n",
       "GM0024                                          0.0   \n",
       "GM1680                                          0.0   \n",
       "GM0358                                          0.0   \n",
       "...                                             ...   \n",
       "GM0879                                          0.0   \n",
       "GM0301                                          0.0   \n",
       "GM1896                                          0.0   \n",
       "GM0642                                          0.0   \n",
       "GM0193                                          0.0   \n",
       "\n",
       "        input_energy_heat_burner_mt_crude_oil_production  \\\n",
       "geo_id                                                     \n",
       "GM0003                                               0.0   \n",
       "GM0010                                               0.0   \n",
       "GM0024                                               0.0   \n",
       "GM1680                                               0.0   \n",
       "GM0358                                               0.0   \n",
       "...                                                  ...   \n",
       "GM0879                                               0.0   \n",
       "GM0301                                               0.0   \n",
       "GM1896                                               0.0   \n",
       "GM0642                                               0.0   \n",
       "GM0193                                               0.0   \n",
       "\n",
       "        energy_heat_import_lt_steam_hot_water_demand  \\\n",
       "geo_id                                                 \n",
       "GM0003                                           0.0   \n",
       "GM0010                                           0.0   \n",
       "GM0024                                           0.0   \n",
       "GM1680                                           0.0   \n",
       "GM0358                                           0.0   \n",
       "...                                              ...   \n",
       "GM0879                                           0.0   \n",
       "GM0301                                           0.0   \n",
       "GM1896                                           0.0   \n",
       "GM0642                                           0.0   \n",
       "GM0193                                           0.0   \n",
       "\n",
       "        energy_heat_import_mt_steam_hot_water_demand  \\\n",
       "geo_id                                                 \n",
       "GM0003                                           0.0   \n",
       "GM0010                                           0.0   \n",
       "GM0024                                           0.0   \n",
       "GM1680                                           0.0   \n",
       "GM0358                                           0.0   \n",
       "...                                              ...   \n",
       "GM0879                                           0.0   \n",
       "GM0301                                           0.0   \n",
       "GM1896                                           0.0   \n",
       "GM0642                                           0.0   \n",
       "GM0193                                           0.0   \n",
       "\n",
       "        energy_heat_import_ht_steam_hot_water_demand  \\\n",
       "geo_id                                                 \n",
       "GM0003                                           0.0   \n",
       "GM0010                                           0.0   \n",
       "GM0024                                           0.0   \n",
       "GM1680                                           0.0   \n",
       "GM0358                                           0.0   \n",
       "...                                              ...   \n",
       "GM0879                                           0.0   \n",
       "GM0301                                           0.0   \n",
       "GM1896                                           0.0   \n",
       "GM0642                                           0.0   \n",
       "GM0193                                           0.0   \n",
       "\n",
       "        input_energy_heat_distribution_ht_loss_share  \\\n",
       "geo_id                                                 \n",
       "GM0003                                     24.281143   \n",
       "GM0010                                     24.281143   \n",
       "GM0024                                     24.281143   \n",
       "GM1680                                     24.281143   \n",
       "GM0358                                     24.281143   \n",
       "...                                              ...   \n",
       "GM0879                                     24.281143   \n",
       "GM0301                                     24.281143   \n",
       "GM1896                                     24.281143   \n",
       "GM0642                                     24.281143   \n",
       "GM0193                                     24.281143   \n",
       "\n",
       "        input_energy_heat_distribution_mt_loss_share  \\\n",
       "geo_id                                                 \n",
       "GM0003                                     24.281143   \n",
       "GM0010                                     24.281143   \n",
       "GM0024                                     24.281143   \n",
       "GM1680                                     24.281143   \n",
       "GM0358                                     24.281143   \n",
       "...                                              ...   \n",
       "GM0879                                     24.281143   \n",
       "GM0301                                     24.281143   \n",
       "GM1896                                     24.281143   \n",
       "GM0642                                     24.281143   \n",
       "GM0193                                     24.281143   \n",
       "\n",
       "        input_energy_heat_distribution_lt_loss_share  \n",
       "geo_id                                                \n",
       "GM0003                                     24.281143  \n",
       "GM0010                                     24.281143  \n",
       "GM0024                                     24.281143  \n",
       "GM1680                                     24.281143  \n",
       "GM0358                                     24.281143  \n",
       "...                                              ...  \n",
       "GM0879                                     24.281143  \n",
       "GM0301                                     24.281143  \n",
       "GM1896                                     24.281143  \n",
       "GM0642                                     24.281143  \n",
       "GM0193                                     24.281143  \n",
       "\n",
       "[355 rows x 43 columns]"
      ]
     },
     "execution_count": 216,
     "metadata": {},
     "output_type": "execute_result"
    }
   ],
   "source": [
    "# Initialize an empty array for the commits\n",
    "commits = []\n",
    "\n",
    "# For all relevant keys and for each municipality fill data.csv and commits.yml\n",
    "for key in keys:\n",
    "    for municipality in municipalities:\n",
    "        # Add data value to data.csv\n",
    "        df_data_csv.loc[municipality, key] = template.loc[(municipality, slice(None), slice(None), key), 'value'].values[0]\n",
    "        \n",
    "    # Add commit message to commits.yml\n",
    "    commits.append({'fields': [key], 'message': template.loc[(slice(None), slice(None), slice(None), key), 'commit'].values[0]})\n",
    "    \n",
    "# Preview data for all municipalities in the format required for the data.csv file\n",
    "df_data_csv"
   ]
  },
  {
   "cell_type": "code",
   "execution_count": 217,
   "id": "82e13158-6207-4880-bc0f-1b5d001bad2a",
   "metadata": {
    "tags": []
   },
   "outputs": [],
   "source": [
    "# Write data.csv to processed data directory\n",
    "df_data_csv.to_csv(f\"data/reporting/data.csv\")"
   ]
  },
  {
   "cell_type": "code",
   "execution_count": 218,
   "id": "5a5d5a45-cfa1-4ff9-883a-9f7a08c0b792",
   "metadata": {
    "tags": []
   },
   "outputs": [],
   "source": [
    "# TODO: Beautify the yaml data and make it more readable\n",
    "# commits_yaml = yaml.dump(commits, sort_keys=False, indent=4, default_flow_style=False, default_style='|')\n",
    "\n",
    "# Write the updated data back to the YAML file\n",
    "path = Path(\"data\", \"reporting\", \"commits.yml\")\n",
    "\n",
    "with open(path, 'w') as file:\n",
    "    yaml.safe_dump(commits, file)"
   ]
  }
 ],
 "metadata": {
  "kernelspec": {
   "display_name": "Python 3 (ipykernel)",
   "language": "python",
   "name": "python3"
  },
  "language_info": {
   "codemirror_mode": {
    "name": "ipython",
    "version": 3
   },
   "file_extension": ".py",
   "mimetype": "text/x-python",
   "name": "python",
   "nbconvert_exporter": "python",
   "pygments_lexer": "ipython3",
   "version": "3.11.4"
  }
 },
 "nbformat": 4,
 "nbformat_minor": 5
}
